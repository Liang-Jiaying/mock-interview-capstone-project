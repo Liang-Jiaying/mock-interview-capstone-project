{
  "nbformat": 4,
  "nbformat_minor": 0,
  "metadata": {
    "colab": {
      "provenance": [],
      "toc_visible": true
    },
    "kernelspec": {
      "name": "python3",
      "display_name": "Python 3"
    },
    "language_info": {
      "name": "python"
    }
  },
  "cells": [
    {
      "cell_type": "markdown",
      "source": [
        "# <font color=\"Blue\">Abstract</font>\n",
        "\n",
        "In this notebook, we delve into the utilization of LangChain and its 'prompt template' function to create prompt for giving interview questions.\n",
        "\n",
        "**<font color=\"red\">Our goal</font>** is to craft an effective prompt tailored to providing interview questions in the context of specific jobs and companies.  \n",
        "\n",
        "We used following knowledge:  \n",
        "Prompt Engineering Skills:  \n",
        "1. Placeholder;\n",
        "2. Persona.\n",
        "\n",
        "\n",
        "<font color=\"green\"> Conclusion: </font>  \n",
        "Through this notebook, we found that at least for Amazon and S&P Global, which are famous companies, do not need detailed information to get good interview questions.  \n",
        "In my opinion,  \n",
        "1. for those big companies, we can only use their [company names] and the [role title] that we are applying.  \n",
        "2. maybe for some small companies, users can provide [company description] that they found might help them prepare the job interview.  \n",
        "3. for any company, if users know some information, like Amazon Leadership Principles, they could mention specifically in [company description] in case the model did not pick up by themselve."
      ],
      "metadata": {
        "id": "1YWMv2v8QzhL"
      }
    },
    {
      "cell_type": "markdown",
      "source": [
        "# Prepare the notebook for use"
      ],
      "metadata": {
        "id": "YPzsWKKTUl_h"
      }
    },
    {
      "cell_type": "markdown",
      "source": [
        "## Install packages & import libraries"
      ],
      "metadata": {
        "id": "xcL_dUinREeT"
      }
    },
    {
      "cell_type": "code",
      "execution_count": 1,
      "metadata": {
        "colab": {
          "base_uri": "https://localhost:8080/"
        },
        "id": "EAmNfZAGN2VM",
        "outputId": "afb5f34d-90e7-4cc4-f0e9-6c4ad2027300"
      },
      "outputs": [
        {
          "output_type": "stream",
          "name": "stdout",
          "text": [
            "\u001b[2K     \u001b[90m━━━━━━━━━━━━━━━━━━━━━━━━━━━━━━━━━━━━━━━━\u001b[0m \u001b[32m2.0/2.0 MB\u001b[0m \u001b[31m21.9 MB/s\u001b[0m eta \u001b[36m0:00:00\u001b[0m\n",
            "\u001b[2K     \u001b[90m━━━━━━━━━━━━━━━━━━━━━━━━━━━━━━━━━━━━━━━━\u001b[0m \u001b[32m45.3/45.3 kB\u001b[0m \u001b[31m5.0 MB/s\u001b[0m eta \u001b[36m0:00:00\u001b[0m\n",
            "\u001b[2K     \u001b[90m━━━━━━━━━━━━━━━━━━━━━━━━━━━━━━━━━━━━━━━━\u001b[0m \u001b[32m49.4/49.4 kB\u001b[0m \u001b[31m5.5 MB/s\u001b[0m eta \u001b[36m0:00:00\u001b[0m\n",
            "\u001b[2K     \u001b[90m━━━━━━━━━━━━━━━━━━━━━━━━━━━━━━━━━━━━━━━━\u001b[0m \u001b[32m220.3/220.3 kB\u001b[0m \u001b[31m4.5 MB/s\u001b[0m eta \u001b[36m0:00:00\u001b[0m\n",
            "\u001b[2K     \u001b[90m━━━━━━━━━━━━━━━━━━━━━━━━━━━━━━━━━━━━━━━━\u001b[0m \u001b[32m75.0/75.0 kB\u001b[0m \u001b[31m8.6 MB/s\u001b[0m eta \u001b[36m0:00:00\u001b[0m\n",
            "\u001b[2K     \u001b[90m━━━━━━━━━━━━━━━━━━━━━━━━━━━━━━━━━━━━━━━━\u001b[0m \u001b[32m76.9/76.9 kB\u001b[0m \u001b[31m8.2 MB/s\u001b[0m eta \u001b[36m0:00:00\u001b[0m\n",
            "\u001b[2K     \u001b[90m━━━━━━━━━━━━━━━━━━━━━━━━━━━━━━━━━━━━━━━━\u001b[0m \u001b[32m58.3/58.3 kB\u001b[0m \u001b[31m4.8 MB/s\u001b[0m eta \u001b[36m0:00:00\u001b[0m\n",
            "\u001b[?25h\u001b[31mERROR: pip's dependency resolver does not currently take into account all the packages that are installed. This behaviour is the source of the following dependency conflicts.\n",
            "llmx 0.0.15a0 requires cohere, which is not installed.\n",
            "llmx 0.0.15a0 requires tiktoken, which is not installed.\u001b[0m\u001b[31m\n",
            "\u001b[2K     \u001b[90m━━━━━━━━━━━━━━━━━━━━━━━━━━━━━━━━━━━━━━━━\u001b[0m \u001b[32m496.8/496.8 kB\u001b[0m \u001b[31m8.0 MB/s\u001b[0m eta \u001b[36m0:00:00\u001b[0m\n",
            "\u001b[2K     \u001b[90m━━━━━━━━━━━━━━━━━━━━━━━━━━━━━━━━━━━━━━━━\u001b[0m \u001b[32m2.4/2.4 MB\u001b[0m \u001b[31m47.4 MB/s\u001b[0m eta \u001b[36m0:00:00\u001b[0m\n",
            "\u001b[2K     \u001b[90m━━━━━━━━━━━━━━━━━━━━━━━━━━━━━━━━━━━━━━━━\u001b[0m \u001b[32m92.9/92.9 kB\u001b[0m \u001b[31m11.6 MB/s\u001b[0m eta \u001b[36m0:00:00\u001b[0m\n",
            "\u001b[2K     \u001b[90m━━━━━━━━━━━━━━━━━━━━━━━━━━━━━━━━━━━━━━━━\u001b[0m \u001b[32m59.7/59.7 kB\u001b[0m \u001b[31m6.9 MB/s\u001b[0m eta \u001b[36m0:00:00\u001b[0m\n",
            "\u001b[2K     \u001b[90m━━━━━━━━━━━━━━━━━━━━━━━━━━━━━━━━━━━━━━━━\u001b[0m \u001b[32m5.4/5.4 MB\u001b[0m \u001b[31m91.8 MB/s\u001b[0m eta \u001b[36m0:00:00\u001b[0m\n",
            "\u001b[2K     \u001b[90m━━━━━━━━━━━━━━━━━━━━━━━━━━━━━━━━━━━━━━━━\u001b[0m \u001b[32m6.4/6.4 MB\u001b[0m \u001b[31m94.3 MB/s\u001b[0m eta \u001b[36m0:00:00\u001b[0m\n",
            "\u001b[2K     \u001b[90m━━━━━━━━━━━━━━━━━━━━━━━━━━━━━━━━━━━━━━━━\u001b[0m \u001b[32m57.9/57.9 kB\u001b[0m \u001b[31m6.6 MB/s\u001b[0m eta \u001b[36m0:00:00\u001b[0m\n",
            "\u001b[2K     \u001b[90m━━━━━━━━━━━━━━━━━━━━━━━━━━━━━━━━━━━━━━━━\u001b[0m \u001b[32m105.3/105.3 kB\u001b[0m \u001b[31m11.5 MB/s\u001b[0m eta \u001b[36m0:00:00\u001b[0m\n",
            "\u001b[2K     \u001b[90m━━━━━━━━━━━━━━━━━━━━━━━━━━━━━━━━━━━━━━━━\u001b[0m \u001b[32m3.8/3.8 MB\u001b[0m \u001b[31m95.4 MB/s\u001b[0m eta \u001b[36m0:00:00\u001b[0m\n",
            "\u001b[2K     \u001b[90m━━━━━━━━━━━━━━━━━━━━━━━━━━━━━━━━━━━━━━━━\u001b[0m \u001b[32m67.3/67.3 kB\u001b[0m \u001b[31m8.2 MB/s\u001b[0m eta \u001b[36m0:00:00\u001b[0m\n",
            "\u001b[?25h  Installing build dependencies ... \u001b[?25l\u001b[?25hdone\n",
            "  Getting requirements to build wheel ... \u001b[?25l\u001b[?25hdone\n",
            "  Preparing metadata (pyproject.toml) ... \u001b[?25l\u001b[?25hdone\n",
            "\u001b[2K     \u001b[90m━━━━━━━━━━━━━━━━━━━━━━━━━━━━━━━━━━━━━━━━\u001b[0m \u001b[32m593.7/593.7 kB\u001b[0m \u001b[31m40.6 MB/s\u001b[0m eta \u001b[36m0:00:00\u001b[0m\n",
            "\u001b[2K     \u001b[90m━━━━━━━━━━━━━━━━━━━━━━━━━━━━━━━━━━━━━━━━\u001b[0m \u001b[32m1.6/1.6 MB\u001b[0m \u001b[31m59.9 MB/s\u001b[0m eta \u001b[36m0:00:00\u001b[0m\n",
            "\u001b[2K     \u001b[90m━━━━━━━━━━━━━━━━━━━━━━━━━━━━━━━━━━━━━━━━\u001b[0m \u001b[32m67.0/67.0 kB\u001b[0m \u001b[31m7.0 MB/s\u001b[0m eta \u001b[36m0:00:00\u001b[0m\n",
            "\u001b[2K     \u001b[90m━━━━━━━━━━━━━━━━━━━━━━━━━━━━━━━━━━━━━━━━\u001b[0m \u001b[32m143.8/143.8 kB\u001b[0m \u001b[31m15.2 MB/s\u001b[0m eta \u001b[36m0:00:00\u001b[0m\n",
            "\u001b[2K     \u001b[90m━━━━━━━━━━━━━━━━━━━━━━━━━━━━━━━━━━━━━━━━\u001b[0m \u001b[32m46.0/46.0 kB\u001b[0m \u001b[31m4.5 MB/s\u001b[0m eta \u001b[36m0:00:00\u001b[0m\n",
            "\u001b[2K     \u001b[90m━━━━━━━━━━━━━━━━━━━━━━━━━━━━━━━━━━━━━━━━\u001b[0m \u001b[32m50.8/50.8 kB\u001b[0m \u001b[31m3.4 MB/s\u001b[0m eta \u001b[36m0:00:00\u001b[0m\n",
            "\u001b[2K     \u001b[90m━━━━━━━━━━━━━━━━━━━━━━━━━━━━━━━━━━━━━━━━\u001b[0m \u001b[32m295.0/295.0 kB\u001b[0m \u001b[31m28.2 MB/s\u001b[0m eta \u001b[36m0:00:00\u001b[0m\n",
            "\u001b[2K     \u001b[90m━━━━━━━━━━━━━━━━━━━━━━━━━━━━━━━━━━━━━━━━\u001b[0m \u001b[32m341.4/341.4 kB\u001b[0m \u001b[31m28.1 MB/s\u001b[0m eta \u001b[36m0:00:00\u001b[0m\n",
            "\u001b[2K     \u001b[90m━━━━━━━━━━━━━━━━━━━━━━━━━━━━━━━━━━━━━━━━\u001b[0m \u001b[32m3.4/3.4 MB\u001b[0m \u001b[31m71.3 MB/s\u001b[0m eta \u001b[36m0:00:00\u001b[0m\n",
            "\u001b[2K     \u001b[90m━━━━━━━━━━━━━━━━━━━━━━━━━━━━━━━━━━━━━━━━\u001b[0m \u001b[32m1.3/1.3 MB\u001b[0m \u001b[31m54.2 MB/s\u001b[0m eta \u001b[36m0:00:00\u001b[0m\n",
            "\u001b[2K     \u001b[90m━━━━━━━━━━━━━━━━━━━━━━━━━━━━━━━━━━━━━━━━\u001b[0m \u001b[32m130.2/130.2 kB\u001b[0m \u001b[31m14.5 MB/s\u001b[0m eta \u001b[36m0:00:00\u001b[0m\n",
            "\u001b[2K     \u001b[90m━━━━━━━━━━━━━━━━━━━━━━━━━━━━━━━━━━━━━━━━\u001b[0m \u001b[32m86.8/86.8 kB\u001b[0m \u001b[31m9.2 MB/s\u001b[0m eta \u001b[36m0:00:00\u001b[0m\n",
            "\u001b[?25h  Building wheel for pypika (pyproject.toml) ... \u001b[?25l\u001b[?25hdone\n",
            "\u001b[31mERROR: pip's dependency resolver does not currently take into account all the packages that are installed. This behaviour is the source of the following dependency conflicts.\n",
            "lida 0.0.10 requires kaleido, which is not installed.\n",
            "lida 0.0.10 requires python-multipart, which is not installed.\n",
            "tensorflow-probability 0.22.0 requires typing-extensions<4.6.0, but you have typing-extensions 4.8.0 which is incompatible.\u001b[0m\u001b[31m\n",
            "\u001b[2K     \u001b[90m━━━━━━━━━━━━━━━━━━━━━━━━━━━━━━━━━━━━━━━━\u001b[0m \u001b[32m2.0/2.0 MB\u001b[0m \u001b[31m18.5 MB/s\u001b[0m eta \u001b[36m0:00:00\u001b[0m\n",
            "\u001b[?25h\u001b[31mERROR: pip's dependency resolver does not currently take into account all the packages that are installed. This behaviour is the source of the following dependency conflicts.\n",
            "llmx 0.0.15a0 requires cohere, which is not installed.\u001b[0m\u001b[31m\n",
            "\u001b[2K     \u001b[90m━━━━━━━━━━━━━━━━━━━━━━━━━━━━━━━━━━━━━━━━\u001b[0m \u001b[32m3.0/3.0 MB\u001b[0m \u001b[31m37.9 MB/s\u001b[0m eta \u001b[36m0:00:00\u001b[0m\n",
            "\u001b[2K     \u001b[90m━━━━━━━━━━━━━━━━━━━━━━━━━━━━━━━━━━━━━━━━\u001b[0m \u001b[32m57.5/57.5 kB\u001b[0m \u001b[31m6.1 MB/s\u001b[0m eta \u001b[36m0:00:00\u001b[0m\n",
            "\u001b[?25h"
          ]
        }
      ],
      "source": [
        "# Download required packages to Colab\n",
        "!pip install -q langchain\n",
        "!pip install -q openai\n",
        "!pip install -q chromadb\n",
        "!pip install -q tiktoken\n",
        "!pip install -q duckduckgo-search"
      ]
    },
    {
      "cell_type": "code",
      "source": [
        "# Import required libraries\n",
        "from langchain.llms import OpenAI\n",
        "from langchain.chat_models import ChatOpenAI\n",
        "from langchain.prompts.few_shot import FewShotPromptTemplate\n",
        "from langchain.prompts import PromptTemplate\n",
        "from langchain.prompts import ChatPromptTemplate\n",
        "from langchain.chains import LLMChain, RetrievalQA\n",
        "from langchain import ConversationChain\n",
        "from langchain.agents import load_tools, initialize_agent, AgentType\n",
        "from langchain.document_loaders import TextLoader\n",
        "from langchain.indexes import VectorstoreIndexCreator\n",
        "from langchain.text_splitter import CharacterTextSplitter\n",
        "from langchain.embeddings import OpenAIEmbeddings\n",
        "from langchain.tools import DuckDuckGoSearchRun\n",
        "from langchain.utilities.duckduckgo_search import DuckDuckGoSearchAPIWrapper\n",
        "import os\n",
        "from getpass import getpass\n",
        "\n",
        "from langchain.prompts import ChatPromptTemplate, HumanMessagePromptTemplate\n",
        "from langchain.schema import HumanMessage, AIMessage, SystemMessage\n",
        "\n",
        "import pandas as pd\n",
        "import csv"
      ],
      "metadata": {
        "id": "xkrE7xIKRQpg"
      },
      "execution_count": 2,
      "outputs": []
    },
    {
      "cell_type": "markdown",
      "source": [
        "## OpenAI API key"
      ],
      "metadata": {
        "id": "5L98UTkQRbD1"
      }
    },
    {
      "cell_type": "code",
      "source": [
        "openai_api_key = getpass()\n",
        "os.environ[\"OPENAI_API_KEY\"] = openai_api_key"
      ],
      "metadata": {
        "colab": {
          "base_uri": "https://localhost:8080/"
        },
        "id": "o8q-QoRHRe6x",
        "outputId": "3f0ba673-37b7-4f9a-b4cd-2b453901bcab"
      },
      "execution_count": 3,
      "outputs": [
        {
          "name": "stdout",
          "output_type": "stream",
          "text": [
            "··········\n"
          ]
        }
      ]
    },
    {
      "cell_type": "markdown",
      "source": [
        "## Connect Google Drive"
      ],
      "metadata": {
        "id": "pxl-SmgPRisR"
      }
    },
    {
      "cell_type": "markdown",
      "source": [
        "## Create .csv files to collect info from this notebook\n",
        "\n",
        "Since the results we got from LLMs will be different everytime, we want to use .csv files to track those results which could help use go back to see what we can do or what we did to improve the outputs."
      ],
      "metadata": {
        "id": "oQyFxPxnRx1M"
      }
    },
    {
      "cell_type": "code",
      "source": [
        "# with open('/content/drive/MyDrive/Capstone Project - Mock Interview App/variable_combination.csv', 'w', newline='') as csvfile:\n",
        "#     fieldnames = ['comb_num','interviewer_role','company_name','resume','role_title','role_description','company_description']\n",
        "#     writer = csv.DictWriter(csvfile, fieldnames=fieldnames)\n",
        "\n",
        "#     writer.writeheader()\n",
        "var_comb = pd.read_csv(\"/content/drive/MyDrive/Capstone Project - Mock Interview App/variable_combination.csv\")"
      ],
      "metadata": {
        "id": "ZzCyj5fFSo6J"
      },
      "execution_count": 4,
      "outputs": []
    },
    {
      "cell_type": "code",
      "source": [
        "with open('/content/drive/MyDrive/Capstone Project - Mock Interview App/interview_questions_prompt_result.csv', 'w', newline='') as csvfile:\n",
        "    fieldnames = ['model', 'variable_combination', 'template', 'output']\n",
        "    writer = csv.DictWriter(csvfile, fieldnames=fieldnames)\n",
        "\n",
        "    writer.writeheader()\n",
        "    #writer.writerow({'input': user_input, 'output': result})"
      ],
      "metadata": {
        "id": "ynnR-mtYRmGS"
      },
      "execution_count": 29,
      "outputs": []
    },
    {
      "cell_type": "code",
      "source": [
        "prompt_result = pd.read_csv(\"/content/drive/MyDrive/Capstone Project - Mock Interview App/interview_questions_prompt_result.csv\")"
      ],
      "metadata": {
        "id": "Vo-w3uhnwP-J"
      },
      "execution_count": 30,
      "outputs": []
    },
    {
      "cell_type": "code",
      "source": [
        "var_comb"
      ],
      "metadata": {
        "colab": {
          "base_uri": "https://localhost:8080/",
          "height": 115
        },
        "id": "ON8-sUxNRw2i",
        "outputId": "5031a402-b615-432a-91bc-492e0ec277d7"
      },
      "execution_count": 8,
      "outputs": [
        {
          "output_type": "execute_result",
          "data": {
            "text/plain": [
              "   comb_num interviewer_role company_name  \\\n",
              "0         1        recruiter   S&P Global   \n",
              "\n",
              "                                              resume  \\\n",
              "0  \\nEDUCATION\\nVanderbilt University – Data Scie...   \n",
              "\n",
              "                        role_title  \\\n",
              "0  Data Engineer - AI/ML (Virtual)   \n",
              "\n",
              "                                    role_description  \\\n",
              "0  \\nJob Description\\n\\nThis is a software develo...   \n",
              "\n",
              "                                 company_description  \n",
              "0  \\nOverview\\nS&P Global (NYSE: SPGI) provides e...  "
            ],
            "text/html": [
              "\n",
              "  <div id=\"df-b263c2f9-c27e-4ce6-9fd4-4b387b6e9aa4\" class=\"colab-df-container\">\n",
              "    <div>\n",
              "<style scoped>\n",
              "    .dataframe tbody tr th:only-of-type {\n",
              "        vertical-align: middle;\n",
              "    }\n",
              "\n",
              "    .dataframe tbody tr th {\n",
              "        vertical-align: top;\n",
              "    }\n",
              "\n",
              "    .dataframe thead th {\n",
              "        text-align: right;\n",
              "    }\n",
              "</style>\n",
              "<table border=\"1\" class=\"dataframe\">\n",
              "  <thead>\n",
              "    <tr style=\"text-align: right;\">\n",
              "      <th></th>\n",
              "      <th>comb_num</th>\n",
              "      <th>interviewer_role</th>\n",
              "      <th>company_name</th>\n",
              "      <th>resume</th>\n",
              "      <th>role_title</th>\n",
              "      <th>role_description</th>\n",
              "      <th>company_description</th>\n",
              "    </tr>\n",
              "  </thead>\n",
              "  <tbody>\n",
              "    <tr>\n",
              "      <th>0</th>\n",
              "      <td>1</td>\n",
              "      <td>recruiter</td>\n",
              "      <td>S&amp;P Global</td>\n",
              "      <td>\\nEDUCATION\\nVanderbilt University – Data Scie...</td>\n",
              "      <td>Data Engineer - AI/ML (Virtual)</td>\n",
              "      <td>\\nJob Description\\n\\nThis is a software develo...</td>\n",
              "      <td>\\nOverview\\nS&amp;P Global (NYSE: SPGI) provides e...</td>\n",
              "    </tr>\n",
              "  </tbody>\n",
              "</table>\n",
              "</div>\n",
              "    <div class=\"colab-df-buttons\">\n",
              "\n",
              "  <div class=\"colab-df-container\">\n",
              "    <button class=\"colab-df-convert\" onclick=\"convertToInteractive('df-b263c2f9-c27e-4ce6-9fd4-4b387b6e9aa4')\"\n",
              "            title=\"Convert this dataframe to an interactive table.\"\n",
              "            style=\"display:none;\">\n",
              "\n",
              "  <svg xmlns=\"http://www.w3.org/2000/svg\" height=\"24px\" viewBox=\"0 -960 960 960\">\n",
              "    <path d=\"M120-120v-720h720v720H120Zm60-500h600v-160H180v160Zm220 220h160v-160H400v160Zm0 220h160v-160H400v160ZM180-400h160v-160H180v160Zm440 0h160v-160H620v160ZM180-180h160v-160H180v160Zm440 0h160v-160H620v160Z\"/>\n",
              "  </svg>\n",
              "    </button>\n",
              "\n",
              "  <style>\n",
              "    .colab-df-container {\n",
              "      display:flex;\n",
              "      gap: 12px;\n",
              "    }\n",
              "\n",
              "    .colab-df-convert {\n",
              "      background-color: #E8F0FE;\n",
              "      border: none;\n",
              "      border-radius: 50%;\n",
              "      cursor: pointer;\n",
              "      display: none;\n",
              "      fill: #1967D2;\n",
              "      height: 32px;\n",
              "      padding: 0 0 0 0;\n",
              "      width: 32px;\n",
              "    }\n",
              "\n",
              "    .colab-df-convert:hover {\n",
              "      background-color: #E2EBFA;\n",
              "      box-shadow: 0px 1px 2px rgba(60, 64, 67, 0.3), 0px 1px 3px 1px rgba(60, 64, 67, 0.15);\n",
              "      fill: #174EA6;\n",
              "    }\n",
              "\n",
              "    .colab-df-buttons div {\n",
              "      margin-bottom: 4px;\n",
              "    }\n",
              "\n",
              "    [theme=dark] .colab-df-convert {\n",
              "      background-color: #3B4455;\n",
              "      fill: #D2E3FC;\n",
              "    }\n",
              "\n",
              "    [theme=dark] .colab-df-convert:hover {\n",
              "      background-color: #434B5C;\n",
              "      box-shadow: 0px 1px 3px 1px rgba(0, 0, 0, 0.15);\n",
              "      filter: drop-shadow(0px 1px 2px rgba(0, 0, 0, 0.3));\n",
              "      fill: #FFFFFF;\n",
              "    }\n",
              "  </style>\n",
              "\n",
              "    <script>\n",
              "      const buttonEl =\n",
              "        document.querySelector('#df-b263c2f9-c27e-4ce6-9fd4-4b387b6e9aa4 button.colab-df-convert');\n",
              "      buttonEl.style.display =\n",
              "        google.colab.kernel.accessAllowed ? 'block' : 'none';\n",
              "\n",
              "      async function convertToInteractive(key) {\n",
              "        const element = document.querySelector('#df-b263c2f9-c27e-4ce6-9fd4-4b387b6e9aa4');\n",
              "        const dataTable =\n",
              "          await google.colab.kernel.invokeFunction('convertToInteractive',\n",
              "                                                    [key], {});\n",
              "        if (!dataTable) return;\n",
              "\n",
              "        const docLinkHtml = 'Like what you see? Visit the ' +\n",
              "          '<a target=\"_blank\" href=https://colab.research.google.com/notebooks/data_table.ipynb>data table notebook</a>'\n",
              "          + ' to learn more about interactive tables.';\n",
              "        element.innerHTML = '';\n",
              "        dataTable['output_type'] = 'display_data';\n",
              "        await google.colab.output.renderOutput(dataTable, element);\n",
              "        const docLink = document.createElement('div');\n",
              "        docLink.innerHTML = docLinkHtml;\n",
              "        element.appendChild(docLink);\n",
              "      }\n",
              "    </script>\n",
              "  </div>\n",
              "\n",
              "    </div>\n",
              "  </div>\n"
            ]
          },
          "metadata": {},
          "execution_count": 8
        }
      ]
    },
    {
      "cell_type": "code",
      "source": [
        "prompt_result"
      ],
      "metadata": {
        "colab": {
          "base_uri": "https://localhost:8080/",
          "height": 53
        },
        "id": "2Xr5OqdXRw02",
        "outputId": "d8c341b0-df4b-4103-d9f4-ae3a4aaed19c"
      },
      "execution_count": 31,
      "outputs": [
        {
          "output_type": "execute_result",
          "data": {
            "text/plain": [
              "Empty DataFrame\n",
              "Columns: [model, variable_combination, template, output]\n",
              "Index: []"
            ],
            "text/html": [
              "\n",
              "  <div id=\"df-30efea8c-7de6-4611-adb3-f2260c8e46ca\" class=\"colab-df-container\">\n",
              "    <div>\n",
              "<style scoped>\n",
              "    .dataframe tbody tr th:only-of-type {\n",
              "        vertical-align: middle;\n",
              "    }\n",
              "\n",
              "    .dataframe tbody tr th {\n",
              "        vertical-align: top;\n",
              "    }\n",
              "\n",
              "    .dataframe thead th {\n",
              "        text-align: right;\n",
              "    }\n",
              "</style>\n",
              "<table border=\"1\" class=\"dataframe\">\n",
              "  <thead>\n",
              "    <tr style=\"text-align: right;\">\n",
              "      <th></th>\n",
              "      <th>model</th>\n",
              "      <th>variable_combination</th>\n",
              "      <th>template</th>\n",
              "      <th>output</th>\n",
              "    </tr>\n",
              "  </thead>\n",
              "  <tbody>\n",
              "  </tbody>\n",
              "</table>\n",
              "</div>\n",
              "    <div class=\"colab-df-buttons\">\n",
              "\n",
              "  <div class=\"colab-df-container\">\n",
              "    <button class=\"colab-df-convert\" onclick=\"convertToInteractive('df-30efea8c-7de6-4611-adb3-f2260c8e46ca')\"\n",
              "            title=\"Convert this dataframe to an interactive table.\"\n",
              "            style=\"display:none;\">\n",
              "\n",
              "  <svg xmlns=\"http://www.w3.org/2000/svg\" height=\"24px\" viewBox=\"0 -960 960 960\">\n",
              "    <path d=\"M120-120v-720h720v720H120Zm60-500h600v-160H180v160Zm220 220h160v-160H400v160Zm0 220h160v-160H400v160ZM180-400h160v-160H180v160Zm440 0h160v-160H620v160ZM180-180h160v-160H180v160Zm440 0h160v-160H620v160Z\"/>\n",
              "  </svg>\n",
              "    </button>\n",
              "\n",
              "  <style>\n",
              "    .colab-df-container {\n",
              "      display:flex;\n",
              "      gap: 12px;\n",
              "    }\n",
              "\n",
              "    .colab-df-convert {\n",
              "      background-color: #E8F0FE;\n",
              "      border: none;\n",
              "      border-radius: 50%;\n",
              "      cursor: pointer;\n",
              "      display: none;\n",
              "      fill: #1967D2;\n",
              "      height: 32px;\n",
              "      padding: 0 0 0 0;\n",
              "      width: 32px;\n",
              "    }\n",
              "\n",
              "    .colab-df-convert:hover {\n",
              "      background-color: #E2EBFA;\n",
              "      box-shadow: 0px 1px 2px rgba(60, 64, 67, 0.3), 0px 1px 3px 1px rgba(60, 64, 67, 0.15);\n",
              "      fill: #174EA6;\n",
              "    }\n",
              "\n",
              "    .colab-df-buttons div {\n",
              "      margin-bottom: 4px;\n",
              "    }\n",
              "\n",
              "    [theme=dark] .colab-df-convert {\n",
              "      background-color: #3B4455;\n",
              "      fill: #D2E3FC;\n",
              "    }\n",
              "\n",
              "    [theme=dark] .colab-df-convert:hover {\n",
              "      background-color: #434B5C;\n",
              "      box-shadow: 0px 1px 3px 1px rgba(0, 0, 0, 0.15);\n",
              "      filter: drop-shadow(0px 1px 2px rgba(0, 0, 0, 0.3));\n",
              "      fill: #FFFFFF;\n",
              "    }\n",
              "  </style>\n",
              "\n",
              "    <script>\n",
              "      const buttonEl =\n",
              "        document.querySelector('#df-30efea8c-7de6-4611-adb3-f2260c8e46ca button.colab-df-convert');\n",
              "      buttonEl.style.display =\n",
              "        google.colab.kernel.accessAllowed ? 'block' : 'none';\n",
              "\n",
              "      async function convertToInteractive(key) {\n",
              "        const element = document.querySelector('#df-30efea8c-7de6-4611-adb3-f2260c8e46ca');\n",
              "        const dataTable =\n",
              "          await google.colab.kernel.invokeFunction('convertToInteractive',\n",
              "                                                    [key], {});\n",
              "        if (!dataTable) return;\n",
              "\n",
              "        const docLinkHtml = 'Like what you see? Visit the ' +\n",
              "          '<a target=\"_blank\" href=https://colab.research.google.com/notebooks/data_table.ipynb>data table notebook</a>'\n",
              "          + ' to learn more about interactive tables.';\n",
              "        element.innerHTML = '';\n",
              "        dataTable['output_type'] = 'display_data';\n",
              "        await google.colab.output.renderOutput(dataTable, element);\n",
              "        const docLink = document.createElement('div');\n",
              "        docLink.innerHTML = docLinkHtml;\n",
              "        element.appendChild(docLink);\n",
              "      }\n",
              "    </script>\n",
              "  </div>\n",
              "\n",
              "    </div>\n",
              "  </div>\n"
            ]
          },
          "metadata": {},
          "execution_count": 31
        }
      ]
    },
    {
      "cell_type": "markdown",
      "source": [
        "# Model selection"
      ],
      "metadata": {
        "id": "QEglXi2DVYYS"
      }
    },
    {
      "cell_type": "code",
      "source": [
        "chat = ChatOpenAI(model_name = \"gpt-4\")"
      ],
      "metadata": {
        "id": "rD6wk7L-VYF2"
      },
      "execution_count": 15,
      "outputs": []
    },
    {
      "cell_type": "code",
      "source": [
        "# record model as ex_model\n",
        "ex_model = \"gpt_4\""
      ],
      "metadata": {
        "id": "w9I2S0Frwurl"
      },
      "execution_count": 26,
      "outputs": []
    },
    {
      "cell_type": "markdown",
      "source": [
        "# Interview question prompts"
      ],
      "metadata": {
        "id": "fO-WUbBkaFgL"
      }
    },
    {
      "cell_type": "markdown",
      "source": [
        "## Prompt 1 & 2"
      ],
      "metadata": {
        "id": "TgxXc6Vyi33i"
      }
    },
    {
      "cell_type": "markdown",
      "source": [
        "### Extra info"
      ],
      "metadata": {
        "id": "4UnDYySii7eF"
      }
    },
    {
      "cell_type": "markdown",
      "source": [
        "Two days ago, I explored to just use [COMPANY NAME] and [JOB TITLE] to test questions will be asked to interview _Amazon_ and _data science_ job.\n",
        "\n",
        "The following are the conversation between GPT and me:\n",
        "\n",
        "<font color='Green'>ME:</font>  \n",
        "Help me 1) rewrite my prompt for you to make you give me a better result; 2) generate the result for your prompt. And give yourself a score and rationales of why it is better for you to give better results.  To do this task, first, generate results from my prompt; Then start the rewrite task that I describe above.\n",
        "\n",
        "***My prompt: I am preparing a job interview for [COMPANY NAME: Amazon] [JOB TITLE: data scientist] job. You as an [INTERVIEWER ROLE: recruiter], give me 10 interview questions that you are most likely to ask me to check whether I am a fit candidate.***\n",
        "\n",
        "\n",
        "<font color='Blue'>GPT:</font>   \n",
        "First, let's generate the result from your original prompt:\n",
        "\n",
        "Interview Questions for a Data Scientist Position at Amazon:\n",
        "\n",
        "1. Can you describe a challenging data analysis project you've worked on? How did you approach it and what was the outcome?\n",
        "2. How do you stay updated with the latest trends and tools in data science?\n",
        "3. Describe a time when you had to explain complex data to a non-technical audience. How did you ensure they understood?\n",
        "4. How would you handle missing or corrupted data in a dataset?\n",
        "5. Can you explain the difference between supervised and unsupervised machine learning?\n",
        "6. Describe your experience with cloud computing platforms, like AWS.\n",
        "7. What programming languages are you proficient in, and how have you applied them in your data science projects?\n",
        "8. How do you ensure the accuracy of your data analysis?\n",
        "9. Can you give an example of how you've used data visualization to help make a business decision?\n",
        "10. What are your thoughts on the ethical implications of data collection and analysis?\n",
        "\n",
        "*Rewriting Your Prompt for Enhanced Results*:  \n",
        "**\"I am preparing for a data scientist job interview at Amazon. As a professional with expertise in recruitment and interview processes for technical roles, can you provide me with specific and challenging interview questions that Amazon might ask to assess my technical and problem-solving skills, familiarity with Amazon's work culture, and ability to handle real-world data science scenarios?\"**\n",
        "\n",
        "Generated Result for Rewritten Prompt:\n",
        "\n",
        "1. How would you apply Amazon's leadership principles to a data science project?\n",
        "2. Describe a project where you used machine learning to solve a real-world problem. What was the impact?\n",
        "3. Explain how you would use AWS tools in a data science workflow.\n",
        "4. How do you approach a new dataset? Walk us through your process from data cleaning to analysis.\n",
        "5. Can you discuss a time when you had to make a critical decision based on incomplete data?\n",
        "6. Describe your experience with big data technologies and how you’ve utilized them in past projects.\n",
        "7. How do you balance the need for accurate, high-quality data with time constraints in a fast-paced environment?\n",
        "8. Can you give an example of a time when you had to innovate to solve a data-related challenge?\n",
        "9. How do you ensure that your models are not only accurate but also fair and unbiased?\n",
        "10. Explain a complex data science concept in a way that would be understandable to someone without a technical background.\n",
        "\n",
        "Score and Rationale:\n",
        "Score: 8/10\n",
        "\n",
        "The rewritten prompt directs towards more specific and relevant questions that align closely with Amazon's unique work culture and the practical challenges a data scientist might face. The focus on Amazon's leadership principles, real-world applications, and the use of specific tools like AWS, makes the questions more targeted and reflective of what Amazon might prioritize in their interview process. This tailoring leads to a more useful and realistic set of questions for interview preparation.\n",
        "\n",
        "\n",
        "<font color='Green'>ME:</font>  \n",
        "Redo the rewrite task again, this time generate a 9/10 score results\n",
        "\n",
        "\n",
        "<font color='Blue'>GPT:</font>  \n",
        "To refine your prompt further for an even more targeted set of interview questions for a Data Scientist role at Amazon, let's incorporate elements that focus on Amazon's specific business challenges, technological environment, and its emphasis on innovation and customer orientation. Here's the revised prompt:\n",
        "\n",
        "*Revised Prompt for Enhanced Results*:  \n",
        "**\"I am gearing up for a Data Scientist interview at Amazon. Given your deep understanding of Amazon's unique business challenges, technological environment, and its focus on customer-centric solutions, could you provide advanced and specific interview questions that would assess my technical expertise, problem-solving abilities, and alignment with Amazon's mission and principles, particularly in data-driven decision-making and innovation in the field of data science?\"**\n",
        "\n",
        "Generated Result for the Revised Prompt:\n",
        "\n",
        "1. How would you use data science to enhance the customer experience on Amazon's platforms?\n",
        "2. Amazon values innovation; can you discuss a project where you innovated a new approach or solution in data science?\n",
        "3. Given Amazon's vast and varied datasets, how would you approach a project that involves integrating data from multiple, disparate sources?\n",
        "4. Describe how you would use machine learning to improve the efficiency of Amazon's logistics and supply chain.\n",
        "5. How would you apply data science to predict and meet future customer demands in a specific market segment?\n",
        "6. Can you provide an example of how you would use data analysis to support Amazon's commitment to sustainability?\n",
        "7. How do you approach the challenge of balancing data privacy with data utility in a consumer-centric business like Amazon?\n",
        "8. Describe your experience with AWS services in data science projects. How did these tools help you achieve your project goals?\n",
        "9. Can you explain a time when you had to adjust your model or approach based on feedback or changing business needs?\n",
        "10. How would you leverage data science to identify new business opportunities or potential areas of growth for Amazon?\n",
        "\n",
        "Score and Rationale:\n",
        "Score: 9/10\n",
        "\n",
        "This revised prompt and the resulting questions are tailored to not only assess general data science skills but also focus specifically on areas critical to Amazon, like customer experience, innovation, and handling complex, large-scale data scenarios. The questions are formulated to gauge an understanding of Amazon's business model and its emphasis on customer-centricity, making them highly relevant and challenging for a candidate preparing for an Amazon data scientist interview. This level of specificity and alignment with Amazon's core principles makes the response more effective for interview preparation.\n",
        "\n",
        "<font color='Green'>ME:</font>  \n",
        "Could you score my prompt and give rationale?\n",
        "\n",
        "<font color='Blue'>GPT:</font>  \n",
        "Score for Your Original Prompt:\n",
        "Score: 6/10\n",
        "\n",
        "Rationale:\n",
        "Your original prompt was clear and straightforward, asking for interview questions for a data scientist position at Amazon. This is effective in prompting a general set of relevant interview questions. However, the prompt could be enhanced by specifying certain aspects unique to Amazon, such as their leadership principles, the emphasis on customer-centricity, and the kind of technological challenges specific to Amazon's data science roles.\n",
        "\n",
        "While the prompt successfully solicits a range of typical questions a recruiter might ask, it lacks the depth to extract questions that deeply align with the unique aspects of Amazon's work culture and the specific challenges a data scientist might face there. By incorporating these elements, the prompt could yield a set of questions that would be more beneficial for a candidate specifically preparing for an interview with Amazon. This refinement would lead to a more targeted and thorough preparation, thus enhancing the overall effectiveness of the response.\n"
      ],
      "metadata": {
        "id": "xwEdJXe_aWLm"
      }
    },
    {
      "cell_type": "markdown",
      "source": [
        "**HERE** <font color='Blue'> compares my original prompt and GPT prompt (gpt4-turbo):</font>  \n",
        "\n",
        "<font color='green'>My Prompt: [6/10]</font>   \n",
        "I am preparing a job interview for [COMPANY NAME: Amazon] [JOB TITLE: data scientist] job. You as an [INTERVIEWER ROLE: recruiter], give me 10 interview questions that you are most likely to ask me to check whether I am a fit candidate.\n",
        "\n",
        "<font color='green'>GPT Prompt: [8/10]</font>   \n",
        "I am preparing for a data scientist job interview at Amazon. As a professional with expertise in recruitment and interview processes for technical roles, can you provide me with specific and challenging interview questions that Amazon might ask to assess my technical and problem-solving skills, familiarity with Amazon's work culture, and ability to handle real-world data science scenarios?\n",
        "\n",
        "<font color='green'>GPT Prompt: [9/10]</font>   \n",
        "I am gearing up for a Data Scientist interview at Amazon. Given your deep understanding of Amazon's unique business challenges, technological environment, and its focus on customer-centric solutions, could you provide advanced and specific interview questions that would assess my technical expertise, problem-solving abilities, and alignment with Amazon's mission and principles, particularly in data-driven decision-making and innovation in the field of data science?"
      ],
      "metadata": {
        "id": "Ri-3RLfJgWVh"
      }
    },
    {
      "cell_type": "markdown",
      "source": [
        "**HERE** <font color='Blue'> are rationales about the score that ChatGPT4 gave about my original prompt and GPT prompt (gpt4-turbo):</font>  \n",
        "\n",
        "<font color='green'>My Prompt: [6/10]</font>   \n",
        "Your original prompt was clear and straightforward, asking for interview questions for a data scientist position at Amazon. This is effective in prompting a general set of relevant interview questions. However, the prompt could be enhanced by specifying certain aspects unique to Amazon, such as their leadership principles, the emphasis on customer-centricity, and the kind of technological challenges specific to Amazon's data science roles.\n",
        "\n",
        "<font color='green'>GPT Prompt: [8/10]</font>   \n",
        "The rewritten prompt directs towards more specific and relevant questions that align closely with Amazon's unique work culture and the practical challenges a data scientist might face. The focus on Amazon's leadership principles, real-world applications, and the use of specific tools like AWS, makes the questions more targeted and reflective of what Amazon might prioritize in their interview process. This tailoring leads to a more useful and realistic set of questions for interview preparation.\n",
        "\n",
        "<font color='green'>GPT Prompt: [9/10]</font>   \n",
        "This revised prompt and the resulting questions are tailored to not only assess general data science skills but also focus specifically on areas critical to Amazon, like customer experience, innovation, and handling complex, large-scale data scenarios. The questions are formulated to gauge an understanding of Amazon's business model and its emphasis on customer-centricity, making them highly relevant and challenging for a candidate preparing for an Amazon data scientist interview. This level of specificity and alignment with Amazon's core principles makes the response more effective for interview preparation."
      ],
      "metadata": {
        "id": "nHF7oBkmh7Cu"
      }
    },
    {
      "cell_type": "markdown",
      "source": [
        "### Code"
      ],
      "metadata": {
        "id": "Hmc9mODui-t3"
      }
    },
    {
      "cell_type": "code",
      "source": [
        "# set up prameters\n",
        "job_title = var_comb.role_description[0]\n",
        "comp_name = var_comb.company_name[0]"
      ],
      "metadata": {
        "id": "xAYqSzkgnLSc"
      },
      "execution_count": 19,
      "outputs": []
    },
    {
      "cell_type": "code",
      "source": [
        "# set up input variables for prompt\n",
        "input_var_1 = [\"role_title\", \"company_name\"]"
      ],
      "metadata": {
        "id": "sjOULbKynj2b"
      },
      "execution_count": 20,
      "outputs": []
    },
    {
      "cell_type": "code",
      "source": [
        "# record those parameters as ex_var_comb\n",
        "ex_var_comb = 1 # this means we use the 1st combination of information in var_comb.csv dataset; this helps us tack information"
      ],
      "metadata": {
        "id": "t83Kwv57xDsP"
      },
      "execution_count": 24,
      "outputs": []
    },
    {
      "cell_type": "markdown",
      "source": [
        "#### Prompt with score 8/10"
      ],
      "metadata": {
        "id": "XN2idNeknFBb"
      }
    },
    {
      "cell_type": "code",
      "source": [
        "template_1 = \"\"\"\n",
        "I am preparing for a {role_title} job interview at {company_name}. As a professional\n",
        "with expertise in recruitment and interview processes for technical roles, can\n",
        "you provide me with specific and challenging interview questions that {company_name}\n",
        "might ask to assess my technical and problem-solving skills, familiarity with\n",
        "{company_name}'s work culture, and ability to handle real-world data science scenarios?\n",
        "\"\"\""
      ],
      "metadata": {
        "id": "P3rq166vm9vS"
      },
      "execution_count": 32,
      "outputs": []
    },
    {
      "cell_type": "code",
      "source": [
        "prompt_1 = PromptTemplate(\n",
        "    input_variables = input_var_1,\n",
        "    template = template_1\n",
        ")\n",
        "\n",
        "new_prompt_1 = prompt_1.format(role_title=job_title,\n",
        "                             company_name=comp_name)\n",
        "result_1 = chat([HumanMessage(content=new_prompt_1)])"
      ],
      "metadata": {
        "id": "_xFGQUSKfUOp"
      },
      "execution_count": 33,
      "outputs": []
    },
    {
      "cell_type": "code",
      "source": [
        "print(result_1.content)"
      ],
      "metadata": {
        "colab": {
          "base_uri": "https://localhost:8080/"
        },
        "id": "08J2oVk5rvj3",
        "outputId": "aa04e437-830a-4a08-aed6-106330adccac"
      },
      "execution_count": 34,
      "outputs": [
        {
          "output_type": "stream",
          "name": "stdout",
          "text": [
            "1. Can you describe a time when you had to design an AI/ML model from scratch to solve a business problem? What were the challenges and how did you overcome them?\n",
            "\n",
            "2. How would you explain Machine Learning to a non-technical stakeholder? \n",
            "\n",
            "3. Can you discuss a time when you had to clean and prepare a large dataset for a project? What were the challenges and how did you handle them?\n",
            "\n",
            "4. S&P Global works in a fast-paced environment. Can you provide an example illustrating your ability to quickly adapt to new technologies or methodologies?\n",
            "\n",
            "5. Can you share your experience working in an Agile environment? What do you consider to be the key advantages and challenges of the Agile approach?\n",
            "\n",
            "6. Describe a situation where you had to communicate a complex technical concept to a non-technical audience. How did you ensure that the audience understood your explanation?\n",
            "\n",
            "7. Can you provide a specific example of when you had to troubleshoot a problem in your code? What was the problem and how did you solve it?\n",
            "\n",
            "8. Can you discuss a project where you had to work closely with QA teams? How did you ensure clear communication and collaboration?\n",
            "\n",
            "9. S&P Global values diversity and inclusion. Can you share an experience where you have worked in a diverse team and how it influenced your work?\n",
            "\n",
            "10. In your opinion, what are the most significant considerations when implementing cloud solutions in a corporate finance setting?\n",
            "\n",
            "11. Can you describe a situation where your AI/ML model did not perform as expected? How did you identify the issue and what steps did you take to improve the performance?\n",
            "\n",
            "12. Can you discuss a time when you had to make a critical decision during a project? What factors did you consider and what was the outcome?\n",
            "\n",
            "13. Describe a situation where you had to balance multiple tasks or projects at once. How did you prioritize your work?\n",
            "\n",
            "14. Can you share your experience with automation? How have you applied automation in your previous roles to improve efficiency?\n",
            "\n",
            "15. S&P Global is committed to providing essential intelligence that powers decision-making. Can you share an example where your work contributed to smarter decision-making in your previous role? \n",
            "\n",
            "Remember, the goal is not just to answer the questions but also to demonstrate your problem-solving skills, technical knowledge, and ability to adapt and communicate in a dynamic environment.\n"
          ]
        }
      ]
    },
    {
      "cell_type": "markdown",
      "source": [
        "##### store output"
      ],
      "metadata": {
        "id": "JOwUdArdwYOm"
      }
    },
    {
      "cell_type": "code",
      "source": [
        "new_prompt_result = pd.DataFrame({\n",
        "    'model': [ex_model],\n",
        "    'variable_combination': [ex_var_comb],\n",
        "    'template': [template_1],\n",
        "    'output': [result_1.content]\n",
        "})\n",
        "\n",
        "prompt_result = pd.concat([prompt_result, new_prompt_result], ignore_index=True)"
      ],
      "metadata": {
        "id": "Mk4kNk_ZwiQz"
      },
      "execution_count": 36,
      "outputs": []
    },
    {
      "cell_type": "code",
      "source": [
        "prompt_result"
      ],
      "metadata": {
        "colab": {
          "base_uri": "https://localhost:8080/",
          "height": 81
        },
        "id": "Jy08axxRwiKx",
        "outputId": "f251941a-15a0-439d-b9ba-611e3674f056"
      },
      "execution_count": 37,
      "outputs": [
        {
          "output_type": "execute_result",
          "data": {
            "text/plain": [
              "   model variable_combination  \\\n",
              "0  gpt_4                    1   \n",
              "\n",
              "                                            template  \\\n",
              "0  \\nI am preparing for a {role_title} job interv...   \n",
              "\n",
              "                                              output  \n",
              "0  1. Can you describe a time when you had to des...  "
            ],
            "text/html": [
              "\n",
              "  <div id=\"df-4ed3423d-7bc8-4d30-b393-85b947de12ab\" class=\"colab-df-container\">\n",
              "    <div>\n",
              "<style scoped>\n",
              "    .dataframe tbody tr th:only-of-type {\n",
              "        vertical-align: middle;\n",
              "    }\n",
              "\n",
              "    .dataframe tbody tr th {\n",
              "        vertical-align: top;\n",
              "    }\n",
              "\n",
              "    .dataframe thead th {\n",
              "        text-align: right;\n",
              "    }\n",
              "</style>\n",
              "<table border=\"1\" class=\"dataframe\">\n",
              "  <thead>\n",
              "    <tr style=\"text-align: right;\">\n",
              "      <th></th>\n",
              "      <th>model</th>\n",
              "      <th>variable_combination</th>\n",
              "      <th>template</th>\n",
              "      <th>output</th>\n",
              "    </tr>\n",
              "  </thead>\n",
              "  <tbody>\n",
              "    <tr>\n",
              "      <th>0</th>\n",
              "      <td>gpt_4</td>\n",
              "      <td>1</td>\n",
              "      <td>\\nI am preparing for a {role_title} job interv...</td>\n",
              "      <td>1. Can you describe a time when you had to des...</td>\n",
              "    </tr>\n",
              "  </tbody>\n",
              "</table>\n",
              "</div>\n",
              "    <div class=\"colab-df-buttons\">\n",
              "\n",
              "  <div class=\"colab-df-container\">\n",
              "    <button class=\"colab-df-convert\" onclick=\"convertToInteractive('df-4ed3423d-7bc8-4d30-b393-85b947de12ab')\"\n",
              "            title=\"Convert this dataframe to an interactive table.\"\n",
              "            style=\"display:none;\">\n",
              "\n",
              "  <svg xmlns=\"http://www.w3.org/2000/svg\" height=\"24px\" viewBox=\"0 -960 960 960\">\n",
              "    <path d=\"M120-120v-720h720v720H120Zm60-500h600v-160H180v160Zm220 220h160v-160H400v160Zm0 220h160v-160H400v160ZM180-400h160v-160H180v160Zm440 0h160v-160H620v160ZM180-180h160v-160H180v160Zm440 0h160v-160H620v160Z\"/>\n",
              "  </svg>\n",
              "    </button>\n",
              "\n",
              "  <style>\n",
              "    .colab-df-container {\n",
              "      display:flex;\n",
              "      gap: 12px;\n",
              "    }\n",
              "\n",
              "    .colab-df-convert {\n",
              "      background-color: #E8F0FE;\n",
              "      border: none;\n",
              "      border-radius: 50%;\n",
              "      cursor: pointer;\n",
              "      display: none;\n",
              "      fill: #1967D2;\n",
              "      height: 32px;\n",
              "      padding: 0 0 0 0;\n",
              "      width: 32px;\n",
              "    }\n",
              "\n",
              "    .colab-df-convert:hover {\n",
              "      background-color: #E2EBFA;\n",
              "      box-shadow: 0px 1px 2px rgba(60, 64, 67, 0.3), 0px 1px 3px 1px rgba(60, 64, 67, 0.15);\n",
              "      fill: #174EA6;\n",
              "    }\n",
              "\n",
              "    .colab-df-buttons div {\n",
              "      margin-bottom: 4px;\n",
              "    }\n",
              "\n",
              "    [theme=dark] .colab-df-convert {\n",
              "      background-color: #3B4455;\n",
              "      fill: #D2E3FC;\n",
              "    }\n",
              "\n",
              "    [theme=dark] .colab-df-convert:hover {\n",
              "      background-color: #434B5C;\n",
              "      box-shadow: 0px 1px 3px 1px rgba(0, 0, 0, 0.15);\n",
              "      filter: drop-shadow(0px 1px 2px rgba(0, 0, 0, 0.3));\n",
              "      fill: #FFFFFF;\n",
              "    }\n",
              "  </style>\n",
              "\n",
              "    <script>\n",
              "      const buttonEl =\n",
              "        document.querySelector('#df-4ed3423d-7bc8-4d30-b393-85b947de12ab button.colab-df-convert');\n",
              "      buttonEl.style.display =\n",
              "        google.colab.kernel.accessAllowed ? 'block' : 'none';\n",
              "\n",
              "      async function convertToInteractive(key) {\n",
              "        const element = document.querySelector('#df-4ed3423d-7bc8-4d30-b393-85b947de12ab');\n",
              "        const dataTable =\n",
              "          await google.colab.kernel.invokeFunction('convertToInteractive',\n",
              "                                                    [key], {});\n",
              "        if (!dataTable) return;\n",
              "\n",
              "        const docLinkHtml = 'Like what you see? Visit the ' +\n",
              "          '<a target=\"_blank\" href=https://colab.research.google.com/notebooks/data_table.ipynb>data table notebook</a>'\n",
              "          + ' to learn more about interactive tables.';\n",
              "        element.innerHTML = '';\n",
              "        dataTable['output_type'] = 'display_data';\n",
              "        await google.colab.output.renderOutput(dataTable, element);\n",
              "        const docLink = document.createElement('div');\n",
              "        docLink.innerHTML = docLinkHtml;\n",
              "        element.appendChild(docLink);\n",
              "      }\n",
              "    </script>\n",
              "  </div>\n",
              "\n",
              "    </div>\n",
              "  </div>\n"
            ]
          },
          "metadata": {},
          "execution_count": 37
        }
      ]
    },
    {
      "cell_type": "markdown",
      "source": [
        "#### Prompt with score 9/10"
      ],
      "metadata": {
        "id": "46qu89kMojRq"
      }
    },
    {
      "cell_type": "code",
      "source": [
        "template_2 = \"\"\"\n",
        "I am gearing up for a {role_title} interview at {company_name}. Given your deep\n",
        "understanding of {company_name}'s unique business challenges, technological environment,\n",
        "and its focus on customer-centric solutions, could you provide advanced and\n",
        "specific interview questions that would assess my technical expertise,\n",
        "problem-solving abilities, and alignment with {company_name}'s mission and principles,\n",
        "particularly in data-driven decision-making and innovation in the field of data\n",
        "science?\n",
        "\"\"\""
      ],
      "metadata": {
        "id": "cfxuQjUIoh4a"
      },
      "execution_count": 40,
      "outputs": []
    },
    {
      "cell_type": "code",
      "source": [
        "prompt_2 = PromptTemplate(\n",
        "    input_variables = input_var_1,\n",
        "    template = template_2\n",
        ")\n",
        "\n",
        "new_prompt_2 = prompt_2.format(role_title=job_title,\n",
        "                             company_name=comp_name)\n",
        "result_2 = chat([HumanMessage(content=new_prompt_2)])"
      ],
      "metadata": {
        "id": "ys3lHBbSanaS"
      },
      "execution_count": 42,
      "outputs": []
    },
    {
      "cell_type": "code",
      "source": [
        "print(result_2.content)"
      ],
      "metadata": {
        "colab": {
          "base_uri": "https://localhost:8080/"
        },
        "id": "gfO7rdEDacHB",
        "outputId": "6e005c15-fe17-4aa4-d182-ecc483ad3095"
      },
      "execution_count": 43,
      "outputs": [
        {
          "output_type": "stream",
          "name": "stdout",
          "text": [
            "1. Can you share an example of a project where you developed AI or ML models to help a business make better decisions? What was the outcome?\n",
            "\n",
            "2. How have you used programming languages such as Python or Java in your previous roles to develop software solutions?\n",
            "\n",
            "3. S&P Global relies heavily on data-driven decisions. Can you tell us about a time when you used data to solve a complex problem?\n",
            "\n",
            "4. We often encounter situations where data is unstructured or messy. Can you describe your experience in data collection and cleaning? \n",
            "\n",
            "5. Explain how you evaluate the performance of AI/ML models. Can you provide an example of a time when you had to make adjustments to a model based on your evaluation?\n",
            "\n",
            "6. Communication and collaboration are key in this role. Can you tell us about a time when you worked with stakeholders to understand business needs and develop solutions?\n",
            "\n",
            "7. Can you discuss a time when you worked closely with a QA team to fix bugs? How did you handle communication and collaboration in that situation?\n",
            "\n",
            "8. S&P Global values continuous learning, especially with emerging technologies. Can you share a recent technology or tool that you've learned and how you applied it to your work?\n",
            "\n",
            "9. At S&P Global, we are committed to delivering essential intelligence that powers decision-making. Can you tell us about a time when you used data to inform a significant decision, and how did it impact the outcome?\n",
            "\n",
            "10. Innovation is crucial in the field of data science. Could you talk about a time when you implemented an innovative solution to a complex problem? \n",
            "\n",
            "11. How do you stay updated with the latest trends and developments in AI/ML? Can you discuss any recent development that caught your attention and its potential implications?\n",
            "\n",
            "12. Can you describe a time when you had to work independently to meet a tight deadline? How did you manage your time and resources?\n",
            "\n",
            "13. S&P Global appreciates a basic understanding of automation. Can you share an instance where you applied automation to improve efficiency in your previous roles?\n",
            "\n",
            "14. As this role involves a good deal of problem-solving, can you give an example of a complex problem you've encountered in your previous work and how you handled it?\n",
            "\n",
            "15. Finally, how do you align with S&P Global's mission and principles, particularly in terms of data-driven decision-making and innovation in data science?\n"
          ]
        }
      ]
    },
    {
      "cell_type": "markdown",
      "source": [
        "##### store output"
      ],
      "metadata": {
        "id": "sGC72R2tz-0t"
      }
    },
    {
      "cell_type": "code",
      "source": [
        "new_prompt_result = pd.DataFrame({\n",
        "    'model': [ex_model],\n",
        "    'variable_combination': [ex_var_comb],\n",
        "    'template': [template_2],\n",
        "    'output': [result_2.content]\n",
        "})\n",
        "\n",
        "prompt_result = pd.concat([prompt_result, new_prompt_result], ignore_index=True)"
      ],
      "metadata": {
        "id": "tFk2Lp6oaE7Q"
      },
      "execution_count": 44,
      "outputs": []
    },
    {
      "cell_type": "code",
      "source": [
        "prompt_result"
      ],
      "metadata": {
        "colab": {
          "base_uri": "https://localhost:8080/",
          "height": 112
        },
        "id": "lEdJSb1FRwy9",
        "outputId": "6f1c57ea-71dd-457d-a0b0-e4ac49ca26e5"
      },
      "execution_count": 45,
      "outputs": [
        {
          "output_type": "execute_result",
          "data": {
            "text/plain": [
              "   model variable_combination  \\\n",
              "0  gpt_4                    1   \n",
              "1  gpt_4                    1   \n",
              "\n",
              "                                            template  \\\n",
              "0  \\nI am preparing for a {role_title} job interv...   \n",
              "1  \\nI am gearing up for a {role_title} interview...   \n",
              "\n",
              "                                              output  \n",
              "0  1. Can you describe a time when you had to des...  \n",
              "1  1. Can you share an example of a project where...  "
            ],
            "text/html": [
              "\n",
              "  <div id=\"df-6550ac1e-10ac-4ccf-932c-245d22779a11\" class=\"colab-df-container\">\n",
              "    <div>\n",
              "<style scoped>\n",
              "    .dataframe tbody tr th:only-of-type {\n",
              "        vertical-align: middle;\n",
              "    }\n",
              "\n",
              "    .dataframe tbody tr th {\n",
              "        vertical-align: top;\n",
              "    }\n",
              "\n",
              "    .dataframe thead th {\n",
              "        text-align: right;\n",
              "    }\n",
              "</style>\n",
              "<table border=\"1\" class=\"dataframe\">\n",
              "  <thead>\n",
              "    <tr style=\"text-align: right;\">\n",
              "      <th></th>\n",
              "      <th>model</th>\n",
              "      <th>variable_combination</th>\n",
              "      <th>template</th>\n",
              "      <th>output</th>\n",
              "    </tr>\n",
              "  </thead>\n",
              "  <tbody>\n",
              "    <tr>\n",
              "      <th>0</th>\n",
              "      <td>gpt_4</td>\n",
              "      <td>1</td>\n",
              "      <td>\\nI am preparing for a {role_title} job interv...</td>\n",
              "      <td>1. Can you describe a time when you had to des...</td>\n",
              "    </tr>\n",
              "    <tr>\n",
              "      <th>1</th>\n",
              "      <td>gpt_4</td>\n",
              "      <td>1</td>\n",
              "      <td>\\nI am gearing up for a {role_title} interview...</td>\n",
              "      <td>1. Can you share an example of a project where...</td>\n",
              "    </tr>\n",
              "  </tbody>\n",
              "</table>\n",
              "</div>\n",
              "    <div class=\"colab-df-buttons\">\n",
              "\n",
              "  <div class=\"colab-df-container\">\n",
              "    <button class=\"colab-df-convert\" onclick=\"convertToInteractive('df-6550ac1e-10ac-4ccf-932c-245d22779a11')\"\n",
              "            title=\"Convert this dataframe to an interactive table.\"\n",
              "            style=\"display:none;\">\n",
              "\n",
              "  <svg xmlns=\"http://www.w3.org/2000/svg\" height=\"24px\" viewBox=\"0 -960 960 960\">\n",
              "    <path d=\"M120-120v-720h720v720H120Zm60-500h600v-160H180v160Zm220 220h160v-160H400v160Zm0 220h160v-160H400v160ZM180-400h160v-160H180v160Zm440 0h160v-160H620v160ZM180-180h160v-160H180v160Zm440 0h160v-160H620v160Z\"/>\n",
              "  </svg>\n",
              "    </button>\n",
              "\n",
              "  <style>\n",
              "    .colab-df-container {\n",
              "      display:flex;\n",
              "      gap: 12px;\n",
              "    }\n",
              "\n",
              "    .colab-df-convert {\n",
              "      background-color: #E8F0FE;\n",
              "      border: none;\n",
              "      border-radius: 50%;\n",
              "      cursor: pointer;\n",
              "      display: none;\n",
              "      fill: #1967D2;\n",
              "      height: 32px;\n",
              "      padding: 0 0 0 0;\n",
              "      width: 32px;\n",
              "    }\n",
              "\n",
              "    .colab-df-convert:hover {\n",
              "      background-color: #E2EBFA;\n",
              "      box-shadow: 0px 1px 2px rgba(60, 64, 67, 0.3), 0px 1px 3px 1px rgba(60, 64, 67, 0.15);\n",
              "      fill: #174EA6;\n",
              "    }\n",
              "\n",
              "    .colab-df-buttons div {\n",
              "      margin-bottom: 4px;\n",
              "    }\n",
              "\n",
              "    [theme=dark] .colab-df-convert {\n",
              "      background-color: #3B4455;\n",
              "      fill: #D2E3FC;\n",
              "    }\n",
              "\n",
              "    [theme=dark] .colab-df-convert:hover {\n",
              "      background-color: #434B5C;\n",
              "      box-shadow: 0px 1px 3px 1px rgba(0, 0, 0, 0.15);\n",
              "      filter: drop-shadow(0px 1px 2px rgba(0, 0, 0, 0.3));\n",
              "      fill: #FFFFFF;\n",
              "    }\n",
              "  </style>\n",
              "\n",
              "    <script>\n",
              "      const buttonEl =\n",
              "        document.querySelector('#df-6550ac1e-10ac-4ccf-932c-245d22779a11 button.colab-df-convert');\n",
              "      buttonEl.style.display =\n",
              "        google.colab.kernel.accessAllowed ? 'block' : 'none';\n",
              "\n",
              "      async function convertToInteractive(key) {\n",
              "        const element = document.querySelector('#df-6550ac1e-10ac-4ccf-932c-245d22779a11');\n",
              "        const dataTable =\n",
              "          await google.colab.kernel.invokeFunction('convertToInteractive',\n",
              "                                                    [key], {});\n",
              "        if (!dataTable) return;\n",
              "\n",
              "        const docLinkHtml = 'Like what you see? Visit the ' +\n",
              "          '<a target=\"_blank\" href=https://colab.research.google.com/notebooks/data_table.ipynb>data table notebook</a>'\n",
              "          + ' to learn more about interactive tables.';\n",
              "        element.innerHTML = '';\n",
              "        dataTable['output_type'] = 'display_data';\n",
              "        await google.colab.output.renderOutput(dataTable, element);\n",
              "        const docLink = document.createElement('div');\n",
              "        docLink.innerHTML = docLinkHtml;\n",
              "        element.appendChild(docLink);\n",
              "      }\n",
              "    </script>\n",
              "  </div>\n",
              "\n",
              "\n",
              "<div id=\"df-29c5b9b8-eb71-40d6-b396-a6327894176f\">\n",
              "  <button class=\"colab-df-quickchart\" onclick=\"quickchart('df-29c5b9b8-eb71-40d6-b396-a6327894176f')\"\n",
              "            title=\"Suggest charts\"\n",
              "            style=\"display:none;\">\n",
              "\n",
              "<svg xmlns=\"http://www.w3.org/2000/svg\" height=\"24px\"viewBox=\"0 0 24 24\"\n",
              "     width=\"24px\">\n",
              "    <g>\n",
              "        <path d=\"M19 3H5c-1.1 0-2 .9-2 2v14c0 1.1.9 2 2 2h14c1.1 0 2-.9 2-2V5c0-1.1-.9-2-2-2zM9 17H7v-7h2v7zm4 0h-2V7h2v10zm4 0h-2v-4h2v4z\"/>\n",
              "    </g>\n",
              "</svg>\n",
              "  </button>\n",
              "\n",
              "<style>\n",
              "  .colab-df-quickchart {\n",
              "      --bg-color: #E8F0FE;\n",
              "      --fill-color: #1967D2;\n",
              "      --hover-bg-color: #E2EBFA;\n",
              "      --hover-fill-color: #174EA6;\n",
              "      --disabled-fill-color: #AAA;\n",
              "      --disabled-bg-color: #DDD;\n",
              "  }\n",
              "\n",
              "  [theme=dark] .colab-df-quickchart {\n",
              "      --bg-color: #3B4455;\n",
              "      --fill-color: #D2E3FC;\n",
              "      --hover-bg-color: #434B5C;\n",
              "      --hover-fill-color: #FFFFFF;\n",
              "      --disabled-bg-color: #3B4455;\n",
              "      --disabled-fill-color: #666;\n",
              "  }\n",
              "\n",
              "  .colab-df-quickchart {\n",
              "    background-color: var(--bg-color);\n",
              "    border: none;\n",
              "    border-radius: 50%;\n",
              "    cursor: pointer;\n",
              "    display: none;\n",
              "    fill: var(--fill-color);\n",
              "    height: 32px;\n",
              "    padding: 0;\n",
              "    width: 32px;\n",
              "  }\n",
              "\n",
              "  .colab-df-quickchart:hover {\n",
              "    background-color: var(--hover-bg-color);\n",
              "    box-shadow: 0 1px 2px rgba(60, 64, 67, 0.3), 0 1px 3px 1px rgba(60, 64, 67, 0.15);\n",
              "    fill: var(--button-hover-fill-color);\n",
              "  }\n",
              "\n",
              "  .colab-df-quickchart-complete:disabled,\n",
              "  .colab-df-quickchart-complete:disabled:hover {\n",
              "    background-color: var(--disabled-bg-color);\n",
              "    fill: var(--disabled-fill-color);\n",
              "    box-shadow: none;\n",
              "  }\n",
              "\n",
              "  .colab-df-spinner {\n",
              "    border: 2px solid var(--fill-color);\n",
              "    border-color: transparent;\n",
              "    border-bottom-color: var(--fill-color);\n",
              "    animation:\n",
              "      spin 1s steps(1) infinite;\n",
              "  }\n",
              "\n",
              "  @keyframes spin {\n",
              "    0% {\n",
              "      border-color: transparent;\n",
              "      border-bottom-color: var(--fill-color);\n",
              "      border-left-color: var(--fill-color);\n",
              "    }\n",
              "    20% {\n",
              "      border-color: transparent;\n",
              "      border-left-color: var(--fill-color);\n",
              "      border-top-color: var(--fill-color);\n",
              "    }\n",
              "    30% {\n",
              "      border-color: transparent;\n",
              "      border-left-color: var(--fill-color);\n",
              "      border-top-color: var(--fill-color);\n",
              "      border-right-color: var(--fill-color);\n",
              "    }\n",
              "    40% {\n",
              "      border-color: transparent;\n",
              "      border-right-color: var(--fill-color);\n",
              "      border-top-color: var(--fill-color);\n",
              "    }\n",
              "    60% {\n",
              "      border-color: transparent;\n",
              "      border-right-color: var(--fill-color);\n",
              "    }\n",
              "    80% {\n",
              "      border-color: transparent;\n",
              "      border-right-color: var(--fill-color);\n",
              "      border-bottom-color: var(--fill-color);\n",
              "    }\n",
              "    90% {\n",
              "      border-color: transparent;\n",
              "      border-bottom-color: var(--fill-color);\n",
              "    }\n",
              "  }\n",
              "</style>\n",
              "\n",
              "  <script>\n",
              "    async function quickchart(key) {\n",
              "      const quickchartButtonEl =\n",
              "        document.querySelector('#' + key + ' button');\n",
              "      quickchartButtonEl.disabled = true;  // To prevent multiple clicks.\n",
              "      quickchartButtonEl.classList.add('colab-df-spinner');\n",
              "      try {\n",
              "        const charts = await google.colab.kernel.invokeFunction(\n",
              "            'suggestCharts', [key], {});\n",
              "      } catch (error) {\n",
              "        console.error('Error during call to suggestCharts:', error);\n",
              "      }\n",
              "      quickchartButtonEl.classList.remove('colab-df-spinner');\n",
              "      quickchartButtonEl.classList.add('colab-df-quickchart-complete');\n",
              "    }\n",
              "    (() => {\n",
              "      let quickchartButtonEl =\n",
              "        document.querySelector('#df-29c5b9b8-eb71-40d6-b396-a6327894176f button');\n",
              "      quickchartButtonEl.style.display =\n",
              "        google.colab.kernel.accessAllowed ? 'block' : 'none';\n",
              "    })();\n",
              "  </script>\n",
              "</div>\n",
              "    </div>\n",
              "  </div>\n"
            ]
          },
          "metadata": {},
          "execution_count": 45
        }
      ]
    },
    {
      "cell_type": "markdown",
      "source": [
        "## Prompt 3 & 4 & 5"
      ],
      "metadata": {
        "id": "Ilu1NjMC02fy"
      }
    },
    {
      "cell_type": "markdown",
      "source": [
        "### Extra info"
      ],
      "metadata": {
        "id": "Eeb_FE7m8ibq"
      }
    },
    {
      "cell_type": "markdown",
      "source": [
        "This time we have all variables in var_comb.csv.\n",
        "\n",
        "My conversation with ChatGPT4 is:\n",
        "\n",
        "<font color='Green'>ME:</font>  \n",
        "Now, I have [interviewer_role], [company_name], [resume], [role_title], [role_description], and [company_description] as placeholders.  \n",
        "[interviewer_role] can be: a recruiter, hiring manager, senior data scientist, or whoever interviews me\n",
        "[resume] is my resume\n",
        "[role_title] is the job title that  I want to apply\n",
        "[role_desctiption] is the job description in the job post for [role_title]\n",
        "[company_desctiption] is the short description of the [company_name] from LinkedIn\n",
        "\n",
        "Could you help me generate 3 prompt templates including the above placeholders? Those templates will generate 10 high-quality interview questions that interviewers are highly likely to ask during the job interview.\n",
        "\n",
        "<font color='Blue'>GPT:</font>  \n",
        "Certainly! Here are three prompt templates incorporating your placeholders, designed to generate high-quality interview questions for your job interview:\n",
        "\n",
        "**Template 1: General Fit and Skills Assessment**\n",
        "\"As an [interviewer_role] at [company_name], I'm looking to assess the suitability of a candidate for [role_title]. Based on [resume] and considering the responsibilities listed in [role_description], what are 10 insightful questions you would ask to evaluate the candidate's skills, experience, and overall fit for the role and company culture detailed in [company_description]?\"\n",
        "\n",
        "**Template 2: Technical and Problem-Solving Focus**\n",
        "\"I am a [interviewer_role] preparing to interview a candidate for the [role_title] at [company_name]. Given their technical background as highlighted in [resume] and the specific technical requirements mentioned in [role_description], what are 10 challenging technical and problem-solving questions that would effectively gauge their technical proficiency and ability to contribute to the objectives outlined in [company_description]?\"\n",
        "\n",
        "**Template 3: Behavioral and Scenario-Based Questions**\n",
        "\"As an [interviewer_role] for [company_name], I am interested in understanding how a candidate for [role_title] would fit into our team dynamics and handle real-world scenarios. Referring to their experiences listed in [resume] and the key competencies required as per [role_description], could you suggest 10 behavioral and scenario-based interview questions that align with [company_description] and help assess the candidate's soft skills, decision-making abilities, and alignment with our company values?\"\n",
        "\n",
        "These templates are designed to elicit specific, relevant, and high-quality interview questions from a variety of interviewer perspectives, focusing on different aspects of the candidate's qualifications and fit for the role and company.\n",
        "\n"
      ],
      "metadata": {
        "id": "bVxkTZes85BY"
      }
    },
    {
      "cell_type": "markdown",
      "source": [
        "### Code"
      ],
      "metadata": {
        "id": "XFX8LKR4FnOF"
      }
    },
    {
      "cell_type": "code",
      "source": [
        "# set up prameters\n",
        "job_title = var_comb.role_description[0]\n",
        "comp_name = var_comb.company_name[0]\n",
        "interviewer_title = var_comb.interviewer_role[0]\n",
        "my_resume = var_comb.resume[0]\n",
        "role_des = var_comb.role_description[0]\n",
        "comp_des = var_comb.company_description[0]"
      ],
      "metadata": {
        "id": "LM4tr-pC8h9e"
      },
      "execution_count": 47,
      "outputs": []
    },
    {
      "cell_type": "code",
      "source": [
        "# set up input variables for prompt\n",
        "input_var_2 = [\"interviewer_role\", \"company_name\", \"role_title\", \"resume\", \"role_description\", \"company_description\"]"
      ],
      "metadata": {
        "id": "xNIrjSr2F4PK"
      },
      "execution_count": 48,
      "outputs": []
    },
    {
      "cell_type": "markdown",
      "source": [
        "#### Prompt 3: general fit and skills assessment"
      ],
      "metadata": {
        "id": "lHiJP7DN8i_5"
      }
    },
    {
      "cell_type": "code",
      "source": [
        "template_3 = \"\"\"\n",
        "As an {interviewer_role} at {company_name}, I'm looking to assess the suitability\n",
        " of a candidate for {role_title}. Based on {resume} and considering the\n",
        " responsibilities listed in {role_description}, what are 10 insightful questions\n",
        "  you would ask to evaluate the candidate's skills, experience, and overall fit\n",
        "  for the role and company culture detailed in {company_description}?\n",
        "\"\"\"\n",
        "\n",
        "prompt_3 = PromptTemplate(\n",
        "    input_variables = input_var_2,\n",
        "    template = template_3\n",
        ")\n",
        "\n",
        "new_prompt_3 = prompt_3.format(role_title=job_title,\n",
        "                               company_name=comp_name,\n",
        "                               interviewer_role=interviewer_title,\n",
        "                               resume=my_resume,\n",
        "                               role_description=role_des,\n",
        "                               company_description=comp_des)\n",
        "result_3 = chat([HumanMessage(content=new_prompt_3)])"
      ],
      "metadata": {
        "id": "3AEdMHqwRwwD"
      },
      "execution_count": 49,
      "outputs": []
    },
    {
      "cell_type": "code",
      "source": [
        "print(result_3.content)"
      ],
      "metadata": {
        "colab": {
          "base_uri": "https://localhost:8080/"
        },
        "id": "19oBERfDRwt7",
        "outputId": "5e974753-3f74-47c0-96bb-943c0da4d0e9"
      },
      "execution_count": 50,
      "outputs": [
        {
          "output_type": "stream",
          "name": "stdout",
          "text": [
            "1. Can you share an example of a project where you implemented machine learning algorithms and the impact it had on the project?\n",
            "2. How have you managed the process of data collection and cleaning in your past roles or projects?\n",
            "3. Can you provide an example of how you evaluated the performance of an AI/ML model and what actions you took as a result of the evaluation?\n",
            "4. How have you worked with stakeholders to understand their business needs and developed solutions accordingly?\n",
            "5. Could you describe a situation where you faced a challenge while deploying an AI model? How did you resolve it?\n",
            "6. Can you share your experience with daily scrum updates and how you contributed to the process?\n",
            "7. How have you worked closely with a QA team to fix bugs? Can you provide a specific example?\n",
            "8. What is your understanding of automation in the context of software development? Can you share an example of when you applied this understanding in a project?\n",
            "9. How do you keep yourself updated with emerging technologies? Can you share a recent technology you've learned about and how it could be applied in this role?\n",
            "10. S&P Global has a diverse and adaptable work culture. Can you share an example of how you've adapted to a similar work environment in the past?\n"
          ]
        }
      ]
    },
    {
      "cell_type": "markdown",
      "source": [
        "##### store output"
      ],
      "metadata": {
        "id": "javCThOIIJk2"
      }
    },
    {
      "cell_type": "code",
      "source": [
        "new_prompt_result = pd.DataFrame({\n",
        "    'model': [ex_model],\n",
        "    'variable_combination': [ex_var_comb],\n",
        "    'template': [template_3],\n",
        "    'output': [result_3.content]\n",
        "})\n",
        "\n",
        "prompt_result = pd.concat([prompt_result, new_prompt_result], ignore_index=True)"
      ],
      "metadata": {
        "id": "ogR2296YRwrp"
      },
      "execution_count": 54,
      "outputs": []
    },
    {
      "cell_type": "markdown",
      "source": [
        "#### Prompt 4: technical and problem-solving focus"
      ],
      "metadata": {
        "id": "i7UiYAzNF9KN"
      }
    },
    {
      "cell_type": "code",
      "source": [
        "# set up input variables for prompt\n",
        "input_var_3 = [\"interviewer_role\", \"role_title\", \"company_name\", \"resume\", \"role_description\", \"company_description\"]"
      ],
      "metadata": {
        "id": "2JfAn1iIJt0X"
      },
      "execution_count": 51,
      "outputs": []
    },
    {
      "cell_type": "code",
      "source": [
        "template_4 = \"\"\"\n",
        "I am a {interviewer_role} preparing to interview a candidate for the {role_title}\n",
        " at {company_name}. Given their technical background as highlighted in {resume}\n",
        " and the specific technical requirements mentioned in {role_description},\n",
        " what are 10 challenging technical and problem-solving questions that would\n",
        " effectively gauge their technical proficiency and ability to contribute to the\n",
        " objectives outlined in {company_description}?\n",
        "\"\"\"\n",
        "\n",
        "prompt_4 = PromptTemplate(\n",
        "    input_variables = input_var_3,\n",
        "    template = template_4\n",
        ")\n",
        "\n",
        "new_prompt_4 = prompt_4.format(role_title=job_title,\n",
        "                               company_name=comp_name,\n",
        "                               interviewer_role=interviewer_title,\n",
        "                               resume=my_resume,\n",
        "                               role_description=role_des,\n",
        "                               company_description=comp_des)\n",
        "result_4 = chat([HumanMessage(content=new_prompt_4)])"
      ],
      "metadata": {
        "id": "rxvsypYJF8An"
      },
      "execution_count": 52,
      "outputs": []
    },
    {
      "cell_type": "code",
      "source": [
        "print(result_4.content)"
      ],
      "metadata": {
        "colab": {
          "base_uri": "https://localhost:8080/"
        },
        "id": "zTmGpnCRIN2O",
        "outputId": "d433638c-2e0a-496c-9397-4a3dc52140af"
      },
      "execution_count": 53,
      "outputs": [
        {
          "output_type": "stream",
          "name": "stdout",
          "text": [
            "1. Can you describe a machine learning project you've worked on, the challenges you faced, and how you overcame them?\n",
            "2. How would you go about implementing a new AI model in an existing system? What considerations would you need to take into account?\n",
            "3. Can you explain how you would evaluate the performance of an AI/ML model? What metrics would you use and why?\n",
            "4. How would you approach cleaning a large dataset with missing or inconsistent data?\n",
            "5. Could you describe a situation where you had to work closely with stakeholders to understand their needs and develop a solution?\n",
            "6. How would you handle a situation where the AI model you've developed is not performing as expected?\n",
            "7. Can you explain your process for fixing bugs and ensuring the quality of your code?\n",
            "8. Describe a time when you had to make a crucial decision in a project. What was the situation, and how did you handle it?\n",
            "9. Have you ever had to learn a new technology or programming language for a project? How did you go about it?\n",
            "10. Can you give an example of a time you had to work independently and as part of a team on a project? How did you manage your responsibilities and coordinate with the team?\n"
          ]
        }
      ]
    },
    {
      "cell_type": "markdown",
      "source": [
        "##### store output"
      ],
      "metadata": {
        "id": "Qi155kRVINDQ"
      }
    },
    {
      "cell_type": "code",
      "source": [
        "new_prompt_result = pd.DataFrame({\n",
        "    'model': [ex_model],\n",
        "    'variable_combination': [ex_var_comb],\n",
        "    'template': [template_4],\n",
        "    'output': [result_4.content]\n",
        "})\n",
        "\n",
        "prompt_result = pd.concat([prompt_result, new_prompt_result], ignore_index=True)"
      ],
      "metadata": {
        "id": "9dDGutxXKddy"
      },
      "execution_count": 55,
      "outputs": []
    },
    {
      "cell_type": "markdown",
      "source": [
        "#### Prompt 5: behavioral and scenario-based questions"
      ],
      "metadata": {
        "id": "9xe4Vp1kGH18"
      }
    },
    {
      "cell_type": "code",
      "source": [
        "input_var_2"
      ],
      "metadata": {
        "colab": {
          "base_uri": "https://localhost:8080/"
        },
        "id": "-3MlFqkCK5Ug",
        "outputId": "2e094c0f-96ca-4427-f92c-823375517f9c"
      },
      "execution_count": 56,
      "outputs": [
        {
          "output_type": "execute_result",
          "data": {
            "text/plain": [
              "['interviewer_role',\n",
              " 'company_name',\n",
              " 'role_title',\n",
              " 'resume',\n",
              " 'role_description',\n",
              " 'company_description']"
            ]
          },
          "metadata": {},
          "execution_count": 56
        }
      ]
    },
    {
      "cell_type": "code",
      "source": [
        "template_5 = \"\"\"\n",
        "As an {interviewer_role} for {company_name}, I am interested in understanding\n",
        "how a candidate for {role_title} would fit into our team dynamics and handle\n",
        "real-world scenarios. Referring to their experiences listed in {resume} and the\n",
        "key competencies required as per {role_description}, could you suggest 10\n",
        "behavioral and scenario-based interview questions that align with\n",
        "{company_description} and help assess the candidate's soft skills, decision-making\n",
        " abilities, and alignment with our company values?\n",
        "\"\"\"\n",
        "\n",
        "prompt_5 = PromptTemplate(\n",
        "    input_variables = input_var_2,\n",
        "    template = template_5\n",
        ")\n",
        "\n",
        "new_prompt_5 = prompt_5.format(role_title=job_title,\n",
        "                               company_name=comp_name,\n",
        "                               interviewer_role=interviewer_title,\n",
        "                               resume=my_resume,\n",
        "                               role_description=role_des,\n",
        "                               company_description=comp_des)\n",
        "result_5 = chat([HumanMessage(content=new_prompt_5)])"
      ],
      "metadata": {
        "id": "q_xOeyDqRwpE"
      },
      "execution_count": 57,
      "outputs": []
    },
    {
      "cell_type": "code",
      "source": [
        "print(result_5.content)"
      ],
      "metadata": {
        "colab": {
          "base_uri": "https://localhost:8080/"
        },
        "id": "rl1hmDQyRwHT",
        "outputId": "c86b9607-4b5e-483a-8a3e-015727a558f0"
      },
      "execution_count": 59,
      "outputs": [
        {
          "output_type": "stream",
          "name": "stdout",
          "text": [
            "1. Can you describe a time when you had to make a decision that wasn't popular but was necessary for a project's success? How did you handle the situation?\n",
            "\n",
            "2. Tell us about a time when you had to use your strong problem-solving skills to overcome a challenge in a project. What was the situation and what did you do?\n",
            "\n",
            "3. Our company values innovation and learning. Can you share a situation where you learned a new technology or methodology and applied it to your work?\n",
            "\n",
            "4. How would you handle a situation where you and a stakeholder have a disagreement about the direction of a project? \n",
            "\n",
            "5. In this role, you'll be working closely with a team. Can you describe a time when you had to navigate a conflict within your team? \n",
            "\n",
            "6. Describe a time when you had to explain a complex data analysis or technical concept to a non-technical stakeholder. How did you ensure they understood?\n",
            "\n",
            "7. If you discovered a significant error in an AI/ML model that had already been deployed, how would you handle the situation? \n",
            "\n",
            "8. Can you tell us about a time when you had to work under tight deadlines? How did you ensure the quality of your work?\n",
            "\n",
            "9. Describe a situation where you had to use your initiative to solve a problem at work. What was the outcome?\n",
            "\n",
            "10. Our company has a strong commitment to sustainable finance. Can you tell us about any experiences you've had with environmental, social, or governance (ESG) factors in your previous roles?\n",
            "\n"
          ]
        }
      ]
    },
    {
      "cell_type": "markdown",
      "source": [
        "##### store output"
      ],
      "metadata": {
        "id": "m8Ykv1M9Luu1"
      }
    },
    {
      "cell_type": "code",
      "source": [
        "new_prompt_result = pd.DataFrame({\n",
        "    'model': [ex_model],\n",
        "    'variable_combination': [ex_var_comb],\n",
        "    'template': [template_5],\n",
        "    'output': [result_5.content]\n",
        "})\n",
        "\n",
        "prompt_result = pd.concat([prompt_result, new_prompt_result], ignore_index=True)"
      ],
      "metadata": {
        "id": "BWH8ED6QLvez"
      },
      "execution_count": 60,
      "outputs": []
    },
    {
      "cell_type": "markdown",
      "source": [
        "## Prompt 6 (comb of 3,4,5)"
      ],
      "metadata": {
        "id": "xFZK4Uk9FHbM"
      }
    },
    {
      "cell_type": "markdown",
      "source": [
        "### Extra info"
      ],
      "metadata": {
        "id": "MXmDfuIVFM0l"
      }
    },
    {
      "cell_type": "markdown",
      "source": [
        "<font color='Green'>ME:</font>  \n",
        "Could you combine those three templates into one template? This template can do general fit and skills assessment, technical and problem-solving focus, and behavior and scenario-base questions.\n",
        "\n",
        "<font color='Blue'>GPT:</font>  \n",
        "Certainly, I can combine the three templates into a single comprehensive template. Here's the unified template:\n",
        "\n",
        "**Unified Template for Comprehensive Interview Question Generation:**  \n",
        "\"As an [interviewer_role] interviewing for the [role_title] at [company_name], I need to comprehensively assess a candidate's fit for the position. With reference to the candidate's [resume], the technical requirements and responsibilities in the [role_description], and aligning with the ethos and objectives of [company_description], what are 10 diverse and high-quality interview questions that cover general fit and skills assessment, technical expertise and problem-solving abilities, as well as behavioral and scenario-based competencies? These questions should help in evaluating the candidate's overall suitability for the role in terms of skills, experience, and cultural fit within [company_name].\"\n",
        "\n",
        "This template is designed to prompt questions that holistically evaluate a candidate across various dimensions: their skill set and experience, technical and problem-solving capabilities, and their alignment with the behavioral and cultural aspects of the role and company. This approach ensures a well-rounded assessment of the candidate's potential for the position."
      ],
      "metadata": {
        "id": "T-oBfGDIVABz"
      }
    },
    {
      "cell_type": "markdown",
      "source": [
        "### Code"
      ],
      "metadata": {
        "id": "Rj6J312cFRFb"
      }
    },
    {
      "cell_type": "code",
      "source": [
        "input_var_3"
      ],
      "metadata": {
        "colab": {
          "base_uri": "https://localhost:8080/"
        },
        "id": "6HvI6dymV_4v",
        "outputId": "ceda9767-546e-4c76-b2a1-1c34d3d87e26"
      },
      "execution_count": 62,
      "outputs": [
        {
          "output_type": "execute_result",
          "data": {
            "text/plain": [
              "['interviewer_role',\n",
              " 'role_title',\n",
              " 'company_name',\n",
              " 'resume',\n",
              " 'role_description',\n",
              " 'company_description']"
            ]
          },
          "metadata": {},
          "execution_count": 62
        }
      ]
    },
    {
      "cell_type": "code",
      "source": [
        "template_6 = \"\"\"\n",
        "As an {interviewer_role} interviewing for the {role_title} at {company_name},\n",
        "I need to comprehensively assess a candidate's fit for the position. With\n",
        "reference to the candidate's {resume}, the technical requirements and\n",
        "responsibilities in the {role_description}, and aligning with the ethos and\n",
        "objectives of {company_description}, what are 10 diverse and high-quality\n",
        "interview questions that cover general fit and skills assessment, technical\n",
        "expertise and problem-solving abilities, as well as behavioral and scenario-based\n",
        "competencies? These questions should help in evaluating the candidate's overall\n",
        "suitability for the role in terms of skills, experience, and cultural fit within\n",
        " {company_name}.\n",
        "\"\"\"\n",
        "\n",
        "prompt_6 = PromptTemplate(\n",
        "    input_variables = input_var_3,\n",
        "    template = template_6\n",
        ")\n",
        "\n",
        "new_prompt_6 = prompt_6.format(role_title=job_title,\n",
        "                               company_name=comp_name,\n",
        "                               interviewer_role=interviewer_title,\n",
        "                               resume=my_resume,\n",
        "                               role_description=role_des,\n",
        "                               company_description=comp_des)\n",
        "result_6 = chat([HumanMessage(content=new_prompt_6)])"
      ],
      "metadata": {
        "id": "UlsG3TUiFLp6"
      },
      "execution_count": 65,
      "outputs": []
    },
    {
      "cell_type": "code",
      "source": [
        "print(result_6.content)"
      ],
      "metadata": {
        "colab": {
          "base_uri": "https://localhost:8080/"
        },
        "id": "Px6L8861WMQ0",
        "outputId": "4b4d1bba-aee8-4370-d1fa-685a0c1f951c"
      },
      "execution_count": 66,
      "outputs": [
        {
          "output_type": "stream",
          "name": "stdout",
          "text": [
            "1. General Fit and Skills Assessment Questions:\n",
            "   - Can you tell me about a time when you had to make a difficult decision within a project? What was the decision and what was the outcome?\n",
            "   - Given your background in data science, how do you approach problem-solving when you encounter a challenge in your work?\n",
            "   - How do you ensure that you are continuously learning and staying updated with the latest developments in AI and Machine Learning?\n",
            "\n",
            "2. Technical Expertise and Problem-Solving Questions:\n",
            "   - Can you describe a project where you had to implement machine learning algorithms? What were the challenges and how did you overcome them?\n",
            "   - How have you utilized Python or Java in your past projects to develop and deploy AI models?\n",
            "   - Can you discuss a time when you had to evaluate the performance of an AI/ML model? What metrics did you use and why?\n",
            "\n",
            "3. Behavioral and Scenario-based Questions:\n",
            "   - Can you provide an example of a time when you had to work closely with stakeholders to understand their business needs and develop solutions?\n",
            "   - How do you handle feedback from QA teams or stakeholders when there are bugs or issues with the software you developed?\n",
            "   - Tell me about a time when you had to balance working independently and as part of a team. How did you navigate this?\n",
            "\n",
            "4. Cultural Fit within S&P Global Questions:\n",
            "   - Our company values agility and diversity. Can you provide an example of a time when you demonstrated these values in your professional experience?\n",
            "   - S&P Global is dedicated to providing essential intelligence that powers decision-making. How does your experience align with this mission, and how would you contribute to it in your role?\n"
          ]
        }
      ]
    },
    {
      "cell_type": "markdown",
      "source": [
        "##### store output"
      ],
      "metadata": {
        "id": "Akj3vP9yWPgz"
      }
    },
    {
      "cell_type": "code",
      "source": [
        "new_prompt_result = pd.DataFrame({\n",
        "    'model': [ex_model],\n",
        "    'variable_combination': [ex_var_comb],\n",
        "    'template': [template_6],\n",
        "    'output': [result_6.content]\n",
        "})\n",
        "\n",
        "prompt_result = pd.concat([prompt_result, new_prompt_result], ignore_index=True)"
      ],
      "metadata": {
        "id": "C2IN-eMpWMO4"
      },
      "execution_count": 69,
      "outputs": []
    },
    {
      "cell_type": "markdown",
      "source": [
        "# Save data\n",
        "interview_questions_prompt_result.csv"
      ],
      "metadata": {
        "id": "7j-e8mNCXznO"
      }
    },
    {
      "cell_type": "code",
      "source": [
        "var_comb"
      ],
      "metadata": {
        "colab": {
          "base_uri": "https://localhost:8080/",
          "height": 115
        },
        "id": "_Wxhb0z2WMMW",
        "outputId": "0e0b8b48-163e-4731-ee49-871d372c4843"
      },
      "execution_count": 67,
      "outputs": [
        {
          "output_type": "execute_result",
          "data": {
            "text/plain": [
              "   comb_num interviewer_role company_name  \\\n",
              "0         1        recruiter   S&P Global   \n",
              "\n",
              "                                              resume  \\\n",
              "0  \\nEDUCATION\\nVanderbilt University – Data Scie...   \n",
              "\n",
              "                        role_title  \\\n",
              "0  Data Engineer - AI/ML (Virtual)   \n",
              "\n",
              "                                    role_description  \\\n",
              "0  \\nJob Description\\n\\nThis is a software develo...   \n",
              "\n",
              "                                 company_description  \n",
              "0  \\nOverview\\nS&P Global (NYSE: SPGI) provides e...  "
            ],
            "text/html": [
              "\n",
              "  <div id=\"df-3630514c-27bb-476e-84f1-972c17873935\" class=\"colab-df-container\">\n",
              "    <div>\n",
              "<style scoped>\n",
              "    .dataframe tbody tr th:only-of-type {\n",
              "        vertical-align: middle;\n",
              "    }\n",
              "\n",
              "    .dataframe tbody tr th {\n",
              "        vertical-align: top;\n",
              "    }\n",
              "\n",
              "    .dataframe thead th {\n",
              "        text-align: right;\n",
              "    }\n",
              "</style>\n",
              "<table border=\"1\" class=\"dataframe\">\n",
              "  <thead>\n",
              "    <tr style=\"text-align: right;\">\n",
              "      <th></th>\n",
              "      <th>comb_num</th>\n",
              "      <th>interviewer_role</th>\n",
              "      <th>company_name</th>\n",
              "      <th>resume</th>\n",
              "      <th>role_title</th>\n",
              "      <th>role_description</th>\n",
              "      <th>company_description</th>\n",
              "    </tr>\n",
              "  </thead>\n",
              "  <tbody>\n",
              "    <tr>\n",
              "      <th>0</th>\n",
              "      <td>1</td>\n",
              "      <td>recruiter</td>\n",
              "      <td>S&amp;P Global</td>\n",
              "      <td>\\nEDUCATION\\nVanderbilt University – Data Scie...</td>\n",
              "      <td>Data Engineer - AI/ML (Virtual)</td>\n",
              "      <td>\\nJob Description\\n\\nThis is a software develo...</td>\n",
              "      <td>\\nOverview\\nS&amp;P Global (NYSE: SPGI) provides e...</td>\n",
              "    </tr>\n",
              "  </tbody>\n",
              "</table>\n",
              "</div>\n",
              "    <div class=\"colab-df-buttons\">\n",
              "\n",
              "  <div class=\"colab-df-container\">\n",
              "    <button class=\"colab-df-convert\" onclick=\"convertToInteractive('df-3630514c-27bb-476e-84f1-972c17873935')\"\n",
              "            title=\"Convert this dataframe to an interactive table.\"\n",
              "            style=\"display:none;\">\n",
              "\n",
              "  <svg xmlns=\"http://www.w3.org/2000/svg\" height=\"24px\" viewBox=\"0 -960 960 960\">\n",
              "    <path d=\"M120-120v-720h720v720H120Zm60-500h600v-160H180v160Zm220 220h160v-160H400v160Zm0 220h160v-160H400v160ZM180-400h160v-160H180v160Zm440 0h160v-160H620v160ZM180-180h160v-160H180v160Zm440 0h160v-160H620v160Z\"/>\n",
              "  </svg>\n",
              "    </button>\n",
              "\n",
              "  <style>\n",
              "    .colab-df-container {\n",
              "      display:flex;\n",
              "      gap: 12px;\n",
              "    }\n",
              "\n",
              "    .colab-df-convert {\n",
              "      background-color: #E8F0FE;\n",
              "      border: none;\n",
              "      border-radius: 50%;\n",
              "      cursor: pointer;\n",
              "      display: none;\n",
              "      fill: #1967D2;\n",
              "      height: 32px;\n",
              "      padding: 0 0 0 0;\n",
              "      width: 32px;\n",
              "    }\n",
              "\n",
              "    .colab-df-convert:hover {\n",
              "      background-color: #E2EBFA;\n",
              "      box-shadow: 0px 1px 2px rgba(60, 64, 67, 0.3), 0px 1px 3px 1px rgba(60, 64, 67, 0.15);\n",
              "      fill: #174EA6;\n",
              "    }\n",
              "\n",
              "    .colab-df-buttons div {\n",
              "      margin-bottom: 4px;\n",
              "    }\n",
              "\n",
              "    [theme=dark] .colab-df-convert {\n",
              "      background-color: #3B4455;\n",
              "      fill: #D2E3FC;\n",
              "    }\n",
              "\n",
              "    [theme=dark] .colab-df-convert:hover {\n",
              "      background-color: #434B5C;\n",
              "      box-shadow: 0px 1px 3px 1px rgba(0, 0, 0, 0.15);\n",
              "      filter: drop-shadow(0px 1px 2px rgba(0, 0, 0, 0.3));\n",
              "      fill: #FFFFFF;\n",
              "    }\n",
              "  </style>\n",
              "\n",
              "    <script>\n",
              "      const buttonEl =\n",
              "        document.querySelector('#df-3630514c-27bb-476e-84f1-972c17873935 button.colab-df-convert');\n",
              "      buttonEl.style.display =\n",
              "        google.colab.kernel.accessAllowed ? 'block' : 'none';\n",
              "\n",
              "      async function convertToInteractive(key) {\n",
              "        const element = document.querySelector('#df-3630514c-27bb-476e-84f1-972c17873935');\n",
              "        const dataTable =\n",
              "          await google.colab.kernel.invokeFunction('convertToInteractive',\n",
              "                                                    [key], {});\n",
              "        if (!dataTable) return;\n",
              "\n",
              "        const docLinkHtml = 'Like what you see? Visit the ' +\n",
              "          '<a target=\"_blank\" href=https://colab.research.google.com/notebooks/data_table.ipynb>data table notebook</a>'\n",
              "          + ' to learn more about interactive tables.';\n",
              "        element.innerHTML = '';\n",
              "        dataTable['output_type'] = 'display_data';\n",
              "        await google.colab.output.renderOutput(dataTable, element);\n",
              "        const docLink = document.createElement('div');\n",
              "        docLink.innerHTML = docLinkHtml;\n",
              "        element.appendChild(docLink);\n",
              "      }\n",
              "    </script>\n",
              "  </div>\n",
              "\n",
              "    </div>\n",
              "  </div>\n"
            ]
          },
          "metadata": {},
          "execution_count": 67
        }
      ]
    },
    {
      "cell_type": "code",
      "source": [
        "prompt_result"
      ],
      "metadata": {
        "colab": {
          "base_uri": "https://localhost:8080/",
          "height": 237
        },
        "id": "wsKtZUOUWMKP",
        "outputId": "634875f7-c5fb-4bb8-e88a-a9a66e9d506e"
      },
      "execution_count": 70,
      "outputs": [
        {
          "output_type": "execute_result",
          "data": {
            "text/plain": [
              "   model variable_combination  \\\n",
              "0  gpt_4                    1   \n",
              "1  gpt_4                    1   \n",
              "2  gpt_4                    1   \n",
              "3  gpt_4                    1   \n",
              "4  gpt_4                    1   \n",
              "5  gpt_4                    1   \n",
              "\n",
              "                                            template  \\\n",
              "0  \\nI am preparing for a {role_title} job interv...   \n",
              "1  \\nI am gearing up for a {role_title} interview...   \n",
              "2  \\nAs an {interviewer_role} at {company_name}, ...   \n",
              "3  \\nI am a {interviewer_role} preparing to inter...   \n",
              "4  \\nAs an {interviewer_role} for {company_name},...   \n",
              "5  \\nAs an {interviewer_role} interviewing for th...   \n",
              "\n",
              "                                              output  \n",
              "0  1. Can you describe a time when you had to des...  \n",
              "1  1. Can you share an example of a project where...  \n",
              "2  1. Can you share an example of a project where...  \n",
              "3  1. Can you describe a machine learning project...  \n",
              "4  1. Can you describe a time when you had to mak...  \n",
              "5  1. General Fit and Skills Assessment Questions...  "
            ],
            "text/html": [
              "\n",
              "  <div id=\"df-943efcca-cec0-4b06-ab3f-58b492626ffd\" class=\"colab-df-container\">\n",
              "    <div>\n",
              "<style scoped>\n",
              "    .dataframe tbody tr th:only-of-type {\n",
              "        vertical-align: middle;\n",
              "    }\n",
              "\n",
              "    .dataframe tbody tr th {\n",
              "        vertical-align: top;\n",
              "    }\n",
              "\n",
              "    .dataframe thead th {\n",
              "        text-align: right;\n",
              "    }\n",
              "</style>\n",
              "<table border=\"1\" class=\"dataframe\">\n",
              "  <thead>\n",
              "    <tr style=\"text-align: right;\">\n",
              "      <th></th>\n",
              "      <th>model</th>\n",
              "      <th>variable_combination</th>\n",
              "      <th>template</th>\n",
              "      <th>output</th>\n",
              "    </tr>\n",
              "  </thead>\n",
              "  <tbody>\n",
              "    <tr>\n",
              "      <th>0</th>\n",
              "      <td>gpt_4</td>\n",
              "      <td>1</td>\n",
              "      <td>\\nI am preparing for a {role_title} job interv...</td>\n",
              "      <td>1. Can you describe a time when you had to des...</td>\n",
              "    </tr>\n",
              "    <tr>\n",
              "      <th>1</th>\n",
              "      <td>gpt_4</td>\n",
              "      <td>1</td>\n",
              "      <td>\\nI am gearing up for a {role_title} interview...</td>\n",
              "      <td>1. Can you share an example of a project where...</td>\n",
              "    </tr>\n",
              "    <tr>\n",
              "      <th>2</th>\n",
              "      <td>gpt_4</td>\n",
              "      <td>1</td>\n",
              "      <td>\\nAs an {interviewer_role} at {company_name}, ...</td>\n",
              "      <td>1. Can you share an example of a project where...</td>\n",
              "    </tr>\n",
              "    <tr>\n",
              "      <th>3</th>\n",
              "      <td>gpt_4</td>\n",
              "      <td>1</td>\n",
              "      <td>\\nI am a {interviewer_role} preparing to inter...</td>\n",
              "      <td>1. Can you describe a machine learning project...</td>\n",
              "    </tr>\n",
              "    <tr>\n",
              "      <th>4</th>\n",
              "      <td>gpt_4</td>\n",
              "      <td>1</td>\n",
              "      <td>\\nAs an {interviewer_role} for {company_name},...</td>\n",
              "      <td>1. Can you describe a time when you had to mak...</td>\n",
              "    </tr>\n",
              "    <tr>\n",
              "      <th>5</th>\n",
              "      <td>gpt_4</td>\n",
              "      <td>1</td>\n",
              "      <td>\\nAs an {interviewer_role} interviewing for th...</td>\n",
              "      <td>1. General Fit and Skills Assessment Questions...</td>\n",
              "    </tr>\n",
              "  </tbody>\n",
              "</table>\n",
              "</div>\n",
              "    <div class=\"colab-df-buttons\">\n",
              "\n",
              "  <div class=\"colab-df-container\">\n",
              "    <button class=\"colab-df-convert\" onclick=\"convertToInteractive('df-943efcca-cec0-4b06-ab3f-58b492626ffd')\"\n",
              "            title=\"Convert this dataframe to an interactive table.\"\n",
              "            style=\"display:none;\">\n",
              "\n",
              "  <svg xmlns=\"http://www.w3.org/2000/svg\" height=\"24px\" viewBox=\"0 -960 960 960\">\n",
              "    <path d=\"M120-120v-720h720v720H120Zm60-500h600v-160H180v160Zm220 220h160v-160H400v160Zm0 220h160v-160H400v160ZM180-400h160v-160H180v160Zm440 0h160v-160H620v160ZM180-180h160v-160H180v160Zm440 0h160v-160H620v160Z\"/>\n",
              "  </svg>\n",
              "    </button>\n",
              "\n",
              "  <style>\n",
              "    .colab-df-container {\n",
              "      display:flex;\n",
              "      gap: 12px;\n",
              "    }\n",
              "\n",
              "    .colab-df-convert {\n",
              "      background-color: #E8F0FE;\n",
              "      border: none;\n",
              "      border-radius: 50%;\n",
              "      cursor: pointer;\n",
              "      display: none;\n",
              "      fill: #1967D2;\n",
              "      height: 32px;\n",
              "      padding: 0 0 0 0;\n",
              "      width: 32px;\n",
              "    }\n",
              "\n",
              "    .colab-df-convert:hover {\n",
              "      background-color: #E2EBFA;\n",
              "      box-shadow: 0px 1px 2px rgba(60, 64, 67, 0.3), 0px 1px 3px 1px rgba(60, 64, 67, 0.15);\n",
              "      fill: #174EA6;\n",
              "    }\n",
              "\n",
              "    .colab-df-buttons div {\n",
              "      margin-bottom: 4px;\n",
              "    }\n",
              "\n",
              "    [theme=dark] .colab-df-convert {\n",
              "      background-color: #3B4455;\n",
              "      fill: #D2E3FC;\n",
              "    }\n",
              "\n",
              "    [theme=dark] .colab-df-convert:hover {\n",
              "      background-color: #434B5C;\n",
              "      box-shadow: 0px 1px 3px 1px rgba(0, 0, 0, 0.15);\n",
              "      filter: drop-shadow(0px 1px 2px rgba(0, 0, 0, 0.3));\n",
              "      fill: #FFFFFF;\n",
              "    }\n",
              "  </style>\n",
              "\n",
              "    <script>\n",
              "      const buttonEl =\n",
              "        document.querySelector('#df-943efcca-cec0-4b06-ab3f-58b492626ffd button.colab-df-convert');\n",
              "      buttonEl.style.display =\n",
              "        google.colab.kernel.accessAllowed ? 'block' : 'none';\n",
              "\n",
              "      async function convertToInteractive(key) {\n",
              "        const element = document.querySelector('#df-943efcca-cec0-4b06-ab3f-58b492626ffd');\n",
              "        const dataTable =\n",
              "          await google.colab.kernel.invokeFunction('convertToInteractive',\n",
              "                                                    [key], {});\n",
              "        if (!dataTable) return;\n",
              "\n",
              "        const docLinkHtml = 'Like what you see? Visit the ' +\n",
              "          '<a target=\"_blank\" href=https://colab.research.google.com/notebooks/data_table.ipynb>data table notebook</a>'\n",
              "          + ' to learn more about interactive tables.';\n",
              "        element.innerHTML = '';\n",
              "        dataTable['output_type'] = 'display_data';\n",
              "        await google.colab.output.renderOutput(dataTable, element);\n",
              "        const docLink = document.createElement('div');\n",
              "        docLink.innerHTML = docLinkHtml;\n",
              "        element.appendChild(docLink);\n",
              "      }\n",
              "    </script>\n",
              "  </div>\n",
              "\n",
              "\n",
              "<div id=\"df-e35f0948-2cc4-4812-af36-8e895b265bfa\">\n",
              "  <button class=\"colab-df-quickchart\" onclick=\"quickchart('df-e35f0948-2cc4-4812-af36-8e895b265bfa')\"\n",
              "            title=\"Suggest charts\"\n",
              "            style=\"display:none;\">\n",
              "\n",
              "<svg xmlns=\"http://www.w3.org/2000/svg\" height=\"24px\"viewBox=\"0 0 24 24\"\n",
              "     width=\"24px\">\n",
              "    <g>\n",
              "        <path d=\"M19 3H5c-1.1 0-2 .9-2 2v14c0 1.1.9 2 2 2h14c1.1 0 2-.9 2-2V5c0-1.1-.9-2-2-2zM9 17H7v-7h2v7zm4 0h-2V7h2v10zm4 0h-2v-4h2v4z\"/>\n",
              "    </g>\n",
              "</svg>\n",
              "  </button>\n",
              "\n",
              "<style>\n",
              "  .colab-df-quickchart {\n",
              "      --bg-color: #E8F0FE;\n",
              "      --fill-color: #1967D2;\n",
              "      --hover-bg-color: #E2EBFA;\n",
              "      --hover-fill-color: #174EA6;\n",
              "      --disabled-fill-color: #AAA;\n",
              "      --disabled-bg-color: #DDD;\n",
              "  }\n",
              "\n",
              "  [theme=dark] .colab-df-quickchart {\n",
              "      --bg-color: #3B4455;\n",
              "      --fill-color: #D2E3FC;\n",
              "      --hover-bg-color: #434B5C;\n",
              "      --hover-fill-color: #FFFFFF;\n",
              "      --disabled-bg-color: #3B4455;\n",
              "      --disabled-fill-color: #666;\n",
              "  }\n",
              "\n",
              "  .colab-df-quickchart {\n",
              "    background-color: var(--bg-color);\n",
              "    border: none;\n",
              "    border-radius: 50%;\n",
              "    cursor: pointer;\n",
              "    display: none;\n",
              "    fill: var(--fill-color);\n",
              "    height: 32px;\n",
              "    padding: 0;\n",
              "    width: 32px;\n",
              "  }\n",
              "\n",
              "  .colab-df-quickchart:hover {\n",
              "    background-color: var(--hover-bg-color);\n",
              "    box-shadow: 0 1px 2px rgba(60, 64, 67, 0.3), 0 1px 3px 1px rgba(60, 64, 67, 0.15);\n",
              "    fill: var(--button-hover-fill-color);\n",
              "  }\n",
              "\n",
              "  .colab-df-quickchart-complete:disabled,\n",
              "  .colab-df-quickchart-complete:disabled:hover {\n",
              "    background-color: var(--disabled-bg-color);\n",
              "    fill: var(--disabled-fill-color);\n",
              "    box-shadow: none;\n",
              "  }\n",
              "\n",
              "  .colab-df-spinner {\n",
              "    border: 2px solid var(--fill-color);\n",
              "    border-color: transparent;\n",
              "    border-bottom-color: var(--fill-color);\n",
              "    animation:\n",
              "      spin 1s steps(1) infinite;\n",
              "  }\n",
              "\n",
              "  @keyframes spin {\n",
              "    0% {\n",
              "      border-color: transparent;\n",
              "      border-bottom-color: var(--fill-color);\n",
              "      border-left-color: var(--fill-color);\n",
              "    }\n",
              "    20% {\n",
              "      border-color: transparent;\n",
              "      border-left-color: var(--fill-color);\n",
              "      border-top-color: var(--fill-color);\n",
              "    }\n",
              "    30% {\n",
              "      border-color: transparent;\n",
              "      border-left-color: var(--fill-color);\n",
              "      border-top-color: var(--fill-color);\n",
              "      border-right-color: var(--fill-color);\n",
              "    }\n",
              "    40% {\n",
              "      border-color: transparent;\n",
              "      border-right-color: var(--fill-color);\n",
              "      border-top-color: var(--fill-color);\n",
              "    }\n",
              "    60% {\n",
              "      border-color: transparent;\n",
              "      border-right-color: var(--fill-color);\n",
              "    }\n",
              "    80% {\n",
              "      border-color: transparent;\n",
              "      border-right-color: var(--fill-color);\n",
              "      border-bottom-color: var(--fill-color);\n",
              "    }\n",
              "    90% {\n",
              "      border-color: transparent;\n",
              "      border-bottom-color: var(--fill-color);\n",
              "    }\n",
              "  }\n",
              "</style>\n",
              "\n",
              "  <script>\n",
              "    async function quickchart(key) {\n",
              "      const quickchartButtonEl =\n",
              "        document.querySelector('#' + key + ' button');\n",
              "      quickchartButtonEl.disabled = true;  // To prevent multiple clicks.\n",
              "      quickchartButtonEl.classList.add('colab-df-spinner');\n",
              "      try {\n",
              "        const charts = await google.colab.kernel.invokeFunction(\n",
              "            'suggestCharts', [key], {});\n",
              "      } catch (error) {\n",
              "        console.error('Error during call to suggestCharts:', error);\n",
              "      }\n",
              "      quickchartButtonEl.classList.remove('colab-df-spinner');\n",
              "      quickchartButtonEl.classList.add('colab-df-quickchart-complete');\n",
              "    }\n",
              "    (() => {\n",
              "      let quickchartButtonEl =\n",
              "        document.querySelector('#df-e35f0948-2cc4-4812-af36-8e895b265bfa button');\n",
              "      quickchartButtonEl.style.display =\n",
              "        google.colab.kernel.accessAllowed ? 'block' : 'none';\n",
              "    })();\n",
              "  </script>\n",
              "</div>\n",
              "    </div>\n",
              "  </div>\n"
            ]
          },
          "metadata": {},
          "execution_count": 70
        }
      ]
    },
    {
      "cell_type": "code",
      "source": [
        "prompt_result.to_csv(\"/content/drive/MyDrive/Capstone Project - Mock Interview App/interview_questions_prompt_result.csv\", index=False)"
      ],
      "metadata": {
        "id": "XOcE6A7iWMHs"
      },
      "execution_count": 71,
      "outputs": []
    },
    {
      "cell_type": "code",
      "source": [],
      "metadata": {
        "id": "C7kYSOMtYdrD"
      },
      "execution_count": null,
      "outputs": []
    }
  ]
}