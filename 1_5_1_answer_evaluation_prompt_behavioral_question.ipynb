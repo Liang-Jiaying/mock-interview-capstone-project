{
  "nbformat": 4,
  "nbformat_minor": 0,
  "metadata": {
    "colab": {
      "provenance": [],
      "toc_visible": true,
      "collapsed_sections": [
        "4UnDYySii7eF"
      ]
    },
    "kernelspec": {
      "name": "python3",
      "display_name": "Python 3"
    },
    "language_info": {
      "name": "python"
    }
  },
  "cells": [
    {
      "cell_type": "markdown",
      "source": [
        "# <font color=\"Blue\">Abstract [EDIT]</font>\n",
        "\n",
        "In this notebook, we delve into the utilization of LangChain and its 'prompt template' function to create prompt for giving interview questions.\n",
        "\n",
        "**<font color=\"red\">Our goal</font>** is to craft an effective prompt tailored to providing interview questions in the context of specific jobs and companies.  \n",
        "\n",
        "We used following knowledge:  \n",
        "Prompt Engineering Skills:  \n",
        "1. Placeholder;\n",
        "2. Persona.\n",
        "\n",
        "\n",
        "<font color=\"green\"> Conclusion: </font>  \n",
        "Through this notebook, we found that at least for Amazon and S&P Global, which are famous companies, do not need detailed information to get good interview questions.  \n",
        "In my opinion,  \n",
        "1. for those big companies, we can only use their [company names] and the [role title] that we are applying.  \n",
        "2. maybe for some small companies, users can provide [company description] that they found might help them prepare the job interview.  \n",
        "3. for any company, if users know some information, like Amazon Leadership Principles, they could mention specifically in [company description] in case the model did not pick up by themselve."
      ],
      "metadata": {
        "id": "kwZIItQvfJoq"
      }
    },
    {
      "cell_type": "markdown",
      "source": [
        "**<font color='red'> Notice: </font>**    \n",
        "**<font color='red'> There are some checkpoints in this notebook. They are for saving time and resources to rerun the above code.</font>**"
      ],
      "metadata": {
        "id": "L-KD_9ZfSOTO"
      }
    },
    {
      "cell_type": "markdown",
      "source": [
        "# Prepare the notebook for use"
      ],
      "metadata": {
        "id": "YPzsWKKTUl_h"
      }
    },
    {
      "cell_type": "markdown",
      "source": [
        "## Install packages & import libraries"
      ],
      "metadata": {
        "id": "xcL_dUinREeT"
      }
    },
    {
      "cell_type": "code",
      "execution_count": 1,
      "metadata": {
        "colab": {
          "base_uri": "https://localhost:8080/"
        },
        "id": "EAmNfZAGN2VM",
        "outputId": "b5e9f79d-2c13-4cbb-9d9b-99976b29696d"
      },
      "outputs": [
        {
          "output_type": "stream",
          "name": "stdout",
          "text": [
            "\u001b[2K     \u001b[90m━━━━━━━━━━━━━━━━━━━━━━━━━━━━━━━━━━━━━━━━\u001b[0m \u001b[32m2.0/2.0 MB\u001b[0m \u001b[31m12.7 MB/s\u001b[0m eta \u001b[36m0:00:00\u001b[0m\n",
            "\u001b[2K     \u001b[90m━━━━━━━━━━━━━━━━━━━━━━━━━━━━━━━━━━━━━━━━\u001b[0m \u001b[32m45.5/45.5 kB\u001b[0m \u001b[31m5.2 MB/s\u001b[0m eta \u001b[36m0:00:00\u001b[0m\n",
            "\u001b[2K     \u001b[90m━━━━━━━━━━━━━━━━━━━━━━━━━━━━━━━━━━━━━━━━\u001b[0m \u001b[32m49.4/49.4 kB\u001b[0m \u001b[31m2.9 MB/s\u001b[0m eta \u001b[36m0:00:00\u001b[0m\n",
            "\u001b[?25hTraceback (most recent call last):\n",
            "  File \"/usr/local/lib/python3.10/dist-packages/pip/_vendor/pkg_resources/__init__.py\", line 3108, in _dep_map\n",
            "    return self.__dep_map\n",
            "  File \"/usr/local/lib/python3.10/dist-packages/pip/_vendor/pkg_resources/__init__.py\", line 2901, in __getattr__\n",
            "    raise AttributeError(attr)\n",
            "AttributeError: _DistInfoDistribution__dep_map\n",
            "\n",
            "During handling of the above exception, another exception occurred:\n",
            "\n",
            "Traceback (most recent call last):\n",
            "  File \"/usr/local/lib/python3.10/dist-packages/pip/_vendor/pyparsing/core.py\", line 817, in _parseNoCache\n",
            "    loc, tokens = self.parseImpl(instring, pre_loc, doActions)\n",
            "  File \"/usr/local/lib/python3.10/dist-packages/pip/_vendor/pyparsing/core.py\", line 3864, in parseImpl\n",
            "    loc, resultlist = self.exprs[0]._parse(\n",
            "  File \"/usr/local/lib/python3.10/dist-packages/pip/_vendor/pyparsing/core.py\", line 821, in _parseNoCache\n",
            "    loc, tokens = self.parseImpl(instring, pre_loc, doActions)\n",
            "  File \"/usr/local/lib/python3.10/dist-packages/pip/_vendor/pyparsing/core.py\", line 4375, in parseImpl\n",
            "    return self.expr._parse(instring, loc, doActions, callPreParse=False)\n",
            "  File \"/usr/local/lib/python3.10/dist-packages/pip/_vendor/pyparsing/core.py\", line 821, in _parseNoCache\n",
            "    loc, tokens = self.parseImpl(instring, pre_loc, doActions)\n",
            "  File \"/usr/local/lib/python3.10/dist-packages/pip/_vendor/pyparsing/core.py\", line 2348, in parseImpl\n",
            "    raise ParseException(instring, loc, self.errmsg, self)\n",
            "pip._vendor.pyparsing.exceptions.ParseException: Expected '[', found '>'  (at char 16), (line:1, col:17)\n",
            "\n",
            "During handling of the above exception, another exception occurred:\n",
            "\n",
            "Traceback (most recent call last):\n",
            "  File \"/usr/local/lib/python3.10/dist-packages/pip/_internal/cli/base_command.py\", line 169, in exc_logging_wrapper\n",
            "    status = run_func(*args)\n",
            "  File \"/usr/local/lib/python3.10/dist-packages/pip/_internal/cli/req_command.py\", line 242, in wrapper\n",
            "    return func(self, options, args)\n",
            "  File \"/usr/local/lib/python3.10/dist-packages/pip/_internal/commands/install.py\", line 441, in run\n",
            "    conflicts = self._determine_conflicts(to_install)\n",
            "  File \"/usr/local/lib/python3.10/dist-packages/pip/_internal/commands/install.py\", line 572, in _determine_conflicts\n",
            "    return check_install_conflicts(to_install)\n",
            "  File \"/usr/local/lib/python3.10/dist-packages/pip/_internal/operations/check.py\", line 101, in check_install_conflicts\n",
            "    package_set, _ = create_package_set_from_installed()\n",
            "  File \"/usr/local/lib/python3.10/dist-packages/pip/_internal/operations/check.py\", line 42, in create_package_set_from_installed\n",
            "    dependencies = list(dist.iter_dependencies())\n",
            "  File \"/usr/local/lib/python3.10/dist-packages/pip/_internal/metadata/pkg_resources.py\", line 216, in iter_dependencies\n",
            "    return self._dist.requires(extras)\n",
            "  File \"/usr/local/lib/python3.10/dist-packages/pip/_vendor/pkg_resources/__init__.py\", line 2821, in requires\n",
            "    dm = self._dep_map\n",
            "  File \"/usr/local/lib/python3.10/dist-packages/pip/_vendor/pkg_resources/__init__.py\", line 3110, in _dep_map\n",
            "    self.__dep_map = self._compute_dependencies()\n",
            "  File \"/usr/local/lib/python3.10/dist-packages/pip/_vendor/pkg_resources/__init__.py\", line 3120, in _compute_dependencies\n",
            "    reqs.extend(parse_requirements(req))\n",
            "  File \"/usr/local/lib/python3.10/dist-packages/pip/_vendor/pkg_resources/__init__.py\", line 3173, in __init__\n",
            "    super(Requirement, self).__init__(requirement_string)\n",
            "  File \"/usr/local/lib/python3.10/dist-packages/pip/_vendor/packaging/requirements.py\", line 102, in __init__\n",
            "    req = REQUIREMENT.parseString(requirement_string)\n",
            "  File \"/usr/local/lib/python3.10/dist-packages/pip/_vendor/pyparsing/core.py\", line 1131, in parse_string\n",
            "    loc, tokens = self._parse(instring, 0)\n",
            "  File \"/usr/local/lib/python3.10/dist-packages/pip/_vendor/pyparsing/core.py\", line 817, in _parseNoCache\n",
            "    loc, tokens = self.parseImpl(instring, pre_loc, doActions)\n",
            "  File \"/usr/local/lib/python3.10/dist-packages/pip/_vendor/pyparsing/core.py\", line 3886, in parseImpl\n",
            "    loc, exprtokens = e._parse(instring, loc, doActions)\n",
            "  File \"/usr/local/lib/python3.10/dist-packages/pip/_vendor/pyparsing/core.py\", line 817, in _parseNoCache\n",
            "    loc, tokens = self.parseImpl(instring, pre_loc, doActions)\n",
            "  File \"/usr/local/lib/python3.10/dist-packages/pip/_vendor/pyparsing/core.py\", line 4959, in parseImpl\n",
            "    loc, tokens = self_expr._parse(instring, loc, doActions, callPreParse=False)\n",
            "  File \"/usr/local/lib/python3.10/dist-packages/pip/_vendor/pyparsing/core.py\", line 817, in _parseNoCache\n",
            "    loc, tokens = self.parseImpl(instring, pre_loc, doActions)\n",
            "KeyboardInterrupt\n",
            "\n",
            "During handling of the above exception, another exception occurred:\n",
            "\n",
            "Traceback (most recent call last):\n",
            "  File \"/usr/local/bin/pip3\", line 8, in <module>\n",
            "    sys.exit(main())\n",
            "  File \"/usr/local/lib/python3.10/dist-packages/pip/_internal/cli/main.py\", line 79, in main\n",
            "    return command.main(cmd_args)\n",
            "  File \"/usr/local/lib/python3.10/dist-packages/pip/_internal/cli/base_command.py\", line 101, in main\n",
            "    return self._main(args)\n",
            "  File \"/usr/local/lib/python3.10/dist-packages/pip/_internal/cli/base_command.py\", line 223, in _main\n",
            "    return run(options, args)\n",
            "  File \"/usr/local/lib/python3.10/dist-packages/pip/_internal/cli/base_command.py\", line 206, in exc_logging_wrapper\n",
            "    logger.critical(\"Operation cancelled by user\")\n",
            "  File \"/usr/lib/python3.10/logging/__init__.py\", line 1524, in critical\n",
            "    self._log(CRITICAL, msg, args, **kwargs)\n",
            "  File \"/usr/lib/python3.10/logging/__init__.py\", line 1624, in _log\n",
            "    self.handle(record)\n",
            "  File \"/usr/lib/python3.10/logging/__init__.py\", line 1634, in handle\n",
            "    self.callHandlers(record)\n",
            "  File \"/usr/lib/python3.10/logging/__init__.py\", line 1696, in callHandlers\n",
            "    hdlr.handle(record)\n",
            "  File \"/usr/lib/python3.10/logging/__init__.py\", line 968, in handle\n",
            "    self.emit(record)\n",
            "  File \"/usr/local/lib/python3.10/dist-packages/pip/_internal/utils/logging.py\", line 172, in emit\n",
            "    style = Style(color=\"red\")\n",
            "  File \"/usr/local/lib/python3.10/dist-packages/pip/_vendor/rich/style.py\", line 122, in __init__\n",
            "    def __init__(\n",
            "KeyboardInterrupt\n",
            "^C\n",
            "\u001b[2K     \u001b[90m━━━━━━━━━━━━━━━━━━━━━━━━━━━━━━━━━━━━━━━━\u001b[0m \u001b[32m220.3/220.3 kB\u001b[0m \u001b[31m5.5 MB/s\u001b[0m eta \u001b[36m0:00:00\u001b[0m\n",
            "\u001b[2K     \u001b[90m━━━━━━━━━━━━━━━━━━━━━━━━━━━━━━━━━━━━━━━━\u001b[0m \u001b[32m75.0/75.0 kB\u001b[0m \u001b[31m6.5 MB/s\u001b[0m eta \u001b[36m0:00:00\u001b[0m\n",
            "\u001b[2K     \u001b[90m━━━━━━━━━━━━━━━━━━━━━━━━━━━━━━━━━━━━━━━━\u001b[0m \u001b[32m76.9/76.9 kB\u001b[0m \u001b[31m7.8 MB/s\u001b[0m eta \u001b[36m0:00:00\u001b[0m\n",
            "\u001b[2K     \u001b[90m━━━━━━━━━━━━━━━━━━━━━━━━━━━━━━━━━━━━━━━━\u001b[0m \u001b[32m58.3/58.3 kB\u001b[0m \u001b[31m7.2 MB/s\u001b[0m eta \u001b[36m0:00:00\u001b[0m\n",
            "\u001b[?25hTraceback (most recent call last):\n",
            "  File \"/usr/local/lib/python3.10/dist-packages/pip/_vendor/pkg_resources/__init__.py\", line 3108, in _dep_map\n",
            "    return self.__dep_map\n",
            "  File \"/usr/local/lib/python3.10/dist-packages/pip/_vendor/pkg_resources/__init__.py\", line 2901, in __getattr__\n",
            "    raise AttributeError(attr)\n",
            "AttributeError: _DistInfoDistribution__dep_map\n",
            "\n",
            "During handling of the above exception, another exception occurred:\n",
            "\n",
            "Traceback (most recent call last):\n",
            "  File \"/usr/local/lib/python3.10/dist-packages/pip/_internal/cli/base_command.py\", line 169, in exc_logging_wrapper\n",
            "    status = run_func(*args)\n",
            "  File \"/usr/local/lib/python3.10/dist-packages/pip/_internal/cli/req_command.py\", line 242, in wrapper\n",
            "    return func(self, options, args)\n",
            "  File \"/usr/local/lib/python3.10/dist-packages/pip/_internal/commands/install.py\", line 441, in run\n",
            "    conflicts = self._determine_conflicts(to_install)\n",
            "  File \"/usr/local/lib/python3.10/dist-packages/pip/_internal/commands/install.py\", line 572, in _determine_conflicts\n",
            "    return check_install_conflicts(to_install)\n",
            "  File \"/usr/local/lib/python3.10/dist-packages/pip/_internal/operations/check.py\", line 101, in check_install_conflicts\n",
            "    package_set, _ = create_package_set_from_installed()\n",
            "  File \"/usr/local/lib/python3.10/dist-packages/pip/_internal/operations/check.py\", line 42, in create_package_set_from_installed\n",
            "    dependencies = list(dist.iter_dependencies())\n",
            "  File \"/usr/local/lib/python3.10/dist-packages/pip/_internal/metadata/pkg_resources.py\", line 216, in iter_dependencies\n",
            "    return self._dist.requires(extras)\n",
            "  File \"/usr/local/lib/python3.10/dist-packages/pip/_vendor/pkg_resources/__init__.py\", line 2821, in requires\n",
            "    dm = self._dep_map\n",
            "  File \"/usr/local/lib/python3.10/dist-packages/pip/_vendor/pkg_resources/__init__.py\", line 3110, in _dep_map\n",
            "    self.__dep_map = self._compute_dependencies()\n",
            "  File \"/usr/local/lib/python3.10/dist-packages/pip/_vendor/pkg_resources/__init__.py\", line 3132, in _compute_dependencies\n",
            "    dm[s_extra] = [r for r in reqs_for_extra(extra) if r not in common]\n",
            "  File \"/usr/local/lib/python3.10/dist-packages/pip/_vendor/pkg_resources/__init__.py\", line 3132, in <listcomp>\n",
            "    dm[s_extra] = [r for r in reqs_for_extra(extra) if r not in common]\n",
            "  File \"/usr/local/lib/python3.10/dist-packages/pip/_vendor/pkg_resources/__init__.py\", line 3124, in reqs_for_extra\n",
            "    if not req.marker or req.marker.evaluate({'extra': extra}):\n",
            "KeyboardInterrupt\n",
            "\n",
            "During handling of the above exception, another exception occurred:\n",
            "\n",
            "Traceback (most recent call last):\n",
            "  File \"/usr/local/bin/pip3\", line 8, in <module>\n",
            "    sys.exit(main())\n",
            "  File \"/usr/local/lib/python3.10/dist-packages/pip/_internal/cli/main.py\", line 79, in main\n",
            "    return command.main(cmd_args)\n",
            "  File \"/usr/local/lib/python3.10/dist-packages/pip/_internal/cli/base_command.py\", line 101, in main\n",
            "    return self._main(args)\n",
            "  File \"/usr/local/lib/python3.10/dist-packages/pip/_internal/cli/base_command.py\", line 223, in _main\n",
            "    return run(options, args)\n",
            "  File \"/usr/local/lib/python3.10/dist-packages/pip/_internal/cli/base_command.py\", line 206, in exc_logging_wrapper\n",
            "    logger.critical(\"Operation cancelled by user\")\n",
            "  File \"/usr/lib/python3.10/logging/__init__.py\", line 1524, in critical\n",
            "    self._log(CRITICAL, msg, args, **kwargs)\n",
            "  File \"/usr/lib/python3.10/logging/__init__.py\", line 1624, in _log\n",
            "    self.handle(record)\n",
            "  File \"/usr/lib/python3.10/logging/__init__.py\", line 1634, in handle\n",
            "    self.callHandlers(record)\n",
            "  File \"/usr/lib/python3.10/logging/__init__.py\", line 1696, in callHandlers\n",
            "    hdlr.handle(record)\n",
            "  File \"/usr/lib/python3.10/logging/__init__.py\", line 968, in handle\n",
            "    self.emit(record)\n",
            "  File \"/usr/local/lib/python3.10/dist-packages/pip/_internal/utils/logging.py\", line 169, in emit\n",
            "    renderable = self.render_message(record, message)\n",
            "  File \"/usr/local/lib/python3.10/dist-packages/pip/_vendor/rich/logging.py\", line 185, in render_message\n",
            "    message_text = Text.from_markup(message) if use_markup else Text(message)\n",
            "  File \"/usr/local/lib/python3.10/dist-packages/pip/_vendor/rich/text.py\", line 148, in __init__\n",
            "    self._length: int = len(sanitized_text)\n",
            "KeyboardInterrupt\n",
            "^C\n",
            "\u001b[2K     \u001b[90m━━━━━━━━━━━━━━━━━━━━━━━━━━━━━━━━━━━━━━━━\u001b[0m \u001b[32m496.8/496.8 kB\u001b[0m \u001b[31m8.2 MB/s\u001b[0m eta \u001b[36m0:00:00\u001b[0m\n",
            "\u001b[2K     \u001b[90m━━━━━━━━━━━━━━━━━━━━━━━━━━━━━━━━━━━━━━━━\u001b[0m \u001b[32m2.4/2.4 MB\u001b[0m \u001b[31m18.8 MB/s\u001b[0m eta \u001b[36m0:00:00\u001b[0m\n",
            "\u001b[2K     \u001b[90m━━━━━━━━━━━━━━━━━━━━━━━━━━━━━━━━━━━━━━━━\u001b[0m \u001b[32m92.9/92.9 kB\u001b[0m \u001b[31m11.4 MB/s\u001b[0m eta \u001b[36m0:00:00\u001b[0m\n",
            "\u001b[2K     \u001b[90m━━━━━━━━━━━━━━━━━━━━━━━━━━━━━━━━━━━━━━━━\u001b[0m \u001b[32m59.7/59.7 kB\u001b[0m \u001b[31m8.2 MB/s\u001b[0m eta \u001b[36m0:00:00\u001b[0m\n",
            "\u001b[2K     \u001b[90m━━━━━━━━━━━━━━━━━━━━━━━━━━━━━━━━━━━━━━━━\u001b[0m \u001b[32m5.4/5.4 MB\u001b[0m \u001b[31m39.9 MB/s\u001b[0m eta \u001b[36m0:00:00\u001b[0m\n",
            "\u001b[2K     \u001b[90m━━━━━━━━━━━━━━━━━━━━━━━━━━━━━━━━━━━━━━━━\u001b[0m \u001b[32m6.4/6.4 MB\u001b[0m \u001b[31m73.0 MB/s\u001b[0m eta \u001b[36m0:00:00\u001b[0m\n",
            "\u001b[2K     \u001b[90m━━━━━━━━━━━━━━━━━━━━━━━━━━━━━━━━━━━━━━━━\u001b[0m \u001b[32m57.9/57.9 kB\u001b[0m \u001b[31m7.4 MB/s\u001b[0m eta \u001b[36m0:00:00\u001b[0m\n",
            "\u001b[2K     \u001b[90m━━━━━━━━━━━━━━━━━━━━━━━━━━━━━━━━━━━━━━━━\u001b[0m \u001b[32m105.3/105.3 kB\u001b[0m \u001b[31m13.3 MB/s\u001b[0m eta \u001b[36m0:00:00\u001b[0m\n",
            "\u001b[2K     \u001b[90m━━━━━━━━━━━━━━━━━━━━━━━━━━━━━━━━━━━━━━━━\u001b[0m \u001b[32m3.8/3.8 MB\u001b[0m \u001b[31m91.6 MB/s\u001b[0m eta \u001b[36m0:00:00\u001b[0m\n",
            "\u001b[2K     \u001b[90m━━━━━━━━━━━━━━━━━━━━━━━━━━━━━━━━━━━━━━━━\u001b[0m \u001b[32m67.3/67.3 kB\u001b[0m \u001b[31m10.4 MB/s\u001b[0m eta \u001b[36m0:00:00\u001b[0m\n",
            "\u001b[?25h  Installing build dependencies ... \u001b[?25l\u001b[?25hcanceled\n",
            "Traceback (most recent call last):\n",
            "  File \"/usr/local/lib/python3.10/dist-packages/pip/_internal/cli/base_command.py\", line 169, in exc_logging_wrapper\n",
            "    status = run_func(*args)\n",
            "  File \"/usr/local/lib/python3.10/dist-packages/pip/_internal/cli/req_command.py\", line 242, in wrapper\n",
            "    return func(self, options, args)\n",
            "  File \"/usr/local/lib/python3.10/dist-packages/pip/_internal/commands/install.py\", line 377, in run\n",
            "    requirement_set = resolver.resolve(\n",
            "  File \"/usr/local/lib/python3.10/dist-packages/pip/_internal/resolution/resolvelib/resolver.py\", line 92, in resolve\n",
            "    result = self._result = resolver.resolve(\n",
            "  File \"/usr/local/lib/python3.10/dist-packages/pip/_vendor/resolvelib/resolvers.py\", line 546, in resolve\n",
            "    state = resolution.resolve(requirements, max_rounds=max_rounds)\n",
            "  File \"/usr/local/lib/python3.10/dist-packages/pip/_vendor/resolvelib/resolvers.py\", line 427, in resolve\n",
            "    failure_causes = self._attempt_to_pin_criterion(name)\n",
            "  File \"/usr/local/lib/python3.10/dist-packages/pip/_vendor/resolvelib/resolvers.py\", line 239, in _attempt_to_pin_criterion\n",
            "    criteria = self._get_updated_criteria(candidate)\n",
            "  File \"/usr/local/lib/python3.10/dist-packages/pip/_vendor/resolvelib/resolvers.py\", line 230, in _get_updated_criteria\n",
            "    self._add_to_criteria(criteria, requirement, parent=candidate)\n",
            "  File \"/usr/local/lib/python3.10/dist-packages/pip/_vendor/resolvelib/resolvers.py\", line 173, in _add_to_criteria\n",
            "    if not criterion.candidates:\n",
            "  File \"/usr/local/lib/python3.10/dist-packages/pip/_vendor/resolvelib/structs.py\", line 156, in __bool__\n",
            "    return bool(self._sequence)\n",
            "  File \"/usr/local/lib/python3.10/dist-packages/pip/_internal/resolution/resolvelib/found_candidates.py\", line 155, in __bool__\n",
            "    return any(self)\n",
            "  File \"/usr/local/lib/python3.10/dist-packages/pip/_internal/resolution/resolvelib/found_candidates.py\", line 143, in <genexpr>\n",
            "    return (c for c in iterator if id(c) not in self._incompatible_ids)\n",
            "  File \"/usr/local/lib/python3.10/dist-packages/pip/_internal/resolution/resolvelib/found_candidates.py\", line 47, in _iter_built\n",
            "    candidate = func()\n",
            "  File \"/usr/local/lib/python3.10/dist-packages/pip/_internal/resolution/resolvelib/factory.py\", line 206, in _make_candidate_from_link\n",
            "    self._link_candidate_cache[link] = LinkCandidate(\n",
            "  File \"/usr/local/lib/python3.10/dist-packages/pip/_internal/resolution/resolvelib/candidates.py\", line 293, in __init__\n",
            "    super().__init__(\n",
            "  File \"/usr/local/lib/python3.10/dist-packages/pip/_internal/resolution/resolvelib/candidates.py\", line 156, in __init__\n",
            "    self.dist = self._prepare()\n",
            "  File \"/usr/local/lib/python3.10/dist-packages/pip/_internal/resolution/resolvelib/candidates.py\", line 225, in _prepare\n",
            "    dist = self._prepare_distribution()\n",
            "  File \"/usr/local/lib/python3.10/dist-packages/pip/_internal/resolution/resolvelib/candidates.py\", line 304, in _prepare_distribution\n",
            "    return preparer.prepare_linked_requirement(self._ireq, parallel_builds=True)\n",
            "  File \"/usr/local/lib/python3.10/dist-packages/pip/_internal/operations/prepare.py\", line 516, in prepare_linked_requirement\n",
            "    return self._prepare_linked_requirement(req, parallel_builds)\n",
            "  File \"/usr/local/lib/python3.10/dist-packages/pip/_internal/operations/prepare.py\", line 631, in _prepare_linked_requirement\n",
            "    dist = _get_prepared_distribution(\n",
            "  File \"/usr/local/lib/python3.10/dist-packages/pip/_internal/operations/prepare.py\", line 69, in _get_prepared_distribution\n",
            "    abstract_dist.prepare_distribution_metadata(\n",
            "  File \"/usr/local/lib/python3.10/dist-packages/pip/_internal/distributions/sdist.py\", line 38, in prepare_distribution_metadata\n",
            "    self._prepare_build_backend(finder)\n",
            "  File \"/usr/local/lib/python3.10/dist-packages/pip/_internal/distributions/sdist.py\", line 70, in _prepare_build_backend\n",
            "    self.req.build_env.install_requirements(\n",
            "  File \"/usr/local/lib/python3.10/dist-packages/pip/_internal/build_env.py\", line 217, in install_requirements\n",
            "    self._install_requirements(\n",
            "  File \"/usr/local/lib/python3.10/dist-packages/pip/_internal/build_env.py\", line 275, in _install_requirements\n",
            "    call_subprocess(\n",
            "  File \"/usr/local/lib/python3.10/dist-packages/pip/_internal/utils/subprocess.py\", line 166, in call_subprocess\n",
            "    line: str = proc.stdout.readline()\n",
            "KeyboardInterrupt\n",
            "\n",
            "During handling of the above exception, another exception occurred:\n",
            "\n",
            "Traceback (most recent call last):\n",
            "  File \"/usr/local/bin/pip3\", line 8, in <module>\n",
            "    sys.exit(main())\n",
            "  File \"/usr/local/lib/python3.10/dist-packages/pip/_internal/cli/main.py\", line 79, in main\n",
            "    return command.main(cmd_args)\n",
            "  File \"/usr/local/lib/python3.10/dist-packages/pip/_internal/cli/base_command.py\", line 101, in main\n",
            "    return self._main(args)\n",
            "  File \"/usr/local/lib/python3.10/dist-packages/pip/_internal/cli/base_command.py\", line 223, in _main\n",
            "    return run(options, args)\n",
            "  File \"/usr/local/lib/python3.10/dist-packages/pip/_internal/cli/base_command.py\", line 206, in exc_logging_wrapper\n",
            "    logger.critical(\"Operation cancelled by user\")\n",
            "  File \"/usr/lib/python3.10/logging/__init__.py\", line 1524, in critical\n",
            "    self._log(CRITICAL, msg, args, **kwargs)\n",
            "  File \"/usr/lib/python3.10/logging/__init__.py\", line 1624, in _log\n",
            "    self.handle(record)\n",
            "  File \"/usr/lib/python3.10/logging/__init__.py\", line 1634, in handle\n",
            "    self.callHandlers(record)\n",
            "  File \"/usr/lib/python3.10/logging/__init__.py\", line 1696, in callHandlers\n",
            "    hdlr.handle(record)\n",
            "  File \"/usr/lib/python3.10/logging/__init__.py\", line 968, in handle\n",
            "    self.emit(record)\n",
            "  File \"/usr/local/lib/python3.10/dist-packages/pip/_internal/utils/logging.py\", line 172, in emit\n",
            "    style = Style(color=\"red\")\n",
            "  File \"/usr/local/lib/python3.10/dist-packages/pip/_vendor/rich/style.py\", line 146, in __init__\n",
            "    def _make_color(color: Union[Color, str]) -> Color:\n",
            "  File \"/usr/lib/python3.10/typing.py\", line 309, in inner\n",
            "    return cached(*args, **kwds)\n",
            "  File \"/usr/lib/python3.10/typing.py\", line 403, in __getitem__\n",
            "    return self._getitem(self, parameters)\n",
            "  File \"/usr/lib/python3.10/typing.py\", line 515, in Union\n",
            "    parameters = tuple(_type_check(p, msg) for p in parameters)\n",
            "  File \"/usr/lib/python3.10/typing.py\", line 515, in <genexpr>\n",
            "    parameters = tuple(_type_check(p, msg) for p in parameters)\n",
            "  File \"/usr/lib/python3.10/typing.py\", line 165, in _type_check\n",
            "    if (isinstance(arg, _GenericAlias) and\n",
            "KeyboardInterrupt\n",
            "^C\n",
            "\u001b[2K     \u001b[90m━━━━━━━━━━━━━━━━━━━━━━━━━━━━━━━━━━━━━━━━\u001b[0m \u001b[32m2.0/2.0 MB\u001b[0m \u001b[31m12.0 MB/s\u001b[0m eta \u001b[36m0:00:00\u001b[0m\n",
            "\u001b[?25h\u001b[31mERROR: pip's dependency resolver does not currently take into account all the packages that are installed. This behaviour is the source of the following dependency conflicts.\n",
            "llmx 0.0.15a0 requires cohere, which is not installed.\n",
            "llmx 0.0.15a0 requires openai, which is not installed.\u001b[0m\u001b[31m\n",
            "\u001b[2K     \u001b[90m━━━━━━━━━━━━━━━━━━━━━━━━━━━━━━━━━━━━━━━━\u001b[0m \u001b[32m57.5/57.5 kB\u001b[0m \u001b[31m4.6 MB/s\u001b[0m eta \u001b[36m0:00:00\u001b[0m\n",
            "\u001b[2K     \u001b[90m━━━━━━━━━━━━━━━━━━━━━━━━━━━━━━━━━━━━━━━━\u001b[0m \u001b[32m3.0/3.0 MB\u001b[0m \u001b[31m60.7 MB/s\u001b[0m eta \u001b[36m0:00:00\u001b[0m\n",
            "\u001b[?25h"
          ]
        }
      ],
      "source": [
        "# Download required packages to Colab\n",
        "!pip install -q langchain\n",
        "!pip install -q openai\n",
        "!pip install -q chromadb\n",
        "!pip install -q tiktoken\n",
        "!pip install -q duckduckgo-search"
      ]
    },
    {
      "cell_type": "code",
      "source": [
        "# Import required libraries\n",
        "from langchain.llms import OpenAI\n",
        "from langchain.chat_models import ChatOpenAI\n",
        "from langchain.prompts.few_shot import FewShotPromptTemplate\n",
        "from langchain.prompts import PromptTemplate\n",
        "from langchain.prompts import ChatPromptTemplate\n",
        "from langchain.chains import LLMChain, RetrievalQA\n",
        "from langchain import ConversationChain\n",
        "from langchain.agents import load_tools, initialize_agent, AgentType\n",
        "from langchain.document_loaders import TextLoader\n",
        "from langchain.indexes import VectorstoreIndexCreator\n",
        "from langchain.text_splitter import CharacterTextSplitter\n",
        "from langchain.embeddings import OpenAIEmbeddings\n",
        "from langchain.tools import DuckDuckGoSearchRun\n",
        "from langchain.utilities.duckduckgo_search import DuckDuckGoSearchAPIWrapper\n",
        "import os\n",
        "from getpass import getpass\n",
        "\n",
        "from langchain.prompts import ChatPromptTemplate, HumanMessagePromptTemplate\n",
        "from langchain.schema import HumanMessage, AIMessage, SystemMessage\n",
        "\n",
        "import pandas as pd\n",
        "import csv"
      ],
      "metadata": {
        "id": "xkrE7xIKRQpg",
        "colab": {
          "base_uri": "https://localhost:8080/",
          "height": 393
        },
        "outputId": "05027b9b-9b5d-4d6d-8063-f819157f0e35"
      },
      "execution_count": 2,
      "outputs": [
        {
          "output_type": "error",
          "ename": "ModuleNotFoundError",
          "evalue": "ignored",
          "traceback": [
            "\u001b[0;31m---------------------------------------------------------------------------\u001b[0m",
            "\u001b[0;31mModuleNotFoundError\u001b[0m                       Traceback (most recent call last)",
            "\u001b[0;32m<ipython-input-2-894136e19199>\u001b[0m in \u001b[0;36m<cell line: 2>\u001b[0;34m()\u001b[0m\n\u001b[1;32m      1\u001b[0m \u001b[0;31m# Import required libraries\u001b[0m\u001b[0;34m\u001b[0m\u001b[0;34m\u001b[0m\u001b[0m\n\u001b[0;32m----> 2\u001b[0;31m \u001b[0;32mfrom\u001b[0m \u001b[0mlangchain\u001b[0m\u001b[0;34m.\u001b[0m\u001b[0mllms\u001b[0m \u001b[0;32mimport\u001b[0m \u001b[0mOpenAI\u001b[0m\u001b[0;34m\u001b[0m\u001b[0;34m\u001b[0m\u001b[0m\n\u001b[0m\u001b[1;32m      3\u001b[0m \u001b[0;32mfrom\u001b[0m \u001b[0mlangchain\u001b[0m\u001b[0;34m.\u001b[0m\u001b[0mchat_models\u001b[0m \u001b[0;32mimport\u001b[0m \u001b[0mChatOpenAI\u001b[0m\u001b[0;34m\u001b[0m\u001b[0;34m\u001b[0m\u001b[0m\n\u001b[1;32m      4\u001b[0m \u001b[0;32mfrom\u001b[0m \u001b[0mlangchain\u001b[0m\u001b[0;34m.\u001b[0m\u001b[0mprompts\u001b[0m\u001b[0;34m.\u001b[0m\u001b[0mfew_shot\u001b[0m \u001b[0;32mimport\u001b[0m \u001b[0mFewShotPromptTemplate\u001b[0m\u001b[0;34m\u001b[0m\u001b[0;34m\u001b[0m\u001b[0m\n\u001b[1;32m      5\u001b[0m \u001b[0;32mfrom\u001b[0m \u001b[0mlangchain\u001b[0m\u001b[0;34m.\u001b[0m\u001b[0mprompts\u001b[0m \u001b[0;32mimport\u001b[0m \u001b[0mPromptTemplate\u001b[0m\u001b[0;34m\u001b[0m\u001b[0;34m\u001b[0m\u001b[0m\n",
            "\u001b[0;31mModuleNotFoundError\u001b[0m: No module named 'langchain'",
            "",
            "\u001b[0;31m---------------------------------------------------------------------------\u001b[0;32m\nNOTE: If your import is failing due to a missing package, you can\nmanually install dependencies using either !pip or !apt.\n\nTo view examples of installing some common dependencies, click the\n\"Open Examples\" button below.\n\u001b[0;31m---------------------------------------------------------------------------\u001b[0m\n"
          ],
          "errorDetails": {
            "actions": [
              {
                "action": "open_url",
                "actionText": "Open Examples",
                "url": "/notebooks/snippets/importing_libraries.ipynb"
              }
            ]
          }
        }
      ]
    },
    {
      "cell_type": "markdown",
      "source": [
        "## OpenAI API key"
      ],
      "metadata": {
        "id": "5L98UTkQRbD1"
      }
    },
    {
      "cell_type": "code",
      "source": [
        "openai_api_key = getpass()\n",
        "os.environ[\"OPENAI_API_KEY\"] = openai_api_key"
      ],
      "metadata": {
        "id": "o8q-QoRHRe6x"
      },
      "execution_count": null,
      "outputs": []
    },
    {
      "cell_type": "markdown",
      "source": [
        "## Connect Google Drive"
      ],
      "metadata": {
        "id": "pxl-SmgPRisR"
      }
    },
    {
      "cell_type": "markdown",
      "source": [
        "## Create .csv files to collect info from this notebook\n",
        "\n",
        "Since the results we got from LLMs will be different everytime, we want to use .csv files to track those results which could help use go back to see what we can do or what we did to improve the outputs."
      ],
      "metadata": {
        "id": "oQyFxPxnRx1M"
      }
    },
    {
      "cell_type": "code",
      "source": [
        "# with open('/content/drive/MyDrive/Capstone Project - Mock Interview App/variable_combination.csv', 'w', newline='') as csvfile:\n",
        "#     fieldnames = ['comb_num','interviewer_role','company_name','resume','role_title','role_description','company_description']\n",
        "#     writer = csv.DictWriter(csvfile, fieldnames=fieldnames)\n",
        "\n",
        "#     writer.writeheader()\n",
        "# var_comb = pd.read_csv(\"/content/drive/MyDrive/Capstone Project - Mock Interview App/variable_combination.csv\")"
      ],
      "metadata": {
        "id": "ZzCyj5fFSo6J"
      },
      "execution_count": null,
      "outputs": []
    },
    {
      "cell_type": "code",
      "source": [
        "# with open('/content/drive/MyDrive/Capstone Project - Mock Interview App/answer_evaluation_prompt_result.csv', 'w', newline='') as csvfile:\n",
        "#     fieldnames = ['model', 'question_answer_combination', 'variable_combination', 'template', 'output']\n",
        "#     writer = csv.DictWriter(csvfile, fieldnames=fieldnames)\n",
        "\n",
        "#     writer.writeheader()\n",
        "#     #writer.writerow({'input': user_input, 'output': result})"
      ],
      "metadata": {
        "id": "ynnR-mtYRmGS"
      },
      "execution_count": null,
      "outputs": []
    },
    {
      "cell_type": "code",
      "source": [
        "# with open('/content/drive/MyDrive/Capstone Project - Mock Interview App/interview_question_answer_combination.csv', 'w', newline='') as csvfile:\n",
        "#     fieldnames = ['comb_num', 'var_comb_num', 'interview_question', 'question_type', 'question_answer']\n",
        "#     writer = csv.DictWriter(csvfile, fieldnames=fieldnames)\n",
        "\n",
        "#     writer.writeheader()"
      ],
      "metadata": {
        "id": "__2t5LYtkgwY"
      },
      "execution_count": null,
      "outputs": []
    },
    {
      "cell_type": "code",
      "source": [
        "var_comb = pd.read_csv(\"/content/drive/MyDrive/Capstone Project - Mock Interview App/variable_combination.csv\")\n",
        "prompt_result = pd.read_csv(\"/content/drive/MyDrive/Capstone Project - Mock Interview App/answer_evaluation_prompt_result.csv\")\n",
        "qa_comb = pd.read_csv(\"/content/drive/MyDrive/Capstone Project - Mock Interview App/interview_question_answer_combination.csv\")"
      ],
      "metadata": {
        "id": "Vo-w3uhnwP-J"
      },
      "execution_count": null,
      "outputs": []
    },
    {
      "cell_type": "code",
      "source": [
        "var_comb"
      ],
      "metadata": {
        "id": "ON8-sUxNRw2i"
      },
      "execution_count": null,
      "outputs": []
    },
    {
      "cell_type": "code",
      "source": [
        "prompt_result"
      ],
      "metadata": {
        "id": "2Xr5OqdXRw02"
      },
      "execution_count": null,
      "outputs": []
    },
    {
      "cell_type": "code",
      "source": [
        "qa_comb"
      ],
      "metadata": {
        "id": "Hg6mNaM5qsHT"
      },
      "execution_count": null,
      "outputs": []
    },
    {
      "cell_type": "markdown",
      "source": [
        "## Define Parameters"
      ],
      "metadata": {
        "id": "ouDQ_bOUx3E9"
      }
    },
    {
      "cell_type": "markdown",
      "source": [
        "### 3 interview questions"
      ],
      "metadata": {
        "id": "E2UkzTxhyLae"
      }
    },
    {
      "cell_type": "code",
      "source": [
        "var_comb_num = 1\n",
        "\n",
        "# inter_q_1 = \"Describe a challenging project you worked on. What was your role and how did you handle it?\"\n",
        "# inter_q_2 = \"How do you handle disagreements with colleagues?\"\n",
        "# inter_q_3 = \"How do you stay motivated and manage your time effectively?\"\n",
        "\n",
        "# q_type = \"behavioral\""
      ],
      "metadata": {
        "id": "MSmHtjSryHm4"
      },
      "execution_count": null,
      "outputs": []
    },
    {
      "cell_type": "markdown",
      "source": [
        "### Example answers for questions"
      ],
      "metadata": {
        "id": "DZ6VeWT6yT7J"
      }
    },
    {
      "cell_type": "markdown",
      "source": [
        "#### question 1 answers"
      ],
      "metadata": {
        "id": "hdSiSd1Jyekv"
      }
    },
    {
      "cell_type": "code",
      "source": [
        "q1_a1 = \"\"\"\n",
        "In my last role as a project manager, I led a team on a high-stakes software\n",
        "development project. We faced a tight deadline and unexpected technical hurdles.\n",
        "I organized extra brainstorming sessions, delegated tasks based on individual\n",
        "strengths, and maintained open communication with stakeholders. We delivered the\n",
        "project on time, and it was well-received by the client.\n",
        "\"\"\" # 9/10\n",
        "\n",
        "q1_a2 = \"\"\"\n",
        "I was part of a marketing campaign that faced budget cuts. My role was to design\n",
        "the digital ads. I had to be creative with limited resources, so I focused on\n",
        "leveraging free online tools and optimizing our existing content. The campaign\n",
        "was successful, though it didn't reach all our targets.\n",
        "\"\"\" # 7/10\n",
        "\n",
        "q1_a3 = \"\"\"\n",
        "As a junior analyst, I worked on a data migration project that was complex. My\n",
        "role was to assist senior analysts. I ensured that I was thorough in my tasks\n",
        "and asked for feedback regularly. The project was successful, but I wish I had\n",
        "a more active role.\n",
        "\"\"\" # 6/10\n",
        "\n",
        "q1_a4 = \"\"\"\n",
        "I worked on a challenging project last year, but honestly, I didn't have much of\n",
        "a role. I just did what I was told and didn't really understand the bigger picture.\n",
        "\"\"\" # 3/10\n",
        "\n",
        "q1_a5 = \"\"\"\n",
        "In my previous job, there was a project that was really tough. I found it\n",
        "overwhelming, so I mostly kept to the tasks I was comfortable with and didn't\n",
        "venture much beyond that.\n",
        "\"\"\" # 2/10\n",
        "\n",
        "q1_a6 = \"\"\"\n",
        "I was involved in a project that didn't go well. Our team had many issues, and\n",
        "I think it was mostly due to poor management. I just tried to stay out of the\n",
        "way and do my part.\n",
        "\"\"\" # 3/10\n",
        "\n",
        "q1_a7 = \"\"\"\n",
        "I led a cross-functional team on a critical product launch that faced major\n",
        "hurdles due to supply chain disruptions. As the project manager, I quickly\n",
        "re-strategized, identifying alternative suppliers and adjusting our timelines\n",
        "while maintaining open communication with all stakeholders. My proactive approach\n",
        "and contingency planning enabled us to launch successfully, albeit with a slight\n",
        "delay, but with no compromise on quality.\n",
        "\"\"\" # 10/10\n",
        "\n",
        "q1_a8 = \"\"\"\n",
        "In my role as an IT specialist, I was tasked with leading a critical data migration\n",
        "project under a tight deadline. Recognizing the complexity, I implemented a\n",
        "phased approach, conducted thorough risk assessments, and held regular team meetings\n",
        "to ensure everyone was aligned and on track. My emphasis on meticulous planning\n",
        "and team coordination led to a successful migration with zero data loss and\n",
        "minimal downtime.\n",
        "\"\"\" # 10/10"
      ],
      "metadata": {
        "id": "XlCqT_k1slwy"
      },
      "execution_count": null,
      "outputs": []
    },
    {
      "cell_type": "markdown",
      "source": [
        "#### question 2 answers"
      ],
      "metadata": {
        "id": "c7_p-VoIyoHG"
      }
    },
    {
      "cell_type": "code",
      "source": [
        "q2_a1 = \"\"\"\n",
        "I believe in open communication and empathy. In a previous job, a colleague and\n",
        "I disagreed on a sales strategy. I initiated a meeting to discuss our viewpoints.\n",
        "We combined our ideas and developed a hybrid strategy that proved effective.\n",
        "\"\"\" # 8/10\n",
        "\n",
        "q2_a2 = \"\"\"\n",
        "Disagreements can be challenging. I usually try to avoid confrontation and go\n",
        "with the majority's opinion to keep the peace.\n",
        "\"\"\" # 4/10\n",
        "\n",
        "q2_a3 = \"\"\"\n",
        "In my last role, I disagreed with a teammate over a design choice. We presented\n",
        "our ideas to the team, and I accepted the team's decision even though it wasn't\n",
        "my preference. I learned a lot from the process.\n",
        "\"\"\" # 7/10\n",
        "\n",
        "q2_a4 = \"\"\"\n",
        "I don't like conflicts, so I usually just keep my opinions to myself. It's easier\n",
        "to just agree with others even if I don't think it's the best idea.\n",
        "\"\"\" # 2/10\n",
        "\n",
        "q2_a5 = \"\"\"\n",
        "Disagreements are tough. In the past, I've had arguments with colleagues. I tend\n",
        "to stick to my point because I believe in my ideas strongly.\n",
        "\"\"\" # 3/10\n",
        "\n",
        "q2_a6 = \"\"\"\n",
        "I usually talk to other colleagues about the disagreement and try to get them on\n",
        "my side. I find it's better to have support when there's a conflict.\n",
        "\"\"\" # 2/10\n",
        "\n",
        "q2_a7 = \"\"\"\n",
        "I believe in addressing disagreements constructively. In one instance, a colleague\n",
        "and I had differing views on a marketing strategy. I initiated a meeting to discuss\n",
        "our perspectives in-depth. Through active listening and collaborative discussion,\n",
        "we combined the best elements of our ideas, resulting in a more robust strategy\n",
        "that increased our campaign's success by 30%.\n",
        "\"\"\" # 10/10\n",
        "\n",
        "q2_a8 = \"\"\"\n",
        "I approach disagreements with openness and a focus on problem-solving. Once, when\n",
        "a project proposal I was working on with a colleague led to a difference in opinion,\n",
        "we decided to seek input from other team members and conducted a small workshop.\n",
        "This approach not only resolved our disagreement but also brought in valuable new\n",
        "insights, leading to a stronger, team-endorsed proposal.\n",
        "\"\"\" # 10/10"
      ],
      "metadata": {
        "id": "px9eu9DVyqMJ"
      },
      "execution_count": null,
      "outputs": []
    },
    {
      "cell_type": "markdown",
      "source": [
        "#### question 3 answers"
      ],
      "metadata": {
        "id": "dv2IvqvDypJN"
      }
    },
    {
      "cell_type": "code",
      "source": [
        "q3_a1 = \"\"\"\n",
        "I stay motivated by setting clear, achievable goals. For time management, I use\n",
        "the Pomodoro Technique, breaking my work into focused intervals with short breaks.\n",
        "This keeps me productive and prevents burnout.\n",
        "\"\"\" # 8/10\n",
        "\n",
        "q3_a2 = \"\"\"\n",
        "Motivation can be tough, especially with routine tasks. I try to keep a big-picture\n",
        "perspective and remind myself how my work contributes to the company's goals. As\n",
        "for time management, I prioritize tasks each morning and adjust as needed\n",
        "throughout the day.\n",
        "\"\"\" # 7/10\n",
        "\n",
        "q3_a3 = \"\"\"\n",
        "I find motivation in challenges and learning new things. I manage my time by\n",
        "setting weekly goals and reviewing my progress every Friday. This helps me stay\n",
        "on track and adjust my plans for the following week.\n",
        "\"\"\" # 8/10\n",
        "\n",
        "q3_a4 = \"\"\"\n",
        "I struggle with motivation, especially on long projects. I don't really have a\n",
        "time management strategy, I just do things as they come up.\n",
        "\"\"\" # 2/10\n",
        "\n",
        "q3_a5 = \"\"\"\n",
        "I find it hard to stay motivated. I often procrastinate and then have to rush to\n",
        "meet deadlines. It's stressful, but that's just how I've always worked.\n",
        "\"\"\" # 1/10\n",
        "\n",
        "q3_a6 = \"\"\"\n",
        "I tend to work in bursts. Sometimes I'm really motivated, other times not so\n",
        "much. I don't really plan my time; I just work more when the deadlines are near.\n",
        "\"\"\" # 3/10\n",
        "\n",
        "q3_a7 = \"\"\"\n",
        "My motivation comes from setting challenging yet achievable goals. I use a\n",
        "combination of the Eisenhower Matrix for prioritizing tasks and the Pomodoro\n",
        "Technique for focused work sessions. This approach helped me successfully manage\n",
        "multiple projects simultaneously, leading to a 20% increase in efficiency in my\n",
        "department.\n",
        "\"\"\" # 10/10\n",
        "\n",
        "q3_a8 = \"\"\"\n",
        "To stay motivated, I align my work with my personal and career growth goals. For\n",
        "time management, I meticulously plan my weeks every Sunday, setting clear\n",
        "objectives for each day, and review my progress nightly. This method was instrumental\n",
        "in my recent project, where I managed to deliver high-quality work two weeks ahead\n",
        "of schedule.\n",
        "\"\"\" # 10/10"
      ],
      "metadata": {
        "id": "fDc61bH5yqqp"
      },
      "execution_count": null,
      "outputs": []
    },
    {
      "cell_type": "markdown",
      "source": [
        "### Store info"
      ],
      "metadata": {
        "id": "ggBYV6e01Yt4"
      }
    },
    {
      "cell_type": "code",
      "source": [
        "# qa_comb"
      ],
      "metadata": {
        "id": "R_2NCRXJ1qrU"
      },
      "execution_count": null,
      "outputs": []
    },
    {
      "cell_type": "code",
      "source": [
        "# new_qa_comb = pd.DataFrame({\n",
        "#     'comb_num': list(range(1, 3*8+1)),\n",
        "#     'var_comb_num': [1]*(3*8),\n",
        "#     'interview_question': [inter_q_1]*8 + [inter_q_2]*8 + [inter_q_3]*8,\n",
        "#     'question_type': [q_type]*(3*8),\n",
        "#     'question_answer': [q1_a1, q1_a2, q1_a3, q1_a4, q1_a5, q1_a6, q1_a7, q1_a8,\n",
        "#                         q2_a1, q2_a2, q2_a3, q2_a4, q2_a5, q2_a6, q2_a7, q2_a8,\n",
        "#                         q3_a1, q3_a2, q3_a3, q3_a4, q3_a5, q3_a6, q3_a7, q3_a8]\n",
        "# })\n",
        "\n",
        "# qa_comb = pd.concat([qa_comb, new_qa_comb], ignore_index=True)"
      ],
      "metadata": {
        "id": "H7IAcMPc1gIA"
      },
      "execution_count": null,
      "outputs": []
    },
    {
      "cell_type": "code",
      "source": [
        "qa_comb"
      ],
      "metadata": {
        "id": "xDq9M2lo2efn"
      },
      "execution_count": null,
      "outputs": []
    },
    {
      "cell_type": "markdown",
      "source": [
        "# Model selection"
      ],
      "metadata": {
        "id": "QEglXi2DVYYS"
      }
    },
    {
      "cell_type": "code",
      "source": [
        "chat = ChatOpenAI(model_name = \"gpt-4\")"
      ],
      "metadata": {
        "id": "rD6wk7L-VYF2"
      },
      "execution_count": 10,
      "outputs": []
    },
    {
      "cell_type": "code",
      "source": [
        "# record model as ex_model\n",
        "ex_model = \"gpt_4\""
      ],
      "metadata": {
        "id": "w9I2S0Frwurl"
      },
      "execution_count": 11,
      "outputs": []
    },
    {
      "cell_type": "markdown",
      "source": [
        "# Answer evaluation prompts"
      ],
      "metadata": {
        "id": "fO-WUbBkaFgL"
      }
    },
    {
      "cell_type": "markdown",
      "source": [
        "# -> Checkpoint Start [2023.11.13]\n",
        "[To avoid rerun the above code before Checkpoint End, the code between this Checkpoint Start to Checkpoint End does not need to be rerun. This will save us time and resources.]"
      ],
      "metadata": {
        "id": "30ddAfrvTd_k"
      }
    },
    {
      "cell_type": "markdown",
      "source": [
        "## Prompt 1"
      ],
      "metadata": {
        "id": "TgxXc6Vyi33i"
      }
    },
    {
      "cell_type": "markdown",
      "source": [
        "### Extra info\n",
        "\n",
        "I explore some evaluation matrixes for bahavioral questions. Below I asked ChatGPT 4:  \n",
        "1. Give me the list of evaluation matrixes & rationales;   \n",
        "2. Interviewees example answers and score with rationales;\n",
        "3. Example answers with scores lower than 5/10;\n",
        "4. Example answers with scores 10/10.\n",
        "\n",
        "\n"
      ],
      "metadata": {
        "id": "4UnDYySii7eF"
      }
    },
    {
      "cell_type": "markdown",
      "source": [
        "\n",
        "\n",
        "The following are the conversation between GPT and me:\n",
        "\n",
        "<font color='Green'>ME:</font>  \n",
        "As an experienced interviewer, what are some important aspects for you to evaluate interviewees? 1) list those aspects and rationales, 2) also give me 3 examples of interview questions and example answers from 3 different interviewees, give them a score and feedbacks\n",
        "\n",
        "<font color='Blue'>GPT:</font>   \n",
        "As an experienced interviewer, there are several key aspects that I would evaluate in interviewees. These aspects are important because they help in determining not only the candidate's skills and qualifications but also their fit within the team and organization. Here's a list of these aspects along with their rationales:\n",
        "\n",
        "1. **Technical Skills**: This is about understanding the candidate's ability to perform the specific tasks required for the job. For roles that require specific technical knowledge or skills, it's crucial to assess the candidate's proficiency.\n",
        "\n",
        "2. **Problem-Solving Abilities**: This evaluates how the candidate approaches and solves problems. It's important because it shows how they will handle real-world challenges in the job.\n",
        "\n",
        "3. **Communication Skills**: Good communication is key in almost every job. This aspect assesses how well the candidate can express their ideas and understand others.\n",
        "\n",
        "4. **Cultural Fit**: This is about assessing whether the candidate's values, behavior, and personality align with the company's culture. It's important for ensuring a harmonious work environment.\n",
        "\n",
        "5. **Adaptability**: The ability to adapt to changing environments and demands is crucial in today’s fast-paced work settings. This shows how well the candidate can handle change and uncertainty.\n",
        "\n",
        "6. **Teamwork and Collaboration**: This assesses the candidate’s ability to work effectively with others. Teamwork is essential for most jobs, and good collaboration skills can significantly enhance work efficiency.\n",
        "\n",
        "7. **Leadership Qualities (if applicable)**: For roles that require leadership, it’s important to evaluate the candidate’s ability to lead, motivate, and guide others.\n",
        "\n",
        "Now, let's move on to the three example interview questions, along with example answers from three different interviewees, their scores, and feedback:\n",
        "\n",
        "**Question 1:** Describe a challenging project you worked on. What was your role and how did you handle it?\n",
        "\n",
        "- **Interviewee A:** Explained a complex project, detailed their role as a team leader, and outlined the strategies they used to overcome challenges. Their answer showed strong problem-solving and leadership skills.\n",
        "  - **Score:** 9/10\n",
        "  - **Feedback:** Excellent answer, showcasing leadership and problem-solving skills. Could have elaborated more on teamwork aspects.\n",
        "\n",
        "- **Interviewee B:** Gave a vague description of the project and focused more on the challenges than their role in solving them.\n",
        "  - **Score:** 5/10\n",
        "  - **Feedback:** The response needs more detail about your specific contributions and problem-solving strategies.\n",
        "\n",
        "- **Interviewee C:** Discussed a project with enthusiasm, highlighted their role in detail, but lacked clarity on the outcome.\n",
        "  - **Score:** 7/10\n",
        "  - **Feedback:** Good energy and clear role definition, but focus on explaining the results and your direct impact on them.\n",
        "\n",
        "**Question 2:** How do you handle disagreements with colleagues?\n",
        "\n",
        "- **Interviewee A:** Provided a balanced view, emphasizing respectful communication and seeking common ground.\n",
        "  - **Score:** 8/10\n",
        "  - **Feedback:** Strong communication skills shown, consider adding more about conflict resolution techniques.\n",
        "\n",
        "- **Interviewee B:** Answered with an example where they avoided conflict, which led to unresolved issues.\n",
        "  - **Score:** 4/10\n",
        "  - **Feedback:** It's important to address conflicts directly. Consider discussing how you would engage constructively in future situations.\n",
        "\n",
        "- **Interviewee C:** Discussed a specific incident, their approach to understanding the other side, and how they achieved a compromise.\n",
        "  - **Score:** 9/10\n",
        "  - **Feedback:** Excellent approach to conflict resolution, demonstrating empathy and effective communication.\n",
        "\n",
        "**Question 3:** How do you stay motivated and manage your time effectively?\n",
        "\n",
        "- **Interviewee A:** Talked about setting personal goals and using productivity tools, but lacked depth in their response.\n",
        "  - **Score:** 6/10\n",
        "  - **Feedback:** Good use of tools and goal-setting. Elaborate more on how these methods impact your daily work.\n",
        "\n",
        "- **Interviewee B:** Shared a detailed routine involving prioritization, breaks, and regular reviews of progress.\n",
        "  - **Score:** 8/10\n",
        "  - **Feedback:** Great detail on time management strategies. Include how you adapt these methods during particularly busy or stressful periods.\n",
        "\n",
        "- **Interviewee C:** Mentioned only intrinsic motivation without specific time management techniques.\n",
        "  - **Score:** 5/10\n",
        "  - **Feedback:** While intrinsic motivation is important, discuss specific strategies you use for managing time effectively.\n",
        "\n",
        "<font color='Green'>ME:</font>  \n",
        "Could you regenerate those examples, scores, and rationales? This time, instead of giving what interviewees did, generate real answers for those interview questions. Try it again. You can do it!\n",
        "\n",
        "<font color='Blue'>GPT:</font>  \n",
        "Absolutely! Let's create more realistic examples of interview answers, complete with scores and feedback for each.\n",
        "\n",
        "**Question 1**: Describe a challenging project you worked on. What was your role and how did you handle it?\n",
        "\n",
        "- **Interviewee A's Answer:** \"In my last role as a project manager, I led a team on a high-stakes software development project. We faced a tight deadline and unexpected technical hurdles. I organized extra brainstorming sessions, delegated tasks based on individual strengths, and maintained open communication with stakeholders. We delivered the project on time, and it was well-received by the client.\"\n",
        "  - **Score:** 9/10\n",
        "  - **Feedback:** Excellent response demonstrating strong leadership and problem-solving skills. Great example of effective communication and team management under pressure.\n",
        "\n",
        "- **Interviewee B's Answer:** \"I was part of a marketing campaign that faced budget cuts. My role was to design the digital ads. I had to be creative with limited resources, so I focused on leveraging free online tools and optimizing our existing content. The campaign was successful, though it didn't reach all our targets.\"\n",
        "  - **Score:** 7/10\n",
        "  - **Feedback:** Good demonstration of adaptability and creativity under constraints. Could improve by discussing how you measured the campaign's success and learned from the experience.\n",
        "\n",
        "- **Interviewee C's Answer:** \"As a junior analyst, I worked on a data migration project that was complex. My role was to assist senior analysts. I ensured that I was thorough in my tasks and asked for feedback regularly. The project was successful, but I wish I had a more active role.\"\n",
        "  - **Score:** 6/10\n",
        "  - **Feedback:** Good job on showing dedication and a willingness to learn. For future responses, focus more on your direct contributions and any proactive steps you took.\n",
        "\n",
        "**Question 2**: How do you handle disagreements with colleagues?\n",
        "\n",
        "- **Interviewee A's Answer:** \"I believe in open communication and empathy. In a previous job, a colleague and I disagreed on a sales strategy. I initiated a meeting to discuss our viewpoints. We combined our ideas and developed a hybrid strategy that proved effective.\"\n",
        "  - **Score:** 8/10\n",
        "  - **Feedback:** Strong approach to conflict resolution, showcasing your ability to listen and collaborate. Great example of turning disagreement into a positive outcome.\n",
        "\n",
        "- **Interviewee B's Answer:** \"Disagreements can be challenging. I usually try to avoid confrontation and go with the majority's opinion to keep the peace.\"\n",
        "  - **Score:** 4/10\n",
        "  - **Feedback:** It's important to address conflicts constructively. Consider discussing how you could actively engage in finding a solution rather than avoiding confrontation.\n",
        "\n",
        "- **Interviewee C's Answer:** \"In my last role, I disagreed with a teammate over a design choice. We presented our ideas to the team, and I accepted the team's decision even though it wasn't my preference. I learned a lot from the process.\"\n",
        "  - **Score:** 7/10\n",
        "  - **Feedback:** Good example of teamwork and respecting collective decisions. You might strengthen your answer by sharing how you contributed to the final solution or what you learned from the experience.\n",
        "\n",
        "**Question 3**: How do you stay motivated and manage your time effectively?\n",
        "\n",
        "- **Interviewee A's Answer:** \"I stay motivated by setting clear, achievable goals. For time management, I use the Pomodoro Technique, breaking my work into focused intervals with short breaks. This keeps me productive and prevents burnout.\"\n",
        "  - **Score:** 8/10\n",
        "  - **Feedback:** Effective demonstration of personal motivation and time management strategies. Could enhance your answer by sharing a specific instance where these techniques helped you overcome a challenge.\n",
        "\n",
        "- **Interviewee B's Answer:** \"Motivation can be tough, especially with routine tasks. I try to keep a big-picture perspective and remind myself how my work contributes to the company's goals. As for time management, I prioritize tasks each morning and adjust as needed throughout the day.\"\n",
        "  - **Score:** 7/10\n",
        "  - **Feedback:** Good insights into maintaining motivation. Your time management approach shows adaptability. Consider discussing how you handle unexpected high-priority tasks.\n",
        "\n",
        "- **Interviewee C's Answer:** \"I find motivation in challenges and learning new things. I manage my time by setting weekly goals and reviewing my progress every Friday. This helps me stay on track and adjust my plans for the following week.\"\n",
        "  - **Score:** 8/10\n",
        "  - **Feedback:** Strong focus on continuous learning and goal-oriented time management. It would be beneficial to include how you balance long-term and short-term tasks.\n",
        "\n",
        "<font color='Green'>ME:</font>  \n",
        "Great job! Do you mind generating 3 more examples for each interview question above? This time, please generate answers that have score lower than 5/10.\n",
        "\n",
        "<font color='Blue'>GPT:</font>  \n",
        "Certainly! Here are additional examples of interview answers for each question, this time with scores below 5/10, indicating areas for improvement.\n",
        "\n",
        "**Question 1**: Describe a challenging project you worked on. What was your role and how did you handle it?\n",
        "\n",
        "- **Interviewee D's Answer:** \"I worked on a challenging project last year, but honestly, I didn't have much of a role. I just did what I was told and didn't really understand the bigger picture.\"\n",
        "  - **Score:** 3/10\n",
        "  - **Feedback:** The response lacks detail and initiative. It's important to show your active participation and understanding of your role in a project.\n",
        "\n",
        "- **Interviewee E's Answer:** \"In my previous job, there was a project that was really tough. I found it overwhelming, so I mostly kept to the tasks I was comfortable with and didn't venture much beyond that.\"\n",
        "  - **Score:** 2/10\n",
        "  - **Feedback:** This answer shows a reluctance to engage with challenges. Consider discussing how you could approach difficulties more proactively in the future.\n",
        "\n",
        "- **Interviewee F's Answer:** \"I was involved in a project that didn't go well. Our team had many issues, and I think it was mostly due to poor management. I just tried to stay out of the way and do my part.\"\n",
        "  - **Score:** 3/10\n",
        "  - **Feedback:** The response shows a lack of engagement and responsibility. Reflect on how you could contribute positively in difficult situations.\n",
        "\n",
        "**Question 2**: How do you handle disagreements with colleagues?\n",
        "\n",
        "- **Interviewee D's Answer:** \"I don't like conflicts, so I usually just keep my opinions to myself. It's easier to just agree with others even if I don't think it's the best idea.\"\n",
        "  - **Score:** 2/10\n",
        "  - **Feedback:** Avoiding conflict can lead to unresolved issues. It's important to learn how to express your views constructively and engage in healthy discussions.\n",
        "\n",
        "- **Interviewee E's Answer:** \"Disagreements are tough. In the past, I've had arguments with colleagues. I tend to stick to my point because I believe in my ideas strongly.\"\n",
        "  - **Score:** 3/10\n",
        "  - **Feedback:** This approach can create tension. Focus on developing skills for collaborative problem-solving and understanding different perspectives.\n",
        "\n",
        "- **Interviewee F's Answer:** \"I usually talk to other colleagues about the disagreement and try to get them on my side. I find it's better to have support when there's a conflict.\"\n",
        "  - **Score:** 2/10\n",
        "  - **Feedback:** This strategy can lead to workplace division. Consider direct and open communication with the colleague you disagree with instead.\n",
        "\n",
        "**Question 3**: How do you stay motivated and manage your time effectively?\n",
        "\n",
        "- **Interviewee D's Answer:** \"I struggle with motivation, especially on long projects. I don't really have a time management strategy, I just do things as they come up.\"\n",
        "  - **Score:** 2/10\n",
        "  - **Feedback:** Consider developing a more structured approach to your work and finding personal motivation drivers to improve productivity.\n",
        "\n",
        "- **Interviewee E's Answer:** \"I find it hard to stay motivated. I often procrastinate and then have to rush to meet deadlines. It's stressful, but that's just how I've always worked.\"\n",
        "  - **Score:** 1/10\n",
        "  - **Feedback:** This approach is unsustainable and can lead to burnout. Look into time management techniques and strategies to tackle procrastination.\n",
        "\n",
        "- **Interviewee F's Answer:** \"I tend to work in bursts. Sometimes I'm really motivated, other times not so much. I don't really plan my time; I just work more when the deadlines are near.\"\n",
        "  - **Score:** 3/10\n",
        "  - **Feedback:** This inconsistent approach can be risky. Developing a more steady and planned approach to work can help with both motivation and time management.\n",
        "\n",
        "<font color='Green'>ME:</font>  \n",
        "Wonderful! Please generate 2 10/10 answers for each interview question above.\n",
        "\n",
        "<font color='Blue'>GPT:</font>  \n",
        "Certainly! Here are examples of 10/10 answers for each interview question, demonstrating exemplary responses.\n",
        "\n",
        "**Question 1**: Describe a challenging project you worked on. What was your role and how did you handle it?\n",
        "\n",
        "- **Interviewee G's Answer:** \"I led a cross-functional team on a critical product launch that faced major hurdles due to supply chain disruptions. As the project manager, I quickly re-strategized, identifying alternative suppliers and adjusting our timelines while maintaining open communication with all stakeholders. My proactive approach and contingency planning enabled us to launch successfully, albeit with a slight delay, but with no compromise on quality.\"\n",
        "  - **Score:** 10/10\n",
        "  - **Feedback:** This answer excellently showcases leadership, problem-solving, adaptability, and effective communication. It demonstrates a clear understanding of how to manage complex projects under pressure.\n",
        "\n",
        "- **Interviewee H's Answer:** \"In my role as an IT specialist, I was tasked with leading a critical data migration project under a tight deadline. Recognizing the complexity, I implemented a phased approach, conducted thorough risk assessments, and held regular team meetings to ensure everyone was aligned and on track. My emphasis on meticulous planning and team coordination led to a successful migration with zero data loss and minimal downtime.\"\n",
        "  - **Score:** 10/10\n",
        "  - **Feedback:** Outstanding response highlighting technical expertise, strategic planning, and team management skills. Your focus on risk mitigation and detailed execution is commendable.\n",
        "\n",
        "**Question 2**: How do you handle disagreements with colleagues?\n",
        "\n",
        "- **Interviewee G's Answer:** \"I believe in addressing disagreements constructively. In one instance, a colleague and I had differing views on a marketing strategy. I initiated a meeting to discuss our perspectives in-depth. Through active listening and collaborative discussion, we combined the best elements of our ideas, resulting in a more robust strategy that increased our campaign's success by 30%.\"\n",
        "  - **Score:** 10/10\n",
        "  - **Feedback:** Excellent approach to conflict resolution. Your ability to listen, understand different viewpoints, and create a unified solution is exemplary.\n",
        "\n",
        "- **Interviewee H's Answer:** \"I approach disagreements with openness and a focus on problem-solving. Once, when a project proposal I was working on with a colleague led to a difference in opinion, we decided to seek input from other team members and conducted a small workshop. This approach not only resolved our disagreement but also brought in valuable new insights, leading to a stronger, team-endorsed proposal.\"\n",
        "  - **Score:** 10/10\n",
        "  - **Feedback:** This answer demonstrates a mature approach to resolving conflicts. Involving the team and turning a disagreement into an opportunity for broader engagement and idea generation is commendable.\n",
        "\n",
        "**Question 3**: How do you stay motivated and manage your time effectively?\n",
        "\n",
        "- **Interviewee G's Answer:** \"My motivation comes from setting challenging yet achievable goals. I use a combination of the Eisenhower Matrix for prioritizing tasks and the Pomodoro Technique for focused work sessions. This approach helped me successfully manage multiple projects simultaneously, leading to a 20% increase in efficiency in my department.\"\n",
        "  - **Score:** 10/10\n",
        "  - **Feedback:** This response shows a sophisticated understanding of time management and personal motivation. The mention of specific techniques and their impact on your work is impressive.\n",
        "\n",
        "- **Interviewee H's Answer:** \"To stay motivated, I align my work with my personal and career growth goals. For time management, I meticulously plan my weeks every Sunday, setting clear objectives for each day, and review my progress nightly. This method was instrumental in my recent project, where I managed to deliver high-quality work two weeks ahead of schedule.\"\n",
        "  - **Score:** 10/10\n",
        "  - **Feedback:** Excellent strategy for maintaining motivation and managing time. Your structured approach and dedication to continuous improvement are exemplary.\n"
      ],
      "metadata": {
        "id": "xwEdJXe_aWLm"
      }
    },
    {
      "cell_type": "markdown",
      "source": [
        "**HERE** <font color='Blue'> are evaluation matrixes:</font>  \n",
        "\n",
        "<font color='green'> Interview Evaluation Matrixes: </font>   \n",
        "1. **Technical Skills**: This is about understanding the candidate's ability to perform the specific tasks required for the job. For roles that require specific technical knowledge or skills, it's crucial to assess the candidate's proficiency.\n",
        "\n",
        "2. **Problem-Solving Abilities**: This evaluates how the candidate approaches and solves problems. It's important because it shows how they will handle real-world challenges in the job.\n",
        "\n",
        "3. **Communication Skills**: Good communication is key in almost every job. This aspect assesses how well the candidate can express their ideas and understand others.\n",
        "\n",
        "4. **Cultural Fit**: This is about assessing whether the candidate's values, behavior, and personality align with the company's culture. It's important for ensuring a harmonious work environment.\n",
        "\n",
        "5. **Adaptability**: The ability to adapt to changing environments and demands is crucial in today’s fast-paced work settings. This shows how well the candidate can handle change and uncertainty.\n",
        "\n",
        "6. **Teamwork and Collaboration**: This assesses the candidate’s ability to work effectively with others. Teamwork is essential for most jobs, and good collaboration skills can significantly enhance work efficiency.\n",
        "\n",
        "7. **Leadership Qualities (if applicable)**: For roles that require leadership, it’s important to evaluate the candidate’s ability to lead, motivate, and guide others.\n"
      ],
      "metadata": {
        "id": "Ri-3RLfJgWVh"
      }
    },
    {
      "cell_type": "markdown",
      "source": [
        "**HERE** <font color='Blue'> are 3 examples of behavioral interview questions:</font>  \n",
        "\n",
        "<font color='green'>Question 1: </font>   \n",
        "Describe a challenging project you worked on. What was your role and how did you handle it?\n",
        "\n",
        "<font color='green'>Question 2: </font>   \n",
        "How do you handle disagreements with colleagues?\n",
        "\n",
        "<font color='green'>Question 3: </font>   \n",
        "How do you stay motivated and manage your time effectively?"
      ],
      "metadata": {
        "id": "nHF7oBkmh7Cu"
      }
    },
    {
      "cell_type": "markdown",
      "source": [
        "### Code"
      ],
      "metadata": {
        "id": "Hmc9mODui-t3"
      }
    },
    {
      "cell_type": "code",
      "source": [
        "# set up input variables for prompt\n",
        "input_var_1 = [\"interview_questions\", \"question_answers\", \"role_title\",\n",
        "               \"role_description\", \"company_name\", \"company_description\"]"
      ],
      "metadata": {
        "id": "sjOULbKynj2b"
      },
      "execution_count": 15,
      "outputs": []
    },
    {
      "cell_type": "code",
      "source": [
        "template_1 = \"\"\"\n",
        "You are an expert evaluator of interview responses. Given an interview questions: {interview_questions}\n",
        " and a corresponding answer: {question_answers}, your job is to evaluate each answer based\n",
        " on the following seven key aspects: relevance to question, technical skills,\n",
        " problem-solving abilities, communication skills, cultural fit, adaptability,\n",
        " teamwork and collaboration, and leadership qualities (if applicable).\n",
        "\n",
        "Relevance to Question: \"Does the answer directly address the question asked?\"\n",
        "High Relevance: The answer directly and comprehensively addresses the question.\n",
        "Low Relevance: The answer is off-topic, vague, or fails to address the question.\n",
        "\n",
        "Technical Skills: This is about understanding the candidate's ability to perform\n",
        " the specific tasks required for the job: {role_title} and job description: {role_description}. For roles that require specific\n",
        " technical knowledge or skills, it's crucial to assess the candidate's proficiency.\n",
        " \"Does the answer demonstrate the necessary technical skills or knowledge for the job?\"\n",
        "High Competency: The answer shows in-depth understanding and expertise.\n",
        "Low Competency: The answer reveals a lack of necessary technical knowledge.\n",
        "\n",
        "Problem-Solving Abilities: This evaluates how the candidate approaches and solves\n",
        " problems. It's important because it shows how they will handle real-world\n",
        " challenges in the job. \"Does the answer exhibit the candidate's ability to solve\n",
        " problems?\"\n",
        "Strong Problem-Solving: The answer showcases effective and creative problem-solving strategies.\n",
        "Weak Problem-Solving: The answer lacks evidence of problem-solving abilities.\n",
        "\n",
        "Communication Skills: Good communication is key in almost every job. This aspect\n",
        " assesses how well the candidate can express their ideas and understand others.\n",
        " \"How well does the candidate articulate their thoughts?\"\n",
        "Strong Communication: The answer is clear, concise, and well-structured.\n",
        "Poor Communication: The answer is confusing, overly verbose, or poorly structured.\n",
        "\n",
        "Cultural Fit: This is about assessing whether the candidate's values, behavior,\n",
        "and personality align with the {company_name}'s company culture. Here is the company\n",
        "description you can reference \"{company_description}\".\n",
        "It's important for ensuring a harmonious work environment. \"Does the answer align\n",
        "with the {company_name}'s company values and culture?\"\n",
        "Good Fit: The answer reflects alignment with the company's values and culture.\n",
        "Poor Fit: The answer indicates potential conflicts with the company's culture.\n",
        "\n",
        "Adaptability: The ability to adapt to changing environments and demands is crucial\n",
        " in today’s fast-paced work settings. This shows how well the candidate can\n",
        " handle change and uncertainty. \"Does the answer demonstrate the candidate's\n",
        " ability to adapt to changes?\"\n",
        "High Adaptability: The answer shows flexibility and a positive approach to change.\n",
        "Low Adaptability: The answer suggests rigidity or discomfort with change.\n",
        "\n",
        "Teamwork and Collaboration: This assesses the candidate’s ability to work\n",
        "effectively with others. Teamwork is essential for most jobs, and good collaboration\n",
        " skills can significantly enhance work efficiency.\n",
        "Leadership Qualities (if applicable): For roles that require leadership, it’s\n",
        "important to evaluate the candidate’s ability to lead, motivate, and guide others.\n",
        "\"Does the answer reflect the candidate's ability to work in a team or lead effectively?\"\n",
        "Strong Teamwork/Leadership: The answer highlights effective collaboration or leadership qualities.\n",
        "Weak Teamwork/Leadership: The answer shows a lack of teamwork skills or ineffective leadership.\n",
        "\n",
        "\n",
        "For each interview question and answer provide at the beginning, rate the response based on the above aspects.\n",
        "Provide a score and feedback for each aspect in 10/10 scale.\n",
        "Offer an overall evaluation of the answer's strengths and areas for improvement.\n",
        "\"\"\""
      ],
      "metadata": {
        "id": "P3rq166vm9vS"
      },
      "execution_count": 16,
      "outputs": []
    },
    {
      "cell_type": "code",
      "source": [
        "prompt_11 = PromptTemplate(\n",
        "    input_variables = input_var_1,\n",
        "    template = template_1\n",
        ")"
      ],
      "metadata": {
        "id": "EVr34WQd6zgj"
      },
      "execution_count": 17,
      "outputs": []
    },
    {
      "cell_type": "code",
      "source": [
        "var_comb_num ="
      ],
      "metadata": {
        "colab": {
          "base_uri": "https://localhost:8080/",
          "height": 179
        },
        "id": "2NndYN3g8aUY",
        "outputId": "6a86c4fc-30c2-4ede-b775-ade41abb22da"
      },
      "execution_count": 27,
      "outputs": [
        {
          "output_type": "error",
          "ename": "NameError",
          "evalue": "ignored",
          "traceback": [
            "\u001b[0;31m---------------------------------------------------------------------------\u001b[0m",
            "\u001b[0;31mNameError\u001b[0m                                 Traceback (most recent call last)",
            "\u001b[0;32m<ipython-input-27-59349a071a0c>\u001b[0m in \u001b[0;36m<cell line: 1>\u001b[0;34m()\u001b[0m\n\u001b[0;32m----> 1\u001b[0;31m \u001b[0mvar_comb_num\u001b[0m\u001b[0;34m\u001b[0m\u001b[0;34m\u001b[0m\u001b[0m\n\u001b[0m",
            "\u001b[0;31mNameError\u001b[0m: name 'var_comb_num' is not defined"
          ]
        }
      ]
    },
    {
      "cell_type": "code",
      "source": [
        "job_title = var_comb.role_title[0]\n",
        "job_des = var_comb.role_description[0]\n",
        "comp_name = var_comb.company_name[0]\n",
        "comp_des = var_comb.company_description[0]"
      ],
      "metadata": {
        "id": "KNoiVaBV7AVa"
      },
      "execution_count": 21,
      "outputs": []
    },
    {
      "cell_type": "markdown",
      "source": [
        "#### Q1 A1 [9.3/10]"
      ],
      "metadata": {
        "id": "GtZQ_l6gFGzt"
      }
    },
    {
      "cell_type": "code",
      "source": [
        "# set up prameters\n",
        "qa_comb_num = 1\n",
        "inter_q = qa_comb.interview_question[0]\n",
        "q_a = qa_comb.question_answer[0]"
      ],
      "metadata": {
        "id": "xAYqSzkgnLSc"
      },
      "execution_count": 34,
      "outputs": []
    },
    {
      "cell_type": "code",
      "source": [
        "# record those parameters as ex_var_comb\n",
        "ex_var_comb = 1 # this means we use the 1st combination of information in var_comb.csv dataset; this helps us tack information"
      ],
      "metadata": {
        "id": "t83Kwv57xDsP"
      },
      "execution_count": 36,
      "outputs": []
    },
    {
      "cell_type": "code",
      "source": [
        "#from pydantic.typing import resolve_annotations\n",
        "\n",
        "new_prompt_11 = prompt_11.format(interview_questions = inter_q,\n",
        "                                 question_answers = q_a,\n",
        "                                 role_title = job_title,\n",
        "                                 role_description = job_des,\n",
        "                                 company_name = comp_name,\n",
        "                                 company_description = comp_des)\n",
        "result_11 = chat([HumanMessage(content=new_prompt_11)])"
      ],
      "metadata": {
        "id": "_xFGQUSKfUOp"
      },
      "execution_count": 38,
      "outputs": []
    },
    {
      "cell_type": "code",
      "source": [
        "print(result_11.content)"
      ],
      "metadata": {
        "colab": {
          "base_uri": "https://localhost:8080/"
        },
        "id": "08J2oVk5rvj3",
        "outputId": "49f765af-3638-42b5-c9fb-3fc4f0b068c9"
      },
      "execution_count": 40,
      "outputs": [
        {
          "output_type": "stream",
          "name": "stdout",
          "text": [
            "Relevance to Question: \n",
            "Score: 10/10 \n",
            "Feedback: The candidate clearly describes a challenging project that they worked on, outlining their role and the strategies they used to handle the situation.\n",
            "\n",
            "Technical Skills: \n",
            "Score: 7/10 \n",
            "Feedback: The candidate shows good project management skills, but specific technical skills related to AI/ML software development were not clearly mentioned.\n",
            "\n",
            "Problem-Solving Abilities: \n",
            "Score: 9/10 \n",
            "Feedback: The candidate demonstrates strong problem-solving abilities by organizing extra brainstorming sessions, delegating tasks, and maintaining open communication with stakeholders to meet the project deadline.\n",
            "\n",
            "Communication Skills: \n",
            "Score: 10/10 \n",
            "Feedback: The candidate effectively communicates their thoughts, outlining the problem and their strategies in a clear, concise manner.\n",
            "\n",
            "Cultural Fit: \n",
            "Score: 8/10 \n",
            "Feedback: The candidate shows good project management skills and a strong ability to handle pressure, which aligns with S&P Global's fast-paced and data-driven culture. However, more explicit alignment with the company's values could have been demonstrated.\n",
            "\n",
            "Adaptability: \n",
            "Score: 10/10 \n",
            "Feedback: The candidate shows high adaptability by successfully handling unexpected technical hurdles and a tight deadline.\n",
            "\n",
            "Teamwork and Collaboration: \n",
            "Score: 10/10\n",
            "Feedback: The candidate exhibits strong teamwork and collaboration skills by effectively leading a team and delegating tasks according to individual strengths.\n",
            "\n",
            "Leadership Qualities:\n",
            "Score: 10/10\n",
            "Feedback: The candidate clearly demonstrates leadership qualities by leading the project, handling challenges, and effectively communicating with stakeholders to deliver the project on time.\n",
            "\n",
            "Overall Evaluation: The candidate provided a strong response, demonstrating good problem-solving, communication, adaptability, teamwork, and leadership skills. Their technical skills were somewhat unclear from the response, and more explicit alignment with S&P Global's company culture could have been shown. However, they demonstrated a strong ability to handle challenging projects, which is highly relevant to the role.\n"
          ]
        }
      ]
    },
    {
      "cell_type": "markdown",
      "source": [
        "##### store output"
      ],
      "metadata": {
        "id": "JOwUdArdwYOm"
      }
    },
    {
      "cell_type": "code",
      "source": [
        "# ex_model, qa_comb_num, var_comb_num, template_1, result_11.content\n",
        "\n",
        "new_prompt_result = pd.DataFrame({\n",
        "    'model': [ex_model],\n",
        "    'question_answer_combination': [qa_comb_num],\n",
        "    'variable_combination': [var_comb_num],\n",
        "    'template': [template_1],\n",
        "    'output': [result_11.content]\n",
        "})\n",
        "\n",
        "prompt_result = pd.concat([prompt_result, new_prompt_result], ignore_index=True)"
      ],
      "metadata": {
        "id": "Mk4kNk_ZwiQz"
      },
      "execution_count": 43,
      "outputs": []
    },
    {
      "cell_type": "code",
      "source": [
        "prompt_result"
      ],
      "metadata": {
        "colab": {
          "base_uri": "https://localhost:8080/",
          "height": 98
        },
        "id": "Jy08axxRwiKx",
        "outputId": "f3683f33-e8fc-4986-9d26-a44cea472907"
      },
      "execution_count": 44,
      "outputs": [
        {
          "output_type": "execute_result",
          "data": {
            "text/plain": [
              "   model question_answer_combination variable_combination  \\\n",
              "0  gpt_4                           1                    1   \n",
              "\n",
              "                                            template  \\\n",
              "0  \\nYou are an expert evaluator of interview res...   \n",
              "\n",
              "                                              output  \n",
              "0  Relevance to Question: \\nScore: 10/10 \\nFeedba...  "
            ],
            "text/html": [
              "\n",
              "  <div id=\"df-39209dd4-3d3d-45d7-a1b1-de3b2a7dfdf6\" class=\"colab-df-container\">\n",
              "    <div>\n",
              "<style scoped>\n",
              "    .dataframe tbody tr th:only-of-type {\n",
              "        vertical-align: middle;\n",
              "    }\n",
              "\n",
              "    .dataframe tbody tr th {\n",
              "        vertical-align: top;\n",
              "    }\n",
              "\n",
              "    .dataframe thead th {\n",
              "        text-align: right;\n",
              "    }\n",
              "</style>\n",
              "<table border=\"1\" class=\"dataframe\">\n",
              "  <thead>\n",
              "    <tr style=\"text-align: right;\">\n",
              "      <th></th>\n",
              "      <th>model</th>\n",
              "      <th>question_answer_combination</th>\n",
              "      <th>variable_combination</th>\n",
              "      <th>template</th>\n",
              "      <th>output</th>\n",
              "    </tr>\n",
              "  </thead>\n",
              "  <tbody>\n",
              "    <tr>\n",
              "      <th>0</th>\n",
              "      <td>gpt_4</td>\n",
              "      <td>1</td>\n",
              "      <td>1</td>\n",
              "      <td>\\nYou are an expert evaluator of interview res...</td>\n",
              "      <td>Relevance to Question: \\nScore: 10/10 \\nFeedba...</td>\n",
              "    </tr>\n",
              "  </tbody>\n",
              "</table>\n",
              "</div>\n",
              "    <div class=\"colab-df-buttons\">\n",
              "\n",
              "  <div class=\"colab-df-container\">\n",
              "    <button class=\"colab-df-convert\" onclick=\"convertToInteractive('df-39209dd4-3d3d-45d7-a1b1-de3b2a7dfdf6')\"\n",
              "            title=\"Convert this dataframe to an interactive table.\"\n",
              "            style=\"display:none;\">\n",
              "\n",
              "  <svg xmlns=\"http://www.w3.org/2000/svg\" height=\"24px\" viewBox=\"0 -960 960 960\">\n",
              "    <path d=\"M120-120v-720h720v720H120Zm60-500h600v-160H180v160Zm220 220h160v-160H400v160Zm0 220h160v-160H400v160ZM180-400h160v-160H180v160Zm440 0h160v-160H620v160ZM180-180h160v-160H180v160Zm440 0h160v-160H620v160Z\"/>\n",
              "  </svg>\n",
              "    </button>\n",
              "\n",
              "  <style>\n",
              "    .colab-df-container {\n",
              "      display:flex;\n",
              "      gap: 12px;\n",
              "    }\n",
              "\n",
              "    .colab-df-convert {\n",
              "      background-color: #E8F0FE;\n",
              "      border: none;\n",
              "      border-radius: 50%;\n",
              "      cursor: pointer;\n",
              "      display: none;\n",
              "      fill: #1967D2;\n",
              "      height: 32px;\n",
              "      padding: 0 0 0 0;\n",
              "      width: 32px;\n",
              "    }\n",
              "\n",
              "    .colab-df-convert:hover {\n",
              "      background-color: #E2EBFA;\n",
              "      box-shadow: 0px 1px 2px rgba(60, 64, 67, 0.3), 0px 1px 3px 1px rgba(60, 64, 67, 0.15);\n",
              "      fill: #174EA6;\n",
              "    }\n",
              "\n",
              "    .colab-df-buttons div {\n",
              "      margin-bottom: 4px;\n",
              "    }\n",
              "\n",
              "    [theme=dark] .colab-df-convert {\n",
              "      background-color: #3B4455;\n",
              "      fill: #D2E3FC;\n",
              "    }\n",
              "\n",
              "    [theme=dark] .colab-df-convert:hover {\n",
              "      background-color: #434B5C;\n",
              "      box-shadow: 0px 1px 3px 1px rgba(0, 0, 0, 0.15);\n",
              "      filter: drop-shadow(0px 1px 2px rgba(0, 0, 0, 0.3));\n",
              "      fill: #FFFFFF;\n",
              "    }\n",
              "  </style>\n",
              "\n",
              "    <script>\n",
              "      const buttonEl =\n",
              "        document.querySelector('#df-39209dd4-3d3d-45d7-a1b1-de3b2a7dfdf6 button.colab-df-convert');\n",
              "      buttonEl.style.display =\n",
              "        google.colab.kernel.accessAllowed ? 'block' : 'none';\n",
              "\n",
              "      async function convertToInteractive(key) {\n",
              "        const element = document.querySelector('#df-39209dd4-3d3d-45d7-a1b1-de3b2a7dfdf6');\n",
              "        const dataTable =\n",
              "          await google.colab.kernel.invokeFunction('convertToInteractive',\n",
              "                                                    [key], {});\n",
              "        if (!dataTable) return;\n",
              "\n",
              "        const docLinkHtml = 'Like what you see? Visit the ' +\n",
              "          '<a target=\"_blank\" href=https://colab.research.google.com/notebooks/data_table.ipynb>data table notebook</a>'\n",
              "          + ' to learn more about interactive tables.';\n",
              "        element.innerHTML = '';\n",
              "        dataTable['output_type'] = 'display_data';\n",
              "        await google.colab.output.renderOutput(dataTable, element);\n",
              "        const docLink = document.createElement('div');\n",
              "        docLink.innerHTML = docLinkHtml;\n",
              "        element.appendChild(docLink);\n",
              "      }\n",
              "    </script>\n",
              "  </div>\n",
              "\n",
              "    </div>\n",
              "  </div>\n"
            ]
          },
          "metadata": {},
          "execution_count": 44
        }
      ]
    },
    {
      "cell_type": "markdown",
      "source": [
        "#### Q1 A2 [7.3/10]"
      ],
      "metadata": {
        "id": "46qu89kMojRq"
      }
    },
    {
      "cell_type": "code",
      "source": [
        "# set up prameters\n",
        "qa_comb_num = qa_comb.comb_num[1]\n",
        "\n",
        "q_a = qa_comb.question_answer[1]"
      ],
      "metadata": {
        "id": "8hRJCO7KNh9Z"
      },
      "execution_count": 50,
      "outputs": []
    },
    {
      "cell_type": "code",
      "source": [
        "prompt_11 = PromptTemplate(\n",
        "    input_variables = input_var_1,\n",
        "    template = template_1\n",
        ")\n",
        "\n",
        "new_prompt_12 = prompt_11.format(interview_questions = inter_q,\n",
        "                                 question_answers = q_a,\n",
        "                                 role_title = job_title,\n",
        "                                 role_description = job_des,\n",
        "                                 company_name = comp_name,\n",
        "                                 company_description = comp_des)\n",
        "result_12 = chat([HumanMessage(content=new_prompt_12)])"
      ],
      "metadata": {
        "id": "ys3lHBbSanaS"
      },
      "execution_count": 47,
      "outputs": []
    },
    {
      "cell_type": "code",
      "source": [
        "print(result_12.content)"
      ],
      "metadata": {
        "colab": {
          "base_uri": "https://localhost:8080/"
        },
        "id": "gfO7rdEDacHB",
        "outputId": "0c8f2562-162f-467f-d804-ae635c169f2e"
      },
      "execution_count": 48,
      "outputs": [
        {
          "output_type": "stream",
          "name": "stdout",
          "text": [
            "Relevance to Question: 10/10\n",
            "The candidate's response directly addresses the question, clearly detailing a challenging project they worked on and their role in it.\n",
            "\n",
            "Technical Skills: 3/10\n",
            "The candidate discusses their role in a marketing campaign, but does not mention any technical skills related to software development, AI/ML, or the other technical requirements listed in the job description. \n",
            "\n",
            "Problem-Solving Abilities: 8/10\n",
            "The candidate shows good problem-solving abilities. They faced a challenge due to budget cuts and found a creative solution by leveraging free online tools and optimizing existing content.\n",
            "\n",
            "Communication Skills: 8/10\n",
            "The candidate communicates their ideas clearly and concisely, explaining the challenge they faced and how they handled it.\n",
            "\n",
            "Cultural Fit: 7/10\n",
            "The candidate shows a commitment to achieving targets even in challenging circumstances, which aligns with S&P Global's focus on providing essential intelligence and helping clients make informed decisions. However, the response doesn't fully reflect the company's culture as it doesn't mention any specifics about the company or its values.\n",
            "\n",
            "Adaptability: 8/10\n",
            "The candidate demonstrated adaptability by creatively finding solutions during budget cuts. This shows they can adapt to changing environments and demands.\n",
            "\n",
            "Teamwork and Collaboration: 7/10\n",
            "The candidate mentions that they were part of a team but does not provide specific examples of collaboration or teamwork.\n",
            "\n",
            "Leadership Qualities: N/A\n",
            "The candidate doesn't mention any leadership roles or responsibilities in their response.\n",
            "\n",
            "Overall Evaluation:\n",
            "Strengths - The candidate's answer is relevant and shows good problem-solving abilities, communication skills, and adaptability.\n",
            "Areas for Improvement - The candidate needs to provide more evidence of technical skills related to the job description. They should also provide specific examples of teamwork and explain how their values align with S&P Global's culture.\n"
          ]
        }
      ]
    },
    {
      "cell_type": "markdown",
      "source": [
        "##### store output"
      ],
      "metadata": {
        "id": "sGC72R2tz-0t"
      }
    },
    {
      "cell_type": "code",
      "source": [
        "# ex_model, qa_comb_num, var_comb_num, template_1, result_12.content\n",
        "\n",
        "new_prompt_result = pd.DataFrame({\n",
        "    'model': [ex_model],\n",
        "    'question_answer_combination': [qa_comb_num],\n",
        "    'variable_combination': [var_comb_num],\n",
        "    'template': [template_1],\n",
        "    'output': [result_12.content]\n",
        "})\n",
        "\n",
        "prompt_result = pd.concat([prompt_result, new_prompt_result], ignore_index=True)"
      ],
      "metadata": {
        "id": "tFk2Lp6oaE7Q"
      },
      "execution_count": 51,
      "outputs": []
    },
    {
      "cell_type": "code",
      "source": [
        "prompt_result"
      ],
      "metadata": {
        "colab": {
          "base_uri": "https://localhost:8080/",
          "height": 147
        },
        "id": "lEdJSb1FRwy9",
        "outputId": "a3ca79e9-ede6-4981-c60f-ad6e4c833720"
      },
      "execution_count": 52,
      "outputs": [
        {
          "output_type": "execute_result",
          "data": {
            "text/plain": [
              "   model question_answer_combination variable_combination  \\\n",
              "0  gpt_4                           1                    1   \n",
              "1  gpt_4                           2                    1   \n",
              "\n",
              "                                            template  \\\n",
              "0  \\nYou are an expert evaluator of interview res...   \n",
              "1  \\nYou are an expert evaluator of interview res...   \n",
              "\n",
              "                                              output  \n",
              "0  Relevance to Question: \\nScore: 10/10 \\nFeedba...  \n",
              "1  Relevance to Question: 10/10\\nThe candidate's ...  "
            ],
            "text/html": [
              "\n",
              "  <div id=\"df-7d9c4b44-17de-4816-8754-d3cd9544d4e4\" class=\"colab-df-container\">\n",
              "    <div>\n",
              "<style scoped>\n",
              "    .dataframe tbody tr th:only-of-type {\n",
              "        vertical-align: middle;\n",
              "    }\n",
              "\n",
              "    .dataframe tbody tr th {\n",
              "        vertical-align: top;\n",
              "    }\n",
              "\n",
              "    .dataframe thead th {\n",
              "        text-align: right;\n",
              "    }\n",
              "</style>\n",
              "<table border=\"1\" class=\"dataframe\">\n",
              "  <thead>\n",
              "    <tr style=\"text-align: right;\">\n",
              "      <th></th>\n",
              "      <th>model</th>\n",
              "      <th>question_answer_combination</th>\n",
              "      <th>variable_combination</th>\n",
              "      <th>template</th>\n",
              "      <th>output</th>\n",
              "    </tr>\n",
              "  </thead>\n",
              "  <tbody>\n",
              "    <tr>\n",
              "      <th>0</th>\n",
              "      <td>gpt_4</td>\n",
              "      <td>1</td>\n",
              "      <td>1</td>\n",
              "      <td>\\nYou are an expert evaluator of interview res...</td>\n",
              "      <td>Relevance to Question: \\nScore: 10/10 \\nFeedba...</td>\n",
              "    </tr>\n",
              "    <tr>\n",
              "      <th>1</th>\n",
              "      <td>gpt_4</td>\n",
              "      <td>2</td>\n",
              "      <td>1</td>\n",
              "      <td>\\nYou are an expert evaluator of interview res...</td>\n",
              "      <td>Relevance to Question: 10/10\\nThe candidate's ...</td>\n",
              "    </tr>\n",
              "  </tbody>\n",
              "</table>\n",
              "</div>\n",
              "    <div class=\"colab-df-buttons\">\n",
              "\n",
              "  <div class=\"colab-df-container\">\n",
              "    <button class=\"colab-df-convert\" onclick=\"convertToInteractive('df-7d9c4b44-17de-4816-8754-d3cd9544d4e4')\"\n",
              "            title=\"Convert this dataframe to an interactive table.\"\n",
              "            style=\"display:none;\">\n",
              "\n",
              "  <svg xmlns=\"http://www.w3.org/2000/svg\" height=\"24px\" viewBox=\"0 -960 960 960\">\n",
              "    <path d=\"M120-120v-720h720v720H120Zm60-500h600v-160H180v160Zm220 220h160v-160H400v160Zm0 220h160v-160H400v160ZM180-400h160v-160H180v160Zm440 0h160v-160H620v160ZM180-180h160v-160H180v160Zm440 0h160v-160H620v160Z\"/>\n",
              "  </svg>\n",
              "    </button>\n",
              "\n",
              "  <style>\n",
              "    .colab-df-container {\n",
              "      display:flex;\n",
              "      gap: 12px;\n",
              "    }\n",
              "\n",
              "    .colab-df-convert {\n",
              "      background-color: #E8F0FE;\n",
              "      border: none;\n",
              "      border-radius: 50%;\n",
              "      cursor: pointer;\n",
              "      display: none;\n",
              "      fill: #1967D2;\n",
              "      height: 32px;\n",
              "      padding: 0 0 0 0;\n",
              "      width: 32px;\n",
              "    }\n",
              "\n",
              "    .colab-df-convert:hover {\n",
              "      background-color: #E2EBFA;\n",
              "      box-shadow: 0px 1px 2px rgba(60, 64, 67, 0.3), 0px 1px 3px 1px rgba(60, 64, 67, 0.15);\n",
              "      fill: #174EA6;\n",
              "    }\n",
              "\n",
              "    .colab-df-buttons div {\n",
              "      margin-bottom: 4px;\n",
              "    }\n",
              "\n",
              "    [theme=dark] .colab-df-convert {\n",
              "      background-color: #3B4455;\n",
              "      fill: #D2E3FC;\n",
              "    }\n",
              "\n",
              "    [theme=dark] .colab-df-convert:hover {\n",
              "      background-color: #434B5C;\n",
              "      box-shadow: 0px 1px 3px 1px rgba(0, 0, 0, 0.15);\n",
              "      filter: drop-shadow(0px 1px 2px rgba(0, 0, 0, 0.3));\n",
              "      fill: #FFFFFF;\n",
              "    }\n",
              "  </style>\n",
              "\n",
              "    <script>\n",
              "      const buttonEl =\n",
              "        document.querySelector('#df-7d9c4b44-17de-4816-8754-d3cd9544d4e4 button.colab-df-convert');\n",
              "      buttonEl.style.display =\n",
              "        google.colab.kernel.accessAllowed ? 'block' : 'none';\n",
              "\n",
              "      async function convertToInteractive(key) {\n",
              "        const element = document.querySelector('#df-7d9c4b44-17de-4816-8754-d3cd9544d4e4');\n",
              "        const dataTable =\n",
              "          await google.colab.kernel.invokeFunction('convertToInteractive',\n",
              "                                                    [key], {});\n",
              "        if (!dataTable) return;\n",
              "\n",
              "        const docLinkHtml = 'Like what you see? Visit the ' +\n",
              "          '<a target=\"_blank\" href=https://colab.research.google.com/notebooks/data_table.ipynb>data table notebook</a>'\n",
              "          + ' to learn more about interactive tables.';\n",
              "        element.innerHTML = '';\n",
              "        dataTable['output_type'] = 'display_data';\n",
              "        await google.colab.output.renderOutput(dataTable, element);\n",
              "        const docLink = document.createElement('div');\n",
              "        docLink.innerHTML = docLinkHtml;\n",
              "        element.appendChild(docLink);\n",
              "      }\n",
              "    </script>\n",
              "  </div>\n",
              "\n",
              "\n",
              "<div id=\"df-8fff3892-bc90-4115-9779-c62da0fb0ab5\">\n",
              "  <button class=\"colab-df-quickchart\" onclick=\"quickchart('df-8fff3892-bc90-4115-9779-c62da0fb0ab5')\"\n",
              "            title=\"Suggest charts\"\n",
              "            style=\"display:none;\">\n",
              "\n",
              "<svg xmlns=\"http://www.w3.org/2000/svg\" height=\"24px\"viewBox=\"0 0 24 24\"\n",
              "     width=\"24px\">\n",
              "    <g>\n",
              "        <path d=\"M19 3H5c-1.1 0-2 .9-2 2v14c0 1.1.9 2 2 2h14c1.1 0 2-.9 2-2V5c0-1.1-.9-2-2-2zM9 17H7v-7h2v7zm4 0h-2V7h2v10zm4 0h-2v-4h2v4z\"/>\n",
              "    </g>\n",
              "</svg>\n",
              "  </button>\n",
              "\n",
              "<style>\n",
              "  .colab-df-quickchart {\n",
              "      --bg-color: #E8F0FE;\n",
              "      --fill-color: #1967D2;\n",
              "      --hover-bg-color: #E2EBFA;\n",
              "      --hover-fill-color: #174EA6;\n",
              "      --disabled-fill-color: #AAA;\n",
              "      --disabled-bg-color: #DDD;\n",
              "  }\n",
              "\n",
              "  [theme=dark] .colab-df-quickchart {\n",
              "      --bg-color: #3B4455;\n",
              "      --fill-color: #D2E3FC;\n",
              "      --hover-bg-color: #434B5C;\n",
              "      --hover-fill-color: #FFFFFF;\n",
              "      --disabled-bg-color: #3B4455;\n",
              "      --disabled-fill-color: #666;\n",
              "  }\n",
              "\n",
              "  .colab-df-quickchart {\n",
              "    background-color: var(--bg-color);\n",
              "    border: none;\n",
              "    border-radius: 50%;\n",
              "    cursor: pointer;\n",
              "    display: none;\n",
              "    fill: var(--fill-color);\n",
              "    height: 32px;\n",
              "    padding: 0;\n",
              "    width: 32px;\n",
              "  }\n",
              "\n",
              "  .colab-df-quickchart:hover {\n",
              "    background-color: var(--hover-bg-color);\n",
              "    box-shadow: 0 1px 2px rgba(60, 64, 67, 0.3), 0 1px 3px 1px rgba(60, 64, 67, 0.15);\n",
              "    fill: var(--button-hover-fill-color);\n",
              "  }\n",
              "\n",
              "  .colab-df-quickchart-complete:disabled,\n",
              "  .colab-df-quickchart-complete:disabled:hover {\n",
              "    background-color: var(--disabled-bg-color);\n",
              "    fill: var(--disabled-fill-color);\n",
              "    box-shadow: none;\n",
              "  }\n",
              "\n",
              "  .colab-df-spinner {\n",
              "    border: 2px solid var(--fill-color);\n",
              "    border-color: transparent;\n",
              "    border-bottom-color: var(--fill-color);\n",
              "    animation:\n",
              "      spin 1s steps(1) infinite;\n",
              "  }\n",
              "\n",
              "  @keyframes spin {\n",
              "    0% {\n",
              "      border-color: transparent;\n",
              "      border-bottom-color: var(--fill-color);\n",
              "      border-left-color: var(--fill-color);\n",
              "    }\n",
              "    20% {\n",
              "      border-color: transparent;\n",
              "      border-left-color: var(--fill-color);\n",
              "      border-top-color: var(--fill-color);\n",
              "    }\n",
              "    30% {\n",
              "      border-color: transparent;\n",
              "      border-left-color: var(--fill-color);\n",
              "      border-top-color: var(--fill-color);\n",
              "      border-right-color: var(--fill-color);\n",
              "    }\n",
              "    40% {\n",
              "      border-color: transparent;\n",
              "      border-right-color: var(--fill-color);\n",
              "      border-top-color: var(--fill-color);\n",
              "    }\n",
              "    60% {\n",
              "      border-color: transparent;\n",
              "      border-right-color: var(--fill-color);\n",
              "    }\n",
              "    80% {\n",
              "      border-color: transparent;\n",
              "      border-right-color: var(--fill-color);\n",
              "      border-bottom-color: var(--fill-color);\n",
              "    }\n",
              "    90% {\n",
              "      border-color: transparent;\n",
              "      border-bottom-color: var(--fill-color);\n",
              "    }\n",
              "  }\n",
              "</style>\n",
              "\n",
              "  <script>\n",
              "    async function quickchart(key) {\n",
              "      const quickchartButtonEl =\n",
              "        document.querySelector('#' + key + ' button');\n",
              "      quickchartButtonEl.disabled = true;  // To prevent multiple clicks.\n",
              "      quickchartButtonEl.classList.add('colab-df-spinner');\n",
              "      try {\n",
              "        const charts = await google.colab.kernel.invokeFunction(\n",
              "            'suggestCharts', [key], {});\n",
              "      } catch (error) {\n",
              "        console.error('Error during call to suggestCharts:', error);\n",
              "      }\n",
              "      quickchartButtonEl.classList.remove('colab-df-spinner');\n",
              "      quickchartButtonEl.classList.add('colab-df-quickchart-complete');\n",
              "    }\n",
              "    (() => {\n",
              "      let quickchartButtonEl =\n",
              "        document.querySelector('#df-8fff3892-bc90-4115-9779-c62da0fb0ab5 button');\n",
              "      quickchartButtonEl.style.display =\n",
              "        google.colab.kernel.accessAllowed ? 'block' : 'none';\n",
              "    })();\n",
              "  </script>\n",
              "</div>\n",
              "    </div>\n",
              "  </div>\n"
            ]
          },
          "metadata": {},
          "execution_count": 52
        }
      ]
    },
    {
      "cell_type": "markdown",
      "source": [
        "#### Q1 A3 [6.6/10]"
      ],
      "metadata": {
        "id": "z0hO9Ap-Ph54"
      }
    },
    {
      "cell_type": "code",
      "source": [
        "# set up prameters\n",
        "answer_num = 3\n",
        "ind = answer_num-1\n",
        "\n",
        "qa_comb_num = qa_comb.comb_num[ind]\n",
        "\n",
        "q_a = qa_comb.question_answer[ind]"
      ],
      "metadata": {
        "id": "6cZa6ogNPh55"
      },
      "execution_count": 53,
      "outputs": []
    },
    {
      "cell_type": "code",
      "source": [
        "new_prompt_13 = prompt_11.format(interview_questions = inter_q,\n",
        "                                 question_answers = q_a,\n",
        "                                 role_title = job_title,\n",
        "                                 role_description = job_des,\n",
        "                                 company_name = comp_name,\n",
        "                                 company_description = comp_des)\n",
        "result_13 = chat([HumanMessage(content=new_prompt_13)])"
      ],
      "metadata": {
        "id": "S-mgM_V0Ph55"
      },
      "execution_count": 54,
      "outputs": []
    },
    {
      "cell_type": "code",
      "source": [
        "print(result_13.content)"
      ],
      "metadata": {
        "colab": {
          "base_uri": "https://localhost:8080/"
        },
        "outputId": "0d529275-58bc-41fd-e7d7-d0c6362d5035",
        "id": "_ym-DYaZPh55"
      },
      "execution_count": 55,
      "outputs": [
        {
          "output_type": "stream",
          "name": "stdout",
          "text": [
            "Relevance to Question: 9/10\n",
            "The candidate directly addresses the question by describing a specific project they worked on and their role in it. However, they could have expanded more on the challenges they faced.\n",
            "\n",
            "Technical Skills: 5/10\n",
            "The candidate mentions working on a data migration project, which shows some technical competency. However, they do not mention any specific technical skills or tools used, such as AI or ML as required in the job description.\n",
            "\n",
            "Problem-Solving Abilities: 5/10\n",
            "The candidate doesn't clearly specify any problems they encountered or how they solved them. They only mention wishing they had a more active role, which doesn't provide insight into their problem-solving abilities.\n",
            "\n",
            "Communication Skills: 8/10\n",
            "The candidate communicates their thoughts in a clear and concise manner. However, they could have expanded more on their experience and the challenges they faced.\n",
            "\n",
            "Cultural Fit: 6/10\n",
            "The candidate demonstrates a willingness to learn and receive feedback, aligning with S&P Global's culture of continuous growth and innovation. However, they do not mention any specific values or aspects of the company culture.\n",
            "\n",
            "Adaptability: 6/10\n",
            "The candidate shows some adaptability by working in a supporting role and desiring more involvement. However, they do not provide specific examples of adapting to change or unforeseen challenges.\n",
            "\n",
            "Teamwork and Collaboration: 7/10\n",
            "The candidate demonstrates good teamwork skills by working with senior analysts and seeking feedback. However, they do not mention any specific collaboration efforts or outcomes.\n",
            "\n",
            "Leadership Qualities: N/A\n",
            "The question does not ask about and the candidate does not mention any leadership experiences.\n",
            "\n",
            "Overall, the candidate's answer shows potential but lacks specific examples and details. They should try to provide more concrete instances of their technical skills, problem-solving abilities, adaptability, and teamwork. The answer could also benefit from explicit mentions of the company's values and culture to demonstrate a good fit.\n"
          ]
        }
      ]
    },
    {
      "cell_type": "markdown",
      "source": [
        "##### store output"
      ],
      "metadata": {
        "id": "iuqTP9fJPh56"
      }
    },
    {
      "cell_type": "code",
      "source": [
        "# ex_model, qa_comb_num, var_comb_num, template_1, result_13.content\n",
        "\n",
        "new_prompt_result = pd.DataFrame({\n",
        "    'model': [ex_model],\n",
        "    'question_answer_combination': [qa_comb_num],\n",
        "    'variable_combination': [var_comb_num],\n",
        "    'template': [template_1],\n",
        "    'output': [result_13.content]\n",
        "})\n",
        "\n",
        "prompt_result = pd.concat([prompt_result, new_prompt_result], ignore_index=True)"
      ],
      "metadata": {
        "id": "Gp-LNSgWPh56"
      },
      "execution_count": 56,
      "outputs": []
    },
    {
      "cell_type": "code",
      "source": [
        "prompt_result"
      ],
      "metadata": {
        "colab": {
          "base_uri": "https://localhost:8080/",
          "height": 196
        },
        "outputId": "ce201917-95c2-4f58-db89-12a78cf17c03",
        "id": "LYe_IYY1Ph56"
      },
      "execution_count": 57,
      "outputs": [
        {
          "output_type": "execute_result",
          "data": {
            "text/plain": [
              "   model question_answer_combination variable_combination  \\\n",
              "0  gpt_4                           1                    1   \n",
              "1  gpt_4                           2                    1   \n",
              "2  gpt_4                           3                    1   \n",
              "\n",
              "                                            template  \\\n",
              "0  \\nYou are an expert evaluator of interview res...   \n",
              "1  \\nYou are an expert evaluator of interview res...   \n",
              "2  \\nYou are an expert evaluator of interview res...   \n",
              "\n",
              "                                              output  \n",
              "0  Relevance to Question: \\nScore: 10/10 \\nFeedba...  \n",
              "1  Relevance to Question: 10/10\\nThe candidate's ...  \n",
              "2  Relevance to Question: 9/10\\nThe candidate dir...  "
            ],
            "text/html": [
              "\n",
              "  <div id=\"df-80fc7c3d-349d-4e08-9997-36399cff518f\" class=\"colab-df-container\">\n",
              "    <div>\n",
              "<style scoped>\n",
              "    .dataframe tbody tr th:only-of-type {\n",
              "        vertical-align: middle;\n",
              "    }\n",
              "\n",
              "    .dataframe tbody tr th {\n",
              "        vertical-align: top;\n",
              "    }\n",
              "\n",
              "    .dataframe thead th {\n",
              "        text-align: right;\n",
              "    }\n",
              "</style>\n",
              "<table border=\"1\" class=\"dataframe\">\n",
              "  <thead>\n",
              "    <tr style=\"text-align: right;\">\n",
              "      <th></th>\n",
              "      <th>model</th>\n",
              "      <th>question_answer_combination</th>\n",
              "      <th>variable_combination</th>\n",
              "      <th>template</th>\n",
              "      <th>output</th>\n",
              "    </tr>\n",
              "  </thead>\n",
              "  <tbody>\n",
              "    <tr>\n",
              "      <th>0</th>\n",
              "      <td>gpt_4</td>\n",
              "      <td>1</td>\n",
              "      <td>1</td>\n",
              "      <td>\\nYou are an expert evaluator of interview res...</td>\n",
              "      <td>Relevance to Question: \\nScore: 10/10 \\nFeedba...</td>\n",
              "    </tr>\n",
              "    <tr>\n",
              "      <th>1</th>\n",
              "      <td>gpt_4</td>\n",
              "      <td>2</td>\n",
              "      <td>1</td>\n",
              "      <td>\\nYou are an expert evaluator of interview res...</td>\n",
              "      <td>Relevance to Question: 10/10\\nThe candidate's ...</td>\n",
              "    </tr>\n",
              "    <tr>\n",
              "      <th>2</th>\n",
              "      <td>gpt_4</td>\n",
              "      <td>3</td>\n",
              "      <td>1</td>\n",
              "      <td>\\nYou are an expert evaluator of interview res...</td>\n",
              "      <td>Relevance to Question: 9/10\\nThe candidate dir...</td>\n",
              "    </tr>\n",
              "  </tbody>\n",
              "</table>\n",
              "</div>\n",
              "    <div class=\"colab-df-buttons\">\n",
              "\n",
              "  <div class=\"colab-df-container\">\n",
              "    <button class=\"colab-df-convert\" onclick=\"convertToInteractive('df-80fc7c3d-349d-4e08-9997-36399cff518f')\"\n",
              "            title=\"Convert this dataframe to an interactive table.\"\n",
              "            style=\"display:none;\">\n",
              "\n",
              "  <svg xmlns=\"http://www.w3.org/2000/svg\" height=\"24px\" viewBox=\"0 -960 960 960\">\n",
              "    <path d=\"M120-120v-720h720v720H120Zm60-500h600v-160H180v160Zm220 220h160v-160H400v160Zm0 220h160v-160H400v160ZM180-400h160v-160H180v160Zm440 0h160v-160H620v160ZM180-180h160v-160H180v160Zm440 0h160v-160H620v160Z\"/>\n",
              "  </svg>\n",
              "    </button>\n",
              "\n",
              "  <style>\n",
              "    .colab-df-container {\n",
              "      display:flex;\n",
              "      gap: 12px;\n",
              "    }\n",
              "\n",
              "    .colab-df-convert {\n",
              "      background-color: #E8F0FE;\n",
              "      border: none;\n",
              "      border-radius: 50%;\n",
              "      cursor: pointer;\n",
              "      display: none;\n",
              "      fill: #1967D2;\n",
              "      height: 32px;\n",
              "      padding: 0 0 0 0;\n",
              "      width: 32px;\n",
              "    }\n",
              "\n",
              "    .colab-df-convert:hover {\n",
              "      background-color: #E2EBFA;\n",
              "      box-shadow: 0px 1px 2px rgba(60, 64, 67, 0.3), 0px 1px 3px 1px rgba(60, 64, 67, 0.15);\n",
              "      fill: #174EA6;\n",
              "    }\n",
              "\n",
              "    .colab-df-buttons div {\n",
              "      margin-bottom: 4px;\n",
              "    }\n",
              "\n",
              "    [theme=dark] .colab-df-convert {\n",
              "      background-color: #3B4455;\n",
              "      fill: #D2E3FC;\n",
              "    }\n",
              "\n",
              "    [theme=dark] .colab-df-convert:hover {\n",
              "      background-color: #434B5C;\n",
              "      box-shadow: 0px 1px 3px 1px rgba(0, 0, 0, 0.15);\n",
              "      filter: drop-shadow(0px 1px 2px rgba(0, 0, 0, 0.3));\n",
              "      fill: #FFFFFF;\n",
              "    }\n",
              "  </style>\n",
              "\n",
              "    <script>\n",
              "      const buttonEl =\n",
              "        document.querySelector('#df-80fc7c3d-349d-4e08-9997-36399cff518f button.colab-df-convert');\n",
              "      buttonEl.style.display =\n",
              "        google.colab.kernel.accessAllowed ? 'block' : 'none';\n",
              "\n",
              "      async function convertToInteractive(key) {\n",
              "        const element = document.querySelector('#df-80fc7c3d-349d-4e08-9997-36399cff518f');\n",
              "        const dataTable =\n",
              "          await google.colab.kernel.invokeFunction('convertToInteractive',\n",
              "                                                    [key], {});\n",
              "        if (!dataTable) return;\n",
              "\n",
              "        const docLinkHtml = 'Like what you see? Visit the ' +\n",
              "          '<a target=\"_blank\" href=https://colab.research.google.com/notebooks/data_table.ipynb>data table notebook</a>'\n",
              "          + ' to learn more about interactive tables.';\n",
              "        element.innerHTML = '';\n",
              "        dataTable['output_type'] = 'display_data';\n",
              "        await google.colab.output.renderOutput(dataTable, element);\n",
              "        const docLink = document.createElement('div');\n",
              "        docLink.innerHTML = docLinkHtml;\n",
              "        element.appendChild(docLink);\n",
              "      }\n",
              "    </script>\n",
              "  </div>\n",
              "\n",
              "\n",
              "<div id=\"df-d5e42536-1b44-41d6-a47f-308112ead6e0\">\n",
              "  <button class=\"colab-df-quickchart\" onclick=\"quickchart('df-d5e42536-1b44-41d6-a47f-308112ead6e0')\"\n",
              "            title=\"Suggest charts\"\n",
              "            style=\"display:none;\">\n",
              "\n",
              "<svg xmlns=\"http://www.w3.org/2000/svg\" height=\"24px\"viewBox=\"0 0 24 24\"\n",
              "     width=\"24px\">\n",
              "    <g>\n",
              "        <path d=\"M19 3H5c-1.1 0-2 .9-2 2v14c0 1.1.9 2 2 2h14c1.1 0 2-.9 2-2V5c0-1.1-.9-2-2-2zM9 17H7v-7h2v7zm4 0h-2V7h2v10zm4 0h-2v-4h2v4z\"/>\n",
              "    </g>\n",
              "</svg>\n",
              "  </button>\n",
              "\n",
              "<style>\n",
              "  .colab-df-quickchart {\n",
              "      --bg-color: #E8F0FE;\n",
              "      --fill-color: #1967D2;\n",
              "      --hover-bg-color: #E2EBFA;\n",
              "      --hover-fill-color: #174EA6;\n",
              "      --disabled-fill-color: #AAA;\n",
              "      --disabled-bg-color: #DDD;\n",
              "  }\n",
              "\n",
              "  [theme=dark] .colab-df-quickchart {\n",
              "      --bg-color: #3B4455;\n",
              "      --fill-color: #D2E3FC;\n",
              "      --hover-bg-color: #434B5C;\n",
              "      --hover-fill-color: #FFFFFF;\n",
              "      --disabled-bg-color: #3B4455;\n",
              "      --disabled-fill-color: #666;\n",
              "  }\n",
              "\n",
              "  .colab-df-quickchart {\n",
              "    background-color: var(--bg-color);\n",
              "    border: none;\n",
              "    border-radius: 50%;\n",
              "    cursor: pointer;\n",
              "    display: none;\n",
              "    fill: var(--fill-color);\n",
              "    height: 32px;\n",
              "    padding: 0;\n",
              "    width: 32px;\n",
              "  }\n",
              "\n",
              "  .colab-df-quickchart:hover {\n",
              "    background-color: var(--hover-bg-color);\n",
              "    box-shadow: 0 1px 2px rgba(60, 64, 67, 0.3), 0 1px 3px 1px rgba(60, 64, 67, 0.15);\n",
              "    fill: var(--button-hover-fill-color);\n",
              "  }\n",
              "\n",
              "  .colab-df-quickchart-complete:disabled,\n",
              "  .colab-df-quickchart-complete:disabled:hover {\n",
              "    background-color: var(--disabled-bg-color);\n",
              "    fill: var(--disabled-fill-color);\n",
              "    box-shadow: none;\n",
              "  }\n",
              "\n",
              "  .colab-df-spinner {\n",
              "    border: 2px solid var(--fill-color);\n",
              "    border-color: transparent;\n",
              "    border-bottom-color: var(--fill-color);\n",
              "    animation:\n",
              "      spin 1s steps(1) infinite;\n",
              "  }\n",
              "\n",
              "  @keyframes spin {\n",
              "    0% {\n",
              "      border-color: transparent;\n",
              "      border-bottom-color: var(--fill-color);\n",
              "      border-left-color: var(--fill-color);\n",
              "    }\n",
              "    20% {\n",
              "      border-color: transparent;\n",
              "      border-left-color: var(--fill-color);\n",
              "      border-top-color: var(--fill-color);\n",
              "    }\n",
              "    30% {\n",
              "      border-color: transparent;\n",
              "      border-left-color: var(--fill-color);\n",
              "      border-top-color: var(--fill-color);\n",
              "      border-right-color: var(--fill-color);\n",
              "    }\n",
              "    40% {\n",
              "      border-color: transparent;\n",
              "      border-right-color: var(--fill-color);\n",
              "      border-top-color: var(--fill-color);\n",
              "    }\n",
              "    60% {\n",
              "      border-color: transparent;\n",
              "      border-right-color: var(--fill-color);\n",
              "    }\n",
              "    80% {\n",
              "      border-color: transparent;\n",
              "      border-right-color: var(--fill-color);\n",
              "      border-bottom-color: var(--fill-color);\n",
              "    }\n",
              "    90% {\n",
              "      border-color: transparent;\n",
              "      border-bottom-color: var(--fill-color);\n",
              "    }\n",
              "  }\n",
              "</style>\n",
              "\n",
              "  <script>\n",
              "    async function quickchart(key) {\n",
              "      const quickchartButtonEl =\n",
              "        document.querySelector('#' + key + ' button');\n",
              "      quickchartButtonEl.disabled = true;  // To prevent multiple clicks.\n",
              "      quickchartButtonEl.classList.add('colab-df-spinner');\n",
              "      try {\n",
              "        const charts = await google.colab.kernel.invokeFunction(\n",
              "            'suggestCharts', [key], {});\n",
              "      } catch (error) {\n",
              "        console.error('Error during call to suggestCharts:', error);\n",
              "      }\n",
              "      quickchartButtonEl.classList.remove('colab-df-spinner');\n",
              "      quickchartButtonEl.classList.add('colab-df-quickchart-complete');\n",
              "    }\n",
              "    (() => {\n",
              "      let quickchartButtonEl =\n",
              "        document.querySelector('#df-d5e42536-1b44-41d6-a47f-308112ead6e0 button');\n",
              "      quickchartButtonEl.style.display =\n",
              "        google.colab.kernel.accessAllowed ? 'block' : 'none';\n",
              "    })();\n",
              "  </script>\n",
              "</div>\n",
              "    </div>\n",
              "  </div>\n"
            ]
          },
          "metadata": {},
          "execution_count": 57
        }
      ]
    },
    {
      "cell_type": "markdown",
      "source": [
        "#### [checkpoint] output data"
      ],
      "metadata": {
        "id": "d5iSv-6WUjqD"
      }
    },
    {
      "cell_type": "code",
      "source": [
        "#prompt_result\n",
        "prompt_result.to_csv(\"/content/drive/MyDrive/Capstone Project - Mock Interview App/answer_evaluation_prompt_result.csv\", index=False)"
      ],
      "metadata": {
        "id": "pwqF-XOTRTWm"
      },
      "execution_count": 60,
      "outputs": []
    },
    {
      "cell_type": "code",
      "source": [
        "#qa_comb\n",
        "qa_comb.to_csv(\"/content/drive/MyDrive/Capstone Project - Mock Interview App/interview_question_answer_combination.csv\", index=False)"
      ],
      "metadata": {
        "id": "GCi9HLUERa9W"
      },
      "execution_count": 61,
      "outputs": []
    },
    {
      "cell_type": "markdown",
      "source": [
        "# -> Checkpoint End [2023.11.13]\n",
        "[To avoid rerun the previous code, we will output above info into .csv files that we create. So next time when we come back, we can just start from this checkpoint.]"
      ],
      "metadata": {
        "id": "YFuEUmAHQosG"
      }
    },
    {
      "cell_type": "markdown",
      "source": [
        "## Prompt 1"
      ],
      "metadata": {
        "id": "DSrf2WsYU5Sq"
      }
    },
    {
      "cell_type": "markdown",
      "source": [
        "### Code"
      ],
      "metadata": {
        "id": "7xUPWnDZU3Rw"
      }
    },
    {
      "cell_type": "markdown",
      "source": [
        "#### Q1 A5 [4/10]"
      ],
      "metadata": {
        "id": "Uav40vPHUyUE"
      }
    },
    {
      "cell_type": "code",
      "source": [
        "# set up prameters\n",
        "answer_num = 5\n",
        "ind = answer_num-1\n",
        "\n",
        "qa_comb_num = qa_comb.comb_num[ind]\n",
        "\n",
        "inter_q = qa_comb.interview_question[ind]\n",
        "q_a = qa_comb.question_answer[ind]"
      ],
      "metadata": {
        "colab": {
          "base_uri": "https://localhost:8080/",
          "height": 250
        },
        "id": "mRmC6fe1UyUE",
        "outputId": "23551123-56a3-45bb-81b0-48f53d615f47"
      },
      "execution_count": 1,
      "outputs": [
        {
          "output_type": "error",
          "ename": "NameError",
          "evalue": "ignored",
          "traceback": [
            "\u001b[0;31m---------------------------------------------------------------------------\u001b[0m",
            "\u001b[0;31mNameError\u001b[0m                                 Traceback (most recent call last)",
            "\u001b[0;32m<ipython-input-1-7d289497e83d>\u001b[0m in \u001b[0;36m<cell line: 5>\u001b[0;34m()\u001b[0m\n\u001b[1;32m      3\u001b[0m \u001b[0mind\u001b[0m \u001b[0;34m=\u001b[0m \u001b[0manswer_num\u001b[0m\u001b[0;34m-\u001b[0m\u001b[0;36m1\u001b[0m\u001b[0;34m\u001b[0m\u001b[0;34m\u001b[0m\u001b[0m\n\u001b[1;32m      4\u001b[0m \u001b[0;34m\u001b[0m\u001b[0m\n\u001b[0;32m----> 5\u001b[0;31m \u001b[0mqa_comb_num\u001b[0m \u001b[0;34m=\u001b[0m \u001b[0mqa_comb\u001b[0m\u001b[0;34m.\u001b[0m\u001b[0mcomb_num\u001b[0m\u001b[0;34m[\u001b[0m\u001b[0mind\u001b[0m\u001b[0;34m]\u001b[0m\u001b[0;34m\u001b[0m\u001b[0;34m\u001b[0m\u001b[0m\n\u001b[0m\u001b[1;32m      6\u001b[0m \u001b[0;34m\u001b[0m\u001b[0m\n\u001b[1;32m      7\u001b[0m \u001b[0minter_q\u001b[0m \u001b[0;34m=\u001b[0m \u001b[0mqa_comb\u001b[0m\u001b[0;34m.\u001b[0m\u001b[0minterview_question\u001b[0m\u001b[0;34m[\u001b[0m\u001b[0mind\u001b[0m\u001b[0;34m]\u001b[0m\u001b[0;34m\u001b[0m\u001b[0;34m\u001b[0m\u001b[0m\n",
            "\u001b[0;31mNameError\u001b[0m: name 'qa_comb' is not defined"
          ]
        }
      ]
    },
    {
      "cell_type": "code",
      "source": [
        "inter_q"
      ],
      "metadata": {
        "colab": {
          "base_uri": "https://localhost:8080/",
          "height": 179
        },
        "id": "2bek8_3Q78Li",
        "outputId": "d4303832-586b-4923-bbd7-743a164cf860"
      },
      "execution_count": 2,
      "outputs": [
        {
          "output_type": "error",
          "ename": "NameError",
          "evalue": "ignored",
          "traceback": [
            "\u001b[0;31m---------------------------------------------------------------------------\u001b[0m",
            "\u001b[0;31mNameError\u001b[0m                                 Traceback (most recent call last)",
            "\u001b[0;32m<ipython-input-2-c9497486f788>\u001b[0m in \u001b[0;36m<cell line: 1>\u001b[0;34m()\u001b[0m\n\u001b[0;32m----> 1\u001b[0;31m \u001b[0minter_q\u001b[0m\u001b[0;34m\u001b[0m\u001b[0;34m\u001b[0m\u001b[0m\n\u001b[0m",
            "\u001b[0;31mNameError\u001b[0m: name 'inter_q' is not defined"
          ]
        }
      ]
    },
    {
      "cell_type": "code",
      "source": [
        "q_a"
      ],
      "metadata": {
        "id": "Y_TJhfeaVgtF"
      },
      "execution_count": null,
      "outputs": []
    },
    {
      "cell_type": "code",
      "source": [
        "new_prompt = prompt_11.format(interview_questions = inter_q,\n",
        "                                 question_answers = q_a,\n",
        "                                 role_title = job_title,\n",
        "                                 role_description = job_des,\n",
        "                                 company_name = comp_name,\n",
        "                                 company_description = comp_des)\n",
        "result = chat([HumanMessage(content=new_prompt)])"
      ],
      "metadata": {
        "id": "JNPq3OkwUyUF"
      },
      "execution_count": null,
      "outputs": []
    },
    {
      "cell_type": "code",
      "source": [
        "print(result.content)"
      ],
      "metadata": {
        "id": "p_pCGu4MUyUF"
      },
      "execution_count": null,
      "outputs": []
    },
    {
      "cell_type": "markdown",
      "source": [
        "##### store output"
      ],
      "metadata": {
        "id": "ov50x0jdUyUF"
      }
    },
    {
      "cell_type": "code",
      "source": [
        "# ex_model, qa_comb_num, var_comb_num, template_1, result.content\n",
        "\n",
        "new_prompt_result = pd.DataFrame({\n",
        "    'model': [ex_model],\n",
        "    'question_answer_combination': [qa_comb_num],\n",
        "    'variable_combination': [var_comb_num],\n",
        "    'template': [template_1],\n",
        "    'output': [result.content]\n",
        "})\n",
        "\n",
        "prompt_result = pd.concat([prompt_result, new_prompt_result], ignore_index=True)"
      ],
      "metadata": {
        "id": "gnD5AwwiUyUF"
      },
      "execution_count": null,
      "outputs": []
    },
    {
      "cell_type": "code",
      "source": [
        "prompt_result"
      ],
      "metadata": {
        "id": "aTURY-rpUyUF"
      },
      "execution_count": null,
      "outputs": []
    },
    {
      "cell_type": "code",
      "source": [],
      "metadata": {
        "id": "fho7Hu3r9Vqy"
      },
      "execution_count": null,
      "outputs": []
    },
    {
      "cell_type": "markdown",
      "source": [
        "#### Q2 A4 [5.2/10]"
      ],
      "metadata": {
        "id": "bhikthP09WMr"
      }
    },
    {
      "cell_type": "code",
      "source": [
        "# set up prameters\n",
        "question_num = 2\n",
        "answer_num = 4\n",
        "ind = (question_num-1) * 8 + answer_num - 1\n",
        "\n",
        "qa_comb_num = qa_comb.comb_num[ind]\n",
        "\n",
        "inter_q = qa_comb.interview_question[ind]\n",
        "q_a = qa_comb.question_answer[ind]"
      ],
      "metadata": {
        "id": "HxKzpEif9WMu"
      },
      "execution_count": null,
      "outputs": []
    },
    {
      "cell_type": "code",
      "source": [
        "inter_q"
      ],
      "metadata": {
        "id": "I-4bcdgt9WMu"
      },
      "execution_count": null,
      "outputs": []
    },
    {
      "cell_type": "code",
      "source": [
        "q_a"
      ],
      "metadata": {
        "id": "5rbXDszk9WMv"
      },
      "execution_count": null,
      "outputs": []
    },
    {
      "cell_type": "code",
      "source": [
        "new_prompt = prompt_11.format(interview_questions = inter_q,\n",
        "                                 question_answers = q_a,\n",
        "                                 role_title = job_title,\n",
        "                                 role_description = job_des,\n",
        "                                 company_name = comp_name,\n",
        "                                 company_description = comp_des)\n",
        "result = chat([HumanMessage(content=new_prompt)])"
      ],
      "metadata": {
        "id": "zrNY_ssc9WMv"
      },
      "execution_count": null,
      "outputs": []
    },
    {
      "cell_type": "code",
      "source": [
        "print(result.content)"
      ],
      "metadata": {
        "id": "JgH8t7Q49WMv"
      },
      "execution_count": null,
      "outputs": []
    },
    {
      "cell_type": "markdown",
      "source": [
        "##### store output"
      ],
      "metadata": {
        "id": "I-SS65ut9WMv"
      }
    },
    {
      "cell_type": "code",
      "source": [
        "# ex_model, qa_comb_num, var_comb_num, template_1, result.content\n",
        "\n",
        "new_prompt_result = pd.DataFrame({\n",
        "    'model': [ex_model],\n",
        "    'question_answer_combination': [qa_comb_num],\n",
        "    'variable_combination': [var_comb_num],\n",
        "    'template': [template_1],\n",
        "    'output': [result.content]\n",
        "})\n",
        "\n",
        "prompt_result = pd.concat([prompt_result, new_prompt_result], ignore_index=True)"
      ],
      "metadata": {
        "id": "rEcdLgH79WMv"
      },
      "execution_count": null,
      "outputs": []
    },
    {
      "cell_type": "code",
      "source": [
        "prompt_result"
      ],
      "metadata": {
        "id": "qxEeavJq9WMv"
      },
      "execution_count": null,
      "outputs": []
    },
    {
      "cell_type": "markdown",
      "source": [
        "#### Q3 A7 [7.3/10]"
      ],
      "metadata": {
        "id": "77l1mDR1_n4C"
      }
    },
    {
      "cell_type": "code",
      "source": [
        "# set up prameters\n",
        "question_num = 3\n",
        "answer_num = 7\n",
        "ind = (question_num-1) * 8 + answer_num - 1\n",
        "\n",
        "qa_comb_num = qa_comb.comb_num[ind]\n",
        "\n",
        "inter_q = qa_comb.interview_question[ind]\n",
        "q_a = qa_comb.question_answer[ind]"
      ],
      "metadata": {
        "id": "hu15N6_b_n4M"
      },
      "execution_count": null,
      "outputs": []
    },
    {
      "cell_type": "code",
      "source": [
        "inter_q"
      ],
      "metadata": {
        "id": "j-3xgYVR_n4M"
      },
      "execution_count": null,
      "outputs": []
    },
    {
      "cell_type": "code",
      "source": [
        "q_a"
      ],
      "metadata": {
        "id": "Pvv-OOIh_n4N"
      },
      "execution_count": null,
      "outputs": []
    },
    {
      "cell_type": "code",
      "source": [
        "new_prompt = prompt_11.format(interview_questions = inter_q,\n",
        "                                 question_answers = q_a,\n",
        "                                 role_title = job_title,\n",
        "                                 role_description = job_des,\n",
        "                                 company_name = comp_name,\n",
        "                                 company_description = comp_des)\n",
        "result = chat([HumanMessage(content=new_prompt)])"
      ],
      "metadata": {
        "id": "rOb9jAkD_n4N"
      },
      "execution_count": null,
      "outputs": []
    },
    {
      "cell_type": "code",
      "source": [
        "print(result.content)"
      ],
      "metadata": {
        "id": "P4bpY21r_n4N"
      },
      "execution_count": null,
      "outputs": []
    },
    {
      "cell_type": "markdown",
      "source": [
        "##### store output"
      ],
      "metadata": {
        "id": "Eo4vSzy7_n4N"
      }
    },
    {
      "cell_type": "code",
      "source": [
        "# ex_model, qa_comb_num, var_comb_num, template_1, result.content\n",
        "\n",
        "new_prompt_result = pd.DataFrame({\n",
        "    'model': [ex_model],\n",
        "    'question_answer_combination': [qa_comb_num],\n",
        "    'variable_combination': [var_comb_num],\n",
        "    'template': [template_1],\n",
        "    'output': [result.content]\n",
        "})\n",
        "\n",
        "prompt_result = pd.concat([prompt_result, new_prompt_result], ignore_index=True)"
      ],
      "metadata": {
        "id": "Fw5FXL2h_n4N"
      },
      "execution_count": null,
      "outputs": []
    },
    {
      "cell_type": "code",
      "source": [
        "prompt_result"
      ],
      "metadata": {
        "id": "jkKQ4Yz0_n4N"
      },
      "execution_count": null,
      "outputs": []
    },
    {
      "cell_type": "markdown",
      "source": [
        "#### output data"
      ],
      "metadata": {
        "id": "npCXzBRfCCHW"
      }
    },
    {
      "cell_type": "code",
      "source": [
        "#prompt_result\n",
        "prompt_result.to_csv(\"/content/drive/MyDrive/Capstone Project - Mock Interview App/answer_evaluation_prompt_result.csv\", index=False)"
      ],
      "metadata": {
        "id": "fu7M6l5SCNgY"
      },
      "execution_count": null,
      "outputs": []
    },
    {
      "cell_type": "markdown",
      "source": [
        "# -> Checkpoint End [2023.11.14 12:17PM]"
      ],
      "metadata": {
        "id": "MZvZ-CrwDSXh"
      }
    },
    {
      "cell_type": "markdown",
      "source": [
        "# **Continue at 1_5_2_answer_evaluation_prompt_behavioral_question.ipynb**"
      ],
      "metadata": {
        "id": "uANX3v-NiFDZ"
      }
    },
    {
      "cell_type": "code",
      "source": [],
      "metadata": {
        "id": "kvmZiL2Hig2x"
      },
      "execution_count": null,
      "outputs": []
    }
  ]
}