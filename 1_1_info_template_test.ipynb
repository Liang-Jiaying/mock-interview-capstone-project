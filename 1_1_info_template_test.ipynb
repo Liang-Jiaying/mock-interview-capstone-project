{
  "nbformat": 4,
  "nbformat_minor": 0,
  "metadata": {
    "colab": {
      "provenance": [],
      "gpuType": "T4",
      "collapsed_sections": [
        "RD69SK0-yyhe",
        "2Qd3PINI3-eq",
        "-1uFpxj4zkAs"
      ]
    },
    "kernelspec": {
      "name": "python3",
      "display_name": "Python 3"
    },
    "language_info": {
      "name": "python"
    },
    "accelerator": "GPU"
  },
  "cells": [
    {
      "cell_type": "markdown",
      "source": [
        "# <font color=\"Blue\">Abstract</font>\n",
        "\n",
        "In this notebook, we delve into the utilization of LangChain and its 'prompt template' function.\n",
        "\n",
        "**<font color=\"red\">Our goal</font>** is to craft an effective prompt tailored to reviewing resumes in the context of specific jobs and companies.  \n",
        "\n",
        "We used following knowledge:  \n",
        "Prompt Engineering Skills:\n",
        "1. Persona pattern (prompt 1)\n",
        "2. Audience persona pattern (prompt 2)\n",
        "3. Question refinement pattern (prompt 3, prompt 4, prompt 5)\n"
      ],
      "metadata": {
        "id": "u_C7hUfTOg7J"
      }
    },
    {
      "cell_type": "markdown",
      "source": [
        "# Install packages"
      ],
      "metadata": {
        "id": "aQb6EpJFK7X9"
      }
    },
    {
      "cell_type": "code",
      "execution_count": null,
      "metadata": {
        "id": "rbZ4DHzuhD-U"
      },
      "outputs": [],
      "source": [
        "# Download required packages to Colab\n",
        "!pip install -q langchain\n",
        "!pip install -q openai\n",
        "!pip install -q chromadb\n",
        "!pip install -q tiktoken\n",
        "!pip install -q duckduckgo-search"
      ]
    },
    {
      "cell_type": "markdown",
      "source": [
        "# Import library"
      ],
      "metadata": {
        "id": "EooGGdCMK_5S"
      }
    },
    {
      "cell_type": "code",
      "source": [
        "from langchain.llms import OpenAI\n",
        "from langchain.chat_models import ChatOpenAI\n",
        "from langchain.prompts.few_shot import FewShotPromptTemplate\n",
        "from langchain.prompts import PromptTemplate\n",
        "from langchain.prompts import ChatPromptTemplate\n",
        "from langchain.chains import LLMChain, RetrievalQA\n",
        "from langchain import ConversationChain\n",
        "from langchain.agents import load_tools, initialize_agent, AgentType\n",
        "from langchain.document_loaders import TextLoader\n",
        "from langchain.indexes import VectorstoreIndexCreator\n",
        "from langchain.text_splitter import CharacterTextSplitter\n",
        "from langchain.embeddings import OpenAIEmbeddings\n",
        "from langchain.tools import DuckDuckGoSearchRun\n",
        "from langchain.utilities.duckduckgo_search import DuckDuckGoSearchAPIWrapper\n",
        "import os\n",
        "from getpass import getpass\n",
        "\n",
        "from langchain.prompts import ChatPromptTemplate, HumanMessagePromptTemplate\n",
        "from langchain.schema import HumanMessage, AIMessage, SystemMessage"
      ],
      "metadata": {
        "id": "D5c2BkjEKQUl"
      },
      "execution_count": null,
      "outputs": []
    },
    {
      "cell_type": "markdown",
      "source": [
        "# OpenAI API key"
      ],
      "metadata": {
        "id": "0J28vyJ9LFMm"
      }
    },
    {
      "cell_type": "code",
      "source": [
        "openai_api_key = getpass()\n",
        "os.environ[\"OPENAI_API_KEY\"] = openai_api_key"
      ],
      "metadata": {
        "colab": {
          "base_uri": "https://localhost:8080/"
        },
        "id": "O5EQGgjnKjUb",
        "outputId": "bfcc7299-65db-48ae-c3eb-f77c570bb914"
      },
      "execution_count": null,
      "outputs": [
        {
          "name": "stdout",
          "output_type": "stream",
          "text": [
            "··········\n"
          ]
        }
      ]
    },
    {
      "cell_type": "markdown",
      "source": [
        "# Connect with Google Drive"
      ],
      "metadata": {
        "id": "_8iSoohHyC8N"
      }
    },
    {
      "cell_type": "markdown",
      "source": [
        "# Create a .csv file to collect all template and results"
      ],
      "metadata": {
        "id": "o0UOtSRlwEAZ"
      }
    },
    {
      "cell_type": "code",
      "source": [
        "import csv\n",
        "\n",
        "with open('/content/drive/MyDrive/Capstone Project - Mock Interview App/prompt_result.csv', 'w', newline='') as csvfile:\n",
        "    fieldnames = ['model', 'variable_combination', 'template', 'output']\n",
        "    writer = csv.DictWriter(csvfile, fieldnames=fieldnames)\n",
        "\n",
        "    writer.writeheader()\n",
        "    #writer.writerow({'input': user_input, 'output': result})"
      ],
      "metadata": {
        "id": "B8igpyrgwQKF"
      },
      "execution_count": null,
      "outputs": []
    },
    {
      "cell_type": "code",
      "source": [
        "with open('/content/drive/MyDrive/Capstone Project - Mock Interview App/variable_combination.csv', 'w', newline='') as csvfile:\n",
        "    fieldnames = ['comb_num','interviewer_role','company_name','resume','role_title','role_description','company_description']\n",
        "    writer = csv.DictWriter(csvfile, fieldnames=fieldnames)\n",
        "\n",
        "    writer.writeheader()"
      ],
      "metadata": {
        "id": "5Rn0M71N0J_d"
      },
      "execution_count": null,
      "outputs": []
    },
    {
      "cell_type": "code",
      "source": [
        "import pandas as pd"
      ],
      "metadata": {
        "id": "Nm6t-GRTwQFu"
      },
      "execution_count": null,
      "outputs": []
    },
    {
      "cell_type": "code",
      "source": [
        "prompt_result = pd.read_csv(\"/content/drive/MyDrive/Capstone Project - Mock Interview App/prompt_result.csv\")"
      ],
      "metadata": {
        "id": "Vo-w3uhnwP-J"
      },
      "execution_count": null,
      "outputs": []
    },
    {
      "cell_type": "code",
      "source": [
        "var_comb = pd.read_csv(\"/content/drive/MyDrive/Capstone Project - Mock Interview App/variable_combination.csv\")"
      ],
      "metadata": {
        "id": "ZlLcesQr0kd5"
      },
      "execution_count": null,
      "outputs": []
    },
    {
      "cell_type": "code",
      "source": [
        "prompt_result"
      ],
      "metadata": {
        "colab": {
          "base_uri": "https://localhost:8080/",
          "height": 53
        },
        "id": "HkItqnp6n_d9",
        "outputId": "88eba7d7-2efd-4ffe-ab0c-0bab2a36a8ba"
      },
      "execution_count": null,
      "outputs": [
        {
          "output_type": "execute_result",
          "data": {
            "text/plain": [
              "Empty DataFrame\n",
              "Columns: [model, variable_combination, template, output]\n",
              "Index: []"
            ],
            "text/html": [
              "\n",
              "  <div id=\"df-0a33c456-5ff9-44da-8437-79a915070cec\" class=\"colab-df-container\">\n",
              "    <div>\n",
              "<style scoped>\n",
              "    .dataframe tbody tr th:only-of-type {\n",
              "        vertical-align: middle;\n",
              "    }\n",
              "\n",
              "    .dataframe tbody tr th {\n",
              "        vertical-align: top;\n",
              "    }\n",
              "\n",
              "    .dataframe thead th {\n",
              "        text-align: right;\n",
              "    }\n",
              "</style>\n",
              "<table border=\"1\" class=\"dataframe\">\n",
              "  <thead>\n",
              "    <tr style=\"text-align: right;\">\n",
              "      <th></th>\n",
              "      <th>model</th>\n",
              "      <th>variable_combination</th>\n",
              "      <th>template</th>\n",
              "      <th>output</th>\n",
              "    </tr>\n",
              "  </thead>\n",
              "  <tbody>\n",
              "  </tbody>\n",
              "</table>\n",
              "</div>\n",
              "    <div class=\"colab-df-buttons\">\n",
              "\n",
              "  <div class=\"colab-df-container\">\n",
              "    <button class=\"colab-df-convert\" onclick=\"convertToInteractive('df-0a33c456-5ff9-44da-8437-79a915070cec')\"\n",
              "            title=\"Convert this dataframe to an interactive table.\"\n",
              "            style=\"display:none;\">\n",
              "\n",
              "  <svg xmlns=\"http://www.w3.org/2000/svg\" height=\"24px\" viewBox=\"0 -960 960 960\">\n",
              "    <path d=\"M120-120v-720h720v720H120Zm60-500h600v-160H180v160Zm220 220h160v-160H400v160Zm0 220h160v-160H400v160ZM180-400h160v-160H180v160Zm440 0h160v-160H620v160ZM180-180h160v-160H180v160Zm440 0h160v-160H620v160Z\"/>\n",
              "  </svg>\n",
              "    </button>\n",
              "\n",
              "  <style>\n",
              "    .colab-df-container {\n",
              "      display:flex;\n",
              "      gap: 12px;\n",
              "    }\n",
              "\n",
              "    .colab-df-convert {\n",
              "      background-color: #E8F0FE;\n",
              "      border: none;\n",
              "      border-radius: 50%;\n",
              "      cursor: pointer;\n",
              "      display: none;\n",
              "      fill: #1967D2;\n",
              "      height: 32px;\n",
              "      padding: 0 0 0 0;\n",
              "      width: 32px;\n",
              "    }\n",
              "\n",
              "    .colab-df-convert:hover {\n",
              "      background-color: #E2EBFA;\n",
              "      box-shadow: 0px 1px 2px rgba(60, 64, 67, 0.3), 0px 1px 3px 1px rgba(60, 64, 67, 0.15);\n",
              "      fill: #174EA6;\n",
              "    }\n",
              "\n",
              "    .colab-df-buttons div {\n",
              "      margin-bottom: 4px;\n",
              "    }\n",
              "\n",
              "    [theme=dark] .colab-df-convert {\n",
              "      background-color: #3B4455;\n",
              "      fill: #D2E3FC;\n",
              "    }\n",
              "\n",
              "    [theme=dark] .colab-df-convert:hover {\n",
              "      background-color: #434B5C;\n",
              "      box-shadow: 0px 1px 3px 1px rgba(0, 0, 0, 0.15);\n",
              "      filter: drop-shadow(0px 1px 2px rgba(0, 0, 0, 0.3));\n",
              "      fill: #FFFFFF;\n",
              "    }\n",
              "  </style>\n",
              "\n",
              "    <script>\n",
              "      const buttonEl =\n",
              "        document.querySelector('#df-0a33c456-5ff9-44da-8437-79a915070cec button.colab-df-convert');\n",
              "      buttonEl.style.display =\n",
              "        google.colab.kernel.accessAllowed ? 'block' : 'none';\n",
              "\n",
              "      async function convertToInteractive(key) {\n",
              "        const element = document.querySelector('#df-0a33c456-5ff9-44da-8437-79a915070cec');\n",
              "        const dataTable =\n",
              "          await google.colab.kernel.invokeFunction('convertToInteractive',\n",
              "                                                    [key], {});\n",
              "        if (!dataTable) return;\n",
              "\n",
              "        const docLinkHtml = 'Like what you see? Visit the ' +\n",
              "          '<a target=\"_blank\" href=https://colab.research.google.com/notebooks/data_table.ipynb>data table notebook</a>'\n",
              "          + ' to learn more about interactive tables.';\n",
              "        element.innerHTML = '';\n",
              "        dataTable['output_type'] = 'display_data';\n",
              "        await google.colab.output.renderOutput(dataTable, element);\n",
              "        const docLink = document.createElement('div');\n",
              "        docLink.innerHTML = docLinkHtml;\n",
              "        element.appendChild(docLink);\n",
              "      }\n",
              "    </script>\n",
              "  </div>\n",
              "\n",
              "    </div>\n",
              "  </div>\n"
            ]
          },
          "metadata": {},
          "execution_count": 18
        }
      ]
    },
    {
      "cell_type": "code",
      "source": [
        "var_comb"
      ],
      "metadata": {
        "colab": {
          "base_uri": "https://localhost:8080/",
          "height": 53
        },
        "id": "twf29K0woFke",
        "outputId": "4d87e9be-d028-472f-9360-ea25645fbc62"
      },
      "execution_count": null,
      "outputs": [
        {
          "output_type": "execute_result",
          "data": {
            "text/plain": [
              "Empty DataFrame\n",
              "Columns: [comb_num, interviewer_role, company_name, resume, role_title, role_description, company_description]\n",
              "Index: []"
            ],
            "text/html": [
              "\n",
              "  <div id=\"df-b01df605-4b35-4de4-8a22-86abcf9b5331\" class=\"colab-df-container\">\n",
              "    <div>\n",
              "<style scoped>\n",
              "    .dataframe tbody tr th:only-of-type {\n",
              "        vertical-align: middle;\n",
              "    }\n",
              "\n",
              "    .dataframe tbody tr th {\n",
              "        vertical-align: top;\n",
              "    }\n",
              "\n",
              "    .dataframe thead th {\n",
              "        text-align: right;\n",
              "    }\n",
              "</style>\n",
              "<table border=\"1\" class=\"dataframe\">\n",
              "  <thead>\n",
              "    <tr style=\"text-align: right;\">\n",
              "      <th></th>\n",
              "      <th>comb_num</th>\n",
              "      <th>interviewer_role</th>\n",
              "      <th>company_name</th>\n",
              "      <th>resume</th>\n",
              "      <th>role_title</th>\n",
              "      <th>role_description</th>\n",
              "      <th>company_description</th>\n",
              "    </tr>\n",
              "  </thead>\n",
              "  <tbody>\n",
              "  </tbody>\n",
              "</table>\n",
              "</div>\n",
              "    <div class=\"colab-df-buttons\">\n",
              "\n",
              "  <div class=\"colab-df-container\">\n",
              "    <button class=\"colab-df-convert\" onclick=\"convertToInteractive('df-b01df605-4b35-4de4-8a22-86abcf9b5331')\"\n",
              "            title=\"Convert this dataframe to an interactive table.\"\n",
              "            style=\"display:none;\">\n",
              "\n",
              "  <svg xmlns=\"http://www.w3.org/2000/svg\" height=\"24px\" viewBox=\"0 -960 960 960\">\n",
              "    <path d=\"M120-120v-720h720v720H120Zm60-500h600v-160H180v160Zm220 220h160v-160H400v160Zm0 220h160v-160H400v160ZM180-400h160v-160H180v160Zm440 0h160v-160H620v160ZM180-180h160v-160H180v160Zm440 0h160v-160H620v160Z\"/>\n",
              "  </svg>\n",
              "    </button>\n",
              "\n",
              "  <style>\n",
              "    .colab-df-container {\n",
              "      display:flex;\n",
              "      gap: 12px;\n",
              "    }\n",
              "\n",
              "    .colab-df-convert {\n",
              "      background-color: #E8F0FE;\n",
              "      border: none;\n",
              "      border-radius: 50%;\n",
              "      cursor: pointer;\n",
              "      display: none;\n",
              "      fill: #1967D2;\n",
              "      height: 32px;\n",
              "      padding: 0 0 0 0;\n",
              "      width: 32px;\n",
              "    }\n",
              "\n",
              "    .colab-df-convert:hover {\n",
              "      background-color: #E2EBFA;\n",
              "      box-shadow: 0px 1px 2px rgba(60, 64, 67, 0.3), 0px 1px 3px 1px rgba(60, 64, 67, 0.15);\n",
              "      fill: #174EA6;\n",
              "    }\n",
              "\n",
              "    .colab-df-buttons div {\n",
              "      margin-bottom: 4px;\n",
              "    }\n",
              "\n",
              "    [theme=dark] .colab-df-convert {\n",
              "      background-color: #3B4455;\n",
              "      fill: #D2E3FC;\n",
              "    }\n",
              "\n",
              "    [theme=dark] .colab-df-convert:hover {\n",
              "      background-color: #434B5C;\n",
              "      box-shadow: 0px 1px 3px 1px rgba(0, 0, 0, 0.15);\n",
              "      filter: drop-shadow(0px 1px 2px rgba(0, 0, 0, 0.3));\n",
              "      fill: #FFFFFF;\n",
              "    }\n",
              "  </style>\n",
              "\n",
              "    <script>\n",
              "      const buttonEl =\n",
              "        document.querySelector('#df-b01df605-4b35-4de4-8a22-86abcf9b5331 button.colab-df-convert');\n",
              "      buttonEl.style.display =\n",
              "        google.colab.kernel.accessAllowed ? 'block' : 'none';\n",
              "\n",
              "      async function convertToInteractive(key) {\n",
              "        const element = document.querySelector('#df-b01df605-4b35-4de4-8a22-86abcf9b5331');\n",
              "        const dataTable =\n",
              "          await google.colab.kernel.invokeFunction('convertToInteractive',\n",
              "                                                    [key], {});\n",
              "        if (!dataTable) return;\n",
              "\n",
              "        const docLinkHtml = 'Like what you see? Visit the ' +\n",
              "          '<a target=\"_blank\" href=https://colab.research.google.com/notebooks/data_table.ipynb>data table notebook</a>'\n",
              "          + ' to learn more about interactive tables.';\n",
              "        element.innerHTML = '';\n",
              "        dataTable['output_type'] = 'display_data';\n",
              "        await google.colab.output.renderOutput(dataTable, element);\n",
              "        const docLink = document.createElement('div');\n",
              "        docLink.innerHTML = docLinkHtml;\n",
              "        element.appendChild(docLink);\n",
              "      }\n",
              "    </script>\n",
              "  </div>\n",
              "\n",
              "    </div>\n",
              "  </div>\n"
            ]
          },
          "metadata": {},
          "execution_count": 19
        }
      ]
    },
    {
      "cell_type": "markdown",
      "source": [
        "# Prompt template for collect info"
      ],
      "metadata": {
        "id": "TEk8SfQcLRuY"
      }
    },
    {
      "cell_type": "markdown",
      "source": [
        "## Model selection: gpt-4"
      ],
      "metadata": {
        "id": "RD69SK0-yyhe"
      }
    },
    {
      "cell_type": "code",
      "source": [
        "chat = ChatOpenAI(model_name = \"gpt-4\") # temperature=0.9"
      ],
      "metadata": {
        "id": "F3VCSaJYOo9D",
        "colab": {
          "base_uri": "https://localhost:8080/",
          "height": 179
        },
        "outputId": "df353004-82e0-466b-8070-ff0d01914428"
      },
      "execution_count": null,
      "outputs": [
        {
          "output_type": "error",
          "ename": "NameError",
          "evalue": "ignored",
          "traceback": [
            "\u001b[0;31m---------------------------------------------------------------------------\u001b[0m",
            "\u001b[0;31mNameError\u001b[0m                                 Traceback (most recent call last)",
            "\u001b[0;32m<ipython-input-1-260a36f3a33b>\u001b[0m in \u001b[0;36m<cell line: 1>\u001b[0;34m()\u001b[0m\n\u001b[0;32m----> 1\u001b[0;31m \u001b[0mchat\u001b[0m \u001b[0;34m=\u001b[0m \u001b[0mChatOpenAI\u001b[0m\u001b[0;34m(\u001b[0m\u001b[0mmodel_name\u001b[0m \u001b[0;34m=\u001b[0m \u001b[0;34m\"gpt-4\"\u001b[0m\u001b[0;34m)\u001b[0m \u001b[0;31m# temperature=0.9\u001b[0m\u001b[0;34m\u001b[0m\u001b[0;34m\u001b[0m\u001b[0m\n\u001b[0m",
            "\u001b[0;31mNameError\u001b[0m: name 'ChatOpenAI' is not defined"
          ]
        }
      ]
    },
    {
      "cell_type": "code",
      "source": [
        "chat"
      ],
      "metadata": {
        "id": "DZ7kmS3xKsTz"
      },
      "execution_count": null,
      "outputs": []
    },
    {
      "cell_type": "markdown",
      "source": [
        "## Variable define and track"
      ],
      "metadata": {
        "id": "-4g1OznTy6GJ"
      }
    },
    {
      "cell_type": "markdown",
      "source": [
        "### Prompt 1 (interviewer persona)"
      ],
      "metadata": {
        "id": "I4mwRzUz3xtp"
      }
    },
    {
      "cell_type": "markdown",
      "source": [
        "#### Set my_resume"
      ],
      "metadata": {
        "id": "2Qd3PINI3-eq"
      }
    },
    {
      "cell_type": "code",
      "source": [
        "my_resume = \"\"\"\n",
        "EDUCATION\n",
        "Vanderbilt University – Data Science Institute\n",
        "Nashville, TN\n",
        "Master of Science in Data Science\n",
        "May 2024\n",
        "\n",
        "Anticipated Coursework: Transformers in Theory and Practice, Data Science Algorithms, Launching the Venture\n",
        "Relevant Coursework: EDA, Data Science Applications in Industry, Data Management Systems (SQL), Machine Learning\n",
        "Cumulative GPA: 3.89/4.0\n",
        "Saint Louis University\n",
        "St. Louis, MO\n",
        "Bachelor of Science in Data Science & Mathematics, Minor in Computer Science\n",
        "May 2022\n",
        "\n",
        "Relevant Coursework: Applied Regression, Applied Topology, Time Series, R for Spatial Analysis, Bayesian Statistics\n",
        "Cumulative GPA: 3.9/4.0 (Dean’s List for 8 semesters)\n",
        "EXPERIENCE\n",
        "Washington University School of Medicine – Institute for Informatics\n",
        "St. Louis, MO\n",
        "Data Science Intern, Advisor: Dr. Ruijin Lu\n",
        "May 2023 – Aug. 2023\n",
        "North American Prodromal Synucleinopathy (NAPS) Project\n",
        "\n",
        "Data Quality Control Automating: Implemented Python-based automation, reducing document download time by 99.2%, equivalent to saving a full week's work for one individual. Minimized manual & repetitive tasks, enhancing project efficiency by improving data quality, and aiding the group in identifying Alzheimer's Disease biomarkers across ten US sites.\n",
        "Database & Data Management: Leveraged Python and Rave to optimize database updates, achieved a 75% time reduction updating birth records. Integrated with Amazon Textract API to halve the time of handwritten text extraction, enhanced overall efficiency, accuracy, and expanded system scalability. Minimized human bias through automated handwritten text recognition.\n",
        "Collaboration & Problem Solving: Collaborated with data coordinators to proactively identify and address API integration and data accessibility issues, ensuring seamless data flow and enhanced system functionality. Contributed feedback to improve the quality of approximately 100 source documents, ensuring subsequent users access more refined and reliable data.\n",
        "PROJECTS\n",
        "Mock Interview Practice Application – Capstone Project\n",
        "Nashville, TN\n",
        "Project Designer & Project Manager & Code Contributor, Advisor: Dr. Jesse Spencer-Smith\n",
        "Aug. 2023 – Present\n",
        "Project Overview: Develop a Mock Interview Practice Application aim at motivating and helping current and future students at Data Science Institute prepare for job interviews by providing a platform where they can practice interview questions and receive feedback. The project involves designing the application architecture, managing the project timeline, and actively contributing to the codebase.\n",
        "Roles and Responsibilities:\n",
        "\n",
        "Project Designer: Conceptualize and design the application based on users’ needs and career coaches’ insights, ensuring a user-friendly interface and seamless navigation. Collaborated with team members to refine the project scope and objectives.\n",
        "Project Manager: Oversaw the project timeline and coordinated team efforts to ensure timely completion. Implemented agile project management methodologies to facilitate effective collaboration and iterative development.\n",
        "Code Contributor: Contributed to the development of the application by writing and reviewing code. Applied data science techniques to analyze user data and provide personalized feedback to users based on their performance.\n",
        "Insurance Claims Prediction for Asurion – Data Science Teams Course\n",
        "Nashville, TN\n",
        "Data Science Candidate, Instructor: Dana Zhang\n",
        "Jan. 2023 – May 2023\n",
        "Project Overview: Developed a market applicable forecasting model using Python to predict iPhone 14 claim volume for each week of March 2023 for a phone insurance company. Worked in a four persons team, followed agile workflow and data science project flow.\n",
        "Roles and Responsibilities:\n",
        "\n",
        "Data Collection & Cleaning: Collected and cleaned weather, Apple shipment, stock and iPhone release date. Feature engineered seasonal promotion. Combined outside source data with Asurion’s phone claim data before March 2023.\n",
        "Data Analysis & Modeling: Explored different visualizations for different phone brands, phone models, phone colors, and phone’s storage sizes to get insight about data. Developed basic regression models, time series models, and ensemble models.\n",
        "Collaboration & Teamwork: Played both team leader role and team player role. Improved productivity of teamwork by updating, communicating and discussing constantly about each teammate’s progresses, challenges, findings, and team health.\n",
        "Stakeholder Engagement & Presentation: Presented stakeholder results by transferring predicted numbers to estimated market value. Communicated with stakeholder the insights of advantages of overpredicting in the early stage of the device life cycle.\n",
        "ADDITIONAL INFORMATION\n",
        "Programming Skills: Python (Numpy, Pandas, Seaborn, Scikit-learn, PyTorch, Matplotlib), SQL (MySQLWorkbench, Database Design), NLP (Transformers, HuggingFace, LLMs, Prompt Engineering, LangChain), R (Statistical Analysis, Shiny)\n",
        "Deliverable Skills: GitHub flow (Version Control, Project Board, Agile Project Management), Microsoft PowerPoint\n",
        "Learning: Amazon Web Services (AWS), Google Cloud Platform (GCP), Tableau\n",
        "\"\"\""
      ],
      "metadata": {
        "id": "lp3bFRWAOXVJ"
      },
      "execution_count": null,
      "outputs": []
    },
    {
      "cell_type": "markdown",
      "source": [
        "#### Specify job_description, company_info (DS, S&P)"
      ],
      "metadata": {
        "id": "-1uFpxj4zkAs"
      }
    },
    {
      "cell_type": "code",
      "source": [
        "job_description = \"\"\"\n",
        "Job Description\n",
        "\n",
        "This is a software development role to work with the stakeholders to develop AI models that will help the business to take smarter decisions. The role is for a software developer for AI/ML initiative. This role will support to an existing corporate finance IT team including cloud solutions, and digital platforms. This role also requires excellent decision-making, interpersonal, and communication skills.\n",
        "\n",
        "Duties And Responsibilities\n",
        "Implement machine learning algorithms\n",
        "Collect and clean data\n",
        "Evaluate the performance of AI/ML models\n",
        "Work closely with the stakeholders to understand the business needs and develop solutions around these needs\n",
        "Develop and deploy the AI models\n",
        "Daily scrum update\n",
        "Work closely with QA team to fix bugs\n",
        "Basic understanding of automation\n",
        "The Ideal Candidate Possesses\n",
        "Bachelor’s degree from an accredited college or university, with major course work in computer science, information technology, or related field.\n",
        "Master’s or advanced education is preferred.\n",
        "3-5 years of experience in software development and testing\n",
        "Experience with programming languages such as Python or Java is a plus.\n",
        "Strong problem-solving skills.\n",
        "Ability to work independently and as part of a team.\n",
        "Basic understanding of machine learning\n",
        "Passionate about learning emerging technologies\n",
        "S&P Global states that the anticipated base salary range for this position is $60,000 - $90,000 USD. Base salary ranges may vary by geographic location.\n",
        "\n",
        "This role is eligible to receive additional S&P Global benefits. For more information on the benefits we provide to our employees, visit https://spgbenefits.com/.\n",
        "\n",
        "Flexible Working\n",
        "\n",
        "We pride ourselves on our agility and diversity, and we welcome requests to work flexibly. For most roles, flexible hours and/or an element of remote working are usually possible. Please talk to us at interview about the type of arrangement that is best for you. We will always try to be adaptable wherever we can.\n",
        "\n",
        "Return to Work\n",
        "\n",
        "Have you taken time out for caring responsibilities and are now looking to return to work? As part of our Return to Work initiative (link to career site page when available), we are encouraging enthusiastic and talented returners to apply, and will actively support your return to the workplace.\n",
        "\n",
        "Grade/Level (relevant for internal applicants only): 9\n",
        "\n",
        "About Company Statement: S&P Global delivers essential intelligence that powers decision-making. We provide the world's leading organizations with the right data, connected technologies and expertise they need to move ahead. As part of our team, you'll help solve complex challenges that equip businesses, governments and individuals with the knowledge to adapt to a changing economic landscape.\n",
        "\n",
        "EEO Statement\n",
        "\n",
        "S&P Global is an equal opportunity employer committed to making all employment decisions without regard to race/ethnicity, gender, pregnancy, gender identity or expression, color, creed, religion, national origin, age, disability, marital status (including domestic partnerships and civil unions), sexual orientation, military veteran status, unemployment status, or any other basis prohibited by federal, state or local law. Only electronic job submissions will be considered for employment.\n",
        "\n",
        "If you need an accommodation during the application process due to a disability, please send an email to: EEO.Compliance@spglobal.com and your request will be forwarded to the appropriate person.\n",
        "\n",
        "Equal Opportunity Employer\n",
        "\n",
        "S&P Global is an equal opportunity employer and all qualified candidates will receive consideration for employment without regard to race/ethnicity, color, religion, sex, sexual orientation, gender identity, national origin, age, disability, marital status, military veteran status, unemployment status, or any other status protected by law. Only electronic job submissions will be considered for employment.\n",
        "\n",
        "If you need an accommodation during the application process due to a disability, please send an email to: EEO.Compliance@spglobal.com and your request will be forwarded to the appropriate person.\n",
        "\n",
        "US Candidates Only:  The EEO is the Law Poster http://www.dol.gov/ofccp/regs/compliance/posters/pdf/eeopost.pdf describes discrimination protections under federal law.\n",
        "\n",
        "IFTECH202.1 - Middle Professional Tier I (EEO Job Group)\n",
        "\n",
        "Job ID: 289943\n",
        "\n",
        "Posted On: 2023-09-18\n",
        "\n",
        "Location: Virtual, New Jersey, United States\n",
        "\"\"\""
      ],
      "metadata": {
        "id": "PHmXr50XxeS-"
      },
      "execution_count": null,
      "outputs": []
    },
    {
      "cell_type": "code",
      "source": [
        "company_info = \"\"\"\n",
        "Overview\n",
        "S&P Global (NYSE: SPGI) provides essential intelligence. We enable governments, businesses and individuals with the right data, expertise and connected technology so that they can make decisions with conviction. From helping our customers assess new investments to guiding them through sustainability and energy transition across supply chains, we unlock new opportunities, solve challenges and accelerate progress for the world.\n",
        "\n",
        "We are widely sought after by many of the world’s leading organizations to provide credit ratings, benchmarks, analytics and workflow solutions in the global capital, commodity and automotive markets. With every one of our offerings, we help the world’s leading organizations plan for tomorrow, today. For more information, visit www.spglobal.com.\n",
        "\n",
        "Our divisions include:\n",
        "–\tS&P Global Market Intelligence partners with customers to broaden their perspective and operate with confidence by bringing them leading data sources and technologies that embed insight in their daily work.\n",
        "\n",
        "–\tS&P Global Ratings offers critical insights for credit, risk and sustainable finance solutions that are essential to translating complexity into clarity, so market participants can uncover opportunities.\n",
        "\n",
        "–\tS&P Global Commodity Insights enables organizations to create long-term, sustainable value with data and insights for a complete view on the global energy and commodities markets.\n",
        "\n",
        "–\tS&P Global Mobility turns invaluable insights captured from automotive data to help our clients understand today’s market, reach more customers, and shape the future of automotive mobility.\n",
        "\n",
        "–\tS&P Dow Jones Indices provides iconic and innovative index solutions, bringing transparency to global capital markets.\n",
        "\n",
        "–\tS&P Global Engineering Solutions solves for tomorrow’s challenges today by transforming workflows and end-user experiences with data, insights and technology.\n",
        "\n",
        "Website\n",
        "http://www.spglobal.com\n",
        "Industry\n",
        "Financial Services\n",
        "Company size\n",
        "10,001+ employees\n",
        "34,306 on LinkedIn\n",
        "Includes members with current employer listed as S&P Global, including part-time roles. Also includes employees from subsidiary: Corporate Sustainability Assessment (CSA).\n",
        "Headquarters\n",
        "New York, NY\n",
        "Specialties\n",
        "Analytics, Credit ratings, Finance, Energy & commodities information, Intelligence, Commodities, Benchmarks, Portfolio and enterprise risk solutions, ESG, and Sustainable Finance\n",
        "\"\"\""
      ],
      "metadata": {
        "id": "mI4wWsQdxdUd"
      },
      "execution_count": null,
      "outputs": []
    },
    {
      "cell_type": "markdown",
      "source": [
        "#### Track variables in var_comb"
      ],
      "metadata": {
        "id": "3b1I4yrPqadG"
      }
    },
    {
      "cell_type": "code",
      "source": [
        "ex_interviewer_role = \"recruiter\" # hiring manager, data scientist, senior data scientist\n",
        "ex_company_name = \"S&P Global\"\n",
        "ex_resume = my_resume\n",
        "ex_role_title = \"Data Engineer - AI/ML (Virtual)\"\n",
        "ex_role_description = job_description\n",
        "ex_company_description = company_info\n",
        "\n",
        "ex_model = \"gpt-4\"\n",
        "\n",
        "ex_var_comb = 1"
      ],
      "metadata": {
        "id": "z9s5VyPZ1AET"
      },
      "execution_count": null,
      "outputs": []
    },
    {
      "cell_type": "code",
      "source": [
        "new_var_comb = pd.DataFrame({\n",
        "    'comb_num': [ex_var_comb],\n",
        "    'interviewer_role': [ex_interviewer_role],\n",
        "    'company_name': [ex_company_name],\n",
        "    'resume': [ex_resume],\n",
        "    'role_title': [ex_role_title],\n",
        "    'role_description': [ex_role_description],\n",
        "    'company_description': [ex_company_description]\n",
        "})\n",
        "\n",
        "var_comb = var_comb.append(new_var_comb, ignore_index=True)"
      ],
      "metadata": {
        "colab": {
          "base_uri": "https://localhost:8080/"
        },
        "id": "Baqo23Jlkv0Q",
        "outputId": "51580ef9-ccf4-4fdc-8e2d-b114ffab903b"
      },
      "execution_count": null,
      "outputs": [
        {
          "output_type": "stream",
          "name": "stderr",
          "text": [
            "<ipython-input-26-2da0d4a65f09>:11: FutureWarning: The frame.append method is deprecated and will be removed from pandas in a future version. Use pandas.concat instead.\n",
            "  var_comb = var_comb.append(new_var_comb, ignore_index=True)\n"
          ]
        }
      ]
    },
    {
      "cell_type": "code",
      "source": [
        "var_comb"
      ],
      "metadata": {
        "colab": {
          "base_uri": "https://localhost:8080/",
          "height": 115
        },
        "id": "QBhd8LegoQm0",
        "outputId": "8b290da8-5257-4dbe-d4a6-4c4a4ee6fdbb"
      },
      "execution_count": null,
      "outputs": [
        {
          "output_type": "execute_result",
          "data": {
            "text/plain": [
              "  comb_num interviewer_role company_name  \\\n",
              "0        1        recruiter   S&P Global   \n",
              "\n",
              "                                              resume  \\\n",
              "0  \\nEDUCATION\\nVanderbilt University – Data Scie...   \n",
              "\n",
              "                        role_title  \\\n",
              "0  Data Engineer - AI/ML (Virtual)   \n",
              "\n",
              "                                    role_description  \\\n",
              "0  \\nJob Description\\n\\nThis is a software develo...   \n",
              "\n",
              "                                 company_description  \n",
              "0  \\nOverview\\nS&P Global (NYSE: SPGI) provides e...  "
            ],
            "text/html": [
              "\n",
              "  <div id=\"df-e84e3d07-7dae-4c36-b66b-9ec58d764664\" class=\"colab-df-container\">\n",
              "    <div>\n",
              "<style scoped>\n",
              "    .dataframe tbody tr th:only-of-type {\n",
              "        vertical-align: middle;\n",
              "    }\n",
              "\n",
              "    .dataframe tbody tr th {\n",
              "        vertical-align: top;\n",
              "    }\n",
              "\n",
              "    .dataframe thead th {\n",
              "        text-align: right;\n",
              "    }\n",
              "</style>\n",
              "<table border=\"1\" class=\"dataframe\">\n",
              "  <thead>\n",
              "    <tr style=\"text-align: right;\">\n",
              "      <th></th>\n",
              "      <th>comb_num</th>\n",
              "      <th>interviewer_role</th>\n",
              "      <th>company_name</th>\n",
              "      <th>resume</th>\n",
              "      <th>role_title</th>\n",
              "      <th>role_description</th>\n",
              "      <th>company_description</th>\n",
              "    </tr>\n",
              "  </thead>\n",
              "  <tbody>\n",
              "    <tr>\n",
              "      <th>0</th>\n",
              "      <td>1</td>\n",
              "      <td>recruiter</td>\n",
              "      <td>S&amp;P Global</td>\n",
              "      <td>\\nEDUCATION\\nVanderbilt University – Data Scie...</td>\n",
              "      <td>Data Engineer - AI/ML (Virtual)</td>\n",
              "      <td>\\nJob Description\\n\\nThis is a software develo...</td>\n",
              "      <td>\\nOverview\\nS&amp;P Global (NYSE: SPGI) provides e...</td>\n",
              "    </tr>\n",
              "  </tbody>\n",
              "</table>\n",
              "</div>\n",
              "    <div class=\"colab-df-buttons\">\n",
              "\n",
              "  <div class=\"colab-df-container\">\n",
              "    <button class=\"colab-df-convert\" onclick=\"convertToInteractive('df-e84e3d07-7dae-4c36-b66b-9ec58d764664')\"\n",
              "            title=\"Convert this dataframe to an interactive table.\"\n",
              "            style=\"display:none;\">\n",
              "\n",
              "  <svg xmlns=\"http://www.w3.org/2000/svg\" height=\"24px\" viewBox=\"0 -960 960 960\">\n",
              "    <path d=\"M120-120v-720h720v720H120Zm60-500h600v-160H180v160Zm220 220h160v-160H400v160Zm0 220h160v-160H400v160ZM180-400h160v-160H180v160Zm440 0h160v-160H620v160ZM180-180h160v-160H180v160Zm440 0h160v-160H620v160Z\"/>\n",
              "  </svg>\n",
              "    </button>\n",
              "\n",
              "  <style>\n",
              "    .colab-df-container {\n",
              "      display:flex;\n",
              "      gap: 12px;\n",
              "    }\n",
              "\n",
              "    .colab-df-convert {\n",
              "      background-color: #E8F0FE;\n",
              "      border: none;\n",
              "      border-radius: 50%;\n",
              "      cursor: pointer;\n",
              "      display: none;\n",
              "      fill: #1967D2;\n",
              "      height: 32px;\n",
              "      padding: 0 0 0 0;\n",
              "      width: 32px;\n",
              "    }\n",
              "\n",
              "    .colab-df-convert:hover {\n",
              "      background-color: #E2EBFA;\n",
              "      box-shadow: 0px 1px 2px rgba(60, 64, 67, 0.3), 0px 1px 3px 1px rgba(60, 64, 67, 0.15);\n",
              "      fill: #174EA6;\n",
              "    }\n",
              "\n",
              "    .colab-df-buttons div {\n",
              "      margin-bottom: 4px;\n",
              "    }\n",
              "\n",
              "    [theme=dark] .colab-df-convert {\n",
              "      background-color: #3B4455;\n",
              "      fill: #D2E3FC;\n",
              "    }\n",
              "\n",
              "    [theme=dark] .colab-df-convert:hover {\n",
              "      background-color: #434B5C;\n",
              "      box-shadow: 0px 1px 3px 1px rgba(0, 0, 0, 0.15);\n",
              "      filter: drop-shadow(0px 1px 2px rgba(0, 0, 0, 0.3));\n",
              "      fill: #FFFFFF;\n",
              "    }\n",
              "  </style>\n",
              "\n",
              "    <script>\n",
              "      const buttonEl =\n",
              "        document.querySelector('#df-e84e3d07-7dae-4c36-b66b-9ec58d764664 button.colab-df-convert');\n",
              "      buttonEl.style.display =\n",
              "        google.colab.kernel.accessAllowed ? 'block' : 'none';\n",
              "\n",
              "      async function convertToInteractive(key) {\n",
              "        const element = document.querySelector('#df-e84e3d07-7dae-4c36-b66b-9ec58d764664');\n",
              "        const dataTable =\n",
              "          await google.colab.kernel.invokeFunction('convertToInteractive',\n",
              "                                                    [key], {});\n",
              "        if (!dataTable) return;\n",
              "\n",
              "        const docLinkHtml = 'Like what you see? Visit the ' +\n",
              "          '<a target=\"_blank\" href=https://colab.research.google.com/notebooks/data_table.ipynb>data table notebook</a>'\n",
              "          + ' to learn more about interactive tables.';\n",
              "        element.innerHTML = '';\n",
              "        dataTable['output_type'] = 'display_data';\n",
              "        await google.colab.output.renderOutput(dataTable, element);\n",
              "        const docLink = document.createElement('div');\n",
              "        docLink.innerHTML = docLinkHtml;\n",
              "        element.appendChild(docLink);\n",
              "      }\n",
              "    </script>\n",
              "  </div>\n",
              "\n",
              "    </div>\n",
              "  </div>\n"
            ]
          },
          "metadata": {},
          "execution_count": 27
        }
      ]
    },
    {
      "cell_type": "markdown",
      "source": [
        "#### Track variables in prompt_result"
      ],
      "metadata": {
        "id": "lwhyTnnBxM7G"
      }
    },
    {
      "cell_type": "code",
      "source": [
        "input_var_1 = [\"interviewer_role\", \"company_name\", \"resume\", \"role_title\", \"role_description\", \"company_description\"]\n",
        "\n",
        "template_1 = \"\"\"\n",
        "You are a {interviewer_role}, for {company_name}. Please review the following resume {resume}.\n",
        "For the role of {role_title}.\n",
        "(optional: Here is the job description: {role_description})\n",
        "(optional: Here is a description of the company: {company_description})\n",
        "Give point by point feedback with rationale and suggested edits.\n",
        "\"\"\""
      ],
      "metadata": {
        "id": "udxhOTxyy6xp"
      },
      "execution_count": null,
      "outputs": []
    },
    {
      "cell_type": "code",
      "source": [
        "prompt = PromptTemplate(\n",
        "    input_variables = input_var_1,\n",
        "    template = template_1\n",
        ")"
      ],
      "metadata": {
        "id": "Antwxaz_vHmc"
      },
      "execution_count": null,
      "outputs": []
    },
    {
      "cell_type": "code",
      "source": [
        "new_prompt = prompt.format(interviewer_role=ex_interviewer_role,\n",
        "                           company_name=ex_company_name,\n",
        "                           resume=ex_resume,\n",
        "                           role_title=ex_role_title,\n",
        "                           role_description=ex_role_description,\n",
        "                           company_description=ex_company_description)\n",
        "result = chat([HumanMessage(content=new_prompt)])"
      ],
      "metadata": {
        "id": "7GYL7G_JvvaQ"
      },
      "execution_count": null,
      "outputs": []
    },
    {
      "cell_type": "code",
      "source": [
        "print(result.content)"
      ],
      "metadata": {
        "colab": {
          "base_uri": "https://localhost:8080/"
        },
        "id": "CZPzlD2DmrAt",
        "outputId": "95532983-db64-48ba-9557-85ccb548a01e"
      },
      "execution_count": null,
      "outputs": [
        {
          "output_type": "stream",
          "name": "stdout",
          "text": [
            "Overall, the resume is quite impressive. It shows a strong educational background, relevant coursework, and practical experience in data science. Here are some specific points of feedback:\n",
            "\n",
            "1. Contact Information: Make sure to include your contact information, such as email and phone number, at the top of your resume. This is basic information that every employer will look for.\n",
            "\n",
            "2. Education: Good use of space to list relevant coursework and highlight high GPA. Your degrees and coursework align well with the job requirements.\n",
            "\n",
            "3. Experience: Great detail on specific achievements and responsibilities in previous roles. The use of quantifiable achievements is particularly effective. However, be sure to explain any industry-specific terms or acronyms (like NAPS or Rave) that might not be familiar to recruiters outside your immediate field.\n",
            "\n",
            "4. Projects: The detailed breakdown of your roles and responsibilities in these projects demonstrates your ability to work on a team and manage complex tasks. Make sure to highlight any experience with AI/ML models, as this is a key requirement for the role.\n",
            "\n",
            "5. Additional Information: Your programming skills are clearly listed, which is great. However, the job description mentions Java as a plus, so if you have any experience with it, make sure to include it. \n",
            "\n",
            "6. Format: The resume is well-structured and easy to read. Make sure to keep a consistent format throughout. \n",
            "\n",
            "7. Tailor your resume: Even though your resume is well-written, make sure to tailor it to the job description. Highlight your experience with AI/ML, cloud solutions, and digital platforms since these are mentioned in the job description. \n",
            "\n",
            "8. Cover Letter: Consider attaching a cover letter with your application. This will allow you to further explain your interest in the role and why you would be a good fit.\n",
            "\n",
            "In conclusion, this resume is strong and shows a lot of promise. With a few minor tweaks, it would be well-suited for a Data Engineer - AI/ML role at S&P Global.\n"
          ]
        }
      ]
    },
    {
      "cell_type": "code",
      "source": [
        "new_prompt_result = pd.DataFrame({\n",
        "    'model': [ex_model],\n",
        "    'variable_combination': [ex_var_comb],\n",
        "    'template': [template_1],\n",
        "    'output': [result.content]\n",
        "})"
      ],
      "metadata": {
        "id": "xIRNlYGGJfat"
      },
      "execution_count": null,
      "outputs": []
    },
    {
      "cell_type": "code",
      "source": [
        "prompt_result = prompt_result.append(new_prompt_result, ignore_index=True)"
      ],
      "metadata": {
        "colab": {
          "base_uri": "https://localhost:8080/"
        },
        "id": "aMo9_0CS3Hmq",
        "outputId": "99255559-e612-4de9-ae65-5b8572a02f52"
      },
      "execution_count": null,
      "outputs": [
        {
          "output_type": "stream",
          "name": "stderr",
          "text": [
            "<ipython-input-33-924f668632ee>:1: FutureWarning: The frame.append method is deprecated and will be removed from pandas in a future version. Use pandas.concat instead.\n",
            "  prompt_result = prompt_result.append(new_prompt_result, ignore_index=True)\n"
          ]
        }
      ]
    },
    {
      "cell_type": "code",
      "source": [
        "prompt_result"
      ],
      "metadata": {
        "colab": {
          "base_uri": "https://localhost:8080/",
          "height": 81
        },
        "id": "0XQLAysnvu7H",
        "outputId": "36096915-d95b-46fd-b550-a5ddca829b81"
      },
      "execution_count": null,
      "outputs": [
        {
          "output_type": "execute_result",
          "data": {
            "text/plain": [
              "   model variable_combination  \\\n",
              "0  gpt-4                    1   \n",
              "\n",
              "                                            template  \\\n",
              "0  \\nYou are a {interviewer_role}, for {company_n...   \n",
              "\n",
              "                                              output  \n",
              "0  Overall, the resume is quite impressive. It sh...  "
            ],
            "text/html": [
              "\n",
              "  <div id=\"df-60f7d28d-be73-4ee0-a36c-e1efac6496e0\" class=\"colab-df-container\">\n",
              "    <div>\n",
              "<style scoped>\n",
              "    .dataframe tbody tr th:only-of-type {\n",
              "        vertical-align: middle;\n",
              "    }\n",
              "\n",
              "    .dataframe tbody tr th {\n",
              "        vertical-align: top;\n",
              "    }\n",
              "\n",
              "    .dataframe thead th {\n",
              "        text-align: right;\n",
              "    }\n",
              "</style>\n",
              "<table border=\"1\" class=\"dataframe\">\n",
              "  <thead>\n",
              "    <tr style=\"text-align: right;\">\n",
              "      <th></th>\n",
              "      <th>model</th>\n",
              "      <th>variable_combination</th>\n",
              "      <th>template</th>\n",
              "      <th>output</th>\n",
              "    </tr>\n",
              "  </thead>\n",
              "  <tbody>\n",
              "    <tr>\n",
              "      <th>0</th>\n",
              "      <td>gpt-4</td>\n",
              "      <td>1</td>\n",
              "      <td>\\nYou are a {interviewer_role}, for {company_n...</td>\n",
              "      <td>Overall, the resume is quite impressive. It sh...</td>\n",
              "    </tr>\n",
              "  </tbody>\n",
              "</table>\n",
              "</div>\n",
              "    <div class=\"colab-df-buttons\">\n",
              "\n",
              "  <div class=\"colab-df-container\">\n",
              "    <button class=\"colab-df-convert\" onclick=\"convertToInteractive('df-60f7d28d-be73-4ee0-a36c-e1efac6496e0')\"\n",
              "            title=\"Convert this dataframe to an interactive table.\"\n",
              "            style=\"display:none;\">\n",
              "\n",
              "  <svg xmlns=\"http://www.w3.org/2000/svg\" height=\"24px\" viewBox=\"0 -960 960 960\">\n",
              "    <path d=\"M120-120v-720h720v720H120Zm60-500h600v-160H180v160Zm220 220h160v-160H400v160Zm0 220h160v-160H400v160ZM180-400h160v-160H180v160Zm440 0h160v-160H620v160ZM180-180h160v-160H180v160Zm440 0h160v-160H620v160Z\"/>\n",
              "  </svg>\n",
              "    </button>\n",
              "\n",
              "  <style>\n",
              "    .colab-df-container {\n",
              "      display:flex;\n",
              "      gap: 12px;\n",
              "    }\n",
              "\n",
              "    .colab-df-convert {\n",
              "      background-color: #E8F0FE;\n",
              "      border: none;\n",
              "      border-radius: 50%;\n",
              "      cursor: pointer;\n",
              "      display: none;\n",
              "      fill: #1967D2;\n",
              "      height: 32px;\n",
              "      padding: 0 0 0 0;\n",
              "      width: 32px;\n",
              "    }\n",
              "\n",
              "    .colab-df-convert:hover {\n",
              "      background-color: #E2EBFA;\n",
              "      box-shadow: 0px 1px 2px rgba(60, 64, 67, 0.3), 0px 1px 3px 1px rgba(60, 64, 67, 0.15);\n",
              "      fill: #174EA6;\n",
              "    }\n",
              "\n",
              "    .colab-df-buttons div {\n",
              "      margin-bottom: 4px;\n",
              "    }\n",
              "\n",
              "    [theme=dark] .colab-df-convert {\n",
              "      background-color: #3B4455;\n",
              "      fill: #D2E3FC;\n",
              "    }\n",
              "\n",
              "    [theme=dark] .colab-df-convert:hover {\n",
              "      background-color: #434B5C;\n",
              "      box-shadow: 0px 1px 3px 1px rgba(0, 0, 0, 0.15);\n",
              "      filter: drop-shadow(0px 1px 2px rgba(0, 0, 0, 0.3));\n",
              "      fill: #FFFFFF;\n",
              "    }\n",
              "  </style>\n",
              "\n",
              "    <script>\n",
              "      const buttonEl =\n",
              "        document.querySelector('#df-60f7d28d-be73-4ee0-a36c-e1efac6496e0 button.colab-df-convert');\n",
              "      buttonEl.style.display =\n",
              "        google.colab.kernel.accessAllowed ? 'block' : 'none';\n",
              "\n",
              "      async function convertToInteractive(key) {\n",
              "        const element = document.querySelector('#df-60f7d28d-be73-4ee0-a36c-e1efac6496e0');\n",
              "        const dataTable =\n",
              "          await google.colab.kernel.invokeFunction('convertToInteractive',\n",
              "                                                    [key], {});\n",
              "        if (!dataTable) return;\n",
              "\n",
              "        const docLinkHtml = 'Like what you see? Visit the ' +\n",
              "          '<a target=\"_blank\" href=https://colab.research.google.com/notebooks/data_table.ipynb>data table notebook</a>'\n",
              "          + ' to learn more about interactive tables.';\n",
              "        element.innerHTML = '';\n",
              "        dataTable['output_type'] = 'display_data';\n",
              "        await google.colab.output.renderOutput(dataTable, element);\n",
              "        const docLink = document.createElement('div');\n",
              "        docLink.innerHTML = docLinkHtml;\n",
              "        element.appendChild(docLink);\n",
              "      }\n",
              "    </script>\n",
              "  </div>\n",
              "\n",
              "    </div>\n",
              "  </div>\n"
            ]
          },
          "metadata": {},
          "execution_count": 34
        }
      ]
    },
    {
      "cell_type": "markdown",
      "source": [
        "### Prompt 2 (interviewee persona)\n"
      ],
      "metadata": {
        "id": "c0EnT4Oq1LzS"
      }
    },
    {
      "cell_type": "markdown",
      "source": [
        "#### var_comb (same as Prompt 1)"
      ],
      "metadata": {
        "id": "YwUUfzyP7kL3"
      }
    },
    {
      "cell_type": "code",
      "source": [
        "#ex_interviewer_role = \"recruiter\" # hiring manager, data scientist, senior data scientist\n",
        "#ex_company_name = \"S&P Global\"\n",
        "#ex_resume = my_resume\n",
        "#ex_role_title = \"Data Engineer - AI/ML (Virtual)\"\n",
        "#ex_role_description = job_description\n",
        "#ex_company_description = company_info\n",
        "\n",
        "#ex_model = \"gpt-4\"\n",
        "\n",
        "#ex_var_comb = 1"
      ],
      "metadata": {
        "id": "pG3ez5cF7nAM"
      },
      "execution_count": null,
      "outputs": []
    },
    {
      "cell_type": "markdown",
      "source": [
        "#### prompt_result"
      ],
      "metadata": {
        "id": "tAAA48Y25Amg"
      }
    },
    {
      "cell_type": "code",
      "source": [
        "template_2 = \"\"\"\n",
        "You are interviewing {company_name}, {role_title} role with a {interviewer_role}.\n",
        "This is your resume {resume}. Please review the resume, job description, and company information below.\n",
        "Give point by point feedback with rationale and suggested edits. Also, giving your examples based on your editing suggestions.\n",
        "(optional: Here is the job description: {role_description})\n",
        "(optional: Here is a description of the company: {company_description})\n",
        "\"\"\""
      ],
      "metadata": {
        "id": "JoutAs225lwT"
      },
      "execution_count": null,
      "outputs": []
    },
    {
      "cell_type": "code",
      "source": [
        "prompt = PromptTemplate(\n",
        "    input_variables = input_var_1,\n",
        "    template = template_2\n",
        ")"
      ],
      "metadata": {
        "id": "ni1MiRS15lfr"
      },
      "execution_count": null,
      "outputs": []
    },
    {
      "cell_type": "code",
      "source": [
        "new_prompt = prompt.format(interviewer_role=ex_interviewer_role,\n",
        "                           company_name=ex_company_name,\n",
        "                           resume=ex_resume,\n",
        "                           role_title=ex_role_title,\n",
        "                           role_description=ex_role_description,\n",
        "                           company_description=ex_company_description)\n",
        "result = chat([HumanMessage(content=new_prompt)])"
      ],
      "metadata": {
        "id": "Lq3sKpUc5lPe"
      },
      "execution_count": null,
      "outputs": []
    },
    {
      "cell_type": "code",
      "source": [
        "print(result.content)"
      ],
      "metadata": {
        "colab": {
          "base_uri": "https://localhost:8080/"
        },
        "id": "4g07r3XL5k6f",
        "outputId": "eeede083-167d-4b0f-c274-ef7a4519e01c"
      },
      "execution_count": null,
      "outputs": [
        {
          "output_type": "stream",
          "name": "stdout",
          "text": [
            "Feedback: \n",
            "\n",
            "1. Education: The educational background is highly relevant to the job role, however, the expected coursework can be removed as it is a future aspect and not directly related to the current job application. \n",
            "\n",
            "   Suggestion: Remove \"Anticipated Coursework\" and only include \"Relevant Coursework\". \n",
            "\n",
            "2. Experience: The experience section is detailed and shows relevant work in data science and AI/ML. However, it would be beneficial to highlight the use of Python or Java in the projects, as mentioned in the job description.\n",
            "\n",
            "   Suggestion: Include specific instances of Python or Java usage in the projects. \n",
            "\n",
            "   Example: \"Implemented Python-based automation...\".\n",
            "\n",
            "3. Projects: The projects showcase relevant experience and skills but could benefit from more specific details about the AI/ML models used, as well as any software development methodologies applied.\n",
            "\n",
            "   Suggestion: Add details about specific AI/ML models and software development methodologies used in the projects.\n",
            "\n",
            "   Example: \"Developed a forecasting model using the Random Forest regression model in Python...\"\n",
            "\n",
            "4. Additional Information: This section includes relevant programming skills. However, the job description mentions a basic understanding of machine learning and a passion for learning emerging technologies. \n",
            "\n",
            "   Suggestion: Add a sentence about your interest and continuous learning in ML and other emerging technologies.\n",
            "\n",
            "   Example: \"Continuously learning and enhancing my skills in Machine Learning and keeping up with emerging technologies in the field of data science.\"\n",
            "\n",
            "5. The job description mentions working with stakeholders, decision-making, and communication skills. These are not explicitly mentioned in your resume.\n",
            "\n",
            "   Suggestion: Add a section/point about your interpersonal skills, decision-making skills, and your experience working with stakeholders. \n",
            "\n",
            "   Example: \"Strong decision-making skills with experience in working closely with stakeholders to understand business needs and develop solutions. Excellent communication skills with the ability to articulate complex data-related findings to non-technical individuals.\"\n",
            "\n",
            "6. The recruiter may be interested in any experience with cloud solutions and digital platforms, mentioned in the job description.\n",
            "\n",
            "   Suggestion: If you have any experience with cloud solutions and digital platforms, do mention it in your resume.\n",
            "\n",
            "7. The job description requires the candidate to work independently and as part of a team.\n",
            "\n",
            "   Suggestion: Include instances in your resume where you demonstrated this ability. \n",
            "\n",
            "   Example: \"Ability to work independently and collaboratively within a team, as evidenced by my role in XYZ project.\"\n",
            "\n",
            "Overall, the resume is well-structured and shows a strong background in data science. Including more specific details related to the job description will make the resume even stronger.\n"
          ]
        }
      ]
    },
    {
      "cell_type": "code",
      "source": [
        "new_prompt_result = pd.DataFrame({\n",
        "    'model': [ex_model],\n",
        "    'variable_combination': [ex_var_comb],\n",
        "    'template': [template_2],\n",
        "    'output': [result.content]\n",
        "})\n",
        "\n",
        "prompt_result = prompt_result.append(new_prompt_result, ignore_index=True)"
      ],
      "metadata": {
        "colab": {
          "base_uri": "https://localhost:8080/"
        },
        "id": "hnSX3Dvr_WLj",
        "outputId": "a76d55b6-7992-4864-9a3b-69859f904ef3"
      },
      "execution_count": null,
      "outputs": [
        {
          "output_type": "stream",
          "name": "stderr",
          "text": [
            "<ipython-input-40-5bf6a7545659>:8: FutureWarning: The frame.append method is deprecated and will be removed from pandas in a future version. Use pandas.concat instead.\n",
            "  prompt_result = prompt_result.append(new_prompt_result, ignore_index=True)\n"
          ]
        }
      ]
    },
    {
      "cell_type": "code",
      "source": [
        "prompt_result"
      ],
      "metadata": {
        "colab": {
          "base_uri": "https://localhost:8080/",
          "height": 112
        },
        "id": "BqAC8am4_WC1",
        "outputId": "2e1174de-65a6-4954-96a9-5c02808e1ba1"
      },
      "execution_count": null,
      "outputs": [
        {
          "output_type": "execute_result",
          "data": {
            "text/plain": [
              "   model variable_combination  \\\n",
              "0  gpt-4                    1   \n",
              "1  gpt-4                    1   \n",
              "\n",
              "                                            template  \\\n",
              "0  \\nYou are a {interviewer_role}, for {company_n...   \n",
              "1  \\nYou are interviewing {company_name}, {role_t...   \n",
              "\n",
              "                                              output  \n",
              "0  Overall, the resume is quite impressive. It sh...  \n",
              "1  Feedback: \\n\\n1. Education: The educational ba...  "
            ],
            "text/html": [
              "\n",
              "  <div id=\"df-ac1d2879-b5f8-4b95-84db-a622c5ae7a1c\" class=\"colab-df-container\">\n",
              "    <div>\n",
              "<style scoped>\n",
              "    .dataframe tbody tr th:only-of-type {\n",
              "        vertical-align: middle;\n",
              "    }\n",
              "\n",
              "    .dataframe tbody tr th {\n",
              "        vertical-align: top;\n",
              "    }\n",
              "\n",
              "    .dataframe thead th {\n",
              "        text-align: right;\n",
              "    }\n",
              "</style>\n",
              "<table border=\"1\" class=\"dataframe\">\n",
              "  <thead>\n",
              "    <tr style=\"text-align: right;\">\n",
              "      <th></th>\n",
              "      <th>model</th>\n",
              "      <th>variable_combination</th>\n",
              "      <th>template</th>\n",
              "      <th>output</th>\n",
              "    </tr>\n",
              "  </thead>\n",
              "  <tbody>\n",
              "    <tr>\n",
              "      <th>0</th>\n",
              "      <td>gpt-4</td>\n",
              "      <td>1</td>\n",
              "      <td>\\nYou are a {interviewer_role}, for {company_n...</td>\n",
              "      <td>Overall, the resume is quite impressive. It sh...</td>\n",
              "    </tr>\n",
              "    <tr>\n",
              "      <th>1</th>\n",
              "      <td>gpt-4</td>\n",
              "      <td>1</td>\n",
              "      <td>\\nYou are interviewing {company_name}, {role_t...</td>\n",
              "      <td>Feedback: \\n\\n1. Education: The educational ba...</td>\n",
              "    </tr>\n",
              "  </tbody>\n",
              "</table>\n",
              "</div>\n",
              "    <div class=\"colab-df-buttons\">\n",
              "\n",
              "  <div class=\"colab-df-container\">\n",
              "    <button class=\"colab-df-convert\" onclick=\"convertToInteractive('df-ac1d2879-b5f8-4b95-84db-a622c5ae7a1c')\"\n",
              "            title=\"Convert this dataframe to an interactive table.\"\n",
              "            style=\"display:none;\">\n",
              "\n",
              "  <svg xmlns=\"http://www.w3.org/2000/svg\" height=\"24px\" viewBox=\"0 -960 960 960\">\n",
              "    <path d=\"M120-120v-720h720v720H120Zm60-500h600v-160H180v160Zm220 220h160v-160H400v160Zm0 220h160v-160H400v160ZM180-400h160v-160H180v160Zm440 0h160v-160H620v160ZM180-180h160v-160H180v160Zm440 0h160v-160H620v160Z\"/>\n",
              "  </svg>\n",
              "    </button>\n",
              "\n",
              "  <style>\n",
              "    .colab-df-container {\n",
              "      display:flex;\n",
              "      gap: 12px;\n",
              "    }\n",
              "\n",
              "    .colab-df-convert {\n",
              "      background-color: #E8F0FE;\n",
              "      border: none;\n",
              "      border-radius: 50%;\n",
              "      cursor: pointer;\n",
              "      display: none;\n",
              "      fill: #1967D2;\n",
              "      height: 32px;\n",
              "      padding: 0 0 0 0;\n",
              "      width: 32px;\n",
              "    }\n",
              "\n",
              "    .colab-df-convert:hover {\n",
              "      background-color: #E2EBFA;\n",
              "      box-shadow: 0px 1px 2px rgba(60, 64, 67, 0.3), 0px 1px 3px 1px rgba(60, 64, 67, 0.15);\n",
              "      fill: #174EA6;\n",
              "    }\n",
              "\n",
              "    .colab-df-buttons div {\n",
              "      margin-bottom: 4px;\n",
              "    }\n",
              "\n",
              "    [theme=dark] .colab-df-convert {\n",
              "      background-color: #3B4455;\n",
              "      fill: #D2E3FC;\n",
              "    }\n",
              "\n",
              "    [theme=dark] .colab-df-convert:hover {\n",
              "      background-color: #434B5C;\n",
              "      box-shadow: 0px 1px 3px 1px rgba(0, 0, 0, 0.15);\n",
              "      filter: drop-shadow(0px 1px 2px rgba(0, 0, 0, 0.3));\n",
              "      fill: #FFFFFF;\n",
              "    }\n",
              "  </style>\n",
              "\n",
              "    <script>\n",
              "      const buttonEl =\n",
              "        document.querySelector('#df-ac1d2879-b5f8-4b95-84db-a622c5ae7a1c button.colab-df-convert');\n",
              "      buttonEl.style.display =\n",
              "        google.colab.kernel.accessAllowed ? 'block' : 'none';\n",
              "\n",
              "      async function convertToInteractive(key) {\n",
              "        const element = document.querySelector('#df-ac1d2879-b5f8-4b95-84db-a622c5ae7a1c');\n",
              "        const dataTable =\n",
              "          await google.colab.kernel.invokeFunction('convertToInteractive',\n",
              "                                                    [key], {});\n",
              "        if (!dataTable) return;\n",
              "\n",
              "        const docLinkHtml = 'Like what you see? Visit the ' +\n",
              "          '<a target=\"_blank\" href=https://colab.research.google.com/notebooks/data_table.ipynb>data table notebook</a>'\n",
              "          + ' to learn more about interactive tables.';\n",
              "        element.innerHTML = '';\n",
              "        dataTable['output_type'] = 'display_data';\n",
              "        await google.colab.output.renderOutput(dataTable, element);\n",
              "        const docLink = document.createElement('div');\n",
              "        docLink.innerHTML = docLinkHtml;\n",
              "        element.appendChild(docLink);\n",
              "      }\n",
              "    </script>\n",
              "  </div>\n",
              "\n",
              "\n",
              "<div id=\"df-c09b9d5e-0bad-464b-80f5-089e215a8b80\">\n",
              "  <button class=\"colab-df-quickchart\" onclick=\"quickchart('df-c09b9d5e-0bad-464b-80f5-089e215a8b80')\"\n",
              "            title=\"Suggest charts.\"\n",
              "            style=\"display:none;\">\n",
              "\n",
              "<svg xmlns=\"http://www.w3.org/2000/svg\" height=\"24px\"viewBox=\"0 0 24 24\"\n",
              "     width=\"24px\">\n",
              "    <g>\n",
              "        <path d=\"M19 3H5c-1.1 0-2 .9-2 2v14c0 1.1.9 2 2 2h14c1.1 0 2-.9 2-2V5c0-1.1-.9-2-2-2zM9 17H7v-7h2v7zm4 0h-2V7h2v10zm4 0h-2v-4h2v4z\"/>\n",
              "    </g>\n",
              "</svg>\n",
              "  </button>\n",
              "\n",
              "<style>\n",
              "  .colab-df-quickchart {\n",
              "      --bg-color: #E8F0FE;\n",
              "      --fill-color: #1967D2;\n",
              "      --hover-bg-color: #E2EBFA;\n",
              "      --hover-fill-color: #174EA6;\n",
              "      --disabled-fill-color: #AAA;\n",
              "      --disabled-bg-color: #DDD;\n",
              "  }\n",
              "\n",
              "  [theme=dark] .colab-df-quickchart {\n",
              "      --bg-color: #3B4455;\n",
              "      --fill-color: #D2E3FC;\n",
              "      --hover-bg-color: #434B5C;\n",
              "      --hover-fill-color: #FFFFFF;\n",
              "      --disabled-bg-color: #3B4455;\n",
              "      --disabled-fill-color: #666;\n",
              "  }\n",
              "\n",
              "  .colab-df-quickchart {\n",
              "    background-color: var(--bg-color);\n",
              "    border: none;\n",
              "    border-radius: 50%;\n",
              "    cursor: pointer;\n",
              "    display: none;\n",
              "    fill: var(--fill-color);\n",
              "    height: 32px;\n",
              "    padding: 0;\n",
              "    width: 32px;\n",
              "  }\n",
              "\n",
              "  .colab-df-quickchart:hover {\n",
              "    background-color: var(--hover-bg-color);\n",
              "    box-shadow: 0 1px 2px rgba(60, 64, 67, 0.3), 0 1px 3px 1px rgba(60, 64, 67, 0.15);\n",
              "    fill: var(--button-hover-fill-color);\n",
              "  }\n",
              "\n",
              "  .colab-df-quickchart-complete:disabled,\n",
              "  .colab-df-quickchart-complete:disabled:hover {\n",
              "    background-color: var(--disabled-bg-color);\n",
              "    fill: var(--disabled-fill-color);\n",
              "    box-shadow: none;\n",
              "  }\n",
              "\n",
              "  .colab-df-spinner {\n",
              "    border: 2px solid var(--fill-color);\n",
              "    border-color: transparent;\n",
              "    border-bottom-color: var(--fill-color);\n",
              "    animation:\n",
              "      spin 1s steps(1) infinite;\n",
              "  }\n",
              "\n",
              "  @keyframes spin {\n",
              "    0% {\n",
              "      border-color: transparent;\n",
              "      border-bottom-color: var(--fill-color);\n",
              "      border-left-color: var(--fill-color);\n",
              "    }\n",
              "    20% {\n",
              "      border-color: transparent;\n",
              "      border-left-color: var(--fill-color);\n",
              "      border-top-color: var(--fill-color);\n",
              "    }\n",
              "    30% {\n",
              "      border-color: transparent;\n",
              "      border-left-color: var(--fill-color);\n",
              "      border-top-color: var(--fill-color);\n",
              "      border-right-color: var(--fill-color);\n",
              "    }\n",
              "    40% {\n",
              "      border-color: transparent;\n",
              "      border-right-color: var(--fill-color);\n",
              "      border-top-color: var(--fill-color);\n",
              "    }\n",
              "    60% {\n",
              "      border-color: transparent;\n",
              "      border-right-color: var(--fill-color);\n",
              "    }\n",
              "    80% {\n",
              "      border-color: transparent;\n",
              "      border-right-color: var(--fill-color);\n",
              "      border-bottom-color: var(--fill-color);\n",
              "    }\n",
              "    90% {\n",
              "      border-color: transparent;\n",
              "      border-bottom-color: var(--fill-color);\n",
              "    }\n",
              "  }\n",
              "</style>\n",
              "\n",
              "  <script>\n",
              "    async function quickchart(key) {\n",
              "      const quickchartButtonEl =\n",
              "        document.querySelector('#' + key + ' button');\n",
              "      quickchartButtonEl.disabled = true;  // To prevent multiple clicks.\n",
              "      quickchartButtonEl.classList.add('colab-df-spinner');\n",
              "      try {\n",
              "        const charts = await google.colab.kernel.invokeFunction(\n",
              "            'suggestCharts', [key], {});\n",
              "      } catch (error) {\n",
              "        console.error('Error during call to suggestCharts:', error);\n",
              "      }\n",
              "      quickchartButtonEl.classList.remove('colab-df-spinner');\n",
              "      quickchartButtonEl.classList.add('colab-df-quickchart-complete');\n",
              "    }\n",
              "    (() => {\n",
              "      let quickchartButtonEl =\n",
              "        document.querySelector('#df-c09b9d5e-0bad-464b-80f5-089e215a8b80 button');\n",
              "      quickchartButtonEl.style.display =\n",
              "        google.colab.kernel.accessAllowed ? 'block' : 'none';\n",
              "    })();\n",
              "  </script>\n",
              "</div>\n",
              "    </div>\n",
              "  </div>\n"
            ]
          },
          "metadata": {},
          "execution_count": 41
        }
      ]
    },
    {
      "cell_type": "markdown",
      "source": [
        "### [NOT GOOD] Prompt 3 (chatgpt refined prompt 2)\n",
        "\n",
        "Here is my interation with Chat+:  \n",
        "<font color='Green'>ME:</font>  \n",
        "From now on, I will provide my prompt, you will suggest a better version of my prompt, and tell me your rationale.\n",
        "\n",
        "\n",
        "<font color='Blue'>GPT:</font>   \n",
        "Of course! Please provide your prompt, and I'll help you refine it.\n",
        "\n",
        "\n",
        "<font color='Green'>ME:</font>  \n",
        "prompt_2: You are interviewing {company_name}, {role_title} role with a {interviewer_role}. This is your resume {resume}. Please review the resume, job description, and company information below. Give point by point feedback with rationale and suggested edits. Also, giving your examples based on your editing suggestions. (optional: Here is the job description: {role_description}) (optional: Here is a description of the company: {company_description})\n",
        "\n",
        "\n",
        "<font color='Blue'>GPT:</font>  \n",
        "**Revised Prompt**:\n",
        "\"You are set to interview for the {role_title} position at {company_name} with an interviewer holding the title {interviewer_role}. Below you'll find your resume, the job description, and details about the company. Please review each section and provide detailed feedback, along with your rationale for each point. If possible, include examples to support your suggested edits. (Optional: Job description: {role_description}) (Optional: Company overview: {company_description})\"\n",
        "   \n",
        "**Rationale**:\n",
        "1. **Structural Changes**: I started the sentence with the main action (\"You are set to interview\") to make the reader's role immediately clear.\n",
        "2. **Clarity**: I changed the ordering of some phrases to ensure each piece of information flows logically into the next.\n",
        "3. **Consistency**: Used \"job description\" and \"company overview\" consistently to describe the optional inputs.\n",
        "4. **Detailed Feedback**: I specified \"detailed feedback\" to emphasize the depth of feedback expected.\n",
        "5. **Wording Choices**: Simplified some sentences for clarity and succinctness.\n",
        "\n",
        "This revised prompt provides clearer directions and a smoother reading experience."
      ],
      "metadata": {
        "id": "YvN-YGsg1_sm"
      }
    },
    {
      "cell_type": "markdown",
      "source": [
        "#### prompt_result"
      ],
      "metadata": {
        "id": "s0bLK4AKGqAA"
      }
    },
    {
      "cell_type": "code",
      "source": [
        "template_3 = \"\"\"\n",
        "You are set to interview for the {role_title} position at {company_name} with an interviewer holding the title {interviewer_role}.\n",
        "Below you'll find your resume, the job description, and details about the company.\n",
        "Please review each section and provide detailed feedback, along with your rationale for each point.\n",
        "If possible, include examples to support your suggested edits.\n",
        "Your resume: {resume}.\n",
        "Job description: {role_description}.\n",
        "Company overview: {company_description}.\n",
        "\"\"\""
      ],
      "metadata": {
        "id": "UMTE4MI42KM8"
      },
      "execution_count": null,
      "outputs": []
    },
    {
      "cell_type": "code",
      "source": [
        "prompt = PromptTemplate(\n",
        "    input_variables = input_var_1,\n",
        "    template = template_3\n",
        ")\n",
        "\n",
        "new_prompt = prompt.format(interviewer_role=ex_interviewer_role,\n",
        "                           company_name=ex_company_name,\n",
        "                           resume=ex_resume,\n",
        "                           role_title=ex_role_title,\n",
        "                           role_description=ex_role_description,\n",
        "                           company_description=ex_company_description)\n",
        "result = chat([HumanMessage(content=new_prompt)])\n",
        "print(result.content)"
      ],
      "metadata": {
        "colab": {
          "base_uri": "https://localhost:8080/"
        },
        "id": "XKmZ_2weGtPb",
        "outputId": "862736c5-a69e-47bd-ec15-a5309b2944df"
      },
      "execution_count": null,
      "outputs": [
        {
          "output_type": "stream",
          "name": "stdout",
          "text": [
            "Resume Feedback:\n",
            "\n",
            "1. Objective Statement: While your resume is impressive in terms of your academic qualifications and work experience, it lacks an objective statement. This is a valuable section where you can present your career aspirations and how your skills and experiences align with the company’s needs. For example, you could start with something like, \"Motivated Data Science Master's student with proven experience in AI/ML, looking to apply my technical skills and problem-solving expertise in a challenging Data Engineering role at S&P Global.\"\n",
            "\n",
            "2. Tailored Skills: Your resume is full of relevant skills, but it would be beneficial to tailor them more directly to the job description. For instance, the job description requires a basic understanding of machine learning and experience with Python, which you have, but they are buried in your resume. Make sure these skills stand out.\n",
            "\n",
            "3. Software Development Experience: The job description emphasizes the need for experience in software development and testing, but there's limited evidence of this on your resume. If you have any experience in this area, be sure to include it. If not, consider relevant coursework or projects that demonstrate your understanding of these concepts.\n",
            "\n",
            "4. Stakeholder Engagement: The role requires working closely with stakeholders. You've done a good job of emphasizing your collaboration and teamwork skills in your previous roles, but be sure to demonstrate how you've worked with stakeholders specifically.\n",
            "\n",
            "5. Relevant Coursework: It would be beneficial to include some relevant coursework from your Bachelor's degree that aligns with the job requirements. Given that the role is for a software developer for AI/ML initiative, courses in AI, ML, computer science, information technology, or a related field would be relevant.\n",
            "\n",
            "6. Work Accomplishments: While your resume does a good job at quantifying your achievements, it would be helpful to provide more context or explain how your work directly benefited the organization or project. For example, you mentioned that you \"achieved a 75% time reduction updating birth records,\" but it could be beneficial to explain why this was important or how it impacted the project or organization.\n",
            "\n",
            "7. Automation Understanding: The job description mentions a basic understanding of automation. If you have any experience or coursework related to automation, be sure to include it on your resume.\n",
            "\n",
            "8. Python and Java: The job description mentions that experience with programming languages such as Python or Java is a plus. Your resume mentions your skills with Python, but if you have any experience with Java, it would be beneficial to include this. \n",
            "\n",
            "9. Job Requirements: The job requires 3-5 years of experience. While you are still studying and might not have this amount of full-time work experience, you can include relevant internships, part-time roles, or projects to demonstrate your experience. \n",
            "\n",
            "10. Working Independently: The job requires the ability to work independently, but your resume mostly highlights team projects. If you have examples of successfully completing projects or tasks independently, it might be beneficial to include those.\n",
            "\n",
            "Overall, your resume is strong but could be improved by more directly aligning your skills and experiences with the job description and including an objective statement.\n"
          ]
        }
      ]
    },
    {
      "cell_type": "code",
      "source": [
        "new_prompt_result = pd.DataFrame({\n",
        "    'model': [ex_model],\n",
        "    'variable_combination': [ex_var_comb],\n",
        "    'template': [template_3],\n",
        "    'output': [result.content]\n",
        "})\n",
        "\n",
        "prompt_result = prompt_result.append(new_prompt_result, ignore_index=True)"
      ],
      "metadata": {
        "colab": {
          "base_uri": "https://localhost:8080/"
        },
        "id": "YL0qFg0TfoZN",
        "outputId": "3cf56d09-c34e-4751-8cd6-13578f81dc3a"
      },
      "execution_count": null,
      "outputs": [
        {
          "output_type": "stream",
          "name": "stderr",
          "text": [
            "<ipython-input-51-37265705e151>:8: FutureWarning: The frame.append method is deprecated and will be removed from pandas in a future version. Use pandas.concat instead.\n",
            "  prompt_result = prompt_result.append(new_prompt_result, ignore_index=True)\n"
          ]
        }
      ]
    },
    {
      "cell_type": "markdown",
      "source": [
        "### [GOOD] Prompt 4 (prompt 3 with my revisement, interviewee persona)"
      ],
      "metadata": {
        "id": "sHku2-DlIdGk"
      }
    },
    {
      "cell_type": "markdown",
      "source": [
        "#### prompt_result"
      ],
      "metadata": {
        "id": "lmR4KGpdIeYA"
      }
    },
    {
      "cell_type": "code",
      "source": [
        "template_4 = \"\"\"\n",
        "You are set to interview for the {role_title} position at {company_name} with an interviewer holding the title {interviewer_role}.\n",
        "Below you'll find your resume, the job description, and details about the company.\n",
        "Please review each section of your resume and provide detailed feedback of how to tailor your resume based on the job description and company overview below, along with your rationale for each point.\n",
        "If possible, include examples to support your suggested edits.\n",
        "Your resume: {resume}.\n",
        "Job description: {role_description}.\n",
        "Company overview: {company_description}.\n",
        "\"\"\""
      ],
      "metadata": {
        "id": "dNjQdgUMImtP"
      },
      "execution_count": null,
      "outputs": []
    },
    {
      "cell_type": "code",
      "source": [
        "prompt = PromptTemplate(\n",
        "    input_variables = input_var_1,\n",
        "    template = template_4\n",
        ")\n",
        "\n",
        "new_prompt = prompt.format(interviewer_role=ex_interviewer_role,\n",
        "                           company_name=ex_company_name,\n",
        "                           resume=ex_resume,\n",
        "                           role_title=ex_role_title,\n",
        "                           role_description=ex_role_description,\n",
        "                           company_description=ex_company_description)\n",
        "result = chat([HumanMessage(content=new_prompt)])\n",
        "print(result.content)"
      ],
      "metadata": {
        "colab": {
          "base_uri": "https://localhost:8080/"
        },
        "id": "CwIdrA7KIdsx",
        "outputId": "b9c805ac-4f45-45b2-a631-d608959b5b08"
      },
      "execution_count": null,
      "outputs": [
        {
          "output_type": "stream",
          "name": "stdout",
          "text": [
            "Resume feedback based on the job description and company overview:\n",
            "\n",
            "1. Objective: Start your resume with a clear and concise objective that reflects your career goal and how it aligns with the responsibilities of the Data Engineer - AI/ML position at S&P Global. For example, \"A highly skilled data science professional seeking to leverage my expertise in AI/ML for the Data Engineer position at S&P Global. Committed to developing innovative AI models to support business decision-making and drive operational efficiency.\"\n",
            "\n",
            "2. Experience: Highlight your experience in software development, testing, and deploying AI models. For instance, under your internship at Washington University School of Medicine, you can rephrase \"Database & Data Management\" to \"Developed, tested, and deployed AI models for managing and updating databases, reducing time spent on tasks by 75% and improving overall system efficiency.\"\n",
            "\n",
            "3. Skills: You have listed Python as one of your programming skills. Given that the job description states that experience with Python is a plus, consider highlighting this skill by moving it to the beginning of your list. Also, mention your understanding of machine learning as it is one of the job requirements.\n",
            "\n",
            "4. Projects: In your projects section, make sure to highlight any experience with AI/ML model development, deployment, or testing. For example, under the Insurance Claims Prediction for Asurion project, you can mention \"Developed and tested predictive AI models for insurance claim volume forecasting.\"\n",
            "\n",
            "5. Learning: The job description mentions that the ideal candidate should be passionate about learning emerging technologies. Highlight your ongoing learning of Amazon Web Services (AWS), Google Cloud Platform (GCP), and Tableau as these platforms are widely used in AI/ML and data engineering roles.\n",
            "\n",
            "6. Tailoring to the Company: S&P Global is a global financial services company. Highlight any experience or coursework related to finance, risk management, or economics. For example, if you have any experience with financial data analysis, be sure to include it. \n",
            "\n",
            "7. Format: Keep the format of your resume clean, concise, and professional. Use bullet points to list your duties and achievements in each role. This helps to make your resume easier to read and understand.\n",
            "\n",
            "8. Keywords: Always use keywords from the job description in your resume. This could increase your chances of passing an Applicant Tracking System (ATS), a software used by companies to filter out resumes based on keywords.\n",
            "\n",
            "9. Soft Skills: The job description highlights the need for excellent decision-making, interpersonal, and communication skills. Be sure to provide examples of these in your experience and projects sections.\n"
          ]
        }
      ]
    },
    {
      "cell_type": "code",
      "source": [
        "new_prompt_result = pd.DataFrame({\n",
        "    'model': [ex_model],\n",
        "    'variable_combination': [ex_var_comb],\n",
        "    'template': [template_4],\n",
        "    'output': [result.content]\n",
        "})\n",
        "\n",
        "prompt_result = prompt_result.append(new_prompt_result, ignore_index=True)"
      ],
      "metadata": {
        "colab": {
          "base_uri": "https://localhost:8080/"
        },
        "id": "o2tp9av-GtHO",
        "outputId": "2b6d1be9-5bf8-4c2e-ba68-1840544d784c"
      },
      "execution_count": null,
      "outputs": [
        {
          "output_type": "stream",
          "name": "stderr",
          "text": [
            "<ipython-input-46-e1628b0e6ddc>:8: FutureWarning: The frame.append method is deprecated and will be removed from pandas in a future version. Use pandas.concat instead.\n",
            "  prompt_result = prompt_result.append(new_prompt_result, ignore_index=True)\n"
          ]
        }
      ]
    },
    {
      "cell_type": "code",
      "source": [
        "prompt_result"
      ],
      "metadata": {
        "colab": {
          "base_uri": "https://localhost:8080/",
          "height": 143
        },
        "id": "53Uapm4ZGtJt",
        "outputId": "8170a2f9-1017-413f-cec5-a5385d5f0017"
      },
      "execution_count": null,
      "outputs": [
        {
          "output_type": "execute_result",
          "data": {
            "text/plain": [
              "   model variable_combination  \\\n",
              "0  gpt-4                    1   \n",
              "1  gpt-4                    1   \n",
              "2  gpt-4                    1   \n",
              "\n",
              "                                            template  \\\n",
              "0  \\nYou are a {interviewer_role}, for {company_n...   \n",
              "1  \\nYou are interviewing {company_name}, {role_t...   \n",
              "2  \\nYou are set to interview for the {role_title...   \n",
              "\n",
              "                                              output  \n",
              "0  Overall, the resume is quite impressive. It sh...  \n",
              "1  Feedback: \\n\\n1. Education: The educational ba...  \n",
              "2  Resume feedback based on the job description a...  "
            ],
            "text/html": [
              "\n",
              "  <div id=\"df-bf91f8e6-3640-4a0f-b381-bbc9e2a0b209\" class=\"colab-df-container\">\n",
              "    <div>\n",
              "<style scoped>\n",
              "    .dataframe tbody tr th:only-of-type {\n",
              "        vertical-align: middle;\n",
              "    }\n",
              "\n",
              "    .dataframe tbody tr th {\n",
              "        vertical-align: top;\n",
              "    }\n",
              "\n",
              "    .dataframe thead th {\n",
              "        text-align: right;\n",
              "    }\n",
              "</style>\n",
              "<table border=\"1\" class=\"dataframe\">\n",
              "  <thead>\n",
              "    <tr style=\"text-align: right;\">\n",
              "      <th></th>\n",
              "      <th>model</th>\n",
              "      <th>variable_combination</th>\n",
              "      <th>template</th>\n",
              "      <th>output</th>\n",
              "    </tr>\n",
              "  </thead>\n",
              "  <tbody>\n",
              "    <tr>\n",
              "      <th>0</th>\n",
              "      <td>gpt-4</td>\n",
              "      <td>1</td>\n",
              "      <td>\\nYou are a {interviewer_role}, for {company_n...</td>\n",
              "      <td>Overall, the resume is quite impressive. It sh...</td>\n",
              "    </tr>\n",
              "    <tr>\n",
              "      <th>1</th>\n",
              "      <td>gpt-4</td>\n",
              "      <td>1</td>\n",
              "      <td>\\nYou are interviewing {company_name}, {role_t...</td>\n",
              "      <td>Feedback: \\n\\n1. Education: The educational ba...</td>\n",
              "    </tr>\n",
              "    <tr>\n",
              "      <th>2</th>\n",
              "      <td>gpt-4</td>\n",
              "      <td>1</td>\n",
              "      <td>\\nYou are set to interview for the {role_title...</td>\n",
              "      <td>Resume feedback based on the job description a...</td>\n",
              "    </tr>\n",
              "  </tbody>\n",
              "</table>\n",
              "</div>\n",
              "    <div class=\"colab-df-buttons\">\n",
              "\n",
              "  <div class=\"colab-df-container\">\n",
              "    <button class=\"colab-df-convert\" onclick=\"convertToInteractive('df-bf91f8e6-3640-4a0f-b381-bbc9e2a0b209')\"\n",
              "            title=\"Convert this dataframe to an interactive table.\"\n",
              "            style=\"display:none;\">\n",
              "\n",
              "  <svg xmlns=\"http://www.w3.org/2000/svg\" height=\"24px\" viewBox=\"0 -960 960 960\">\n",
              "    <path d=\"M120-120v-720h720v720H120Zm60-500h600v-160H180v160Zm220 220h160v-160H400v160Zm0 220h160v-160H400v160ZM180-400h160v-160H180v160Zm440 0h160v-160H620v160ZM180-180h160v-160H180v160Zm440 0h160v-160H620v160Z\"/>\n",
              "  </svg>\n",
              "    </button>\n",
              "\n",
              "  <style>\n",
              "    .colab-df-container {\n",
              "      display:flex;\n",
              "      gap: 12px;\n",
              "    }\n",
              "\n",
              "    .colab-df-convert {\n",
              "      background-color: #E8F0FE;\n",
              "      border: none;\n",
              "      border-radius: 50%;\n",
              "      cursor: pointer;\n",
              "      display: none;\n",
              "      fill: #1967D2;\n",
              "      height: 32px;\n",
              "      padding: 0 0 0 0;\n",
              "      width: 32px;\n",
              "    }\n",
              "\n",
              "    .colab-df-convert:hover {\n",
              "      background-color: #E2EBFA;\n",
              "      box-shadow: 0px 1px 2px rgba(60, 64, 67, 0.3), 0px 1px 3px 1px rgba(60, 64, 67, 0.15);\n",
              "      fill: #174EA6;\n",
              "    }\n",
              "\n",
              "    .colab-df-buttons div {\n",
              "      margin-bottom: 4px;\n",
              "    }\n",
              "\n",
              "    [theme=dark] .colab-df-convert {\n",
              "      background-color: #3B4455;\n",
              "      fill: #D2E3FC;\n",
              "    }\n",
              "\n",
              "    [theme=dark] .colab-df-convert:hover {\n",
              "      background-color: #434B5C;\n",
              "      box-shadow: 0px 1px 3px 1px rgba(0, 0, 0, 0.15);\n",
              "      filter: drop-shadow(0px 1px 2px rgba(0, 0, 0, 0.3));\n",
              "      fill: #FFFFFF;\n",
              "    }\n",
              "  </style>\n",
              "\n",
              "    <script>\n",
              "      const buttonEl =\n",
              "        document.querySelector('#df-bf91f8e6-3640-4a0f-b381-bbc9e2a0b209 button.colab-df-convert');\n",
              "      buttonEl.style.display =\n",
              "        google.colab.kernel.accessAllowed ? 'block' : 'none';\n",
              "\n",
              "      async function convertToInteractive(key) {\n",
              "        const element = document.querySelector('#df-bf91f8e6-3640-4a0f-b381-bbc9e2a0b209');\n",
              "        const dataTable =\n",
              "          await google.colab.kernel.invokeFunction('convertToInteractive',\n",
              "                                                    [key], {});\n",
              "        if (!dataTable) return;\n",
              "\n",
              "        const docLinkHtml = 'Like what you see? Visit the ' +\n",
              "          '<a target=\"_blank\" href=https://colab.research.google.com/notebooks/data_table.ipynb>data table notebook</a>'\n",
              "          + ' to learn more about interactive tables.';\n",
              "        element.innerHTML = '';\n",
              "        dataTable['output_type'] = 'display_data';\n",
              "        await google.colab.output.renderOutput(dataTable, element);\n",
              "        const docLink = document.createElement('div');\n",
              "        docLink.innerHTML = docLinkHtml;\n",
              "        element.appendChild(docLink);\n",
              "      }\n",
              "    </script>\n",
              "  </div>\n",
              "\n",
              "\n",
              "<div id=\"df-7418fc45-d02a-4418-ab5c-53a08bbe6f40\">\n",
              "  <button class=\"colab-df-quickchart\" onclick=\"quickchart('df-7418fc45-d02a-4418-ab5c-53a08bbe6f40')\"\n",
              "            title=\"Suggest charts.\"\n",
              "            style=\"display:none;\">\n",
              "\n",
              "<svg xmlns=\"http://www.w3.org/2000/svg\" height=\"24px\"viewBox=\"0 0 24 24\"\n",
              "     width=\"24px\">\n",
              "    <g>\n",
              "        <path d=\"M19 3H5c-1.1 0-2 .9-2 2v14c0 1.1.9 2 2 2h14c1.1 0 2-.9 2-2V5c0-1.1-.9-2-2-2zM9 17H7v-7h2v7zm4 0h-2V7h2v10zm4 0h-2v-4h2v4z\"/>\n",
              "    </g>\n",
              "</svg>\n",
              "  </button>\n",
              "\n",
              "<style>\n",
              "  .colab-df-quickchart {\n",
              "      --bg-color: #E8F0FE;\n",
              "      --fill-color: #1967D2;\n",
              "      --hover-bg-color: #E2EBFA;\n",
              "      --hover-fill-color: #174EA6;\n",
              "      --disabled-fill-color: #AAA;\n",
              "      --disabled-bg-color: #DDD;\n",
              "  }\n",
              "\n",
              "  [theme=dark] .colab-df-quickchart {\n",
              "      --bg-color: #3B4455;\n",
              "      --fill-color: #D2E3FC;\n",
              "      --hover-bg-color: #434B5C;\n",
              "      --hover-fill-color: #FFFFFF;\n",
              "      --disabled-bg-color: #3B4455;\n",
              "      --disabled-fill-color: #666;\n",
              "  }\n",
              "\n",
              "  .colab-df-quickchart {\n",
              "    background-color: var(--bg-color);\n",
              "    border: none;\n",
              "    border-radius: 50%;\n",
              "    cursor: pointer;\n",
              "    display: none;\n",
              "    fill: var(--fill-color);\n",
              "    height: 32px;\n",
              "    padding: 0;\n",
              "    width: 32px;\n",
              "  }\n",
              "\n",
              "  .colab-df-quickchart:hover {\n",
              "    background-color: var(--hover-bg-color);\n",
              "    box-shadow: 0 1px 2px rgba(60, 64, 67, 0.3), 0 1px 3px 1px rgba(60, 64, 67, 0.15);\n",
              "    fill: var(--button-hover-fill-color);\n",
              "  }\n",
              "\n",
              "  .colab-df-quickchart-complete:disabled,\n",
              "  .colab-df-quickchart-complete:disabled:hover {\n",
              "    background-color: var(--disabled-bg-color);\n",
              "    fill: var(--disabled-fill-color);\n",
              "    box-shadow: none;\n",
              "  }\n",
              "\n",
              "  .colab-df-spinner {\n",
              "    border: 2px solid var(--fill-color);\n",
              "    border-color: transparent;\n",
              "    border-bottom-color: var(--fill-color);\n",
              "    animation:\n",
              "      spin 1s steps(1) infinite;\n",
              "  }\n",
              "\n",
              "  @keyframes spin {\n",
              "    0% {\n",
              "      border-color: transparent;\n",
              "      border-bottom-color: var(--fill-color);\n",
              "      border-left-color: var(--fill-color);\n",
              "    }\n",
              "    20% {\n",
              "      border-color: transparent;\n",
              "      border-left-color: var(--fill-color);\n",
              "      border-top-color: var(--fill-color);\n",
              "    }\n",
              "    30% {\n",
              "      border-color: transparent;\n",
              "      border-left-color: var(--fill-color);\n",
              "      border-top-color: var(--fill-color);\n",
              "      border-right-color: var(--fill-color);\n",
              "    }\n",
              "    40% {\n",
              "      border-color: transparent;\n",
              "      border-right-color: var(--fill-color);\n",
              "      border-top-color: var(--fill-color);\n",
              "    }\n",
              "    60% {\n",
              "      border-color: transparent;\n",
              "      border-right-color: var(--fill-color);\n",
              "    }\n",
              "    80% {\n",
              "      border-color: transparent;\n",
              "      border-right-color: var(--fill-color);\n",
              "      border-bottom-color: var(--fill-color);\n",
              "    }\n",
              "    90% {\n",
              "      border-color: transparent;\n",
              "      border-bottom-color: var(--fill-color);\n",
              "    }\n",
              "  }\n",
              "</style>\n",
              "\n",
              "  <script>\n",
              "    async function quickchart(key) {\n",
              "      const quickchartButtonEl =\n",
              "        document.querySelector('#' + key + ' button');\n",
              "      quickchartButtonEl.disabled = true;  // To prevent multiple clicks.\n",
              "      quickchartButtonEl.classList.add('colab-df-spinner');\n",
              "      try {\n",
              "        const charts = await google.colab.kernel.invokeFunction(\n",
              "            'suggestCharts', [key], {});\n",
              "      } catch (error) {\n",
              "        console.error('Error during call to suggestCharts:', error);\n",
              "      }\n",
              "      quickchartButtonEl.classList.remove('colab-df-spinner');\n",
              "      quickchartButtonEl.classList.add('colab-df-quickchart-complete');\n",
              "    }\n",
              "    (() => {\n",
              "      let quickchartButtonEl =\n",
              "        document.querySelector('#df-7418fc45-d02a-4418-ab5c-53a08bbe6f40 button');\n",
              "      quickchartButtonEl.style.display =\n",
              "        google.colab.kernel.accessAllowed ? 'block' : 'none';\n",
              "    })();\n",
              "  </script>\n",
              "</div>\n",
              "    </div>\n",
              "  </div>\n"
            ]
          },
          "metadata": {},
          "execution_count": 47
        }
      ]
    },
    {
      "cell_type": "markdown",
      "source": [
        "### Prompt 5 (Question refinement patter of prompt 1, with my revisement, interviewer persona)\n",
        "\n",
        "Here is my interation with Chat+:  \n",
        "<font color='Green'>ME:</font>  \n",
        "prompt_1: You are a {interviewer_role}, for {company_name}. Please review the following resume {resume}.\n",
        "For the role of {role_title}.\n",
        "(optional: Here is the job description: {role_description})\n",
        "(optional: Here is a description of the company: {company_description})\n",
        "Give point by point feedback with rationale and suggested edits\n",
        "\n",
        "<font color='Blue'>GPT:</font>   \n",
        "**Revised Prompt**:\n",
        "\"As an {interviewer_role} at {company_name}, please review the provided resume: {resume} for the {role_title} position.\n",
        "(Optional: Job description: {role_description})\n",
        "(Optional: Company overview: {company_description})\n",
        "Provide itemized feedback, including the reasoning for each point and any recommended changes.\"\n",
        "\n",
        "**Rationale**:\n",
        "1. **Structural Changes**: I restructured the sentences to ensure that the main action (\"review the provided resume\") is clear and upfront.\n",
        "2. **Consistency**: Standardized the optional input labels to \"Job description\" and \"Company overview\" for clarity and cohesion.\n",
        "3. **Clarity**: Emphasized the role for which the resume should be reviewed by placing it close to the action.\n",
        "4. **Succinctness**: The revised prompt is direct and concise while conveying the necessary information.\n",
        "\n",
        "The refined prompt offers clear and structured guidance for the task at hand.\n",
        "\n",
        "\n",
        "<font color='Green'>ME:</font>  \n",
        "My revised prompt_1 after gpt's revisement:As an {interviewer_role} at {company_name}, please review the provided resume: {resume} for the {role_title} position.\n",
        "Job description: {role_description}. Company overview: {company_description}.\n",
        "Provide itemized feedback of how to tailor your resume based on the job description and company overview, including the reasoning for each point and any recommended changes.\n",
        "\n",
        "\n",
        "<font color='Blue'>GPT:</font>  \n",
        "**Revised Prompt**:\n",
        "\"As an {interviewer_role} with {company_name}, you're tasked with evaluating the given resume: {resume} for the {role_title} position. Below are the details:\n",
        "- **Job Description**: {role_description}\n",
        "- **Company Overview**: {company_description}\n",
        "\n",
        "Please offer a detailed breakdown of suggestions to align the resume with the job description and company profile. Ensure each recommendation is accompanied by a rationale.\"\n",
        "\n",
        "**Rationale**:\n",
        "1. **Structural Changes**: I introduced bullet points for the job description and company overview to make the prompt easier to digest visually.\n",
        "2. **Clarification**: Emphasized the main task (\"evaluating the given resume\") early in the prompt for immediate context.\n",
        "3. **Succinctness and Flow**: Revised the wording for a more streamlined and coherent read.\n",
        "4. **Emphasis**: Highlighted the main action words and key details to guide attention to the essential parts of the task.\n",
        "\n",
        "The revised prompt offers clarity while maintaining the necessary details for the task."
      ],
      "metadata": {
        "id": "Mp8o0y5NXya0"
      }
    },
    {
      "cell_type": "markdown",
      "source": [
        "#### prompt_result"
      ],
      "metadata": {
        "id": "dkOixyqOXyBw"
      }
    },
    {
      "cell_type": "code",
      "source": [
        "template_5 = \"\"\"\n",
        "As an {interviewer_role} with {company_name}, you're tasked with evaluating the given resume: {resume} for the {role_title} position.\n",
        "Below are the details:\n",
        "Job Description: {role_description}\n",
        "Company Overview: {company_description}\n",
        "Please offer a detailed breakdown of suggestions to align the resume with the job description and company profile.\n",
        "Ensure each recommendation is accompanied by a rationale.\n",
        "\"\"\""
      ],
      "metadata": {
        "id": "eUkqlwBBGtE1"
      },
      "execution_count": null,
      "outputs": []
    },
    {
      "cell_type": "code",
      "source": [
        "prompt = PromptTemplate(\n",
        "    input_variables = input_var_1,\n",
        "    template = template_5\n",
        ")\n",
        "\n",
        "new_prompt = prompt.format(interviewer_role=ex_interviewer_role,\n",
        "                           company_name=ex_company_name,\n",
        "                           resume=ex_resume,\n",
        "                           role_title=ex_role_title,\n",
        "                           role_description=ex_role_description,\n",
        "                           company_description=ex_company_description)\n",
        "result = chat([HumanMessage(content=new_prompt)])\n",
        "print(result.content)"
      ],
      "metadata": {
        "colab": {
          "base_uri": "https://localhost:8080/"
        },
        "id": "EX7by83ycwQ5",
        "outputId": "38117ee1-fd0b-4cae-91c2-04294203e514"
      },
      "execution_count": null,
      "outputs": [
        {
          "output_type": "stream",
          "name": "stdout",
          "text": [
            "Recommendation 1: Highlight Relevant Experience\n",
            "Rationale: The position requires 3-5 years of experience in software development and testing. The resume indicates experience in data science internships and projects but does not explicitly mention software development and testing experience. The candidate should highlight any relevant experience in software development and testing, even if it was part of a broader role or project. \n",
            "\n",
            "Recommendation 2: Emphasize Machine Learning Skills\n",
            "Rationale: The job description mentions the implementation of machine learning algorithms and the evaluation of AI/ML models as key responsibilities. While the resume does mention machine learning in the education and experience sections, it would be helpful to elaborate on specific machine learning projects or experiences, detailing the models developed or evaluated.\n",
            "\n",
            "Recommendation 3: Include Experience with Stakeholder Engagement\n",
            "Rationale: The position requires working closely with stakeholders to understand business needs and develop solutions. The candidate has mentioned collaboration and stakeholder engagement in their projects, but it would be beneficial to detail these experiences further, highlighting the ability to understand and meet business needs.\n",
            "\n",
            "Recommendation 4: Detail Python or Java Experience\n",
            "Rationale: The job description mentions Python or Java programming experience as a plus. The candidate has listed Python as a programming skill, but there are no specific details of its application. The candidate should include specific examples of projects or tasks where they utilized Python.\n",
            "\n",
            "Recommendation 5: Highlight Teamwork Skills\n",
            "Rationale: The job position mentions the need for the ability to work independently and as part of a team. The candidate should emphasize instances of successful teamwork in their experience and projects.\n",
            "\n",
            "Recommendation 6: Emphasize Learning and Adaptability\n",
            "Rationale: The job description emphasizes the importance of learning emerging technologies. The candidate has indicated their ongoing learning through AWS and GCP, which should be highlighted as it shows the candidate's commitment to continuous learning and adaptability.\n",
            "\n",
            "Recommendation 7: Tailor Resume to S&P Global's Values and Industry\n",
            "Rationale: S&P Global is a financial services company that values analytics, intelligence, and sustainable finance. The candidate should tailor their resume to reflect these values, perhaps by mentioning relevant projects or experiences in these areas.\n"
          ]
        }
      ]
    },
    {
      "cell_type": "code",
      "source": [
        "new_prompt_result = pd.DataFrame({\n",
        "    'model': [ex_model],\n",
        "    'variable_combination': [ex_var_comb],\n",
        "    'template': [template_5],\n",
        "    'output': [result.content]\n",
        "})\n",
        "\n",
        "prompt_result = prompt_result.append(new_prompt_result, ignore_index=True)"
      ],
      "metadata": {
        "colab": {
          "base_uri": "https://localhost:8080/"
        },
        "id": "mC5RN9aGcwDC",
        "outputId": "76f4e3a3-e49f-46e4-cbe8-0b6db7241e47"
      },
      "execution_count": null,
      "outputs": [
        {
          "output_type": "stream",
          "name": "stderr",
          "text": [
            "<ipython-input-50-05b5e7c17c3e>:8: FutureWarning: The frame.append method is deprecated and will be removed from pandas in a future version. Use pandas.concat instead.\n",
            "  prompt_result = prompt_result.append(new_prompt_result, ignore_index=True)\n"
          ]
        }
      ]
    },
    {
      "cell_type": "markdown",
      "source": [
        "# Save data\n",
        "variable_combination.csv   \n",
        "prompt_result.csv"
      ],
      "metadata": {
        "id": "nOE7EXSvbUQW"
      }
    },
    {
      "cell_type": "code",
      "source": [
        "var_comb"
      ],
      "metadata": {
        "colab": {
          "base_uri": "https://localhost:8080/",
          "height": 115
        },
        "id": "Uq_c1KUBeYly",
        "outputId": "60e58760-a9f5-4351-be69-4357ed4fa311"
      },
      "execution_count": null,
      "outputs": [
        {
          "output_type": "execute_result",
          "data": {
            "text/plain": [
              "  comb_num interviewer_role company_name  \\\n",
              "0        1        recruiter   S&P Global   \n",
              "\n",
              "                                              resume  \\\n",
              "0  \\nEDUCATION\\nVanderbilt University – Data Scie...   \n",
              "\n",
              "                        role_title  \\\n",
              "0  Data Engineer - AI/ML (Virtual)   \n",
              "\n",
              "                                    role_description  \\\n",
              "0  \\nJob Description\\n\\nThis is a software develo...   \n",
              "\n",
              "                                 company_description  \n",
              "0  \\nOverview\\nS&P Global (NYSE: SPGI) provides e...  "
            ],
            "text/html": [
              "\n",
              "  <div id=\"df-ef903788-ee85-42fa-b855-202ebf86b0ef\" class=\"colab-df-container\">\n",
              "    <div>\n",
              "<style scoped>\n",
              "    .dataframe tbody tr th:only-of-type {\n",
              "        vertical-align: middle;\n",
              "    }\n",
              "\n",
              "    .dataframe tbody tr th {\n",
              "        vertical-align: top;\n",
              "    }\n",
              "\n",
              "    .dataframe thead th {\n",
              "        text-align: right;\n",
              "    }\n",
              "</style>\n",
              "<table border=\"1\" class=\"dataframe\">\n",
              "  <thead>\n",
              "    <tr style=\"text-align: right;\">\n",
              "      <th></th>\n",
              "      <th>comb_num</th>\n",
              "      <th>interviewer_role</th>\n",
              "      <th>company_name</th>\n",
              "      <th>resume</th>\n",
              "      <th>role_title</th>\n",
              "      <th>role_description</th>\n",
              "      <th>company_description</th>\n",
              "    </tr>\n",
              "  </thead>\n",
              "  <tbody>\n",
              "    <tr>\n",
              "      <th>0</th>\n",
              "      <td>1</td>\n",
              "      <td>recruiter</td>\n",
              "      <td>S&amp;P Global</td>\n",
              "      <td>\\nEDUCATION\\nVanderbilt University – Data Scie...</td>\n",
              "      <td>Data Engineer - AI/ML (Virtual)</td>\n",
              "      <td>\\nJob Description\\n\\nThis is a software develo...</td>\n",
              "      <td>\\nOverview\\nS&amp;P Global (NYSE: SPGI) provides e...</td>\n",
              "    </tr>\n",
              "  </tbody>\n",
              "</table>\n",
              "</div>\n",
              "    <div class=\"colab-df-buttons\">\n",
              "\n",
              "  <div class=\"colab-df-container\">\n",
              "    <button class=\"colab-df-convert\" onclick=\"convertToInteractive('df-ef903788-ee85-42fa-b855-202ebf86b0ef')\"\n",
              "            title=\"Convert this dataframe to an interactive table.\"\n",
              "            style=\"display:none;\">\n",
              "\n",
              "  <svg xmlns=\"http://www.w3.org/2000/svg\" height=\"24px\" viewBox=\"0 -960 960 960\">\n",
              "    <path d=\"M120-120v-720h720v720H120Zm60-500h600v-160H180v160Zm220 220h160v-160H400v160Zm0 220h160v-160H400v160ZM180-400h160v-160H180v160Zm440 0h160v-160H620v160ZM180-180h160v-160H180v160Zm440 0h160v-160H620v160Z\"/>\n",
              "  </svg>\n",
              "    </button>\n",
              "\n",
              "  <style>\n",
              "    .colab-df-container {\n",
              "      display:flex;\n",
              "      gap: 12px;\n",
              "    }\n",
              "\n",
              "    .colab-df-convert {\n",
              "      background-color: #E8F0FE;\n",
              "      border: none;\n",
              "      border-radius: 50%;\n",
              "      cursor: pointer;\n",
              "      display: none;\n",
              "      fill: #1967D2;\n",
              "      height: 32px;\n",
              "      padding: 0 0 0 0;\n",
              "      width: 32px;\n",
              "    }\n",
              "\n",
              "    .colab-df-convert:hover {\n",
              "      background-color: #E2EBFA;\n",
              "      box-shadow: 0px 1px 2px rgba(60, 64, 67, 0.3), 0px 1px 3px 1px rgba(60, 64, 67, 0.15);\n",
              "      fill: #174EA6;\n",
              "    }\n",
              "\n",
              "    .colab-df-buttons div {\n",
              "      margin-bottom: 4px;\n",
              "    }\n",
              "\n",
              "    [theme=dark] .colab-df-convert {\n",
              "      background-color: #3B4455;\n",
              "      fill: #D2E3FC;\n",
              "    }\n",
              "\n",
              "    [theme=dark] .colab-df-convert:hover {\n",
              "      background-color: #434B5C;\n",
              "      box-shadow: 0px 1px 3px 1px rgba(0, 0, 0, 0.15);\n",
              "      filter: drop-shadow(0px 1px 2px rgba(0, 0, 0, 0.3));\n",
              "      fill: #FFFFFF;\n",
              "    }\n",
              "  </style>\n",
              "\n",
              "    <script>\n",
              "      const buttonEl =\n",
              "        document.querySelector('#df-ef903788-ee85-42fa-b855-202ebf86b0ef button.colab-df-convert');\n",
              "      buttonEl.style.display =\n",
              "        google.colab.kernel.accessAllowed ? 'block' : 'none';\n",
              "\n",
              "      async function convertToInteractive(key) {\n",
              "        const element = document.querySelector('#df-ef903788-ee85-42fa-b855-202ebf86b0ef');\n",
              "        const dataTable =\n",
              "          await google.colab.kernel.invokeFunction('convertToInteractive',\n",
              "                                                    [key], {});\n",
              "        if (!dataTable) return;\n",
              "\n",
              "        const docLinkHtml = 'Like what you see? Visit the ' +\n",
              "          '<a target=\"_blank\" href=https://colab.research.google.com/notebooks/data_table.ipynb>data table notebook</a>'\n",
              "          + ' to learn more about interactive tables.';\n",
              "        element.innerHTML = '';\n",
              "        dataTable['output_type'] = 'display_data';\n",
              "        await google.colab.output.renderOutput(dataTable, element);\n",
              "        const docLink = document.createElement('div');\n",
              "        docLink.innerHTML = docLinkHtml;\n",
              "        element.appendChild(docLink);\n",
              "      }\n",
              "    </script>\n",
              "  </div>\n",
              "\n",
              "    </div>\n",
              "  </div>\n"
            ]
          },
          "metadata": {},
          "execution_count": 52
        }
      ]
    },
    {
      "cell_type": "code",
      "source": [
        "prompt_result"
      ],
      "metadata": {
        "colab": {
          "base_uri": "https://localhost:8080/",
          "height": 206
        },
        "id": "GVG8pvFBea9h",
        "outputId": "b1f535c1-7055-41a0-892d-8ffea46116f4"
      },
      "execution_count": null,
      "outputs": [
        {
          "output_type": "execute_result",
          "data": {
            "text/plain": [
              "   model variable_combination  \\\n",
              "0  gpt-4                    1   \n",
              "1  gpt-4                    1   \n",
              "2  gpt-4                    1   \n",
              "3  gpt-4                    1   \n",
              "4  gpt-4                    1   \n",
              "\n",
              "                                            template  \\\n",
              "0  \\nYou are a {interviewer_role}, for {company_n...   \n",
              "1  \\nYou are interviewing {company_name}, {role_t...   \n",
              "2  \\nYou are set to interview for the {role_title...   \n",
              "3  \\nAs an {interviewer_role} with {company_name}...   \n",
              "4  \\nYou are set to interview for the {role_title...   \n",
              "\n",
              "                                              output  \n",
              "0  Overall, the resume is quite impressive. It sh...  \n",
              "1  Feedback: \\n\\n1. Education: The educational ba...  \n",
              "2  Resume feedback based on the job description a...  \n",
              "3  Recommendation 1: Highlight Relevant Experienc...  \n",
              "4  Recommendation 1: Highlight Relevant Experienc...  "
            ],
            "text/html": [
              "\n",
              "  <div id=\"df-c210894d-00f8-4758-9a53-3aeb12edaa30\" class=\"colab-df-container\">\n",
              "    <div>\n",
              "<style scoped>\n",
              "    .dataframe tbody tr th:only-of-type {\n",
              "        vertical-align: middle;\n",
              "    }\n",
              "\n",
              "    .dataframe tbody tr th {\n",
              "        vertical-align: top;\n",
              "    }\n",
              "\n",
              "    .dataframe thead th {\n",
              "        text-align: right;\n",
              "    }\n",
              "</style>\n",
              "<table border=\"1\" class=\"dataframe\">\n",
              "  <thead>\n",
              "    <tr style=\"text-align: right;\">\n",
              "      <th></th>\n",
              "      <th>model</th>\n",
              "      <th>variable_combination</th>\n",
              "      <th>template</th>\n",
              "      <th>output</th>\n",
              "    </tr>\n",
              "  </thead>\n",
              "  <tbody>\n",
              "    <tr>\n",
              "      <th>0</th>\n",
              "      <td>gpt-4</td>\n",
              "      <td>1</td>\n",
              "      <td>\\nYou are a {interviewer_role}, for {company_n...</td>\n",
              "      <td>Overall, the resume is quite impressive. It sh...</td>\n",
              "    </tr>\n",
              "    <tr>\n",
              "      <th>1</th>\n",
              "      <td>gpt-4</td>\n",
              "      <td>1</td>\n",
              "      <td>\\nYou are interviewing {company_name}, {role_t...</td>\n",
              "      <td>Feedback: \\n\\n1. Education: The educational ba...</td>\n",
              "    </tr>\n",
              "    <tr>\n",
              "      <th>2</th>\n",
              "      <td>gpt-4</td>\n",
              "      <td>1</td>\n",
              "      <td>\\nYou are set to interview for the {role_title...</td>\n",
              "      <td>Resume feedback based on the job description a...</td>\n",
              "    </tr>\n",
              "    <tr>\n",
              "      <th>3</th>\n",
              "      <td>gpt-4</td>\n",
              "      <td>1</td>\n",
              "      <td>\\nAs an {interviewer_role} with {company_name}...</td>\n",
              "      <td>Recommendation 1: Highlight Relevant Experienc...</td>\n",
              "    </tr>\n",
              "    <tr>\n",
              "      <th>4</th>\n",
              "      <td>gpt-4</td>\n",
              "      <td>1</td>\n",
              "      <td>\\nYou are set to interview for the {role_title...</td>\n",
              "      <td>Recommendation 1: Highlight Relevant Experienc...</td>\n",
              "    </tr>\n",
              "  </tbody>\n",
              "</table>\n",
              "</div>\n",
              "    <div class=\"colab-df-buttons\">\n",
              "\n",
              "  <div class=\"colab-df-container\">\n",
              "    <button class=\"colab-df-convert\" onclick=\"convertToInteractive('df-c210894d-00f8-4758-9a53-3aeb12edaa30')\"\n",
              "            title=\"Convert this dataframe to an interactive table.\"\n",
              "            style=\"display:none;\">\n",
              "\n",
              "  <svg xmlns=\"http://www.w3.org/2000/svg\" height=\"24px\" viewBox=\"0 -960 960 960\">\n",
              "    <path d=\"M120-120v-720h720v720H120Zm60-500h600v-160H180v160Zm220 220h160v-160H400v160Zm0 220h160v-160H400v160ZM180-400h160v-160H180v160Zm440 0h160v-160H620v160ZM180-180h160v-160H180v160Zm440 0h160v-160H620v160Z\"/>\n",
              "  </svg>\n",
              "    </button>\n",
              "\n",
              "  <style>\n",
              "    .colab-df-container {\n",
              "      display:flex;\n",
              "      gap: 12px;\n",
              "    }\n",
              "\n",
              "    .colab-df-convert {\n",
              "      background-color: #E8F0FE;\n",
              "      border: none;\n",
              "      border-radius: 50%;\n",
              "      cursor: pointer;\n",
              "      display: none;\n",
              "      fill: #1967D2;\n",
              "      height: 32px;\n",
              "      padding: 0 0 0 0;\n",
              "      width: 32px;\n",
              "    }\n",
              "\n",
              "    .colab-df-convert:hover {\n",
              "      background-color: #E2EBFA;\n",
              "      box-shadow: 0px 1px 2px rgba(60, 64, 67, 0.3), 0px 1px 3px 1px rgba(60, 64, 67, 0.15);\n",
              "      fill: #174EA6;\n",
              "    }\n",
              "\n",
              "    .colab-df-buttons div {\n",
              "      margin-bottom: 4px;\n",
              "    }\n",
              "\n",
              "    [theme=dark] .colab-df-convert {\n",
              "      background-color: #3B4455;\n",
              "      fill: #D2E3FC;\n",
              "    }\n",
              "\n",
              "    [theme=dark] .colab-df-convert:hover {\n",
              "      background-color: #434B5C;\n",
              "      box-shadow: 0px 1px 3px 1px rgba(0, 0, 0, 0.15);\n",
              "      filter: drop-shadow(0px 1px 2px rgba(0, 0, 0, 0.3));\n",
              "      fill: #FFFFFF;\n",
              "    }\n",
              "  </style>\n",
              "\n",
              "    <script>\n",
              "      const buttonEl =\n",
              "        document.querySelector('#df-c210894d-00f8-4758-9a53-3aeb12edaa30 button.colab-df-convert');\n",
              "      buttonEl.style.display =\n",
              "        google.colab.kernel.accessAllowed ? 'block' : 'none';\n",
              "\n",
              "      async function convertToInteractive(key) {\n",
              "        const element = document.querySelector('#df-c210894d-00f8-4758-9a53-3aeb12edaa30');\n",
              "        const dataTable =\n",
              "          await google.colab.kernel.invokeFunction('convertToInteractive',\n",
              "                                                    [key], {});\n",
              "        if (!dataTable) return;\n",
              "\n",
              "        const docLinkHtml = 'Like what you see? Visit the ' +\n",
              "          '<a target=\"_blank\" href=https://colab.research.google.com/notebooks/data_table.ipynb>data table notebook</a>'\n",
              "          + ' to learn more about interactive tables.';\n",
              "        element.innerHTML = '';\n",
              "        dataTable['output_type'] = 'display_data';\n",
              "        await google.colab.output.renderOutput(dataTable, element);\n",
              "        const docLink = document.createElement('div');\n",
              "        docLink.innerHTML = docLinkHtml;\n",
              "        element.appendChild(docLink);\n",
              "      }\n",
              "    </script>\n",
              "  </div>\n",
              "\n",
              "\n",
              "<div id=\"df-f3fad33e-9e3b-4ccc-8297-f865f9223321\">\n",
              "  <button class=\"colab-df-quickchart\" onclick=\"quickchart('df-f3fad33e-9e3b-4ccc-8297-f865f9223321')\"\n",
              "            title=\"Suggest charts.\"\n",
              "            style=\"display:none;\">\n",
              "\n",
              "<svg xmlns=\"http://www.w3.org/2000/svg\" height=\"24px\"viewBox=\"0 0 24 24\"\n",
              "     width=\"24px\">\n",
              "    <g>\n",
              "        <path d=\"M19 3H5c-1.1 0-2 .9-2 2v14c0 1.1.9 2 2 2h14c1.1 0 2-.9 2-2V5c0-1.1-.9-2-2-2zM9 17H7v-7h2v7zm4 0h-2V7h2v10zm4 0h-2v-4h2v4z\"/>\n",
              "    </g>\n",
              "</svg>\n",
              "  </button>\n",
              "\n",
              "<style>\n",
              "  .colab-df-quickchart {\n",
              "      --bg-color: #E8F0FE;\n",
              "      --fill-color: #1967D2;\n",
              "      --hover-bg-color: #E2EBFA;\n",
              "      --hover-fill-color: #174EA6;\n",
              "      --disabled-fill-color: #AAA;\n",
              "      --disabled-bg-color: #DDD;\n",
              "  }\n",
              "\n",
              "  [theme=dark] .colab-df-quickchart {\n",
              "      --bg-color: #3B4455;\n",
              "      --fill-color: #D2E3FC;\n",
              "      --hover-bg-color: #434B5C;\n",
              "      --hover-fill-color: #FFFFFF;\n",
              "      --disabled-bg-color: #3B4455;\n",
              "      --disabled-fill-color: #666;\n",
              "  }\n",
              "\n",
              "  .colab-df-quickchart {\n",
              "    background-color: var(--bg-color);\n",
              "    border: none;\n",
              "    border-radius: 50%;\n",
              "    cursor: pointer;\n",
              "    display: none;\n",
              "    fill: var(--fill-color);\n",
              "    height: 32px;\n",
              "    padding: 0;\n",
              "    width: 32px;\n",
              "  }\n",
              "\n",
              "  .colab-df-quickchart:hover {\n",
              "    background-color: var(--hover-bg-color);\n",
              "    box-shadow: 0 1px 2px rgba(60, 64, 67, 0.3), 0 1px 3px 1px rgba(60, 64, 67, 0.15);\n",
              "    fill: var(--button-hover-fill-color);\n",
              "  }\n",
              "\n",
              "  .colab-df-quickchart-complete:disabled,\n",
              "  .colab-df-quickchart-complete:disabled:hover {\n",
              "    background-color: var(--disabled-bg-color);\n",
              "    fill: var(--disabled-fill-color);\n",
              "    box-shadow: none;\n",
              "  }\n",
              "\n",
              "  .colab-df-spinner {\n",
              "    border: 2px solid var(--fill-color);\n",
              "    border-color: transparent;\n",
              "    border-bottom-color: var(--fill-color);\n",
              "    animation:\n",
              "      spin 1s steps(1) infinite;\n",
              "  }\n",
              "\n",
              "  @keyframes spin {\n",
              "    0% {\n",
              "      border-color: transparent;\n",
              "      border-bottom-color: var(--fill-color);\n",
              "      border-left-color: var(--fill-color);\n",
              "    }\n",
              "    20% {\n",
              "      border-color: transparent;\n",
              "      border-left-color: var(--fill-color);\n",
              "      border-top-color: var(--fill-color);\n",
              "    }\n",
              "    30% {\n",
              "      border-color: transparent;\n",
              "      border-left-color: var(--fill-color);\n",
              "      border-top-color: var(--fill-color);\n",
              "      border-right-color: var(--fill-color);\n",
              "    }\n",
              "    40% {\n",
              "      border-color: transparent;\n",
              "      border-right-color: var(--fill-color);\n",
              "      border-top-color: var(--fill-color);\n",
              "    }\n",
              "    60% {\n",
              "      border-color: transparent;\n",
              "      border-right-color: var(--fill-color);\n",
              "    }\n",
              "    80% {\n",
              "      border-color: transparent;\n",
              "      border-right-color: var(--fill-color);\n",
              "      border-bottom-color: var(--fill-color);\n",
              "    }\n",
              "    90% {\n",
              "      border-color: transparent;\n",
              "      border-bottom-color: var(--fill-color);\n",
              "    }\n",
              "  }\n",
              "</style>\n",
              "\n",
              "  <script>\n",
              "    async function quickchart(key) {\n",
              "      const quickchartButtonEl =\n",
              "        document.querySelector('#' + key + ' button');\n",
              "      quickchartButtonEl.disabled = true;  // To prevent multiple clicks.\n",
              "      quickchartButtonEl.classList.add('colab-df-spinner');\n",
              "      try {\n",
              "        const charts = await google.colab.kernel.invokeFunction(\n",
              "            'suggestCharts', [key], {});\n",
              "      } catch (error) {\n",
              "        console.error('Error during call to suggestCharts:', error);\n",
              "      }\n",
              "      quickchartButtonEl.classList.remove('colab-df-spinner');\n",
              "      quickchartButtonEl.classList.add('colab-df-quickchart-complete');\n",
              "    }\n",
              "    (() => {\n",
              "      let quickchartButtonEl =\n",
              "        document.querySelector('#df-f3fad33e-9e3b-4ccc-8297-f865f9223321 button');\n",
              "      quickchartButtonEl.style.display =\n",
              "        google.colab.kernel.accessAllowed ? 'block' : 'none';\n",
              "    })();\n",
              "  </script>\n",
              "</div>\n",
              "    </div>\n",
              "  </div>\n"
            ]
          },
          "metadata": {},
          "execution_count": 53
        }
      ]
    },
    {
      "cell_type": "code",
      "source": [
        "var_comb.to_csv(\"/content/drive/MyDrive/Capstone Project - Mock Interview App/variable_combination.csv\", index=False)\n",
        "prompt_result.to_csv(\"/content/drive/MyDrive/Capstone Project - Mock Interview App/prompt_result.csv\", index=False)"
      ],
      "metadata": {
        "id": "RV3RZLXYbUoN"
      },
      "execution_count": null,
      "outputs": []
    },
    {
      "cell_type": "markdown",
      "source": [
        "# Appendix\n",
        "\n"
      ],
      "metadata": {
        "id": "kXmkr78bMfz0"
      }
    },
    {
      "cell_type": "markdown",
      "source": [
        "## Code can be used later"
      ],
      "metadata": {
        "id": "vhXvsVwSyWP4"
      }
    },
    {
      "cell_type": "code",
      "source": [
        "#prompt = (\n",
        "#    SystemMessage(content=\"You are a nice pirate\")\n",
        "#    + HumanMessage(content=\"hi\")\n",
        "#    + AIMessage(content=\"what?\")\n",
        "#    + \"{input}\"\n",
        "#)"
      ],
      "metadata": {
        "id": "fk-htv2SyeGh"
      },
      "execution_count": null,
      "outputs": []
    },
    {
      "cell_type": "code",
      "source": [],
      "metadata": {
        "id": "eNJ_Z585gLxP"
      },
      "execution_count": null,
      "outputs": []
    }
  ]
}