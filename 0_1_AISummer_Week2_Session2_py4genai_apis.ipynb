{
  "nbformat": 4,
  "nbformat_minor": 0,
  "metadata": {
    "colab": {
      "provenance": [],
      "collapsed_sections": [
        "2qwqjTZ3TwcA"
      ]
    },
    "kernelspec": {
      "name": "python3",
      "display_name": "Python 3"
    },
    "language_info": {
      "name": "python"
    },
    "widgets": {
      "application/vnd.jupyter.widget-state+json": {
        "83556fc91a4f44128f7004eecd80dc5f": {
          "model_module": "@jupyter-widgets/controls",
          "model_name": "HBoxModel",
          "model_module_version": "1.5.0",
          "state": {
            "_dom_classes": [],
            "_model_module": "@jupyter-widgets/controls",
            "_model_module_version": "1.5.0",
            "_model_name": "HBoxModel",
            "_view_count": null,
            "_view_module": "@jupyter-widgets/controls",
            "_view_module_version": "1.5.0",
            "_view_name": "HBoxView",
            "box_style": "",
            "children": [
              "IPY_MODEL_54dbcd54469c4ebd815ac65ece3f2275",
              "IPY_MODEL_8e58dab7ccc348afa57efc349888e11d",
              "IPY_MODEL_aa1e9926dc1548b5a49dbcf3f785ed86"
            ],
            "layout": "IPY_MODEL_36527c4fcb7945e2aac139189700cb82"
          }
        },
        "54dbcd54469c4ebd815ac65ece3f2275": {
          "model_module": "@jupyter-widgets/controls",
          "model_name": "HTMLModel",
          "model_module_version": "1.5.0",
          "state": {
            "_dom_classes": [],
            "_model_module": "@jupyter-widgets/controls",
            "_model_module_version": "1.5.0",
            "_model_name": "HTMLModel",
            "_view_count": null,
            "_view_module": "@jupyter-widgets/controls",
            "_view_module_version": "1.5.0",
            "_view_name": "HTMLView",
            "description": "",
            "description_tooltip": null,
            "layout": "IPY_MODEL_a753b1c4499e4286a999f1a30ddef5cb",
            "placeholder": "​",
            "style": "IPY_MODEL_a98752bb4d164f439b47e7655b2a940b",
            "value": "Downloading (…)neration_config.json: 100%"
          }
        },
        "8e58dab7ccc348afa57efc349888e11d": {
          "model_module": "@jupyter-widgets/controls",
          "model_name": "FloatProgressModel",
          "model_module_version": "1.5.0",
          "state": {
            "_dom_classes": [],
            "_model_module": "@jupyter-widgets/controls",
            "_model_module_version": "1.5.0",
            "_model_name": "FloatProgressModel",
            "_view_count": null,
            "_view_module": "@jupyter-widgets/controls",
            "_view_module_version": "1.5.0",
            "_view_name": "ProgressView",
            "bar_style": "success",
            "description": "",
            "description_tooltip": null,
            "layout": "IPY_MODEL_86116aba4a274b429bbfbc9c5b5314b6",
            "max": 124,
            "min": 0,
            "orientation": "horizontal",
            "style": "IPY_MODEL_4c5923951e1d4fc48704970e13096beb",
            "value": 124
          }
        },
        "aa1e9926dc1548b5a49dbcf3f785ed86": {
          "model_module": "@jupyter-widgets/controls",
          "model_name": "HTMLModel",
          "model_module_version": "1.5.0",
          "state": {
            "_dom_classes": [],
            "_model_module": "@jupyter-widgets/controls",
            "_model_module_version": "1.5.0",
            "_model_name": "HTMLModel",
            "_view_count": null,
            "_view_module": "@jupyter-widgets/controls",
            "_view_module_version": "1.5.0",
            "_view_name": "HTMLView",
            "description": "",
            "description_tooltip": null,
            "layout": "IPY_MODEL_3d5c4ef218774e438642baf0ee8c0690",
            "placeholder": "​",
            "style": "IPY_MODEL_146d387465ad4541a31faaa20a4653ca",
            "value": " 124/124 [00:00&lt;00:00, 2.75kB/s]"
          }
        },
        "36527c4fcb7945e2aac139189700cb82": {
          "model_module": "@jupyter-widgets/base",
          "model_name": "LayoutModel",
          "model_module_version": "1.2.0",
          "state": {
            "_model_module": "@jupyter-widgets/base",
            "_model_module_version": "1.2.0",
            "_model_name": "LayoutModel",
            "_view_count": null,
            "_view_module": "@jupyter-widgets/base",
            "_view_module_version": "1.2.0",
            "_view_name": "LayoutView",
            "align_content": null,
            "align_items": null,
            "align_self": null,
            "border": null,
            "bottom": null,
            "display": null,
            "flex": null,
            "flex_flow": null,
            "grid_area": null,
            "grid_auto_columns": null,
            "grid_auto_flow": null,
            "grid_auto_rows": null,
            "grid_column": null,
            "grid_gap": null,
            "grid_row": null,
            "grid_template_areas": null,
            "grid_template_columns": null,
            "grid_template_rows": null,
            "height": null,
            "justify_content": null,
            "justify_items": null,
            "left": null,
            "margin": null,
            "max_height": null,
            "max_width": null,
            "min_height": null,
            "min_width": null,
            "object_fit": null,
            "object_position": null,
            "order": null,
            "overflow": null,
            "overflow_x": null,
            "overflow_y": null,
            "padding": null,
            "right": null,
            "top": null,
            "visibility": null,
            "width": null
          }
        },
        "a753b1c4499e4286a999f1a30ddef5cb": {
          "model_module": "@jupyter-widgets/base",
          "model_name": "LayoutModel",
          "model_module_version": "1.2.0",
          "state": {
            "_model_module": "@jupyter-widgets/base",
            "_model_module_version": "1.2.0",
            "_model_name": "LayoutModel",
            "_view_count": null,
            "_view_module": "@jupyter-widgets/base",
            "_view_module_version": "1.2.0",
            "_view_name": "LayoutView",
            "align_content": null,
            "align_items": null,
            "align_self": null,
            "border": null,
            "bottom": null,
            "display": null,
            "flex": null,
            "flex_flow": null,
            "grid_area": null,
            "grid_auto_columns": null,
            "grid_auto_flow": null,
            "grid_auto_rows": null,
            "grid_column": null,
            "grid_gap": null,
            "grid_row": null,
            "grid_template_areas": null,
            "grid_template_columns": null,
            "grid_template_rows": null,
            "height": null,
            "justify_content": null,
            "justify_items": null,
            "left": null,
            "margin": null,
            "max_height": null,
            "max_width": null,
            "min_height": null,
            "min_width": null,
            "object_fit": null,
            "object_position": null,
            "order": null,
            "overflow": null,
            "overflow_x": null,
            "overflow_y": null,
            "padding": null,
            "right": null,
            "top": null,
            "visibility": null,
            "width": null
          }
        },
        "a98752bb4d164f439b47e7655b2a940b": {
          "model_module": "@jupyter-widgets/controls",
          "model_name": "DescriptionStyleModel",
          "model_module_version": "1.5.0",
          "state": {
            "_model_module": "@jupyter-widgets/controls",
            "_model_module_version": "1.5.0",
            "_model_name": "DescriptionStyleModel",
            "_view_count": null,
            "_view_module": "@jupyter-widgets/base",
            "_view_module_version": "1.2.0",
            "_view_name": "StyleView",
            "description_width": ""
          }
        },
        "86116aba4a274b429bbfbc9c5b5314b6": {
          "model_module": "@jupyter-widgets/base",
          "model_name": "LayoutModel",
          "model_module_version": "1.2.0",
          "state": {
            "_model_module": "@jupyter-widgets/base",
            "_model_module_version": "1.2.0",
            "_model_name": "LayoutModel",
            "_view_count": null,
            "_view_module": "@jupyter-widgets/base",
            "_view_module_version": "1.2.0",
            "_view_name": "LayoutView",
            "align_content": null,
            "align_items": null,
            "align_self": null,
            "border": null,
            "bottom": null,
            "display": null,
            "flex": null,
            "flex_flow": null,
            "grid_area": null,
            "grid_auto_columns": null,
            "grid_auto_flow": null,
            "grid_auto_rows": null,
            "grid_column": null,
            "grid_gap": null,
            "grid_row": null,
            "grid_template_areas": null,
            "grid_template_columns": null,
            "grid_template_rows": null,
            "height": null,
            "justify_content": null,
            "justify_items": null,
            "left": null,
            "margin": null,
            "max_height": null,
            "max_width": null,
            "min_height": null,
            "min_width": null,
            "object_fit": null,
            "object_position": null,
            "order": null,
            "overflow": null,
            "overflow_x": null,
            "overflow_y": null,
            "padding": null,
            "right": null,
            "top": null,
            "visibility": null,
            "width": null
          }
        },
        "4c5923951e1d4fc48704970e13096beb": {
          "model_module": "@jupyter-widgets/controls",
          "model_name": "ProgressStyleModel",
          "model_module_version": "1.5.0",
          "state": {
            "_model_module": "@jupyter-widgets/controls",
            "_model_module_version": "1.5.0",
            "_model_name": "ProgressStyleModel",
            "_view_count": null,
            "_view_module": "@jupyter-widgets/base",
            "_view_module_version": "1.2.0",
            "_view_name": "StyleView",
            "bar_color": null,
            "description_width": ""
          }
        },
        "3d5c4ef218774e438642baf0ee8c0690": {
          "model_module": "@jupyter-widgets/base",
          "model_name": "LayoutModel",
          "model_module_version": "1.2.0",
          "state": {
            "_model_module": "@jupyter-widgets/base",
            "_model_module_version": "1.2.0",
            "_model_name": "LayoutModel",
            "_view_count": null,
            "_view_module": "@jupyter-widgets/base",
            "_view_module_version": "1.2.0",
            "_view_name": "LayoutView",
            "align_content": null,
            "align_items": null,
            "align_self": null,
            "border": null,
            "bottom": null,
            "display": null,
            "flex": null,
            "flex_flow": null,
            "grid_area": null,
            "grid_auto_columns": null,
            "grid_auto_flow": null,
            "grid_auto_rows": null,
            "grid_column": null,
            "grid_gap": null,
            "grid_row": null,
            "grid_template_areas": null,
            "grid_template_columns": null,
            "grid_template_rows": null,
            "height": null,
            "justify_content": null,
            "justify_items": null,
            "left": null,
            "margin": null,
            "max_height": null,
            "max_width": null,
            "min_height": null,
            "min_width": null,
            "object_fit": null,
            "object_position": null,
            "order": null,
            "overflow": null,
            "overflow_x": null,
            "overflow_y": null,
            "padding": null,
            "right": null,
            "top": null,
            "visibility": null,
            "width": null
          }
        },
        "146d387465ad4541a31faaa20a4653ca": {
          "model_module": "@jupyter-widgets/controls",
          "model_name": "DescriptionStyleModel",
          "model_module_version": "1.5.0",
          "state": {
            "_model_module": "@jupyter-widgets/controls",
            "_model_module_version": "1.5.0",
            "_model_name": "DescriptionStyleModel",
            "_view_count": null,
            "_view_module": "@jupyter-widgets/base",
            "_view_module_version": "1.2.0",
            "_view_name": "StyleView",
            "description_width": ""
          }
        }
      }
    }
  },
  "cells": [
    {
      "cell_type": "markdown",
      "source": [
        "<font color='red'>Notice: This colab notebook is directly copied from 2023 AI Summer Week 2, Session 2.</font>  \n",
        "\n",
        "In this notebook, I will start learning & writing some of functions for Mock Interview Project."
      ],
      "metadata": {
        "id": "kTyNrJFxRRXx"
      }
    },
    {
      "cell_type": "markdown",
      "metadata": {
        "id": "view-in-github"
      },
      "source": [
        "<a href=\"https://colab.research.google.com/github/vanderbilt-data-science/ai_summer/blob/main/0_1_py4genai_apis_solns.ipynb\" target=\"_parent\"><img src=\"https://colab.research.google.com/assets/colab-badge.svg\" alt=\"Open In Colab\"/></a>"
      ]
    },
    {
      "cell_type": "markdown",
      "source": [
        "# Functions and APIs\n",
        "> Expanding things Python \"Already Knows\"\n",
        "\n",
        "In the last lesson, we learned about Google Colab, Python, and built-in data types and data structures. We talked about how there are some tasks/instructions/data that Python already knows how to do, and then others which we need to tell Python about. Today, we'll learn the syntax and grammar of how to communicate higher-order tasks to Python.\n",
        "\n",
        "## Lesson Objectives\n",
        "At the end of today's lesson, you should be able to:\n",
        "* Describe the purpose of a function\n",
        "* Describe the different input/output relationships of functions\n",
        "* Write a function\n",
        "* Describe what it means to install packages/modules/libraries\n",
        "* Describe what it means to import packages/modules/libraries\n",
        "* Use an API to accomplish a task\n",
        "\n",
        "Let's get started!"
      ],
      "metadata": {
        "id": "mMBdFRMzYuea"
      }
    },
    {
      "cell_type": "code",
      "source": [
        "import warnings"
      ],
      "metadata": {
        "id": "GcmgT2ia1UQh"
      },
      "execution_count": null,
      "outputs": []
    },
    {
      "cell_type": "markdown",
      "source": [
        "# What are functions?\n",
        "\n",
        "A function is essentially a programming apparatus which:\n",
        "* Optionally receives some data as inputs\n",
        "* Performs some operation\n",
        "* Optionally returns some values\n",
        "\n",
        "What?\n",
        "\n",
        "One can conceptualize a function to things we do and interact with in every day life.\n",
        "\n",
        "<center>\n",
        "<img src=\"https://upload.wikimedia.org/wikipedia/commons/thumb/7/7a/Piqsels.com-id-zbxec.jpg/640px-Piqsels.com-id-zbxec.jpg\" width=\"300\">\n",
        "</center>\n",
        "\n",
        "Describe how we've been using the Generative AI websites to chat with our models."
      ],
      "metadata": {
        "id": "42ZeCQ35Zzy5"
      }
    },
    {
      "cell_type": "code",
      "source": [
        "#@title Writing a Chat Function (for me here can be \"resume review\" function)\n",
        "#@markdown Let's begin to codify how one might write an chat function.\n",
        "\n",
        "#@markdown **Description.** What will the chat function do (in plain words)?\n",
        "chat_description = \"\" #@param {type:\"string\"}\n",
        "\n",
        "#@markdown **Function Name.** What would you like to call this chat function? It should be descriptive but concise.\n",
        "function_name = \"\" #@param {type:\"string\"}\n",
        "\n",
        "#@markdown **Parameters.** What things affect how the chat behaves?\n",
        "chat_input_parameters = \"\" #@param {type:\"string\"}\n",
        "\n",
        "#@markdown **Main object.** What are the main inputs that the chat will be manipulating?\n",
        "chat_main_object = \"\" #@param {type:\"string\"}\n",
        "\n",
        "#@markdown **Outputs.** What is the output of the chat?\n",
        "chat_outputs = \"\" #@param {type:\"string\"}\n",
        "\n",
        "#@markdown **Chat Behavior.** What does the chat itself need to do generate the outputs? You can write something short,\n",
        "#@markdown and broad, given that we will actually write this later.\n",
        "chat_behavior = \"\" #@param {type:\"string\"}\n",
        "\n"
      ],
      "metadata": {
        "cellView": "form",
        "id": "l141Ri1lYRR3"
      },
      "execution_count": null,
      "outputs": []
    },
    {
      "cell_type": "code",
      "source": [
        "#@title Writing a \"**resume review**\" function\n",
        "#@markdown Let's begin to codify how one might write an resume_review function.\n",
        "\n",
        "#@markdown **Description.** What will the resume_review function do (in plain words)?\n",
        "resume_review_description = \"Take the user's resume, then give point by point to improve the resume and the rationale\" #@param {type:\"string\"}\n",
        "\n",
        "#@markdown **Function Name.** What would you like to call this resume_review function? It should be descriptive but concise.\n",
        "function_name = \"review_resume\" #@param {type:\"string\"}\n",
        "\n",
        "#@markdown **Parameters.** What things affect how the resume_review behaves?\n",
        "resume_review_input_parameters = \"user_id,  resume (resume_file,  resume_file_format), extra_content (later, it will be listed into more specific content)\" #@param {type:\"string\"}\n",
        "\n",
        "#@markdown **Main object.** What are the main inputs that the resume_review will be manipulating?\n",
        "resume_review_main_object = \"resume_file\" #@param {type:\"string\"}\n",
        "\n",
        "#@markdown **Outputs.** What is the output of the resume_review?\n",
        "resume_review_outputs = \"revised_resume, revise_rationale\" #@param {type:\"string\"}\n",
        "\n",
        "#@markdown **Resume Review Behavior.** What does the resume_review itself need to do generate the outputs? You can write something short,\n",
        "#@markdown and broad, given that we will actually write this later.\n",
        "resume_review_behavior = \"call APIs to use those LLMs, use our predefined prompt to look through the resume, and help revise the resume point by point, and give rationales\" #@param {type:\"string\"}\n",
        "\n"
      ],
      "metadata": {
        "cellView": "form",
        "id": "TKo2Vi-ZbVGe"
      },
      "execution_count": null,
      "outputs": []
    },
    {
      "cell_type": "markdown",
      "source": [
        "If you've filled out the previous form, you've got all the components necessary to actually write a chat function. Now, you just need the syntax and grammar of how to communicate it to Python. The syntax for a function looks like this, using your defined parameters above:\n",
        "\n",
        "```\n",
        "# def, paretheses, commas, and colon are syntax elements to communicate a function\n",
        "def function_name(chat_main_object, chat_input_parameters):\n",
        "  '''\n",
        "  chat_description\n",
        "  '''\n",
        "  \n",
        "  #lines of code operating on the oven_main_object and using the chat_input_parameters, note indentation\n",
        "  chat_behavior\n",
        "\n",
        "  #'return' keyword communicates the object(s) to be returned\n",
        "  return chat_outputs\n",
        "```\n",
        "\n",
        "Let's try this with code...."
      ],
      "metadata": {
        "id": "3802ZQhVYRSB"
      }
    },
    {
      "cell_type": "markdown",
      "source": [
        "## Breakout Room: Chat as a Function (10 minutes)\n",
        "In this breakout room, you'll use your generative AI of choice to create this function. The goal is to create _the simplest reasonable function with no unnecessary elements_.\n",
        "\n",
        "**Tasks to execute**:\n",
        "1. Generate the chat function given the functionality described above. The model type you will use will be a Huggingface transformer. Record your prompt and any necessary extra prompts to simplify the response.\n",
        "2. Verify that the function behaves as expected. What steps did you take to do this? You can use `gpt2` as the model name.\n",
        "3. Were any unnecessary code elements generated? If so, what were they?\n",
        "4. (If time) Remove the warning for pad_token_id.\n",
        "\n",
        "Add your code in new cells or the cells provided below.\n",
        "\n",
        "**Hints**\n",
        "<details>\n",
        "<summary>Hints to help with unsuccessful prompts</summary>\n",
        "\n",
        "The following prompt may give you a good starting point:\n",
        "<blockquote>\n",
        "\"Can you write a function in the simplest, clearest way possible in Python called get_chat? It receives as input an huggingface transformer model name and the text to be sent to the model. The function should return the response.\"\n",
        "</blockquote>\n",
        "\n",
        "<blockquote>\n",
        "Can you modify the function so that if I don't pass in a model name, the function still runs the pipeline and generates the response?\n",
        "</blockquote>\n",
        "</details>\n",
        "\n",
        "<details>\n",
        "\n",
        "<summary>Hints to help with transformers</summary>\n",
        "\n",
        "1. You will most likely want to use the `pipeline` abstraction to implement the model functionality.\n",
        "2. If you use `pipeline`, you'll also want to use `text-generation` as the type.\n",
        "</details>"
      ],
      "metadata": {
        "id": "FIy7wVD7h6ct"
      }
    },
    {
      "cell_type": "code",
      "source": [
        "%%capture\n",
        "!pip install transformers"
      ],
      "metadata": {
        "id": "-VOpXwg0qMWk"
      },
      "execution_count": null,
      "outputs": []
    },
    {
      "cell_type": "code",
      "source": [
        "from transformers import pipeline"
      ],
      "metadata": {
        "id": "cfMoscsLrePM"
      },
      "execution_count": null,
      "outputs": []
    },
    {
      "cell_type": "code",
      "source": [
        "# Solution for 1\n",
        "def get_chat(text, model_name):\n",
        "    chatbot = pipeline(\"text-generation\", model=model_name)\n",
        "    response = chatbot(text)[0]['generated_text']\n",
        "    return response\n",
        "\n",
        "# Solution for 2\n",
        "resp = get_chat('The cat ran down the hall, right? And then it', 'gpt2')\n",
        "resp\n"
      ],
      "metadata": {
        "id": "PtS2uNWmpeS3"
      },
      "execution_count": null,
      "outputs": []
    },
    {
      "cell_type": "code",
      "source": [
        "#1. Generate the review_resume function given the functionality described above.\n",
        "#   The model type you will use will be a Huggingface transformer. Record your\n",
        "#   prompt and any necessary extra prompts to simplify the response.\n",
        "\n",
        "def review_resume(resume, model_name):\n",
        "    resume_reviewer = pipeline(\"text-generation\", model=model_name)\n",
        "    revised_resume = resume_reviewer(resume)[0]['generated_text']\n",
        "    return revised_resume\n",
        "\n",
        "#2. Verify that the function behaves as expected. What steps did you take to do\n",
        "#   this? You can use gpt2 as the model name.\n",
        "my_resume = \"Performed comparison tests for predefined groups in TRUST project\"#, which helped improve patient trust for hospital during the transitional care\"\n",
        "rev_resm = review_resume(my_resume, \"gpt2\")\n",
        "rev_resm"
      ],
      "metadata": {
        "colab": {
          "base_uri": "https://localhost:8080/",
          "height": 149,
          "referenced_widgets": [
            "83556fc91a4f44128f7004eecd80dc5f",
            "54dbcd54469c4ebd815ac65ece3f2275",
            "8e58dab7ccc348afa57efc349888e11d",
            "aa1e9926dc1548b5a49dbcf3f785ed86",
            "36527c4fcb7945e2aac139189700cb82",
            "a753b1c4499e4286a999f1a30ddef5cb",
            "a98752bb4d164f439b47e7655b2a940b",
            "86116aba4a274b429bbfbc9c5b5314b6",
            "4c5923951e1d4fc48704970e13096beb",
            "3d5c4ef218774e438642baf0ee8c0690",
            "146d387465ad4541a31faaa20a4653ca"
          ]
        },
        "id": "d0BbrOHo5Efw",
        "outputId": "f67bf552-49d1-4001-b58d-9140ddb681b4"
      },
      "execution_count": null,
      "outputs": [
        {
          "output_type": "display_data",
          "data": {
            "text/plain": [
              "Downloading (…)neration_config.json:   0%|          | 0.00/124 [00:00<?, ?B/s]"
            ],
            "application/vnd.jupyter.widget-view+json": {
              "version_major": 2,
              "version_minor": 0,
              "model_id": "83556fc91a4f44128f7004eecd80dc5f"
            }
          },
          "metadata": {}
        },
        {
          "output_type": "stream",
          "name": "stderr",
          "text": [
            "Setting `pad_token_id` to `eos_token_id`:50256 for open-end generation.\n"
          ]
        },
        {
          "output_type": "execute_result",
          "data": {
            "text/plain": [
              "'Performed comparison tests for predefined groups in TRUST project. These comparison tests were run as part of the test suite on the test-scripts.service tool installed in TRUST project.\\n\\nExamples:\\n\\n$./curl -L'"
            ],
            "application/vnd.google.colaboratory.intrinsic+json": {
              "type": "string"
            }
          },
          "metadata": {},
          "execution_count": 6
        }
      ]
    },
    {
      "cell_type": "markdown",
      "source": [
        "## Default parameters and keywords\n",
        "Here, we had two inputs, but these models actually have loonngg lists of ways that you can change the behavior of the model (or pipeline). You can see an example of some of these parameters for text generation pipelines for Huggingface [in their documentation.](https://huggingface.co/docs/transformers/main_classes/pipelines#transformers.TextGenerationPipeline.__call__)\n",
        "\n",
        "What if we wanted to add 2 parameters to:\n",
        "1. Set the device (CPU vs GPU), and\n",
        "2. Choose whether we wanted to return full text or not? Let's see how we can do this.\n",
        "\n",
        "What if additionally, we wanted text to be a required input, whereas the rest of the parameters could be optional? How would this change our function? We will assume that ChatGPT gave us the following response, and we'll test it out!\n",
        "\n",
        "```\n",
        "def get_chat(text, model_name=None, device=-1, return_full_text=False):\n",
        "    generator = pipeline(\"text-generation\", model=model_name, device=device, model_kwargs={\"pad_token_id\": 50256})\n",
        "    response = generator(text, return_full_text=return_full_text)[0]['generated_text']\n",
        "    return response\n",
        "```\n"
      ],
      "metadata": {
        "id": "jkiF_FxJz447"
      }
    },
    {
      "cell_type": "code",
      "source": [
        "def get_chat(text, model_name=None, device=-1, return_full_text=False):\n",
        "    generator = pipeline(\"text-generation\", model=model_name, device=device, model_kwargs={\"pad_token_id\": 50256})\n",
        "    response = generator(text, return_full_text=return_full_text)[0]['generated_text']\n",
        "    return response"
      ],
      "metadata": {
        "id": "FSVhS74bz4fg"
      },
      "execution_count": null,
      "outputs": []
    },
    {
      "cell_type": "code",
      "source": [
        "# check to see if we can run with just the required input\n",
        "get_chat('The cat ran down the hall! It was crazy!! And then, it')"
      ],
      "metadata": {
        "id": "kp7tdViI0X4C",
        "colab": {
          "base_uri": "https://localhost:8080/",
          "height": 145
        },
        "outputId": "dedd495f-9776-4df1-ff1b-c085290ad9ad"
      },
      "execution_count": null,
      "outputs": [
        {
          "output_type": "stream",
          "name": "stderr",
          "text": [
            "No model was supplied, defaulted to gpt2 and revision 6c0e608 (https://huggingface.co/gpt2).\n",
            "Using a pipeline without specifying a model name and revision in production is not recommended.\n",
            "/usr/local/lib/python3.10/dist-packages/transformers/generation/utils.py:1417: UserWarning: You have modified the pretrained model configuration to control generation. This is a deprecated strategy to control generation and will be removed soon, in a future version. Please use a generation configuration file (see https://huggingface.co/docs/transformers/main_classes/text_generation )\n",
            "  warnings.warn(\n"
          ]
        },
        {
          "output_type": "execute_result",
          "data": {
            "text/plain": [
              "' broke out of the cage! I thought I\\'d have to kill it!\"\\n\\nShe was right! The cats had left her. So was Yang! At least they weren'"
            ],
            "application/vnd.google.colaboratory.intrinsic+json": {
              "type": "string"
            }
          },
          "metadata": {},
          "execution_count": 8
        }
      ]
    },
    {
      "cell_type": "code",
      "source": [
        "# check to see whether we can run without the required input\n",
        "get_chat()"
      ],
      "metadata": {
        "id": "D5k_5xAi28Zq",
        "colab": {
          "base_uri": "https://localhost:8080/",
          "height": 232
        },
        "outputId": "b481e1f1-4e75-4475-f14b-2f366db4dbf5"
      },
      "execution_count": null,
      "outputs": [
        {
          "output_type": "error",
          "ename": "TypeError",
          "evalue": "ignored",
          "traceback": [
            "\u001b[0;31m---------------------------------------------------------------------------\u001b[0m",
            "\u001b[0;31mTypeError\u001b[0m                                 Traceback (most recent call last)",
            "\u001b[0;32m<ipython-input-9-99fa9b0b47d8>\u001b[0m in \u001b[0;36m<cell line: 2>\u001b[0;34m()\u001b[0m\n\u001b[1;32m      1\u001b[0m \u001b[0;31m# check to see whether we can run without the required input\u001b[0m\u001b[0;34m\u001b[0m\u001b[0;34m\u001b[0m\u001b[0m\n\u001b[0;32m----> 2\u001b[0;31m \u001b[0mget_chat\u001b[0m\u001b[0;34m(\u001b[0m\u001b[0;34m)\u001b[0m\u001b[0;34m\u001b[0m\u001b[0;34m\u001b[0m\u001b[0m\n\u001b[0m",
            "\u001b[0;31mTypeError\u001b[0m: get_chat() missing 1 required positional argument: 'text'"
          ]
        }
      ]
    },
    {
      "cell_type": "code",
      "source": [
        "# check to see if order matters\n",
        "get_chat('The dog might have rolled in garbage juice this morning, but', return_full_text=True, model_name='gpt2')"
      ],
      "metadata": {
        "id": "kSFL0qsF3A-Y",
        "colab": {
          "base_uri": "https://localhost:8080/",
          "height": 89
        },
        "outputId": "a065550d-8dd8-464e-cfb8-fd225dc9528e"
      },
      "execution_count": null,
      "outputs": [
        {
          "output_type": "execute_result",
          "data": {
            "text/plain": [
              "\"The dog might have rolled in garbage juice this morning, but he just couldn't stop the urge to walk away. The dog was found hiding between the tree trunk and over the sidewalk near her place of work.\\n\\nThe animal came to the attention\""
            ],
            "application/vnd.google.colaboratory.intrinsic+json": {
              "type": "string"
            }
          },
          "metadata": {},
          "execution_count": 10
        }
      ]
    },
    {
      "cell_type": "code",
      "source": [
        "# check to see if order matters with named required inputs\n",
        "get_chat(model_name='gpt2', text='The dog might have rolled in garbage juice this morning, but', return_full_text=True)"
      ],
      "metadata": {
        "id": "U8WFIp1O3c_B",
        "colab": {
          "base_uri": "https://localhost:8080/",
          "height": 71
        },
        "outputId": "f7058464-f50b-4706-9c39-76d8419b8780"
      },
      "execution_count": null,
      "outputs": [
        {
          "output_type": "execute_result",
          "data": {
            "text/plain": [
              "\"The dog might have rolled in garbage juice this morning, but it is one of the most expensive pets you can find. Many can fetch up to $100. I found one from a friend's place, but the prices are low. My dog would\""
            ],
            "application/vnd.google.colaboratory.intrinsic+json": {
              "type": "string"
            }
          },
          "metadata": {},
          "execution_count": 11
        }
      ]
    },
    {
      "cell_type": "code",
      "source": [
        "# check to see if order matters with unnamed required inputs\n",
        "get_chat(model_name='gpt2', 'The dog might have rolled in garbage juice this morning, but', return_full_text=True)"
      ],
      "metadata": {
        "id": "do2V1gk03rYm",
        "colab": {
          "base_uri": "https://localhost:8080/",
          "height": 179
        },
        "outputId": "f0666595-22b9-43dd-b4da-7e43fe64e77e"
      },
      "execution_count": null,
      "outputs": [
        {
          "output_type": "error",
          "ename": "SyntaxError",
          "evalue": "ignored",
          "traceback": [
            "\u001b[0;36m  File \u001b[0;32m\"<ipython-input-12-9f9b88b08495>\"\u001b[0;36m, line \u001b[0;32m2\u001b[0m\n\u001b[0;31m    get_chat(model_name='gpt2', 'The dog might have rolled in garbage juice this morning, but', return_full_text=True)\u001b[0m\n\u001b[0m                                                                                                                     ^\u001b[0m\n\u001b[0;31mSyntaxError\u001b[0m\u001b[0;31m:\u001b[0m positional argument follows keyword argument\n"
          ]
        }
      ]
    },
    {
      "cell_type": "markdown",
      "source": [
        "### For **resume review**"
      ],
      "metadata": {
        "id": "Vt6h2yvDC_iR"
      }
    },
    {
      "cell_type": "code",
      "source": [
        "def review_resume(resume, model_name=None, device=-1, return_full_text=False):\n",
        "    resume_reviewer = pipeline(\"text-generation\", model=model_name, device=device, model_kwargs={\"pad_token_id\": 50256})\n",
        "    revised_resume = resume_reviewer(resume, return_full_text=return_full_text)[0]['generated_text']\n",
        "    return revised_resume"
      ],
      "metadata": {
        "id": "Cbmnm8kzC87w"
      },
      "execution_count": null,
      "outputs": []
    },
    {
      "cell_type": "code",
      "source": [
        "review_resume(my_resume)"
      ],
      "metadata": {
        "colab": {
          "base_uri": "https://localhost:8080/",
          "height": 163
        },
        "id": "L6zEaUP_C8-v",
        "outputId": "9f7ab5a8-9395-44fe-c6b6-3880f131d529"
      },
      "execution_count": null,
      "outputs": [
        {
          "output_type": "stream",
          "name": "stderr",
          "text": [
            "No model was supplied, defaulted to gpt2 and revision 6c0e608 (https://huggingface.co/gpt2).\n",
            "Using a pipeline without specifying a model name and revision in production is not recommended.\n",
            "/usr/local/lib/python3.10/dist-packages/transformers/generation/utils.py:1417: UserWarning: You have modified the pretrained model configuration to control generation. This is a deprecated strategy to control generation and will be removed soon, in a future version. Please use a generation configuration file (see https://huggingface.co/docs/transformers/main_classes/text_generation )\n",
            "  warnings.warn(\n"
          ]
        },
        {
          "output_type": "execute_result",
          "data": {
            "text/plain": [
              "'\\n\\nThe following code snippet shows a single test for using the predefined group structure when using predefined objects and their data:\\n\\n#include <JIT.h> // #'"
            ],
            "application/vnd.google.colaboratory.intrinsic+json": {
              "type": "string"
            }
          },
          "metadata": {},
          "execution_count": 14
        }
      ]
    },
    {
      "cell_type": "code",
      "source": [
        "review_resume(my_resume, return_full_text=True)"
      ],
      "metadata": {
        "colab": {
          "base_uri": "https://localhost:8080/",
          "height": 163
        },
        "id": "GIa5_Vt6C9B3",
        "outputId": "d4481ac2-4ea5-4723-d1ca-e0228172dada"
      },
      "execution_count": null,
      "outputs": [
        {
          "output_type": "stream",
          "name": "stderr",
          "text": [
            "No model was supplied, defaulted to gpt2 and revision 6c0e608 (https://huggingface.co/gpt2).\n",
            "Using a pipeline without specifying a model name and revision in production is not recommended.\n",
            "/usr/local/lib/python3.10/dist-packages/transformers/generation/utils.py:1417: UserWarning: You have modified the pretrained model configuration to control generation. This is a deprecated strategy to control generation and will be removed soon, in a future version. Please use a generation configuration file (see https://huggingface.co/docs/transformers/main_classes/text_generation )\n",
            "  warnings.warn(\n"
          ]
        },
        {
          "output_type": "execute_result",
          "data": {
            "text/plain": [
              "'Performed comparison tests for predefined groups in TRUST project, for which the following are supported:\\n\\n<div class=\"group\" data-pagename=\"MISSINGER\"> <!-- this is where all members of this study (in'"
            ],
            "application/vnd.google.colaboratory.intrinsic+json": {
              "type": "string"
            }
          },
          "metadata": {},
          "execution_count": 15
        }
      ]
    },
    {
      "cell_type": "markdown",
      "source": [
        "\n",
        "## Catching unwanted behavior\n",
        "Sometimes, it will be the case that you want to make sure that certain things don't happen in your code, or at least be notified that they have occurred.\n",
        "\n",
        "This can be achieved through:\n",
        "\n",
        "1. Warnings: continue code execution, but notify the user\n",
        "2. Exceptions: halt code execution and notify the user\n",
        "\n",
        "You can check out the inverse of this (i.e., suppressing warnings - not usually a good idea) through the warnings package."
      ],
      "metadata": {
        "id": "fHSmhug-4U0X"
      }
    },
    {
      "cell_type": "code",
      "source": [
        "# utilizing example above\n",
        "with warnings.catch_warnings():\n",
        "  warnings.simplefilter(\"ignore\")\n",
        "  display(get_chat('The dog might have rolled in garbage juice this morning, but', return_full_text=True, model_name='gpt2'))"
      ],
      "metadata": {
        "colab": {
          "base_uri": "https://localhost:8080/",
          "height": 71
        },
        "id": "n9C_ZxNp4jz-",
        "outputId": "5e008b4f-6c05-4b97-ad93-2f623c2d2164"
      },
      "execution_count": null,
      "outputs": [
        {
          "output_type": "display_data",
          "data": {
            "text/plain": [
              "'The dog might have rolled in garbage juice this morning, but it was still a good number for this dog.\\n\\nOn a very serious note: This year seems to have been a great year for the cat, in terms of sales. For the'"
            ],
            "application/vnd.google.colaboratory.intrinsic+json": {
              "type": "string"
            }
          },
          "metadata": {}
        }
      ]
    },
    {
      "cell_type": "code",
      "source": [
        "with warnings.catch_warnings():\n",
        "  warnings.simplefilter(\"ignore\")\n",
        "  display(review_resume(my_resume, return_full_text=True, model_name='gpt2'))"
      ],
      "metadata": {
        "colab": {
          "base_uri": "https://localhost:8080/",
          "height": 89
        },
        "id": "Up-S6rM2Ekpy",
        "outputId": "2d29bae9-bb88-4007-e39f-0c2e180defe9"
      },
      "execution_count": null,
      "outputs": [
        {
          "output_type": "display_data",
          "data": {
            "text/plain": [
              "\"Performed comparison tests for predefined groups in TRUST project, which are built using a tool for generalizationiem-build-test, found that the best results followed the following assumptions: 1), we know they don't affect the tree-level\""
            ],
            "application/vnd.google.colaboratory.intrinsic+json": {
              "type": "string"
            }
          },
          "metadata": {}
        }
      ]
    },
    {
      "cell_type": "markdown",
      "source": [
        "Fantastic. We learned that a function:\n",
        "* does something\n",
        "* can have inputs\n",
        "* can have outputs\n",
        "* should be defined in memory\n",
        "* must be called on something to operate\n",
        "\n",
        "**See homework for investigation of advanced concepts.**"
      ],
      "metadata": {
        "id": "x9v9jqGdyhXj"
      }
    },
    {
      "cell_type": "markdown",
      "source": [
        "# Object-oriented Programming"
      ],
      "metadata": {
        "id": "GALCY1t-dlYU"
      }
    },
    {
      "cell_type": "markdown",
      "source": [
        "## Functions, Methods, and Classes\n",
        "We just now wrote our own function, but Python is chocked full of lots of different built-in functions that you can already use! We just now used some:\n",
        "* `print()`\n",
        "* `lower()`\n",
        "\n",
        "And saw several others in Python's API for math operations and strings.\n",
        "\n",
        "Most strictly speaking, the code we just wrote was a function, but when we call \"operations\" relevant to the object they're working on, this is called a _method_. This distinction matters to the extent to which you can capitalize upon this knowledge.\n",
        "\n",
        "What? I know, that was a confusing statement, so lets take an example.\n",
        "\n",
        "<center>\n",
        "<figure>\n",
        "<img src=\"https://github.com/vanderbilt-data-science/p4ai-essentials/blob/main/img/oven_class.png?raw=true\" width=\"600\"/>\n",
        "<figcaption>Not all methods should apply to all objects. Sometimes, it helps for the specification of a particular object to come grouped with its attributes as well.</figcaption>\n",
        "</figure>\n",
        "</center>\n",
        "\n",
        "\n",
        "\n"
      ],
      "metadata": {
        "id": "TCtSVP_yxWmW"
      }
    },
    {
      "cell_type": "markdown",
      "source": [
        "## A more relevant example: LLM classes\n",
        "\n",
        "Suppose we decide that we don't want to view our `chat` functionality as a function. We decide to view it as a `class`, because we can use Huggingface Models, OpenAI models, Bard, Claude, etc. So we decide that instead, we will create a class for each of these different model types.\n",
        "\n",
        "Additionally, our overall objective is to allow users to interact with our platform, and some people will not have OpenAI or other API keys readily accessible. Let's assume that we've decided to make some generalized version of ChatGPT, where on the same interface, you can use ChatGPT, BingGPT, whatever.\n",
        "\n",
        "The first step here is essentially to design and implement the classes. This will give us the tools to implement higher and higher levels of functionality. Keep in your mind that we're trying to identify:\n",
        "- Attributes or characteristics of the model that we want to set or are useful to know\n",
        "- Methods of interacting with the model\n",
        "\n"
      ],
      "metadata": {
        "id": "6AyeXHOjBIR7"
      }
    },
    {
      "cell_type": "markdown",
      "source": [
        "### Questions\n",
        "\n",
        "**1. What functionality does each model type need to perform?**\n",
        "* `get_chat`\n",
        "\n",
        "**2. Does the functionality differ for `get_chat` for the different models?**\n",
        "* We've seen the implementation of HF transformers\n",
        "* What about OpenAI? See more [here](https://platform.openai.com/docs/api-reference/completions/create).\n",
        "\n",
        "**3. What functionality is best left performed one time?**\n",
        "* Initialization. For HF transformers, we saw that that thing downloaded a model each time that pipeline was called! We want to do that one time and remember the state. For OpenAI, we need to use an API Key. We don't want to have to pass that literally every single time that we want a chat. It would be better stored within some object.\n",
        "\n",
        "**4. What characteristics should be stored about each model?**\n",
        "* HF transformers: pipeline model\n",
        "* OpenAI: API key, model name\n",
        "\n",
        "**5. Speaking generally, what is common about these models?**\n",
        "* Model name is generally needed either to create the pipeline or invoke the correct OpenAI model\n",
        "* Both need to implement `get_chat`, despite it being implemented differently."
      ],
      "metadata": {
        "id": "IE3uy0hVD30h"
      }
    },
    {
      "cell_type": "markdown",
      "source": [
        "Class syntax:\n",
        "\n",
        "```\n",
        "# def, paretheses, commas, and colon are syntax elements to communicate a function\n",
        "def class_name(ParentClass):\n",
        "  '''\n",
        "  Class description\n",
        "  '''\n",
        "  \n",
        "  #initialization function\n",
        "  def __init__(self, init_input, init_attribute):\n",
        "    self.attribute_name = init_attribute\n",
        "    self.important_input = some_function(init_input)\n",
        "    # any other initialization steps\n",
        "\n",
        "  #some other method appropriate for the class\n",
        "  def some_other_method(self, input_as_appropriate):\n",
        "    pipe_output = another_function(input_as_appropriate, self.important_input)\n",
        "    return pipe_output\n",
        "```"
      ],
      "metadata": {
        "id": "vNqM5msuGdCp"
      }
    },
    {
      "cell_type": "markdown",
      "source": [
        "### Breakout Room: Understanding your Classes (10 mins)\n",
        "In your breakout rooms, use your genAI of choice to better understand object-oriented design in the context of the implementation of these classes. Use the answers from the questions above to interrogate how this functionality is implemented in code.\n",
        "\n",
        "#### **Code**\n",
        "\n",
        "```\n",
        "# Import the libraries\n",
        "import openai\n",
        "import transformers\n",
        "\n",
        "# Define the AIModel base class\n",
        "class AIModel:\n",
        "    # Initialize the model name\n",
        "    def __init__(self, name):\n",
        "        self.name = name\n",
        "\n",
        "    # Define the get_answer method as an abstract method\n",
        "    def get_chat(self, question):\n",
        "        # Raise a NotImplementedError exception\n",
        "        raise NotImplementedError(\"The get_answer method must be implemented by the subclass.\")\n",
        "\n",
        "# Define the HFModel class as a subclass of AIModel\n",
        "class HFModel(AIModel):\n",
        "    # Initialize the model\n",
        "    def __init__(self, model_name):\n",
        "        super().__init__(model_name)\n",
        "        self.model = transformers.pipeline(\"text-generation\", model=model_name)\n",
        "\n",
        "    # Define the get_answer method\n",
        "    def get_chat(self, question):\n",
        "        # Generate text using the model\n",
        "        output = self.model(question)\n",
        "        # Return the answer\n",
        "        answer = output[0][\"generated_text\"]\n",
        "        return answer\n",
        "\n",
        "# Define the OpenAIModel class as a subclass of AIModel\n",
        "class OpenAIModel(AIModel):\n",
        "    # Initialize the model and set the API key\n",
        "    def __init__(self, model_name, api_key):\n",
        "        super().__init__(model_name)\n",
        "        self.model = model_name\n",
        "        self.api_key = api_key\n",
        "        openai.api_key = api_key\n",
        "\n",
        "    # Define the get_answer method\n",
        "    def get_chat(self, question):\n",
        "        # Generate text using the OpenAI API\n",
        "        response = openai.Completion.create(\n",
        "            engine=self.model,\n",
        "            prompt=question,\n",
        "            max_tokens=100,\n",
        "            temperature=0.9,\n",
        "            stop=\"\\n\"\n",
        "        )\n",
        "        # Return the answer\n",
        "        answer = response[\"choices\"][0][\"text\"]\n",
        "        return answer\n",
        "```\n",
        "\n",
        "#### **Questions to Answer**\n",
        "\n",
        "_Note: here, you will need to design your questions to GenAI based on the answers to the questions above. Some example prompts are given, but first try to think of your own prompt to answer these questions. Make sure to add these (your initial prompts) to the breakout room document as well as your successful prompts._\n",
        "\n",
        "**0. Explain at a high level the purpose of this code and general organization.**\n",
        "<details>\n",
        "<summary>Example prompts</summary>\n",
        "<blockquote>\n",
        "This code seems to implement `get_chat` functionality which could be implemented as a function. Why might someone instead implement the code like this? It seems more complex.\n",
        "</blockquote>\n",
        "<blockquote>\n",
        "Explain to me, in the simplest terms possible, each of the 3 classes. How do I use them?\n",
        "</blockquote>\n",
        "</details>\n",
        "\n",
        "**1. What functionality does each model type need to perform?**\n",
        "<details>\n",
        "<summary>Example prompts</summary>\n",
        "<blockquote>\n",
        "Do each of the classes all perform the same general functions?\n",
        "</blockquote>\n",
        "</details>\n",
        "\n",
        "**2. Does the functionality differ for `get_chat` for the different models?**\n",
        "<details>\n",
        "<summary>Example prompts</summary>\n",
        "<blockquote>\n",
        "If all of the classes perform the same general functions, why are there 3 definitions of `get_chat` when they all have the same underlying intent?\n",
        "</blockquote>\n",
        "</details>\n",
        "\n",
        "**3. What functionality is best left performed one time?**\n",
        "<details>\n",
        "<summary>Example prompts</summary>\n",
        "<blockquote>\n",
        "What is the purpose of the `__init__` function, and how do I use it to create an object?\n",
        "</blockquote>\n",
        "<blockquote>\n",
        "Why is the code for instantiating the model in the `__init__` function? I could reduce the number of methods in each class to just the `get_chat` method if I did. Are there advantages to this approach?\n",
        "</blockquote>\n",
        "</details>\n",
        "\n",
        "**4. What characteristics should be stored about each model?**\n",
        "<details>\n",
        "<summary>Example prompts</summary>\n",
        "<blockquote>\n",
        "What is the purpose of `self` in this code?\n",
        "</blockquote>\n",
        "<blockquote>\n",
        "It looks like sometimes, we use method inputs and do something like \"self.api_key = api_key\". Other times, we have lines like \"answer = output[0]['generated_text'] where we don't use the self part. Why is this?\n",
        "</blockquote>\n",
        "\n",
        "</details>\n",
        "\n",
        "**5. Speaking generally, what is common about these models?**\n",
        "<details>\n",
        "<summary>Example prompts</summary>\n",
        "<blockquote>\n",
        "What is the AIModel class? Can I use it directly?\n",
        "</blockquote>\n",
        "<blockquote>\n",
        "How is common functionality across both the HFModel and OpenAI captured in this code?\n",
        "</blockquote>\n",
        "\n",
        "</details>\n",
        "\n",
        "**6. (If time and context left) Get a summary of the conversation.**\n",
        "<details>\n",
        "<summary>Example prompts</summary>\n",
        "<blockquote>\n",
        "I am a beginner in learning about object oriented programming. Can you summarize our conversation in the clearest, most concise terms, highlighting the most relevant parts for my knowledge?\n",
        "</blockquote>\n",
        "</details>\n",
        "<br>\n",
        "\n",
        "#### **Code Generation Details**\n",
        "<details>\n",
        "<summary>Click here if interested in how generative AI was used to generate this code.</summary>\n",
        "\n",
        "The following prompts were used iteratively to reach a reasonable answer with BingGPT. Note that the part about the base class can be ignored, unless you simply want to implement a base class:\n",
        "<blockquote>\n",
        "\"Write me some python code which implements two classes: HFModel and OpenAIModel. They should leverage their own APIs and use the simplest, most straightforward implementation possible. The purpose of the two classes is to create text generation models, and have a get_answer method which utilizes their APIs to return the answer when called on the object.\"\n",
        "</blockquote>\n",
        "\n",
        "<blockquote>\n",
        "Can you add a base class called AIModel from which OpenAIModel and HFModel are derived? all models need to have a name, but only some models need an API key.\n",
        "</blockquote>\n",
        "\n",
        "<blockquote>\n",
        "Given that the HFModel uses a pipeline, is there any unnecessary code in the HFModel class definition, and can it be removed?\n",
        "</blockquote>\n",
        "\n",
        "<blockquote>\n",
        "Should the base model have a get_answer implementation? Is it better formed as \"pass\" or raising a NotImplementedexception? This method is essential for the child classes.\n",
        "</blockquote>\n",
        "\n",
        "<blockquote>\n",
        "For the HF model, it seems as if the \"name\" and the \"model_name\" are actually the same parameter. Would mind updating this so that \"model_name\" is used?\n",
        "</blockquote>\n",
        "\n",
        "<blockquote>\n",
        "Would you mind providing me the full code for all 3 classes?\n",
        "</blockquote>\n",
        "\n",
        "<blockquote>\n",
        "For the openAI model, it looks like \"name\" should actually be the parameter which sets the self.model parameter. Also, it seems as if it would be better named as \"model_name\". Would you mind updating the full code with these changes?\n",
        "</blockquote>\n",
        "</details>"
      ],
      "metadata": {
        "id": "s5l9_0MCIC8e"
      }
    },
    {
      "cell_type": "markdown",
      "source": [
        "## Using class definitions\n",
        "We've merely defined these classes - how exactly do we use them?"
      ],
      "metadata": {
        "id": "uGOAvsPY3Ctn"
      }
    },
    {
      "cell_type": "code",
      "source": [
        "## Make sure to load the relevant libraries\n",
        "%%capture\n",
        "!pip install openai"
      ],
      "metadata": {
        "id": "3I15jqXTLMZF"
      },
      "execution_count": null,
      "outputs": []
    },
    {
      "cell_type": "code",
      "source": [
        "# Import the libraries\n",
        "import openai\n",
        "import transformers\n",
        "\n",
        "# Define the AIModel base class\n",
        "class AIModel:\n",
        "    # Initialize the model name\n",
        "    def __init__(self, name):\n",
        "        self.name = name\n",
        "\n",
        "    # Define the get_answer method as an abstract method\n",
        "    def get_chat(self, question):\n",
        "        # Raise a NotImplementedError exception\n",
        "        raise NotImplementedError(\"The get_answer method must be implemented by the subclass.\")\n",
        "\n",
        "# Define the HFModel class as a subclass of AIModel\n",
        "class HFModel(AIModel):\n",
        "    # Initialize the model\n",
        "    def __init__(self, model_name):\n",
        "        super().__init__(model_name)\n",
        "        self.model = transformers.pipeline(\"text-generation\", model=model_name)\n",
        "\n",
        "    # Define the get_answer method\n",
        "    def get_chat(self, question):\n",
        "        # Generate text using the model\n",
        "        output = self.model(question)\n",
        "        # Return the answer\n",
        "        answer = output[0][\"generated_text\"]\n",
        "        return answer\n",
        "\n",
        "# Define the OpenAIModel class as a subclass of AIModel\n",
        "class OpenAIModel(AIModel):\n",
        "    # Initialize the model and set the API key\n",
        "    def __init__(self, model_name, api_key):\n",
        "        super().__init__(model_name)\n",
        "        self.model = model_name\n",
        "        self.api_key = api_key\n",
        "        openai.api_key = api_key\n",
        "\n",
        "    # Define the get_answer method\n",
        "    def get_chat(self, question):\n",
        "        # Generate text using the OpenAI API\n",
        "        response = openai.Completion.create(\n",
        "            engine=self.model,\n",
        "            prompt=question,\n",
        "            max_tokens=100,\n",
        "            temperature=0.9,\n",
        "            stop=\"\\n\"\n",
        "        )\n",
        "        # Return the answer\n",
        "        answer = response[\"choices\"][0][\"text\"]\n",
        "        return answer"
      ],
      "metadata": {
        "id": "7NqlCilCLD1p"
      },
      "execution_count": null,
      "outputs": []
    },
    {
      "cell_type": "code",
      "source": [
        "## usage\n",
        "llm = HFModel('gpt2')\n",
        "llm.get_chat('The dog was ultra cute and funny! But then she started biting my leg and')"
      ],
      "metadata": {
        "id": "L3huW4Cb2ZWZ",
        "colab": {
          "base_uri": "https://localhost:8080/",
          "height": 107
        },
        "outputId": "ab073fd4-eb92-4187-cc62-1b739bfe6008"
      },
      "execution_count": null,
      "outputs": [
        {
          "output_type": "stream",
          "name": "stderr",
          "text": [
            "Setting `pad_token_id` to `eos_token_id`:50256 for open-end generation.\n"
          ]
        },
        {
          "output_type": "execute_result",
          "data": {
            "text/plain": [
              "\"The dog was ultra cute and funny! But then she started biting my leg and it started running. They didn't take her seriously and called us all out in fear for the safety of our loved one's life. The dog attacked her. She started\""
            ],
            "application/vnd.google.colaboratory.intrinsic+json": {
              "type": "string"
            }
          },
          "metadata": {},
          "execution_count": 22
        }
      ]
    },
    {
      "cell_type": "markdown",
      "source": [
        "## Make your own package!\n",
        "We could actually even bundle this up into our own package for use. Note that there's some linter issues here, but otherwise, this should be functional. Note that the code used here is ever so slightly different."
      ],
      "metadata": {
        "id": "2qwqjTZ3TwcA"
      }
    },
    {
      "cell_type": "code",
      "source": [
        "#@markdown Otherwise, pay no attention to the man behind the curtain...\n",
        "\n",
        "#...or do, I guess.\n",
        "import os\n",
        "import shutil\n",
        "\n",
        "# Create the top-level package directory\n",
        "os.makedirs('our_langchain', exist_ok=True)\n",
        "\n",
        "# Create the subpackage directory\n",
        "os.makedirs('our_langchain/llms', exist_ok=True)\n",
        "\n",
        "#Create the init files\n",
        "with open('our_langchain/__init__.py', 'w') as f:\n",
        "    f.write(\"__all__ = ['llms']\")\n",
        "\n",
        "with open('our_langchain/llms/__init__.py', 'w') as f:\n",
        "    f.write(\"from .llm_classes import OpenAIModel, HFModel\\n__all__ = ['OpenAIModel', 'HFModel']\")"
      ],
      "metadata": {
        "id": "qtBTm4_RULWL"
      },
      "execution_count": null,
      "outputs": []
    },
    {
      "cell_type": "code",
      "source": [
        "%%writefile our_langchain/llms/llm_classes.py\n",
        "# Import the libraries\n",
        "try:\n",
        "    import openai\n",
        "    import transformers\n",
        "except ImportError:\n",
        "    raise ImportError(\"You need to install the 'openai' and 'transformers' libraries. Please run 'pip install openai transformers'.\")\n",
        "import warnings\n",
        "\n",
        "\n",
        "# Define the AIModel base class\n",
        "class AIModel:\n",
        "    # Initialize the model name\n",
        "    def __init__(self, name):\n",
        "        self.name = name\n",
        "\n",
        "    # Define the get_answer method as an abstract method\n",
        "    def __call__(self, question):\n",
        "        # Raise a NotImplementedError exception\n",
        "        raise NotImplementedError(\"The get_answer method must be implemented by the subclass.\")\n",
        "\n",
        "# Define the HFModel class as a subclass of AIModel\n",
        "class HFModel(AIModel):\n",
        "    # Initialize the model\n",
        "    def __init__(self, model_name):\n",
        "        super().__init__(model_name)\n",
        "\n",
        "        config_kwargs = {'pad_token_id':50256} if model_name=='gpt2' else {}\n",
        "\n",
        "        with warnings.catch_warnings():\n",
        "          warnings.simplefilter(\"ignore\")\n",
        "          self.model = transformers.pipeline(\"text-generation\", model=model_name, model_kwargs=config_kwargs)\n",
        "\n",
        "    # Define the get_answer method\n",
        "    def __call__(self, question):\n",
        "        # Generate text using the model\n",
        "        with warnings.catch_warnings():\n",
        "          warnings.simplefilter(\"ignore\")\n",
        "          output = self.model(question)\n",
        "        # Return the answer\n",
        "        answer = output[0][\"generated_text\"]\n",
        "        return answer\n",
        "\n",
        "# Define the OpenAIModel class as a subclass of AIModel\n",
        "class OpenAIModel(AIModel):\n",
        "    # Initialize the model and set the API key\n",
        "    def __init__(self, model_name, api_key):\n",
        "        super().__init__(model_name)\n",
        "        self.model = model_name\n",
        "        self.api_key = api_key\n",
        "        openai.api_key = api_key\n",
        "\n",
        "    # Define the get_answer method\n",
        "    def __call__(self, question):\n",
        "        # Generate text using the OpenAI API\n",
        "        response = openai.Completion.create(\n",
        "            engine=self.model,\n",
        "            prompt=question,\n",
        "            max_tokens=100,\n",
        "            temperature=0.9,\n",
        "            stop=\"\\n\"\n",
        "        )\n",
        "        # Return the answer\n",
        "        answer = response[\"choices\"][0][\"text\"]\n",
        "        return answer"
      ],
      "metadata": {
        "colab": {
          "base_uri": "https://localhost:8080/"
        },
        "id": "m2OWy1U5UEKo",
        "outputId": "c2b39ef3-374a-471c-8413-2fb5c5430bf4"
      },
      "execution_count": null,
      "outputs": [
        {
          "output_type": "stream",
          "name": "stdout",
          "text": [
            "Writing our_langchain/llms/llm_classes.py\n"
          ]
        }
      ]
    },
    {
      "cell_type": "code",
      "source": [
        "print('Excitingly, based on the code we have just written for the classes, this magical cell has created your very own package!')"
      ],
      "metadata": {
        "colab": {
          "base_uri": "https://localhost:8080/"
        },
        "id": "-vR5J7WFUczc",
        "outputId": "e610d720-8b84-4839-ff72-578bb5aabb8d"
      },
      "execution_count": null,
      "outputs": [
        {
          "output_type": "stream",
          "name": "stdout",
          "text": [
            "Excitingly, based on the code we have just written for the classes, this magical cell has created your very own package!\n"
          ]
        }
      ]
    },
    {
      "cell_type": "markdown",
      "source": [
        "## Use the package"
      ],
      "metadata": {
        "id": "zoGLY4d-4B33"
      }
    },
    {
      "cell_type": "code",
      "source": [
        "# import our module\n",
        "from our_langchain.llms import HFModel"
      ],
      "metadata": {
        "id": "LpDNWrQpMgWz"
      },
      "execution_count": null,
      "outputs": []
    },
    {
      "cell_type": "code",
      "source": [
        "# Create a HF model with some text input\n",
        "llm = HFModel('gpt2')\n",
        "llm('The dog was ultra cute and funny! But then she started biting my leg and')"
      ],
      "metadata": {
        "colab": {
          "base_uri": "https://localhost:8080/",
          "height": 71
        },
        "id": "NiURXdZtYGRD",
        "outputId": "3252b4c4-1f8f-4bf3-a650-0d597744c510"
      },
      "execution_count": null,
      "outputs": [
        {
          "output_type": "execute_result",
          "data": {
            "text/plain": [
              "'The dog was ultra cute and funny! But then she started biting my leg and my arms.\\n\\nIn the end, I have to say I was so embarrassed. But there are still the words the dog had to say after she was done with'"
            ],
            "application/vnd.google.colaboratory.intrinsic+json": {
              "type": "string"
            }
          },
          "metadata": {},
          "execution_count": 27
        }
      ]
    },
    {
      "cell_type": "code",
      "source": [
        "# Make another call\n",
        "print(llm('And she was just so cute, I could not help myself but'))"
      ],
      "metadata": {
        "colab": {
          "base_uri": "https://localhost:8080/"
        },
        "id": "AWEl_bybYmXw",
        "outputId": "66d2d7a8-6505-4059-e838-c1f51e9e0011"
      },
      "execution_count": null,
      "outputs": [
        {
          "output_type": "stream",
          "name": "stdout",
          "text": [
            "And she was just so cute, I could not help myself but smile.\"\n",
            "\n",
            "It all seems to have started with her sister seeing her mother, the one toying with her sister's body for what were inescapable goals.\n",
            "\n",
            "When\n"
          ]
        }
      ]
    },
    {
      "cell_type": "markdown",
      "source": [
        "# APIs"
      ],
      "metadata": {
        "id": "lyjc6m0xTajL"
      }
    },
    {
      "cell_type": "markdown",
      "source": [
        "\n",
        "## Packages, Libraries, and Modules\n",
        "**Was the function implementation or the class implementation easier? Which one do you think is more useful from a library point of view? Why?**\n",
        "Let's look at [langchain](https://github.com/hwchase17/langchain/tree/master/langchain/llms).\n",
        "\n",
        "This leads to the practical structuring of tons of functions and classes. These tend to take shape through **packages**, **libraries**, **modules**, and **classes**.\n",
        "\n",
        "<center>\n",
        "<table>\n",
        "  <tr>\n",
        "    <th>Package  Hierarchy  Model</th>\n",
        "    <th>Kitchen Package Application</th>\n",
        "  </tr>\n",
        "  <tr>\n",
        "    <th><img style=\"vertical-align: bottom;\" src=\"https://github.com/vanderbilt-data-science/p4ai-essentials/blob/main/img/class_package_hierarchy.png?raw=true\" width=100% /></th>\n",
        "    <th><img style=\"vertical-align: bottom;\" src=\"https://github.com/vanderbilt-data-science/p4ai-essentials/blob/main/img/kitchen_package_hierarchy.png?raw=true\" width=100% /></th>\n",
        "  </tr>\n",
        "</table>\n",
        "</center>\n"
      ],
      "metadata": {
        "id": "TroHymrdxReH"
      }
    },
    {
      "cell_type": "markdown",
      "source": [
        "### Examples of Packages, Libraries, and Modules\n",
        "We've already been leveraging this functionality, actually, through:\n",
        "\n",
        "* Using the OpenAI Python-bindings API (`import openai`)\n",
        "* Importing something specific from a library (`from transformers import pipeline`)\n",
        "\n",
        "* Langchain:\n",
        "\n",
        "<center>\n",
        "<figure>\n",
        "<img src=\"https://pbs.twimg.com/media/FvK0MmTaAAIPkUI?format=jpg&name=large\" width=\"800\"/>\n",
        "<figcaption>Image from: Twitter user<a href=\"https://twitter.com/pwang_szn\"> pwang_szn</a></figcaption>\n",
        "</figure>\n",
        "</center>"
      ],
      "metadata": {
        "id": "MYg3gSqf0ZL5"
      }
    },
    {
      "cell_type": "markdown",
      "source": [
        "## APIs\n",
        "\n",
        "APIs define the way in which you can programmatically interact with a codebase, server, etc. It's essentially a contract outlining:\n",
        "* The available tasks that can be done by the framework and the names these operations are called by\n",
        "* The required and optional inputs to these operations\n",
        "* The required and optional outputs from these operations.\n",
        "\n",
        "APIs often come in the form of **libraries**, **packages**, and **modules**. Libraries are a great way of quickly infusing Python with LOTS more functionality.\n",
        "\n",
        "<center>\n",
        "<figure>\n",
        "<img src=\"https://cdn.mos.cms.futurecdn.net/GSkcxRqtHam58T5URwTN7c-1024-80.jpg.webp\" width=\"300\"/>\n",
        "<figcaption>Image from livescience.com</figcaption>\n",
        "</figure>\n",
        "</center>\n",
        "\n",
        "I always think of importing modules similarly to this scene in The Matrix. Information \"packages\" on how to fly a helicopter or kung fu are downloaded instantly into the user's \"kernel\". Then, we need to use the functions from these packages.\n",
        "\n",
        "Let's explore some APIs and see if what we've done today looks familiar.\n",
        "* [Langchain Documentation](https://python.langchain.com/en/latest/index.html)\n",
        "* [HuggingFace Documentation](https://huggingface.co/docs/transformers/index)\n",
        "* [OpenAI Documentation](https://platform.openai.com/docs/api-reference)"
      ],
      "metadata": {
        "id": "H8Hkqoq5fEpi"
      }
    },
    {
      "cell_type": "markdown",
      "source": [
        "## Breakout Room (10 minutes)\n",
        "Select one of the 3 APIs from above. Using one of the quickstart pages, tutorials, answer the following questions:\n",
        "1. What is the package being used?\n",
        "2. What is being imported? Does it appear to be imported from a module? Which module and how can you tell?\n",
        "3. Try to run the quickstart code to try out the example.\n",
        "4. Summarize what you think the code is doing. Otherwise, use a GenAI to help summarize the behavior."
      ],
      "metadata": {
        "id": "5SsaRk_Hexv1"
      }
    },
    {
      "cell_type": "markdown",
      "source": [
        "# Congratulations!\n",
        "You made it through Day 2 of AI-Assisted Programming. We covered:\n",
        "- Functions\n",
        "- Object-oriented programming concepts\n",
        "  - Classes\n",
        "  - Packages, even made our own package!\n",
        "- APIs and what they mean\n",
        "\n",
        "In our next session, we'll cover more to help you program effectively with GenAI!"
      ],
      "metadata": {
        "id": "AFRZKuX16ocG"
      }
    }
  ]
}